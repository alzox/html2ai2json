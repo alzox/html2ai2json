{
 "cells": [
  {
   "cell_type": "code",
   "execution_count": 2,
   "id": "b9ae5492",
   "metadata": {},
   "outputs": [],
   "source": [
    "import time\n",
    "import os\n",
    "\n",
    "import requests # used for non-javascript sites\n",
    "from selenium import webdriver # used for javascript sites\n",
    "from selenium.webdriver.common.by import By\n",
    "from selenium.webdriver.support.ui import WebDriverWait\n",
    "from selenium.webdriver.support import expected_conditions as EC\n",
    "\n",
    "import bs4\n",
    "from collections import Counter \n",
    "\n",
    "import json\n",
    "import mistral"
   ]
  },
  {
   "cell_type": "markdown",
   "id": "814bfca2",
   "metadata": {},
   "source": [
    "### functions"
   ]
  },
  {
   "cell_type": "code",
   "execution_count": 3,
   "id": "e07df61d",
   "metadata": {},
   "outputs": [],
   "source": [
    "def get_html(website):\n",
    "    html = requests.get(website).text\n",
    "\n",
    "    if html and \"JavaScript\" in html: # most frameworks will say \"JS is required\"\n",
    "        options = webdriver.ChromeOptions()\n",
    "        options.add_argument('--headless=new')\n",
    "        driver = webdriver.Chrome(options=options)\n",
    "        driver.get(website)\n",
    "        \n",
    "        time.sleep(10) # wait for any js elements to load\n",
    "\n",
    "        html = driver.page_source\n",
    "        driver.quit()\n",
    "        \n",
    "    return html\n",
    "\n"
   ]
  },
  {
   "cell_type": "code",
   "execution_count": 4,
   "id": "40b14aea",
   "metadata": {},
   "outputs": [],
   "source": [
    "def find_next_page(html):\n",
    "    soup = bs4.BeautifulSoup(html, 'html.parser')\n",
    "    paginate = soup.find_all('a')\n",
    "    for link in paginate:\n",
    "        if 'next' in link.text.lower():\n",
    "           return link['href']\n",
    "    return None\n"
   ]
  },
  {
   "cell_type": "code",
   "execution_count": 5,
   "id": "fd3d680c",
   "metadata": {},
   "outputs": [],
   "source": [
    "def is_top_level_class(element, class_names):\n",
    "    for parent in element.parents:\n",
    "        if hasattr(parent, 'get') and parent.get('class'): # a bs4 element will have a get method\n",
    "            if any(cls in parent.get('class', []) for cls in class_names):\n",
    "                return False\n",
    "    return True\n",
    "\n"
   ]
  },
  {
   "cell_type": "code",
   "execution_count": 6,
   "id": "ddcf47c7",
   "metadata": {},
   "outputs": [],
   "source": [
    "def parse_html(html):\n",
    "    soup = bs4.BeautifulSoup(html, 'html.parser')\n",
    "\n",
    "    class_counter = Counter()\n",
    "\n",
    "    for element in soup.find_all(class_=True):\n",
    "        for class_name in element['class']: \n",
    "            class_counter[class_name] += 1 \n",
    "\n",
    "    quantity_counter = Counter()\n",
    "    for class_name, count in class_counter.most_common(20): \n",
    "        quantity_counter[count] += 1\n",
    "        \n",
    "    data_classes = []\n",
    "    for count in quantity_counter.most_common(1):\n",
    "        data_classes.extend([class_name for class_name, c in class_counter.items() if c == count[0]])\n",
    "\n",
    "    print(\"Data-related classes:\", data_classes)\n",
    "    \n",
    "    filtered_elements = [\n",
    "        el for el in soup.find_all(class_=data_classes)\n",
    "        if is_top_level_class(el, data_classes)\n",
    "    ]\n",
    "    elements = filtered_elements if len(filtered_elements) > 0 else [soup.body]\n",
    "    return elements"
   ]
  },
  {
   "cell_type": "code",
   "execution_count": 7,
   "id": "45c2fa57",
   "metadata": {},
   "outputs": [],
   "source": [
    "def remove_unwanted_text(response):\n",
    "    # most LLM's will return json as a code block string\n",
    "    if \"```json\" in response:\n",
    "        response = response.split(\"```json\")[1]\n",
    "        response = response.split(\"```\")[0]\n",
    "    return response"
   ]
  },
  {
   "cell_type": "code",
   "execution_count": 8,
   "id": "26a0ab89",
   "metadata": {},
   "outputs": [],
   "source": [
    "def convert_to_json(elements):\n",
    "    html_elements = \"\\n\".join(str(el) for el in elements)\n",
    "    chat_response = mistral.chat(html_elements).choices[0].message.content\n",
    "    json_data = json.loads(remove_unwanted_text(chat_response))\n",
    "    return json_data"
   ]
  },
  {
   "cell_type": "code",
   "execution_count": 9,
   "id": "a14b3cc5",
   "metadata": {},
   "outputs": [],
   "source": [
    "def convert_to_json_manual(elements):\n",
    "    # manual conversion with knowledge of HTML structure\n",
    "    json_elements = []\n",
    "    for el in elements:\n",
    "        json_element = {\n",
    "            \"date\": el.find(class_=\"relativetime\").text if el.find(class_=\"relativetime\") else None,\n",
    "            \"votes\": (\n",
    "                el.find_all(class_=\"s-post-summary--stats-item-number\")[0].text\n",
    "                if len(el.find_all(class_=\"s-post-summary--stats-item-number\")) > 0\n",
    "                else None\n",
    "            ),\n",
    "            \"answers\": (\n",
    "                el.find_all(class_=\"s-post-summary--stats-item-number\")[1].text\n",
    "                if len(el.find_all(class_=\"s-post-summary--stats-item-number\")) > 1\n",
    "                else None\n",
    "            ),\n",
    "            \"views\": (\n",
    "                el.find_all(class_=\"s-post-summary--stats-item-number\")[2].text\n",
    "                if len(el.find_all(class_=\"s-post-summary--stats-item-number\")) > 2\n",
    "                else None\n",
    "            ),\n",
    "            \"tags\": [tag.text for tag in el.find_all(class_=\"post-tag\")],\n",
    "            \"user\": {\n",
    "                \"name\": el.find(class_=\"s-user-card--link\").text if el.find(class_=\"s-user-card--link\") else None,\n",
    "                \"reputation\": (\n",
    "                    el.find(class_=\"s-user-card--rep\").text\n",
    "                    if el.find(class_=\"s-user-card--rep\")\n",
    "                    else None\n",
    "                ),\n",
    "            },\n",
    "            \"excerpt\": el.find(class_=\"s-post-summary--content-excerpt\").text if el.find(class_=\"s-post-summary--content-excerpt\") else None,\n",
    "            \"title\": (lambda: el.find(class_=\"s-post-summary--content-title\").a.text)() if el.find(class_=\"s-post-summary--content-title\") and el.find(class_=\"s-post-summary--content-title\").a else None,\n",
    "            \"page_content\": get_html(f\"https://philosophy.stackexchange.com{el.find(class_='s-post-summary--content-title').a['href']}\") if el.find(class_=\"s-post-summary--content-title\") and el.find(class_=\"s-post-summary--content-title\").a and el.find(class_=\"s-post-summary--content-title\").a.get('href') else None\n",
    "        }\n",
    "        json_elements.append(json_element)\n",
    "    return json_elements"
   ]
  },
  {
   "cell_type": "code",
   "execution_count": 10,
   "id": "c922f5bb",
   "metadata": {},
   "outputs": [],
   "source": [
    "class Scraper:\n",
    "    def __init__(self, website, try_paginate=False):\n",
    "        self.website = website\n",
    "        self.html = None\n",
    "        self.elements = None\n",
    "        self.json_data = None\n",
    "        self.try_paginate = try_paginate\n",
    "\n",
    "    def run(self):\n",
    "        if self.try_paginate:\n",
    "            print(\"Paginating\")\n",
    "            self.run_pages()\n",
    "        else:\n",
    "            self.run_single() \n",
    "    \n",
    "    def run_pages(self):\n",
    "        page_url = self.website\n",
    "        i = 0\n",
    "        name = self.website.replace('https://', '').replace('http://', '').replace('/', '_')\n",
    "        while page_url:\n",
    "            print(f\"Scraping {page_url}\")\n",
    "            self.html = get_html(page_url)\n",
    "            self.elements = parse_html(self.html)\n",
    "            with open(f\"loop_html/{name}{i}.html\", \"w\", encoding=\"utf-8\") as f:\n",
    "                f.write(self.html)\n",
    "            self.json_data = convert_to_json(self.elements)\n",
    "            with open(f\"loop_json/{name}{i}.json\", \"w\", encoding=\"utf-8\") as f:\n",
    "                json.dump(self.json_data, f, indent=2)\n",
    "            next_page = find_next_page(self.html)\n",
    "            if next_page:\n",
    "                if next_page.startswith('/'):\n",
    "                    page_url = f\"{self.website}{next_page}\"\n",
    "                elif next_page.startswith('http'):\n",
    "                    page_url = next_page\n",
    "                else:\n",
    "                    page_url = f\"{page_url.rsplit('/', 1)[0]}/{next_page}\"\n",
    "                i += 1 \n",
    "            else:\n",
    "                break\n",
    "\n",
    "    def run_single(self):\n",
    "        self.html = get_html(self.website)\n",
    "        self.elements = parse_html(self.html)\n",
    "        self.json_data = convert_to_json(self.elements)\n",
    "        return self.json_data"
   ]
  },
  {
   "cell_type": "markdown",
   "id": "f848e76a",
   "metadata": {},
   "source": [
    "### extracting html"
   ]
  },
  {
   "cell_type": "code",
   "execution_count": 1,
   "id": "0e33cf83",
   "metadata": {},
   "outputs": [
    {
     "ename": "NameError",
     "evalue": "name 'get_html' is not defined",
     "output_type": "error",
     "traceback": [
      "\u001b[1;31m---------------------------------------------------------------------------\u001b[0m",
      "\u001b[1;31mNameError\u001b[0m                                 Traceback (most recent call last)",
      "Cell \u001b[1;32mIn[1], line 2\u001b[0m\n\u001b[0;32m      1\u001b[0m website \u001b[38;5;241m=\u001b[39m \u001b[38;5;124m\"\u001b[39m\u001b[38;5;124mhttps://philosophy.stackexchange.com/questions?tab=newest&pagesize=50\u001b[39m\u001b[38;5;124m\"\u001b[39m\n\u001b[1;32m----> 2\u001b[0m html \u001b[38;5;241m=\u001b[39m \u001b[43mget_html\u001b[49m(website)\n\u001b[0;32m      3\u001b[0m \u001b[38;5;28mprint\u001b[39m(html)\n",
      "\u001b[1;31mNameError\u001b[0m: name 'get_html' is not defined"
     ]
    }
   ],
   "source": [
    "website = \"https://philosophy.stackexchange.com/questions?tab=newest&pagesize=50\"\n",
    "html = get_html(website)\n",
    "print(html)"
   ]
  },
  {
   "cell_type": "markdown",
   "id": "edaca5fd",
   "metadata": {},
   "source": [
    "### parsing html\n"
   ]
  },
  {
   "cell_type": "code",
   "execution_count": null,
   "id": "52b2f6f8",
   "metadata": {},
   "outputs": [
    {
     "name": "stdout",
     "output_type": "stream",
     "text": [
      "Data-related classes: ['s-post-summary', 'js-post-summary', 's-post-summary--stats', 'js-post-summary-stats', 's-post-summary--stats-item__emphasized', 's-post-summary--content', 's-post-summary--content-title', 's-post-summary--content-excerpt', 's-post-summary--meta', 's-post-summary--meta-tags', 'd-inline-block', 'tags', 'js-tags', 'ml0', 'list-ls-none', 'js-post-tag-list-wrapper', 's-user-card', 's-user-card__minimal', 's-avatar', 's-avatar__16', 's-user-card--avatar', 'gravatar-wrapper-16', 's-avatar--image', 's-user-card--info', 's-user-card--link', 's-user-card--awards', 's-user-card--rep', 'todo-no-class-here', 's-user-card--time', 'relativetime']\n"
     ]
    }
   ],
   "source": [
    "soup = bs4.BeautifulSoup(html, 'html.parser')\n",
    "\n",
    "class_counter = Counter()\n",
    "\n",
    "for element in soup.find_all(class_=True):\n",
    "    for class_name in element['class']: \n",
    "        class_counter[class_name] += 1 \n",
    "\n",
    "quantity_counter = Counter()\n",
    "for class_name, count in class_counter.most_common(20): \n",
    "    quantity_counter[count] += 1\n",
    "    \n",
    "data_classes = []\n",
    "for count in quantity_counter.most_common(1):\n",
    "    data_classes.extend([class_name for class_name, c in class_counter.items() if c == count[0]])\n",
    "\n",
    "print(\"Data-related classes:\", data_classes)\n",
    "\n",
    "filtered_elements = [\n",
    "    el for el in soup.find_all(class_=data_classes)\n",
    "    if is_top_level_class(el, data_classes)\n",
    "]\n",
    "\n",
    "elements = filtered_elements if len(filtered_elements) > 0 else [soup.body]\n"
   ]
  },
  {
   "cell_type": "markdown",
   "id": "9637559f",
   "metadata": {},
   "source": [
    "### converting html to json"
   ]
  },
  {
   "cell_type": "code",
   "execution_count": null,
   "id": "9ff8a14e",
   "metadata": {},
   "outputs": [
    {
     "ename": "KeyboardInterrupt",
     "evalue": "",
     "output_type": "error",
     "traceback": [
      "\u001b[1;31m---------------------------------------------------------------------------\u001b[0m",
      "\u001b[1;31mKeyboardInterrupt\u001b[0m                         Traceback (most recent call last)",
      "Cell \u001b[1;32mIn[5], line 4\u001b[0m\n\u001b[0;32m      1\u001b[0m \u001b[38;5;28;01mimport\u001b[39;00m \u001b[38;5;21;01mmistral\u001b[39;00m\n\u001b[0;32m      3\u001b[0m html_elements \u001b[38;5;241m=\u001b[39m \u001b[38;5;124m\"\u001b[39m\u001b[38;5;130;01m\\n\u001b[39;00m\u001b[38;5;124m\"\u001b[39m\u001b[38;5;241m.\u001b[39mjoin(\u001b[38;5;28mstr\u001b[39m(el) \u001b[38;5;28;01mfor\u001b[39;00m el \u001b[38;5;129;01min\u001b[39;00m elements)\n\u001b[1;32m----> 4\u001b[0m chat_response \u001b[38;5;241m=\u001b[39m \u001b[43mmistral\u001b[49m\u001b[38;5;241;43m.\u001b[39;49m\u001b[43mchat\u001b[49m\u001b[43m(\u001b[49m\u001b[43mhtml_elements\u001b[49m\u001b[43m)\u001b[49m\u001b[38;5;241m.\u001b[39mchoices[\u001b[38;5;241m0\u001b[39m]\u001b[38;5;241m.\u001b[39mmessage\u001b[38;5;241m.\u001b[39mcontent\n\u001b[0;32m      6\u001b[0m \u001b[38;5;28;01mdef\u001b[39;00m \u001b[38;5;21mremove_unwanted_text\u001b[39m(response):\n\u001b[0;32m      7\u001b[0m     \u001b[38;5;66;03m# most LLM's will return json as a code block string\u001b[39;00m\n\u001b[0;32m      8\u001b[0m     \u001b[38;5;28;01mif\u001b[39;00m \u001b[38;5;124m\"\u001b[39m\u001b[38;5;124m```json\u001b[39m\u001b[38;5;124m\"\u001b[39m \u001b[38;5;129;01min\u001b[39;00m response:\n",
      "File \u001b[1;32mc:\\Users\\commo\\OneDrive - University of Virginia\\School\\STEM\\CS\\Coding Projects 2025\\html2ai2json\\mistral.py:15\u001b[0m, in \u001b[0;36mchat\u001b[1;34m(text)\u001b[0m\n\u001b[0;32m     13\u001b[0m \u001b[38;5;28;01mdef\u001b[39;00m \u001b[38;5;21mchat\u001b[39m(text):\n\u001b[0;32m     14\u001b[0m \u001b[38;5;250m    \u001b[39m\u001b[38;5;124;03m\"\"\"Ask a question to the Mistral AI model and return the response.\"\"\"\u001b[39;00m\n\u001b[1;32m---> 15\u001b[0m     response \u001b[38;5;241m=\u001b[39m \u001b[43mclient\u001b[49m\u001b[38;5;241;43m.\u001b[39;49m\u001b[43mchat\u001b[49m\u001b[38;5;241;43m.\u001b[39;49m\u001b[43mcomplete\u001b[49m\u001b[43m(\u001b[49m\n\u001b[0;32m     16\u001b[0m \u001b[43m        \u001b[49m\u001b[43mmodel\u001b[49m\u001b[38;5;241;43m=\u001b[39;49m\u001b[43mmodel\u001b[49m\u001b[43m,\u001b[49m\n\u001b[0;32m     17\u001b[0m \u001b[43m        \u001b[49m\u001b[43mmessages\u001b[49m\u001b[38;5;241;43m=\u001b[39;49m\u001b[43m[\u001b[49m\n\u001b[0;32m     18\u001b[0m \u001b[43m            \u001b[49m\u001b[43m{\u001b[49m\u001b[38;5;124;43m\"\u001b[39;49m\u001b[38;5;124;43mrole\u001b[39;49m\u001b[38;5;124;43m\"\u001b[39;49m\u001b[43m:\u001b[49m\u001b[43m \u001b[49m\u001b[38;5;124;43m\"\u001b[39;49m\u001b[38;5;124;43muser\u001b[39;49m\u001b[38;5;124;43m\"\u001b[39;49m\u001b[43m,\u001b[49m\u001b[43m \u001b[49m\u001b[38;5;124;43m\"\u001b[39;49m\u001b[38;5;124;43mcontent\u001b[39;49m\u001b[38;5;124;43m\"\u001b[39;49m\u001b[43m:\u001b[49m\u001b[43m \u001b[49m\u001b[43mtext\u001b[49m\u001b[43m}\u001b[49m\u001b[43m,\u001b[49m\n\u001b[0;32m     19\u001b[0m \u001b[43m            \u001b[49m\u001b[43m{\u001b[49m\u001b[38;5;124;43m\"\u001b[39;49m\u001b[38;5;124;43mrole\u001b[39;49m\u001b[38;5;124;43m\"\u001b[39;49m\u001b[43m:\u001b[49m\u001b[43m \u001b[49m\u001b[38;5;124;43m\"\u001b[39;49m\u001b[38;5;124;43msystem\u001b[39;49m\u001b[38;5;124;43m\"\u001b[39;49m\u001b[43m,\u001b[49m\u001b[43m \u001b[49m\u001b[38;5;124;43m\"\u001b[39;49m\u001b[38;5;124;43mcontent\u001b[39;49m\u001b[38;5;124;43m\"\u001b[39;49m\u001b[43m:\u001b[49m\u001b[43m \u001b[49m\u001b[43msystem_prompt\u001b[49m\u001b[43m}\u001b[49m\n\u001b[0;32m     20\u001b[0m \u001b[43m        \u001b[49m\u001b[43m]\u001b[49m\n\u001b[0;32m     21\u001b[0m \u001b[43m    \u001b[49m\u001b[43m)\u001b[49m\n\u001b[0;32m     22\u001b[0m     \u001b[38;5;28;01mreturn\u001b[39;00m response\n",
      "File \u001b[1;32m~\\AppData\\Roaming\\Python\\Python311\\site-packages\\mistralai\\chat.py:222\u001b[0m, in \u001b[0;36mChat.complete\u001b[1;34m(self, model, messages, temperature, top_p, max_tokens, stream, stop, random_seed, response_format, tools, tool_choice, presence_penalty, frequency_penalty, n, prediction, parallel_tool_calls, prompt_mode, safe_prompt, retries, server_url, timeout_ms, http_headers)\u001b[0m\n\u001b[0;32m    219\u001b[0m \u001b[38;5;28;01mif\u001b[39;00m \u001b[38;5;28misinstance\u001b[39m(retries, utils\u001b[38;5;241m.\u001b[39mRetryConfig):\n\u001b[0;32m    220\u001b[0m     retry_config \u001b[38;5;241m=\u001b[39m (retries, [\u001b[38;5;124m\"\u001b[39m\u001b[38;5;124m429\u001b[39m\u001b[38;5;124m\"\u001b[39m, \u001b[38;5;124m\"\u001b[39m\u001b[38;5;124m500\u001b[39m\u001b[38;5;124m\"\u001b[39m, \u001b[38;5;124m\"\u001b[39m\u001b[38;5;124m502\u001b[39m\u001b[38;5;124m\"\u001b[39m, \u001b[38;5;124m\"\u001b[39m\u001b[38;5;124m503\u001b[39m\u001b[38;5;124m\"\u001b[39m, \u001b[38;5;124m\"\u001b[39m\u001b[38;5;124m504\u001b[39m\u001b[38;5;124m\"\u001b[39m])\n\u001b[1;32m--> 222\u001b[0m http_res \u001b[38;5;241m=\u001b[39m \u001b[38;5;28;43mself\u001b[39;49m\u001b[38;5;241;43m.\u001b[39;49m\u001b[43mdo_request\u001b[49m\u001b[43m(\u001b[49m\n\u001b[0;32m    223\u001b[0m \u001b[43m    \u001b[49m\u001b[43mhook_ctx\u001b[49m\u001b[38;5;241;43m=\u001b[39;49m\u001b[43mHookContext\u001b[49m\u001b[43m(\u001b[49m\n\u001b[0;32m    224\u001b[0m \u001b[43m        \u001b[49m\u001b[43mconfig\u001b[49m\u001b[38;5;241;43m=\u001b[39;49m\u001b[38;5;28;43mself\u001b[39;49m\u001b[38;5;241;43m.\u001b[39;49m\u001b[43msdk_configuration\u001b[49m\u001b[43m,\u001b[49m\n\u001b[0;32m    225\u001b[0m \u001b[43m        \u001b[49m\u001b[43mbase_url\u001b[49m\u001b[38;5;241;43m=\u001b[39;49m\u001b[43mbase_url\u001b[49m\u001b[43m \u001b[49m\u001b[38;5;129;43;01mor\u001b[39;49;00m\u001b[43m \u001b[49m\u001b[38;5;124;43m\"\u001b[39;49m\u001b[38;5;124;43m\"\u001b[39;49m\u001b[43m,\u001b[49m\n\u001b[0;32m    226\u001b[0m \u001b[43m        \u001b[49m\u001b[43moperation_id\u001b[49m\u001b[38;5;241;43m=\u001b[39;49m\u001b[38;5;124;43m\"\u001b[39;49m\u001b[38;5;124;43mchat_completion_v1_chat_completions_post\u001b[39;49m\u001b[38;5;124;43m\"\u001b[39;49m\u001b[43m,\u001b[49m\n\u001b[0;32m    227\u001b[0m \u001b[43m        \u001b[49m\u001b[43moauth2_scopes\u001b[49m\u001b[38;5;241;43m=\u001b[39;49m\u001b[43m[\u001b[49m\u001b[43m]\u001b[49m\u001b[43m,\u001b[49m\n\u001b[0;32m    228\u001b[0m \u001b[43m        \u001b[49m\u001b[43msecurity_source\u001b[49m\u001b[38;5;241;43m=\u001b[39;49m\u001b[43mget_security_from_env\u001b[49m\u001b[43m(\u001b[49m\n\u001b[0;32m    229\u001b[0m \u001b[43m            \u001b[49m\u001b[38;5;28;43mself\u001b[39;49m\u001b[38;5;241;43m.\u001b[39;49m\u001b[43msdk_configuration\u001b[49m\u001b[38;5;241;43m.\u001b[39;49m\u001b[43msecurity\u001b[49m\u001b[43m,\u001b[49m\u001b[43m \u001b[49m\u001b[43mmodels\u001b[49m\u001b[38;5;241;43m.\u001b[39;49m\u001b[43mSecurity\u001b[49m\n\u001b[0;32m    230\u001b[0m \u001b[43m        \u001b[49m\u001b[43m)\u001b[49m\u001b[43m,\u001b[49m\n\u001b[0;32m    231\u001b[0m \u001b[43m    \u001b[49m\u001b[43m)\u001b[49m\u001b[43m,\u001b[49m\n\u001b[0;32m    232\u001b[0m \u001b[43m    \u001b[49m\u001b[43mrequest\u001b[49m\u001b[38;5;241;43m=\u001b[39;49m\u001b[43mreq\u001b[49m\u001b[43m,\u001b[49m\n\u001b[0;32m    233\u001b[0m \u001b[43m    \u001b[49m\u001b[43merror_status_codes\u001b[49m\u001b[38;5;241;43m=\u001b[39;49m\u001b[43m[\u001b[49m\u001b[38;5;124;43m\"\u001b[39;49m\u001b[38;5;124;43m422\u001b[39;49m\u001b[38;5;124;43m\"\u001b[39;49m\u001b[43m,\u001b[49m\u001b[43m \u001b[49m\u001b[38;5;124;43m\"\u001b[39;49m\u001b[38;5;124;43m4XX\u001b[39;49m\u001b[38;5;124;43m\"\u001b[39;49m\u001b[43m,\u001b[49m\u001b[43m \u001b[49m\u001b[38;5;124;43m\"\u001b[39;49m\u001b[38;5;124;43m5XX\u001b[39;49m\u001b[38;5;124;43m\"\u001b[39;49m\u001b[43m]\u001b[49m\u001b[43m,\u001b[49m\n\u001b[0;32m    234\u001b[0m \u001b[43m    \u001b[49m\u001b[43mretry_config\u001b[49m\u001b[38;5;241;43m=\u001b[39;49m\u001b[43mretry_config\u001b[49m\u001b[43m,\u001b[49m\n\u001b[0;32m    235\u001b[0m \u001b[43m\u001b[49m\u001b[43m)\u001b[49m\n\u001b[0;32m    237\u001b[0m response_data: Any \u001b[38;5;241m=\u001b[39m \u001b[38;5;28;01mNone\u001b[39;00m\n\u001b[0;32m    238\u001b[0m \u001b[38;5;28;01mif\u001b[39;00m utils\u001b[38;5;241m.\u001b[39mmatch_response(http_res, \u001b[38;5;124m\"\u001b[39m\u001b[38;5;124m200\u001b[39m\u001b[38;5;124m\"\u001b[39m, \u001b[38;5;124m\"\u001b[39m\u001b[38;5;124mapplication/json\u001b[39m\u001b[38;5;124m\"\u001b[39m):\n",
      "File \u001b[1;32m~\\AppData\\Roaming\\Python\\Python311\\site-packages\\mistralai\\basesdk.py:275\u001b[0m, in \u001b[0;36mBaseSDK.do_request\u001b[1;34m(self, hook_ctx, request, error_status_codes, stream, retry_config)\u001b[0m\n\u001b[0;32m    273\u001b[0m     http_res \u001b[38;5;241m=\u001b[39m utils\u001b[38;5;241m.\u001b[39mretry(do, utils\u001b[38;5;241m.\u001b[39mRetries(retry_config[\u001b[38;5;241m0\u001b[39m], retry_config[\u001b[38;5;241m1\u001b[39m]))\n\u001b[0;32m    274\u001b[0m \u001b[38;5;28;01melse\u001b[39;00m:\n\u001b[1;32m--> 275\u001b[0m     http_res \u001b[38;5;241m=\u001b[39m \u001b[43mdo\u001b[49m\u001b[43m(\u001b[49m\u001b[43m)\u001b[49m\n\u001b[0;32m    277\u001b[0m \u001b[38;5;28;01mif\u001b[39;00m \u001b[38;5;129;01mnot\u001b[39;00m utils\u001b[38;5;241m.\u001b[39mmatch_status_codes(error_status_codes, http_res\u001b[38;5;241m.\u001b[39mstatus_code):\n\u001b[0;32m    278\u001b[0m     http_res \u001b[38;5;241m=\u001b[39m hooks\u001b[38;5;241m.\u001b[39mafter_success(AfterSuccessContext(hook_ctx), http_res)\n",
      "File \u001b[1;32m~\\AppData\\Roaming\\Python\\Python311\\site-packages\\mistralai\\basesdk.py:238\u001b[0m, in \u001b[0;36mBaseSDK.do_request.<locals>.do\u001b[1;34m()\u001b[0m\n\u001b[0;32m    235\u001b[0m     \u001b[38;5;28;01mif\u001b[39;00m client \u001b[38;5;129;01mis\u001b[39;00m \u001b[38;5;28;01mNone\u001b[39;00m:\n\u001b[0;32m    236\u001b[0m         \u001b[38;5;28;01mraise\u001b[39;00m \u001b[38;5;167;01mValueError\u001b[39;00m(\u001b[38;5;124m\"\u001b[39m\u001b[38;5;124mclient is required\u001b[39m\u001b[38;5;124m\"\u001b[39m)\n\u001b[1;32m--> 238\u001b[0m     http_res \u001b[38;5;241m=\u001b[39m \u001b[43mclient\u001b[49m\u001b[38;5;241;43m.\u001b[39;49m\u001b[43msend\u001b[49m\u001b[43m(\u001b[49m\u001b[43mreq\u001b[49m\u001b[43m,\u001b[49m\u001b[43m \u001b[49m\u001b[43mstream\u001b[49m\u001b[38;5;241;43m=\u001b[39;49m\u001b[43mstream\u001b[49m\u001b[43m)\u001b[49m\n\u001b[0;32m    239\u001b[0m \u001b[38;5;28;01mexcept\u001b[39;00m \u001b[38;5;167;01mException\u001b[39;00m \u001b[38;5;28;01mas\u001b[39;00m e:\n\u001b[0;32m    240\u001b[0m     _, e \u001b[38;5;241m=\u001b[39m hooks\u001b[38;5;241m.\u001b[39mafter_error(AfterErrorContext(hook_ctx), \u001b[38;5;28;01mNone\u001b[39;00m, e)\n",
      "File \u001b[1;32mc:\\Python311\\Lib\\site-packages\\httpx\\_client.py:914\u001b[0m, in \u001b[0;36mClient.send\u001b[1;34m(self, request, stream, auth, follow_redirects)\u001b[0m\n\u001b[0;32m    910\u001b[0m \u001b[38;5;28mself\u001b[39m\u001b[38;5;241m.\u001b[39m_set_timeout(request)\n\u001b[0;32m    912\u001b[0m auth \u001b[38;5;241m=\u001b[39m \u001b[38;5;28mself\u001b[39m\u001b[38;5;241m.\u001b[39m_build_request_auth(request, auth)\n\u001b[1;32m--> 914\u001b[0m response \u001b[38;5;241m=\u001b[39m \u001b[38;5;28;43mself\u001b[39;49m\u001b[38;5;241;43m.\u001b[39;49m\u001b[43m_send_handling_auth\u001b[49m\u001b[43m(\u001b[49m\n\u001b[0;32m    915\u001b[0m \u001b[43m    \u001b[49m\u001b[43mrequest\u001b[49m\u001b[43m,\u001b[49m\n\u001b[0;32m    916\u001b[0m \u001b[43m    \u001b[49m\u001b[43mauth\u001b[49m\u001b[38;5;241;43m=\u001b[39;49m\u001b[43mauth\u001b[49m\u001b[43m,\u001b[49m\n\u001b[0;32m    917\u001b[0m \u001b[43m    \u001b[49m\u001b[43mfollow_redirects\u001b[49m\u001b[38;5;241;43m=\u001b[39;49m\u001b[43mfollow_redirects\u001b[49m\u001b[43m,\u001b[49m\n\u001b[0;32m    918\u001b[0m \u001b[43m    \u001b[49m\u001b[43mhistory\u001b[49m\u001b[38;5;241;43m=\u001b[39;49m\u001b[43m[\u001b[49m\u001b[43m]\u001b[49m\u001b[43m,\u001b[49m\n\u001b[0;32m    919\u001b[0m \u001b[43m\u001b[49m\u001b[43m)\u001b[49m\n\u001b[0;32m    920\u001b[0m \u001b[38;5;28;01mtry\u001b[39;00m:\n\u001b[0;32m    921\u001b[0m     \u001b[38;5;28;01mif\u001b[39;00m \u001b[38;5;129;01mnot\u001b[39;00m stream:\n",
      "File \u001b[1;32mc:\\Python311\\Lib\\site-packages\\httpx\\_client.py:942\u001b[0m, in \u001b[0;36mClient._send_handling_auth\u001b[1;34m(self, request, auth, follow_redirects, history)\u001b[0m\n\u001b[0;32m    939\u001b[0m request \u001b[38;5;241m=\u001b[39m \u001b[38;5;28mnext\u001b[39m(auth_flow)\n\u001b[0;32m    941\u001b[0m \u001b[38;5;28;01mwhile\u001b[39;00m \u001b[38;5;28;01mTrue\u001b[39;00m:\n\u001b[1;32m--> 942\u001b[0m     response \u001b[38;5;241m=\u001b[39m \u001b[38;5;28;43mself\u001b[39;49m\u001b[38;5;241;43m.\u001b[39;49m\u001b[43m_send_handling_redirects\u001b[49m\u001b[43m(\u001b[49m\n\u001b[0;32m    943\u001b[0m \u001b[43m        \u001b[49m\u001b[43mrequest\u001b[49m\u001b[43m,\u001b[49m\n\u001b[0;32m    944\u001b[0m \u001b[43m        \u001b[49m\u001b[43mfollow_redirects\u001b[49m\u001b[38;5;241;43m=\u001b[39;49m\u001b[43mfollow_redirects\u001b[49m\u001b[43m,\u001b[49m\n\u001b[0;32m    945\u001b[0m \u001b[43m        \u001b[49m\u001b[43mhistory\u001b[49m\u001b[38;5;241;43m=\u001b[39;49m\u001b[43mhistory\u001b[49m\u001b[43m,\u001b[49m\n\u001b[0;32m    946\u001b[0m \u001b[43m    \u001b[49m\u001b[43m)\u001b[49m\n\u001b[0;32m    947\u001b[0m     \u001b[38;5;28;01mtry\u001b[39;00m:\n\u001b[0;32m    948\u001b[0m         \u001b[38;5;28;01mtry\u001b[39;00m:\n",
      "File \u001b[1;32mc:\\Python311\\Lib\\site-packages\\httpx\\_client.py:979\u001b[0m, in \u001b[0;36mClient._send_handling_redirects\u001b[1;34m(self, request, follow_redirects, history)\u001b[0m\n\u001b[0;32m    976\u001b[0m \u001b[38;5;28;01mfor\u001b[39;00m hook \u001b[38;5;129;01min\u001b[39;00m \u001b[38;5;28mself\u001b[39m\u001b[38;5;241m.\u001b[39m_event_hooks[\u001b[38;5;124m\"\u001b[39m\u001b[38;5;124mrequest\u001b[39m\u001b[38;5;124m\"\u001b[39m]:\n\u001b[0;32m    977\u001b[0m     hook(request)\n\u001b[1;32m--> 979\u001b[0m response \u001b[38;5;241m=\u001b[39m \u001b[38;5;28;43mself\u001b[39;49m\u001b[38;5;241;43m.\u001b[39;49m\u001b[43m_send_single_request\u001b[49m\u001b[43m(\u001b[49m\u001b[43mrequest\u001b[49m\u001b[43m)\u001b[49m\n\u001b[0;32m    980\u001b[0m \u001b[38;5;28;01mtry\u001b[39;00m:\n\u001b[0;32m    981\u001b[0m     \u001b[38;5;28;01mfor\u001b[39;00m hook \u001b[38;5;129;01min\u001b[39;00m \u001b[38;5;28mself\u001b[39m\u001b[38;5;241m.\u001b[39m_event_hooks[\u001b[38;5;124m\"\u001b[39m\u001b[38;5;124mresponse\u001b[39m\u001b[38;5;124m\"\u001b[39m]:\n",
      "File \u001b[1;32mc:\\Python311\\Lib\\site-packages\\httpx\\_client.py:1014\u001b[0m, in \u001b[0;36mClient._send_single_request\u001b[1;34m(self, request)\u001b[0m\n\u001b[0;32m   1009\u001b[0m     \u001b[38;5;28;01mraise\u001b[39;00m \u001b[38;5;167;01mRuntimeError\u001b[39;00m(\n\u001b[0;32m   1010\u001b[0m         \u001b[38;5;124m\"\u001b[39m\u001b[38;5;124mAttempted to send an async request with a sync Client instance.\u001b[39m\u001b[38;5;124m\"\u001b[39m\n\u001b[0;32m   1011\u001b[0m     )\n\u001b[0;32m   1013\u001b[0m \u001b[38;5;28;01mwith\u001b[39;00m request_context(request\u001b[38;5;241m=\u001b[39mrequest):\n\u001b[1;32m-> 1014\u001b[0m     response \u001b[38;5;241m=\u001b[39m \u001b[43mtransport\u001b[49m\u001b[38;5;241;43m.\u001b[39;49m\u001b[43mhandle_request\u001b[49m\u001b[43m(\u001b[49m\u001b[43mrequest\u001b[49m\u001b[43m)\u001b[49m\n\u001b[0;32m   1016\u001b[0m \u001b[38;5;28;01massert\u001b[39;00m \u001b[38;5;28misinstance\u001b[39m(response\u001b[38;5;241m.\u001b[39mstream, SyncByteStream)\n\u001b[0;32m   1018\u001b[0m response\u001b[38;5;241m.\u001b[39mrequest \u001b[38;5;241m=\u001b[39m request\n",
      "File \u001b[1;32mc:\\Python311\\Lib\\site-packages\\httpx\\_transports\\default.py:250\u001b[0m, in \u001b[0;36mHTTPTransport.handle_request\u001b[1;34m(self, request)\u001b[0m\n\u001b[0;32m    237\u001b[0m req \u001b[38;5;241m=\u001b[39m httpcore\u001b[38;5;241m.\u001b[39mRequest(\n\u001b[0;32m    238\u001b[0m     method\u001b[38;5;241m=\u001b[39mrequest\u001b[38;5;241m.\u001b[39mmethod,\n\u001b[0;32m    239\u001b[0m     url\u001b[38;5;241m=\u001b[39mhttpcore\u001b[38;5;241m.\u001b[39mURL(\n\u001b[1;32m   (...)\u001b[0m\n\u001b[0;32m    247\u001b[0m     extensions\u001b[38;5;241m=\u001b[39mrequest\u001b[38;5;241m.\u001b[39mextensions,\n\u001b[0;32m    248\u001b[0m )\n\u001b[0;32m    249\u001b[0m \u001b[38;5;28;01mwith\u001b[39;00m map_httpcore_exceptions():\n\u001b[1;32m--> 250\u001b[0m     resp \u001b[38;5;241m=\u001b[39m \u001b[38;5;28;43mself\u001b[39;49m\u001b[38;5;241;43m.\u001b[39;49m\u001b[43m_pool\u001b[49m\u001b[38;5;241;43m.\u001b[39;49m\u001b[43mhandle_request\u001b[49m\u001b[43m(\u001b[49m\u001b[43mreq\u001b[49m\u001b[43m)\u001b[49m\n\u001b[0;32m    252\u001b[0m \u001b[38;5;28;01massert\u001b[39;00m \u001b[38;5;28misinstance\u001b[39m(resp\u001b[38;5;241m.\u001b[39mstream, typing\u001b[38;5;241m.\u001b[39mIterable)\n\u001b[0;32m    254\u001b[0m \u001b[38;5;28;01mreturn\u001b[39;00m Response(\n\u001b[0;32m    255\u001b[0m     status_code\u001b[38;5;241m=\u001b[39mresp\u001b[38;5;241m.\u001b[39mstatus,\n\u001b[0;32m    256\u001b[0m     headers\u001b[38;5;241m=\u001b[39mresp\u001b[38;5;241m.\u001b[39mheaders,\n\u001b[0;32m    257\u001b[0m     stream\u001b[38;5;241m=\u001b[39mResponseStream(resp\u001b[38;5;241m.\u001b[39mstream),\n\u001b[0;32m    258\u001b[0m     extensions\u001b[38;5;241m=\u001b[39mresp\u001b[38;5;241m.\u001b[39mextensions,\n\u001b[0;32m    259\u001b[0m )\n",
      "File \u001b[1;32mc:\\Python311\\Lib\\site-packages\\httpcore\\_sync\\connection_pool.py:256\u001b[0m, in \u001b[0;36mConnectionPool.handle_request\u001b[1;34m(self, request)\u001b[0m\n\u001b[0;32m    253\u001b[0m         closing \u001b[38;5;241m=\u001b[39m \u001b[38;5;28mself\u001b[39m\u001b[38;5;241m.\u001b[39m_assign_requests_to_connections()\n\u001b[0;32m    255\u001b[0m     \u001b[38;5;28mself\u001b[39m\u001b[38;5;241m.\u001b[39m_close_connections(closing)\n\u001b[1;32m--> 256\u001b[0m     \u001b[38;5;28;01mraise\u001b[39;00m exc \u001b[38;5;28;01mfrom\u001b[39;00m \u001b[38;5;28;01mNone\u001b[39;00m\n\u001b[0;32m    258\u001b[0m \u001b[38;5;66;03m# Return the response. Note that in this case we still have to manage\u001b[39;00m\n\u001b[0;32m    259\u001b[0m \u001b[38;5;66;03m# the point at which the response is closed.\u001b[39;00m\n\u001b[0;32m    260\u001b[0m \u001b[38;5;28;01massert\u001b[39;00m \u001b[38;5;28misinstance\u001b[39m(response\u001b[38;5;241m.\u001b[39mstream, typing\u001b[38;5;241m.\u001b[39mIterable)\n",
      "File \u001b[1;32mc:\\Python311\\Lib\\site-packages\\httpcore\\_sync\\connection_pool.py:236\u001b[0m, in \u001b[0;36mConnectionPool.handle_request\u001b[1;34m(self, request)\u001b[0m\n\u001b[0;32m    232\u001b[0m connection \u001b[38;5;241m=\u001b[39m pool_request\u001b[38;5;241m.\u001b[39mwait_for_connection(timeout\u001b[38;5;241m=\u001b[39mtimeout)\n\u001b[0;32m    234\u001b[0m \u001b[38;5;28;01mtry\u001b[39;00m:\n\u001b[0;32m    235\u001b[0m     \u001b[38;5;66;03m# Send the request on the assigned connection.\u001b[39;00m\n\u001b[1;32m--> 236\u001b[0m     response \u001b[38;5;241m=\u001b[39m \u001b[43mconnection\u001b[49m\u001b[38;5;241;43m.\u001b[39;49m\u001b[43mhandle_request\u001b[49m\u001b[43m(\u001b[49m\n\u001b[0;32m    237\u001b[0m \u001b[43m        \u001b[49m\u001b[43mpool_request\u001b[49m\u001b[38;5;241;43m.\u001b[39;49m\u001b[43mrequest\u001b[49m\n\u001b[0;32m    238\u001b[0m \u001b[43m    \u001b[49m\u001b[43m)\u001b[49m\n\u001b[0;32m    239\u001b[0m \u001b[38;5;28;01mexcept\u001b[39;00m ConnectionNotAvailable:\n\u001b[0;32m    240\u001b[0m     \u001b[38;5;66;03m# In some cases a connection may initially be available to\u001b[39;00m\n\u001b[0;32m    241\u001b[0m     \u001b[38;5;66;03m# handle a request, but then become unavailable.\u001b[39;00m\n\u001b[0;32m    242\u001b[0m     \u001b[38;5;66;03m#\u001b[39;00m\n\u001b[0;32m    243\u001b[0m     \u001b[38;5;66;03m# In this case we clear the connection and try again.\u001b[39;00m\n\u001b[0;32m    244\u001b[0m     pool_request\u001b[38;5;241m.\u001b[39mclear_connection()\n",
      "File \u001b[1;32mc:\\Python311\\Lib\\site-packages\\httpcore\\_sync\\connection.py:103\u001b[0m, in \u001b[0;36mHTTPConnection.handle_request\u001b[1;34m(self, request)\u001b[0m\n\u001b[0;32m    100\u001b[0m     \u001b[38;5;28mself\u001b[39m\u001b[38;5;241m.\u001b[39m_connect_failed \u001b[38;5;241m=\u001b[39m \u001b[38;5;28;01mTrue\u001b[39;00m\n\u001b[0;32m    101\u001b[0m     \u001b[38;5;28;01mraise\u001b[39;00m exc\n\u001b[1;32m--> 103\u001b[0m \u001b[38;5;28;01mreturn\u001b[39;00m \u001b[38;5;28;43mself\u001b[39;49m\u001b[38;5;241;43m.\u001b[39;49m\u001b[43m_connection\u001b[49m\u001b[38;5;241;43m.\u001b[39;49m\u001b[43mhandle_request\u001b[49m\u001b[43m(\u001b[49m\u001b[43mrequest\u001b[49m\u001b[43m)\u001b[49m\n",
      "File \u001b[1;32mc:\\Python311\\Lib\\site-packages\\httpcore\\_sync\\http11.py:136\u001b[0m, in \u001b[0;36mHTTP11Connection.handle_request\u001b[1;34m(self, request)\u001b[0m\n\u001b[0;32m    134\u001b[0m     \u001b[38;5;28;01mwith\u001b[39;00m Trace(\u001b[38;5;124m\"\u001b[39m\u001b[38;5;124mresponse_closed\u001b[39m\u001b[38;5;124m\"\u001b[39m, logger, request) \u001b[38;5;28;01mas\u001b[39;00m trace:\n\u001b[0;32m    135\u001b[0m         \u001b[38;5;28mself\u001b[39m\u001b[38;5;241m.\u001b[39m_response_closed()\n\u001b[1;32m--> 136\u001b[0m \u001b[38;5;28;01mraise\u001b[39;00m exc\n",
      "File \u001b[1;32mc:\\Python311\\Lib\\site-packages\\httpcore\\_sync\\http11.py:106\u001b[0m, in \u001b[0;36mHTTP11Connection.handle_request\u001b[1;34m(self, request)\u001b[0m\n\u001b[0;32m     95\u001b[0m     \u001b[38;5;28;01mpass\u001b[39;00m\n\u001b[0;32m     97\u001b[0m \u001b[38;5;28;01mwith\u001b[39;00m Trace(\n\u001b[0;32m     98\u001b[0m     \u001b[38;5;124m\"\u001b[39m\u001b[38;5;124mreceive_response_headers\u001b[39m\u001b[38;5;124m\"\u001b[39m, logger, request, kwargs\n\u001b[0;32m     99\u001b[0m ) \u001b[38;5;28;01mas\u001b[39;00m trace:\n\u001b[0;32m    100\u001b[0m     (\n\u001b[0;32m    101\u001b[0m         http_version,\n\u001b[0;32m    102\u001b[0m         status,\n\u001b[0;32m    103\u001b[0m         reason_phrase,\n\u001b[0;32m    104\u001b[0m         headers,\n\u001b[0;32m    105\u001b[0m         trailing_data,\n\u001b[1;32m--> 106\u001b[0m     ) \u001b[38;5;241m=\u001b[39m \u001b[38;5;28;43mself\u001b[39;49m\u001b[38;5;241;43m.\u001b[39;49m\u001b[43m_receive_response_headers\u001b[49m\u001b[43m(\u001b[49m\u001b[38;5;241;43m*\u001b[39;49m\u001b[38;5;241;43m*\u001b[39;49m\u001b[43mkwargs\u001b[49m\u001b[43m)\u001b[49m\n\u001b[0;32m    107\u001b[0m     trace\u001b[38;5;241m.\u001b[39mreturn_value \u001b[38;5;241m=\u001b[39m (\n\u001b[0;32m    108\u001b[0m         http_version,\n\u001b[0;32m    109\u001b[0m         status,\n\u001b[0;32m    110\u001b[0m         reason_phrase,\n\u001b[0;32m    111\u001b[0m         headers,\n\u001b[0;32m    112\u001b[0m     )\n\u001b[0;32m    114\u001b[0m network_stream \u001b[38;5;241m=\u001b[39m \u001b[38;5;28mself\u001b[39m\u001b[38;5;241m.\u001b[39m_network_stream\n",
      "File \u001b[1;32mc:\\Python311\\Lib\\site-packages\\httpcore\\_sync\\http11.py:177\u001b[0m, in \u001b[0;36mHTTP11Connection._receive_response_headers\u001b[1;34m(self, request)\u001b[0m\n\u001b[0;32m    174\u001b[0m timeout \u001b[38;5;241m=\u001b[39m timeouts\u001b[38;5;241m.\u001b[39mget(\u001b[38;5;124m\"\u001b[39m\u001b[38;5;124mread\u001b[39m\u001b[38;5;124m\"\u001b[39m, \u001b[38;5;28;01mNone\u001b[39;00m)\n\u001b[0;32m    176\u001b[0m \u001b[38;5;28;01mwhile\u001b[39;00m \u001b[38;5;28;01mTrue\u001b[39;00m:\n\u001b[1;32m--> 177\u001b[0m     event \u001b[38;5;241m=\u001b[39m \u001b[38;5;28;43mself\u001b[39;49m\u001b[38;5;241;43m.\u001b[39;49m\u001b[43m_receive_event\u001b[49m\u001b[43m(\u001b[49m\u001b[43mtimeout\u001b[49m\u001b[38;5;241;43m=\u001b[39;49m\u001b[43mtimeout\u001b[49m\u001b[43m)\u001b[49m\n\u001b[0;32m    178\u001b[0m     \u001b[38;5;28;01mif\u001b[39;00m \u001b[38;5;28misinstance\u001b[39m(event, h11\u001b[38;5;241m.\u001b[39mResponse):\n\u001b[0;32m    179\u001b[0m         \u001b[38;5;28;01mbreak\u001b[39;00m\n",
      "File \u001b[1;32mc:\\Python311\\Lib\\site-packages\\httpcore\\_sync\\http11.py:217\u001b[0m, in \u001b[0;36mHTTP11Connection._receive_event\u001b[1;34m(self, timeout)\u001b[0m\n\u001b[0;32m    214\u001b[0m     event \u001b[38;5;241m=\u001b[39m \u001b[38;5;28mself\u001b[39m\u001b[38;5;241m.\u001b[39m_h11_state\u001b[38;5;241m.\u001b[39mnext_event()\n\u001b[0;32m    216\u001b[0m \u001b[38;5;28;01mif\u001b[39;00m event \u001b[38;5;129;01mis\u001b[39;00m h11\u001b[38;5;241m.\u001b[39mNEED_DATA:\n\u001b[1;32m--> 217\u001b[0m     data \u001b[38;5;241m=\u001b[39m \u001b[38;5;28;43mself\u001b[39;49m\u001b[38;5;241;43m.\u001b[39;49m\u001b[43m_network_stream\u001b[49m\u001b[38;5;241;43m.\u001b[39;49m\u001b[43mread\u001b[49m\u001b[43m(\u001b[49m\n\u001b[0;32m    218\u001b[0m \u001b[43m        \u001b[49m\u001b[38;5;28;43mself\u001b[39;49m\u001b[38;5;241;43m.\u001b[39;49m\u001b[43mREAD_NUM_BYTES\u001b[49m\u001b[43m,\u001b[49m\u001b[43m \u001b[49m\u001b[43mtimeout\u001b[49m\u001b[38;5;241;43m=\u001b[39;49m\u001b[43mtimeout\u001b[49m\n\u001b[0;32m    219\u001b[0m \u001b[43m    \u001b[49m\u001b[43m)\u001b[49m\n\u001b[0;32m    221\u001b[0m     \u001b[38;5;66;03m# If we feed this case through h11 we'll raise an exception like:\u001b[39;00m\n\u001b[0;32m    222\u001b[0m     \u001b[38;5;66;03m#\u001b[39;00m\n\u001b[0;32m    223\u001b[0m     \u001b[38;5;66;03m#     httpcore.RemoteProtocolError: can't handle event type\u001b[39;00m\n\u001b[1;32m   (...)\u001b[0m\n\u001b[0;32m    227\u001b[0m     \u001b[38;5;66;03m# perspective. Instead we handle this case distinctly and treat\u001b[39;00m\n\u001b[0;32m    228\u001b[0m     \u001b[38;5;66;03m# it as a ConnectError.\u001b[39;00m\n\u001b[0;32m    229\u001b[0m     \u001b[38;5;28;01mif\u001b[39;00m data \u001b[38;5;241m==\u001b[39m \u001b[38;5;124mb\u001b[39m\u001b[38;5;124m\"\u001b[39m\u001b[38;5;124m\"\u001b[39m \u001b[38;5;129;01mand\u001b[39;00m \u001b[38;5;28mself\u001b[39m\u001b[38;5;241m.\u001b[39m_h11_state\u001b[38;5;241m.\u001b[39mtheir_state \u001b[38;5;241m==\u001b[39m h11\u001b[38;5;241m.\u001b[39mSEND_RESPONSE:\n",
      "File \u001b[1;32mc:\\Python311\\Lib\\site-packages\\httpcore\\_backends\\sync.py:128\u001b[0m, in \u001b[0;36mSyncStream.read\u001b[1;34m(self, max_bytes, timeout)\u001b[0m\n\u001b[0;32m    126\u001b[0m \u001b[38;5;28;01mwith\u001b[39;00m map_exceptions(exc_map):\n\u001b[0;32m    127\u001b[0m     \u001b[38;5;28mself\u001b[39m\u001b[38;5;241m.\u001b[39m_sock\u001b[38;5;241m.\u001b[39msettimeout(timeout)\n\u001b[1;32m--> 128\u001b[0m     \u001b[38;5;28;01mreturn\u001b[39;00m \u001b[38;5;28;43mself\u001b[39;49m\u001b[38;5;241;43m.\u001b[39;49m\u001b[43m_sock\u001b[49m\u001b[38;5;241;43m.\u001b[39;49m\u001b[43mrecv\u001b[49m\u001b[43m(\u001b[49m\u001b[43mmax_bytes\u001b[49m\u001b[43m)\u001b[49m\n",
      "File \u001b[1;32mc:\\Python311\\Lib\\ssl.py:1263\u001b[0m, in \u001b[0;36mSSLSocket.recv\u001b[1;34m(self, buflen, flags)\u001b[0m\n\u001b[0;32m   1259\u001b[0m     \u001b[38;5;28;01mif\u001b[39;00m flags \u001b[38;5;241m!=\u001b[39m \u001b[38;5;241m0\u001b[39m:\n\u001b[0;32m   1260\u001b[0m         \u001b[38;5;28;01mraise\u001b[39;00m \u001b[38;5;167;01mValueError\u001b[39;00m(\n\u001b[0;32m   1261\u001b[0m             \u001b[38;5;124m\"\u001b[39m\u001b[38;5;124mnon-zero flags not allowed in calls to recv() on \u001b[39m\u001b[38;5;132;01m%s\u001b[39;00m\u001b[38;5;124m\"\u001b[39m \u001b[38;5;241m%\u001b[39m\n\u001b[0;32m   1262\u001b[0m             \u001b[38;5;28mself\u001b[39m\u001b[38;5;241m.\u001b[39m\u001b[38;5;18m__class__\u001b[39m)\n\u001b[1;32m-> 1263\u001b[0m     \u001b[38;5;28;01mreturn\u001b[39;00m \u001b[38;5;28;43mself\u001b[39;49m\u001b[38;5;241;43m.\u001b[39;49m\u001b[43mread\u001b[49m\u001b[43m(\u001b[49m\u001b[43mbuflen\u001b[49m\u001b[43m)\u001b[49m\n\u001b[0;32m   1264\u001b[0m \u001b[38;5;28;01melse\u001b[39;00m:\n\u001b[0;32m   1265\u001b[0m     \u001b[38;5;28;01mreturn\u001b[39;00m \u001b[38;5;28msuper\u001b[39m()\u001b[38;5;241m.\u001b[39mrecv(buflen, flags)\n",
      "File \u001b[1;32mc:\\Python311\\Lib\\ssl.py:1136\u001b[0m, in \u001b[0;36mSSLSocket.read\u001b[1;34m(self, len, buffer)\u001b[0m\n\u001b[0;32m   1134\u001b[0m         \u001b[38;5;28;01mreturn\u001b[39;00m \u001b[38;5;28mself\u001b[39m\u001b[38;5;241m.\u001b[39m_sslobj\u001b[38;5;241m.\u001b[39mread(\u001b[38;5;28mlen\u001b[39m, buffer)\n\u001b[0;32m   1135\u001b[0m     \u001b[38;5;28;01melse\u001b[39;00m:\n\u001b[1;32m-> 1136\u001b[0m         \u001b[38;5;28;01mreturn\u001b[39;00m \u001b[38;5;28;43mself\u001b[39;49m\u001b[38;5;241;43m.\u001b[39;49m\u001b[43m_sslobj\u001b[49m\u001b[38;5;241;43m.\u001b[39;49m\u001b[43mread\u001b[49m\u001b[43m(\u001b[49m\u001b[38;5;28;43mlen\u001b[39;49m\u001b[43m)\u001b[49m\n\u001b[0;32m   1137\u001b[0m \u001b[38;5;28;01mexcept\u001b[39;00m SSLError \u001b[38;5;28;01mas\u001b[39;00m x:\n\u001b[0;32m   1138\u001b[0m     \u001b[38;5;28;01mif\u001b[39;00m x\u001b[38;5;241m.\u001b[39margs[\u001b[38;5;241m0\u001b[39m] \u001b[38;5;241m==\u001b[39m SSL_ERROR_EOF \u001b[38;5;129;01mand\u001b[39;00m \u001b[38;5;28mself\u001b[39m\u001b[38;5;241m.\u001b[39msuppress_ragged_eofs:\n",
      "\u001b[1;31mKeyboardInterrupt\u001b[0m: "
     ]
    }
   ],
   "source": [
    "html_elements = \"\\n\".join(str(el) for el in elements)\n",
    "chat_response = mistral.chat(html_elements).choices[0].message.content\n"
   ]
  },
  {
   "cell_type": "code",
   "execution_count": null,
   "id": "5545890f",
   "metadata": {},
   "outputs": [],
   "source": [
    "json_data = json.loads(remove_unwanted_text(chat_response))"
   ]
  },
  {
   "cell_type": "code",
   "execution_count": null,
   "id": "0bbfa533",
   "metadata": {},
   "outputs": [],
   "source": [
    "with open(\"data.json\", \"w\") as f:\n",
    "    json.dump(json_data, f, indent=2)"
   ]
  },
  {
   "cell_type": "markdown",
   "id": "bd3ff9ad",
   "metadata": {},
   "source": [
    "### convert_to_json()"
   ]
  },
  {
   "cell_type": "markdown",
   "id": "c62896d8",
   "metadata": {},
   "source": [
    "## all together now to loop it"
   ]
  },
  {
   "cell_type": "code",
   "execution_count": 12,
   "id": "28d3094c",
   "metadata": {},
   "outputs": [
    {
     "ename": "KeyboardInterrupt",
     "evalue": "",
     "output_type": "error",
     "traceback": [
      "\u001b[1;31m---------------------------------------------------------------------------\u001b[0m",
      "\u001b[1;31mKeyboardInterrupt\u001b[0m                         Traceback (most recent call last)",
      "Cell \u001b[1;32mIn[12], line 5\u001b[0m\n\u001b[0;32m      3\u001b[0m \u001b[38;5;28;01mfor\u001b[39;00m i \u001b[38;5;129;01min\u001b[39;00m \u001b[38;5;28mrange\u001b[39m(\u001b[38;5;241m451\u001b[39m):\n\u001b[0;32m      4\u001b[0m     site \u001b[38;5;241m=\u001b[39m \u001b[38;5;124mf\u001b[39m\u001b[38;5;124m\"\u001b[39m\u001b[38;5;124mhttps://philosophy.stackexchange.com/questions?tab=newest&page=\u001b[39m\u001b[38;5;132;01m{\u001b[39;00mi\u001b[38;5;241m+\u001b[39m\u001b[38;5;241m1\u001b[39m\u001b[38;5;132;01m}\u001b[39;00m\u001b[38;5;124m&pagesize=50\u001b[39m\u001b[38;5;124m\"\u001b[39m\n\u001b[1;32m----> 5\u001b[0m     html \u001b[38;5;241m=\u001b[39m \u001b[43mget_html\u001b[49m\u001b[43m(\u001b[49m\u001b[43msite\u001b[49m\u001b[43m)\u001b[49m\n\u001b[0;32m      6\u001b[0m     \u001b[38;5;28;01mwith\u001b[39;00m \u001b[38;5;28mopen\u001b[39m(\u001b[38;5;124mf\u001b[39m\u001b[38;5;124m\"\u001b[39m\u001b[38;5;124mloop_html/philosophy_questions_page_\u001b[39m\u001b[38;5;132;01m{\u001b[39;00mi\u001b[38;5;241m+\u001b[39m\u001b[38;5;241m1\u001b[39m\u001b[38;5;132;01m}\u001b[39;00m\u001b[38;5;124m.html\u001b[39m\u001b[38;5;124m\"\u001b[39m, \u001b[38;5;124m\"\u001b[39m\u001b[38;5;124mw\u001b[39m\u001b[38;5;124m\"\u001b[39m, encoding\u001b[38;5;241m=\u001b[39m\u001b[38;5;124m\"\u001b[39m\u001b[38;5;124mutf-8\u001b[39m\u001b[38;5;124m\"\u001b[39m) \u001b[38;5;28;01mas\u001b[39;00m f:\n\u001b[0;32m      7\u001b[0m         f\u001b[38;5;241m.\u001b[39mwrite(html)\n",
      "Cell \u001b[1;32mIn[2], line 4\u001b[0m, in \u001b[0;36mget_html\u001b[1;34m(website)\u001b[0m\n\u001b[0;32m      3\u001b[0m \u001b[38;5;28;01mdef\u001b[39;00m \u001b[38;5;21mget_html\u001b[39m(website):\n\u001b[1;32m----> 4\u001b[0m     html \u001b[38;5;241m=\u001b[39m \u001b[43mrequests\u001b[49m\u001b[38;5;241;43m.\u001b[39;49m\u001b[43mget\u001b[49m\u001b[43m(\u001b[49m\u001b[43mwebsite\u001b[49m\u001b[43m)\u001b[49m\u001b[38;5;241m.\u001b[39mtext\n\u001b[0;32m      6\u001b[0m     \u001b[38;5;28;01mif\u001b[39;00m html \u001b[38;5;129;01mand\u001b[39;00m \u001b[38;5;124m\"\u001b[39m\u001b[38;5;124mJavaScript\u001b[39m\u001b[38;5;124m\"\u001b[39m \u001b[38;5;129;01min\u001b[39;00m html: \u001b[38;5;66;03m# most frameworks will say \"JS is required\"\u001b[39;00m\n\u001b[0;32m      7\u001b[0m         options \u001b[38;5;241m=\u001b[39m webdriver\u001b[38;5;241m.\u001b[39mChromeOptions()\n",
      "File \u001b[1;32m~\\AppData\\Roaming\\Python\\Python311\\site-packages\\requests\\api.py:73\u001b[0m, in \u001b[0;36mget\u001b[1;34m(url, params, **kwargs)\u001b[0m\n\u001b[0;32m     62\u001b[0m \u001b[38;5;28;01mdef\u001b[39;00m \u001b[38;5;21mget\u001b[39m(url, params\u001b[38;5;241m=\u001b[39m\u001b[38;5;28;01mNone\u001b[39;00m, \u001b[38;5;241m*\u001b[39m\u001b[38;5;241m*\u001b[39mkwargs):\n\u001b[0;32m     63\u001b[0m \u001b[38;5;250m    \u001b[39m\u001b[38;5;124mr\u001b[39m\u001b[38;5;124;03m\"\"\"Sends a GET request.\u001b[39;00m\n\u001b[0;32m     64\u001b[0m \n\u001b[0;32m     65\u001b[0m \u001b[38;5;124;03m    :param url: URL for the new :class:`Request` object.\u001b[39;00m\n\u001b[1;32m   (...)\u001b[0m\n\u001b[0;32m     70\u001b[0m \u001b[38;5;124;03m    :rtype: requests.Response\u001b[39;00m\n\u001b[0;32m     71\u001b[0m \u001b[38;5;124;03m    \"\"\"\u001b[39;00m\n\u001b[1;32m---> 73\u001b[0m     \u001b[38;5;28;01mreturn\u001b[39;00m \u001b[43mrequest\u001b[49m\u001b[43m(\u001b[49m\u001b[38;5;124;43m\"\u001b[39;49m\u001b[38;5;124;43mget\u001b[39;49m\u001b[38;5;124;43m\"\u001b[39;49m\u001b[43m,\u001b[49m\u001b[43m \u001b[49m\u001b[43murl\u001b[49m\u001b[43m,\u001b[49m\u001b[43m \u001b[49m\u001b[43mparams\u001b[49m\u001b[38;5;241;43m=\u001b[39;49m\u001b[43mparams\u001b[49m\u001b[43m,\u001b[49m\u001b[43m \u001b[49m\u001b[38;5;241;43m*\u001b[39;49m\u001b[38;5;241;43m*\u001b[39;49m\u001b[43mkwargs\u001b[49m\u001b[43m)\u001b[49m\n",
      "File \u001b[1;32m~\\AppData\\Roaming\\Python\\Python311\\site-packages\\requests\\api.py:59\u001b[0m, in \u001b[0;36mrequest\u001b[1;34m(method, url, **kwargs)\u001b[0m\n\u001b[0;32m     55\u001b[0m \u001b[38;5;66;03m# By using the 'with' statement we are sure the session is closed, thus we\u001b[39;00m\n\u001b[0;32m     56\u001b[0m \u001b[38;5;66;03m# avoid leaving sockets open which can trigger a ResourceWarning in some\u001b[39;00m\n\u001b[0;32m     57\u001b[0m \u001b[38;5;66;03m# cases, and look like a memory leak in others.\u001b[39;00m\n\u001b[0;32m     58\u001b[0m \u001b[38;5;28;01mwith\u001b[39;00m sessions\u001b[38;5;241m.\u001b[39mSession() \u001b[38;5;28;01mas\u001b[39;00m session:\n\u001b[1;32m---> 59\u001b[0m     \u001b[38;5;28;01mreturn\u001b[39;00m \u001b[43msession\u001b[49m\u001b[38;5;241;43m.\u001b[39;49m\u001b[43mrequest\u001b[49m\u001b[43m(\u001b[49m\u001b[43mmethod\u001b[49m\u001b[38;5;241;43m=\u001b[39;49m\u001b[43mmethod\u001b[49m\u001b[43m,\u001b[49m\u001b[43m \u001b[49m\u001b[43murl\u001b[49m\u001b[38;5;241;43m=\u001b[39;49m\u001b[43murl\u001b[49m\u001b[43m,\u001b[49m\u001b[43m \u001b[49m\u001b[38;5;241;43m*\u001b[39;49m\u001b[38;5;241;43m*\u001b[39;49m\u001b[43mkwargs\u001b[49m\u001b[43m)\u001b[49m\n",
      "File \u001b[1;32m~\\AppData\\Roaming\\Python\\Python311\\site-packages\\requests\\sessions.py:589\u001b[0m, in \u001b[0;36mSession.request\u001b[1;34m(self, method, url, params, data, headers, cookies, files, auth, timeout, allow_redirects, proxies, hooks, stream, verify, cert, json)\u001b[0m\n\u001b[0;32m    584\u001b[0m send_kwargs \u001b[38;5;241m=\u001b[39m {\n\u001b[0;32m    585\u001b[0m     \u001b[38;5;124m\"\u001b[39m\u001b[38;5;124mtimeout\u001b[39m\u001b[38;5;124m\"\u001b[39m: timeout,\n\u001b[0;32m    586\u001b[0m     \u001b[38;5;124m\"\u001b[39m\u001b[38;5;124mallow_redirects\u001b[39m\u001b[38;5;124m\"\u001b[39m: allow_redirects,\n\u001b[0;32m    587\u001b[0m }\n\u001b[0;32m    588\u001b[0m send_kwargs\u001b[38;5;241m.\u001b[39mupdate(settings)\n\u001b[1;32m--> 589\u001b[0m resp \u001b[38;5;241m=\u001b[39m \u001b[38;5;28;43mself\u001b[39;49m\u001b[38;5;241;43m.\u001b[39;49m\u001b[43msend\u001b[49m\u001b[43m(\u001b[49m\u001b[43mprep\u001b[49m\u001b[43m,\u001b[49m\u001b[43m \u001b[49m\u001b[38;5;241;43m*\u001b[39;49m\u001b[38;5;241;43m*\u001b[39;49m\u001b[43msend_kwargs\u001b[49m\u001b[43m)\u001b[49m\n\u001b[0;32m    591\u001b[0m \u001b[38;5;28;01mreturn\u001b[39;00m resp\n",
      "File \u001b[1;32m~\\AppData\\Roaming\\Python\\Python311\\site-packages\\requests\\sessions.py:703\u001b[0m, in \u001b[0;36mSession.send\u001b[1;34m(self, request, **kwargs)\u001b[0m\n\u001b[0;32m    700\u001b[0m start \u001b[38;5;241m=\u001b[39m preferred_clock()\n\u001b[0;32m    702\u001b[0m \u001b[38;5;66;03m# Send the request\u001b[39;00m\n\u001b[1;32m--> 703\u001b[0m r \u001b[38;5;241m=\u001b[39m \u001b[43madapter\u001b[49m\u001b[38;5;241;43m.\u001b[39;49m\u001b[43msend\u001b[49m\u001b[43m(\u001b[49m\u001b[43mrequest\u001b[49m\u001b[43m,\u001b[49m\u001b[43m \u001b[49m\u001b[38;5;241;43m*\u001b[39;49m\u001b[38;5;241;43m*\u001b[39;49m\u001b[43mkwargs\u001b[49m\u001b[43m)\u001b[49m\n\u001b[0;32m    705\u001b[0m \u001b[38;5;66;03m# Total elapsed time of the request (approximately)\u001b[39;00m\n\u001b[0;32m    706\u001b[0m elapsed \u001b[38;5;241m=\u001b[39m preferred_clock() \u001b[38;5;241m-\u001b[39m start\n",
      "File \u001b[1;32m~\\AppData\\Roaming\\Python\\Python311\\site-packages\\requests\\adapters.py:486\u001b[0m, in \u001b[0;36mHTTPAdapter.send\u001b[1;34m(self, request, stream, timeout, verify, cert, proxies)\u001b[0m\n\u001b[0;32m    483\u001b[0m     timeout \u001b[38;5;241m=\u001b[39m TimeoutSauce(connect\u001b[38;5;241m=\u001b[39mtimeout, read\u001b[38;5;241m=\u001b[39mtimeout)\n\u001b[0;32m    485\u001b[0m \u001b[38;5;28;01mtry\u001b[39;00m:\n\u001b[1;32m--> 486\u001b[0m     resp \u001b[38;5;241m=\u001b[39m \u001b[43mconn\u001b[49m\u001b[38;5;241;43m.\u001b[39;49m\u001b[43murlopen\u001b[49m\u001b[43m(\u001b[49m\n\u001b[0;32m    487\u001b[0m \u001b[43m        \u001b[49m\u001b[43mmethod\u001b[49m\u001b[38;5;241;43m=\u001b[39;49m\u001b[43mrequest\u001b[49m\u001b[38;5;241;43m.\u001b[39;49m\u001b[43mmethod\u001b[49m\u001b[43m,\u001b[49m\n\u001b[0;32m    488\u001b[0m \u001b[43m        \u001b[49m\u001b[43murl\u001b[49m\u001b[38;5;241;43m=\u001b[39;49m\u001b[43murl\u001b[49m\u001b[43m,\u001b[49m\n\u001b[0;32m    489\u001b[0m \u001b[43m        \u001b[49m\u001b[43mbody\u001b[49m\u001b[38;5;241;43m=\u001b[39;49m\u001b[43mrequest\u001b[49m\u001b[38;5;241;43m.\u001b[39;49m\u001b[43mbody\u001b[49m\u001b[43m,\u001b[49m\n\u001b[0;32m    490\u001b[0m \u001b[43m        \u001b[49m\u001b[43mheaders\u001b[49m\u001b[38;5;241;43m=\u001b[39;49m\u001b[43mrequest\u001b[49m\u001b[38;5;241;43m.\u001b[39;49m\u001b[43mheaders\u001b[49m\u001b[43m,\u001b[49m\n\u001b[0;32m    491\u001b[0m \u001b[43m        \u001b[49m\u001b[43mredirect\u001b[49m\u001b[38;5;241;43m=\u001b[39;49m\u001b[38;5;28;43;01mFalse\u001b[39;49;00m\u001b[43m,\u001b[49m\n\u001b[0;32m    492\u001b[0m \u001b[43m        \u001b[49m\u001b[43massert_same_host\u001b[49m\u001b[38;5;241;43m=\u001b[39;49m\u001b[38;5;28;43;01mFalse\u001b[39;49;00m\u001b[43m,\u001b[49m\n\u001b[0;32m    493\u001b[0m \u001b[43m        \u001b[49m\u001b[43mpreload_content\u001b[49m\u001b[38;5;241;43m=\u001b[39;49m\u001b[38;5;28;43;01mFalse\u001b[39;49;00m\u001b[43m,\u001b[49m\n\u001b[0;32m    494\u001b[0m \u001b[43m        \u001b[49m\u001b[43mdecode_content\u001b[49m\u001b[38;5;241;43m=\u001b[39;49m\u001b[38;5;28;43;01mFalse\u001b[39;49;00m\u001b[43m,\u001b[49m\n\u001b[0;32m    495\u001b[0m \u001b[43m        \u001b[49m\u001b[43mretries\u001b[49m\u001b[38;5;241;43m=\u001b[39;49m\u001b[38;5;28;43mself\u001b[39;49m\u001b[38;5;241;43m.\u001b[39;49m\u001b[43mmax_retries\u001b[49m\u001b[43m,\u001b[49m\n\u001b[0;32m    496\u001b[0m \u001b[43m        \u001b[49m\u001b[43mtimeout\u001b[49m\u001b[38;5;241;43m=\u001b[39;49m\u001b[43mtimeout\u001b[49m\u001b[43m,\u001b[49m\n\u001b[0;32m    497\u001b[0m \u001b[43m        \u001b[49m\u001b[43mchunked\u001b[49m\u001b[38;5;241;43m=\u001b[39;49m\u001b[43mchunked\u001b[49m\u001b[43m,\u001b[49m\n\u001b[0;32m    498\u001b[0m \u001b[43m    \u001b[49m\u001b[43m)\u001b[49m\n\u001b[0;32m    500\u001b[0m \u001b[38;5;28;01mexcept\u001b[39;00m (ProtocolError, \u001b[38;5;167;01mOSError\u001b[39;00m) \u001b[38;5;28;01mas\u001b[39;00m err:\n\u001b[0;32m    501\u001b[0m     \u001b[38;5;28;01mraise\u001b[39;00m \u001b[38;5;167;01mConnectionError\u001b[39;00m(err, request\u001b[38;5;241m=\u001b[39mrequest)\n",
      "File \u001b[1;32m~\\AppData\\Roaming\\Python\\Python311\\site-packages\\urllib3\\connectionpool.py:790\u001b[0m, in \u001b[0;36mHTTPConnectionPool.urlopen\u001b[1;34m(self, method, url, body, headers, retries, redirect, assert_same_host, timeout, pool_timeout, release_conn, chunked, body_pos, preload_content, decode_content, **response_kw)\u001b[0m\n\u001b[0;32m    787\u001b[0m response_conn \u001b[38;5;241m=\u001b[39m conn \u001b[38;5;28;01mif\u001b[39;00m \u001b[38;5;129;01mnot\u001b[39;00m release_conn \u001b[38;5;28;01melse\u001b[39;00m \u001b[38;5;28;01mNone\u001b[39;00m\n\u001b[0;32m    789\u001b[0m \u001b[38;5;66;03m# Make the request on the HTTPConnection object\u001b[39;00m\n\u001b[1;32m--> 790\u001b[0m response \u001b[38;5;241m=\u001b[39m \u001b[38;5;28;43mself\u001b[39;49m\u001b[38;5;241;43m.\u001b[39;49m\u001b[43m_make_request\u001b[49m\u001b[43m(\u001b[49m\n\u001b[0;32m    791\u001b[0m \u001b[43m    \u001b[49m\u001b[43mconn\u001b[49m\u001b[43m,\u001b[49m\n\u001b[0;32m    792\u001b[0m \u001b[43m    \u001b[49m\u001b[43mmethod\u001b[49m\u001b[43m,\u001b[49m\n\u001b[0;32m    793\u001b[0m \u001b[43m    \u001b[49m\u001b[43murl\u001b[49m\u001b[43m,\u001b[49m\n\u001b[0;32m    794\u001b[0m \u001b[43m    \u001b[49m\u001b[43mtimeout\u001b[49m\u001b[38;5;241;43m=\u001b[39;49m\u001b[43mtimeout_obj\u001b[49m\u001b[43m,\u001b[49m\n\u001b[0;32m    795\u001b[0m \u001b[43m    \u001b[49m\u001b[43mbody\u001b[49m\u001b[38;5;241;43m=\u001b[39;49m\u001b[43mbody\u001b[49m\u001b[43m,\u001b[49m\n\u001b[0;32m    796\u001b[0m \u001b[43m    \u001b[49m\u001b[43mheaders\u001b[49m\u001b[38;5;241;43m=\u001b[39;49m\u001b[43mheaders\u001b[49m\u001b[43m,\u001b[49m\n\u001b[0;32m    797\u001b[0m \u001b[43m    \u001b[49m\u001b[43mchunked\u001b[49m\u001b[38;5;241;43m=\u001b[39;49m\u001b[43mchunked\u001b[49m\u001b[43m,\u001b[49m\n\u001b[0;32m    798\u001b[0m \u001b[43m    \u001b[49m\u001b[43mretries\u001b[49m\u001b[38;5;241;43m=\u001b[39;49m\u001b[43mretries\u001b[49m\u001b[43m,\u001b[49m\n\u001b[0;32m    799\u001b[0m \u001b[43m    \u001b[49m\u001b[43mresponse_conn\u001b[49m\u001b[38;5;241;43m=\u001b[39;49m\u001b[43mresponse_conn\u001b[49m\u001b[43m,\u001b[49m\n\u001b[0;32m    800\u001b[0m \u001b[43m    \u001b[49m\u001b[43mpreload_content\u001b[49m\u001b[38;5;241;43m=\u001b[39;49m\u001b[43mpreload_content\u001b[49m\u001b[43m,\u001b[49m\n\u001b[0;32m    801\u001b[0m \u001b[43m    \u001b[49m\u001b[43mdecode_content\u001b[49m\u001b[38;5;241;43m=\u001b[39;49m\u001b[43mdecode_content\u001b[49m\u001b[43m,\u001b[49m\n\u001b[0;32m    802\u001b[0m \u001b[43m    \u001b[49m\u001b[38;5;241;43m*\u001b[39;49m\u001b[38;5;241;43m*\u001b[39;49m\u001b[43mresponse_kw\u001b[49m\u001b[43m,\u001b[49m\n\u001b[0;32m    803\u001b[0m \u001b[43m\u001b[49m\u001b[43m)\u001b[49m\n\u001b[0;32m    805\u001b[0m \u001b[38;5;66;03m# Everything went great!\u001b[39;00m\n\u001b[0;32m    806\u001b[0m clean_exit \u001b[38;5;241m=\u001b[39m \u001b[38;5;28;01mTrue\u001b[39;00m\n",
      "File \u001b[1;32m~\\AppData\\Roaming\\Python\\Python311\\site-packages\\urllib3\\connectionpool.py:536\u001b[0m, in \u001b[0;36mHTTPConnectionPool._make_request\u001b[1;34m(self, conn, method, url, body, headers, retries, timeout, chunked, response_conn, preload_content, decode_content, enforce_content_length)\u001b[0m\n\u001b[0;32m    534\u001b[0m \u001b[38;5;66;03m# Receive the response from the server\u001b[39;00m\n\u001b[0;32m    535\u001b[0m \u001b[38;5;28;01mtry\u001b[39;00m:\n\u001b[1;32m--> 536\u001b[0m     response \u001b[38;5;241m=\u001b[39m \u001b[43mconn\u001b[49m\u001b[38;5;241;43m.\u001b[39;49m\u001b[43mgetresponse\u001b[49m\u001b[43m(\u001b[49m\u001b[43m)\u001b[49m\n\u001b[0;32m    537\u001b[0m \u001b[38;5;28;01mexcept\u001b[39;00m (BaseSSLError, \u001b[38;5;167;01mOSError\u001b[39;00m) \u001b[38;5;28;01mas\u001b[39;00m e:\n\u001b[0;32m    538\u001b[0m     \u001b[38;5;28mself\u001b[39m\u001b[38;5;241m.\u001b[39m_raise_timeout(err\u001b[38;5;241m=\u001b[39me, url\u001b[38;5;241m=\u001b[39murl, timeout_value\u001b[38;5;241m=\u001b[39mread_timeout)\n",
      "File \u001b[1;32m~\\AppData\\Roaming\\Python\\Python311\\site-packages\\urllib3\\connection.py:461\u001b[0m, in \u001b[0;36mHTTPConnection.getresponse\u001b[1;34m(self)\u001b[0m\n\u001b[0;32m    458\u001b[0m \u001b[38;5;28;01mfrom\u001b[39;00m \u001b[38;5;21;01m.\u001b[39;00m\u001b[38;5;21;01mresponse\u001b[39;00m \u001b[38;5;28;01mimport\u001b[39;00m HTTPResponse\n\u001b[0;32m    460\u001b[0m \u001b[38;5;66;03m# Get the response from http.client.HTTPConnection\u001b[39;00m\n\u001b[1;32m--> 461\u001b[0m httplib_response \u001b[38;5;241m=\u001b[39m \u001b[38;5;28;43msuper\u001b[39;49m\u001b[43m(\u001b[49m\u001b[43m)\u001b[49m\u001b[38;5;241;43m.\u001b[39;49m\u001b[43mgetresponse\u001b[49m\u001b[43m(\u001b[49m\u001b[43m)\u001b[49m\n\u001b[0;32m    463\u001b[0m \u001b[38;5;28;01mtry\u001b[39;00m:\n\u001b[0;32m    464\u001b[0m     assert_header_parsing(httplib_response\u001b[38;5;241m.\u001b[39mmsg)\n",
      "File \u001b[1;32mc:\\Python311\\Lib\\http\\client.py:1375\u001b[0m, in \u001b[0;36mHTTPConnection.getresponse\u001b[1;34m(self)\u001b[0m\n\u001b[0;32m   1373\u001b[0m \u001b[38;5;28;01mtry\u001b[39;00m:\n\u001b[0;32m   1374\u001b[0m     \u001b[38;5;28;01mtry\u001b[39;00m:\n\u001b[1;32m-> 1375\u001b[0m         \u001b[43mresponse\u001b[49m\u001b[38;5;241;43m.\u001b[39;49m\u001b[43mbegin\u001b[49m\u001b[43m(\u001b[49m\u001b[43m)\u001b[49m\n\u001b[0;32m   1376\u001b[0m     \u001b[38;5;28;01mexcept\u001b[39;00m \u001b[38;5;167;01mConnectionError\u001b[39;00m:\n\u001b[0;32m   1377\u001b[0m         \u001b[38;5;28mself\u001b[39m\u001b[38;5;241m.\u001b[39mclose()\n",
      "File \u001b[1;32mc:\\Python311\\Lib\\http\\client.py:318\u001b[0m, in \u001b[0;36mHTTPResponse.begin\u001b[1;34m(self)\u001b[0m\n\u001b[0;32m    316\u001b[0m \u001b[38;5;66;03m# read until we get a non-100 response\u001b[39;00m\n\u001b[0;32m    317\u001b[0m \u001b[38;5;28;01mwhile\u001b[39;00m \u001b[38;5;28;01mTrue\u001b[39;00m:\n\u001b[1;32m--> 318\u001b[0m     version, status, reason \u001b[38;5;241m=\u001b[39m \u001b[38;5;28;43mself\u001b[39;49m\u001b[38;5;241;43m.\u001b[39;49m\u001b[43m_read_status\u001b[49m\u001b[43m(\u001b[49m\u001b[43m)\u001b[49m\n\u001b[0;32m    319\u001b[0m     \u001b[38;5;28;01mif\u001b[39;00m status \u001b[38;5;241m!=\u001b[39m CONTINUE:\n\u001b[0;32m    320\u001b[0m         \u001b[38;5;28;01mbreak\u001b[39;00m\n",
      "File \u001b[1;32mc:\\Python311\\Lib\\http\\client.py:279\u001b[0m, in \u001b[0;36mHTTPResponse._read_status\u001b[1;34m(self)\u001b[0m\n\u001b[0;32m    278\u001b[0m \u001b[38;5;28;01mdef\u001b[39;00m \u001b[38;5;21m_read_status\u001b[39m(\u001b[38;5;28mself\u001b[39m):\n\u001b[1;32m--> 279\u001b[0m     line \u001b[38;5;241m=\u001b[39m \u001b[38;5;28mstr\u001b[39m(\u001b[38;5;28mself\u001b[39m\u001b[38;5;241m.\u001b[39mfp\u001b[38;5;241m.\u001b[39mreadline(_MAXLINE \u001b[38;5;241m+\u001b[39m \u001b[38;5;241m1\u001b[39m), \u001b[38;5;124m\"\u001b[39m\u001b[38;5;124miso-8859-1\u001b[39m\u001b[38;5;124m\"\u001b[39m)\n\u001b[0;32m    280\u001b[0m     \u001b[38;5;28;01mif\u001b[39;00m \u001b[38;5;28mlen\u001b[39m(line) \u001b[38;5;241m>\u001b[39m _MAXLINE:\n\u001b[0;32m    281\u001b[0m         \u001b[38;5;28;01mraise\u001b[39;00m LineTooLong(\u001b[38;5;124m\"\u001b[39m\u001b[38;5;124mstatus line\u001b[39m\u001b[38;5;124m\"\u001b[39m)\n",
      "File \u001b[1;32mc:\\Python311\\Lib\\socket.py:706\u001b[0m, in \u001b[0;36mSocketIO.readinto\u001b[1;34m(self, b)\u001b[0m\n\u001b[0;32m    704\u001b[0m \u001b[38;5;28;01mwhile\u001b[39;00m \u001b[38;5;28;01mTrue\u001b[39;00m:\n\u001b[0;32m    705\u001b[0m     \u001b[38;5;28;01mtry\u001b[39;00m:\n\u001b[1;32m--> 706\u001b[0m         \u001b[38;5;28;01mreturn\u001b[39;00m \u001b[38;5;28;43mself\u001b[39;49m\u001b[38;5;241;43m.\u001b[39;49m\u001b[43m_sock\u001b[49m\u001b[38;5;241;43m.\u001b[39;49m\u001b[43mrecv_into\u001b[49m\u001b[43m(\u001b[49m\u001b[43mb\u001b[49m\u001b[43m)\u001b[49m\n\u001b[0;32m    707\u001b[0m     \u001b[38;5;28;01mexcept\u001b[39;00m timeout:\n\u001b[0;32m    708\u001b[0m         \u001b[38;5;28mself\u001b[39m\u001b[38;5;241m.\u001b[39m_timeout_occurred \u001b[38;5;241m=\u001b[39m \u001b[38;5;28;01mTrue\u001b[39;00m\n",
      "File \u001b[1;32mc:\\Python311\\Lib\\ssl.py:1278\u001b[0m, in \u001b[0;36mSSLSocket.recv_into\u001b[1;34m(self, buffer, nbytes, flags)\u001b[0m\n\u001b[0;32m   1274\u001b[0m     \u001b[38;5;28;01mif\u001b[39;00m flags \u001b[38;5;241m!=\u001b[39m \u001b[38;5;241m0\u001b[39m:\n\u001b[0;32m   1275\u001b[0m         \u001b[38;5;28;01mraise\u001b[39;00m \u001b[38;5;167;01mValueError\u001b[39;00m(\n\u001b[0;32m   1276\u001b[0m           \u001b[38;5;124m\"\u001b[39m\u001b[38;5;124mnon-zero flags not allowed in calls to recv_into() on \u001b[39m\u001b[38;5;132;01m%s\u001b[39;00m\u001b[38;5;124m\"\u001b[39m \u001b[38;5;241m%\u001b[39m\n\u001b[0;32m   1277\u001b[0m           \u001b[38;5;28mself\u001b[39m\u001b[38;5;241m.\u001b[39m\u001b[38;5;18m__class__\u001b[39m)\n\u001b[1;32m-> 1278\u001b[0m     \u001b[38;5;28;01mreturn\u001b[39;00m \u001b[38;5;28;43mself\u001b[39;49m\u001b[38;5;241;43m.\u001b[39;49m\u001b[43mread\u001b[49m\u001b[43m(\u001b[49m\u001b[43mnbytes\u001b[49m\u001b[43m,\u001b[49m\u001b[43m \u001b[49m\u001b[43mbuffer\u001b[49m\u001b[43m)\u001b[49m\n\u001b[0;32m   1279\u001b[0m \u001b[38;5;28;01melse\u001b[39;00m:\n\u001b[0;32m   1280\u001b[0m     \u001b[38;5;28;01mreturn\u001b[39;00m \u001b[38;5;28msuper\u001b[39m()\u001b[38;5;241m.\u001b[39mrecv_into(buffer, nbytes, flags)\n",
      "File \u001b[1;32mc:\\Python311\\Lib\\ssl.py:1134\u001b[0m, in \u001b[0;36mSSLSocket.read\u001b[1;34m(self, len, buffer)\u001b[0m\n\u001b[0;32m   1132\u001b[0m \u001b[38;5;28;01mtry\u001b[39;00m:\n\u001b[0;32m   1133\u001b[0m     \u001b[38;5;28;01mif\u001b[39;00m buffer \u001b[38;5;129;01mis\u001b[39;00m \u001b[38;5;129;01mnot\u001b[39;00m \u001b[38;5;28;01mNone\u001b[39;00m:\n\u001b[1;32m-> 1134\u001b[0m         \u001b[38;5;28;01mreturn\u001b[39;00m \u001b[38;5;28;43mself\u001b[39;49m\u001b[38;5;241;43m.\u001b[39;49m\u001b[43m_sslobj\u001b[49m\u001b[38;5;241;43m.\u001b[39;49m\u001b[43mread\u001b[49m\u001b[43m(\u001b[49m\u001b[38;5;28;43mlen\u001b[39;49m\u001b[43m,\u001b[49m\u001b[43m \u001b[49m\u001b[43mbuffer\u001b[49m\u001b[43m)\u001b[49m\n\u001b[0;32m   1135\u001b[0m     \u001b[38;5;28;01melse\u001b[39;00m:\n\u001b[0;32m   1136\u001b[0m         \u001b[38;5;28;01mreturn\u001b[39;00m \u001b[38;5;28mself\u001b[39m\u001b[38;5;241m.\u001b[39m_sslobj\u001b[38;5;241m.\u001b[39mread(\u001b[38;5;28mlen\u001b[39m)\n",
      "\u001b[1;31mKeyboardInterrupt\u001b[0m: "
     ]
    }
   ],
   "source": [
    "site = \"https://philosophy.stackexchange.com/questions?tab=newest&page=1&pagesize=50\"\n",
    "\n",
    "for i in range(451):\n",
    "    site = f\"https://philosophy.stackexchange.com/questions?tab=newest&page={i+1}&pagesize=50\"\n",
    "    html = get_html(site)\n",
    "    with open(f\"loop_html/philosophy_questions_page_{i+1}.html\", \"w\", encoding=\"utf-8\") as f:\n",
    "        f.write(html)"
   ]
  },
  {
   "cell_type": "code",
   "execution_count": null,
   "id": "049a8e88",
   "metadata": {},
   "outputs": [
    {
     "name": "stdout",
     "output_type": "stream",
     "text": [
      "Data-related classes: ['s-post-summary', 'js-post-summary', 's-post-summary--stats', 'js-post-summary-stats', 's-post-summary--stats-item__emphasized', 's-post-summary--content', 's-post-summary--content-title', 's-post-summary--content-excerpt', 's-post-summary--meta', 's-post-summary--meta-tags', 'd-inline-block', 'tags', 'js-tags', 'ml0', 'list-ls-none', 'js-post-tag-list-wrapper', 's-user-card', 's-user-card__minimal', 's-avatar', 's-avatar__16', 's-user-card--avatar', 'gravatar-wrapper-16', 's-avatar--image', 's-user-card--info', 's-user-card--link', 's-user-card--awards', 's-user-card--rep', 'todo-no-class-here', 's-user-card--time', 'relativetime']\n",
      "Data-related classes: ['s-post-summary', 'js-post-summary', 's-post-summary--stats', 'js-post-summary-stats', 's-post-summary--stats-item__emphasized', 's-post-summary--content', 's-post-summary--content-title', 's-post-summary--content-excerpt', 's-post-summary--meta', 's-post-summary--meta-tags', 'd-inline-block', 'tags', 'js-tags', 'ml0', 'list-ls-none', 'js-post-tag-list-wrapper', 's-user-card', 's-user-card__minimal', 's-avatar', 's-avatar__16', 's-user-card--avatar', 'gravatar-wrapper-16', 's-avatar--image', 's-user-card--info', 's-user-card--link', 's-user-card--awards', 's-user-card--rep', 'todo-no-class-here', 's-user-card--time', 'relativetime']\n"
     ]
    },
    {
     "name": "stderr",
     "output_type": "stream",
     "text": [
      "The chromedriver version (138.0.7204.183) detected in PATH at C:\\chromedriver-win64\\chromedriver.exe might not be compatible with the detected chrome version (139.0.7258.155); currently, chromedriver 139.0.7258.154 is recommended for chrome 139.*, so it is advised to delete the driver in PATH and retry\n",
      "The chromedriver version (138.0.7204.183) detected in PATH at C:\\chromedriver-win64\\chromedriver.exe might not be compatible with the detected chrome version (139.0.7258.155); currently, chromedriver 139.0.7258.154 is recommended for chrome 139.*, so it is advised to delete the driver in PATH and retry\n"
     ]
    },
    {
     "name": "stdout",
     "output_type": "stream",
     "text": [
      "Data-related classes: ['s-post-summary', 'js-post-summary', 's-post-summary--stats', 'js-post-summary-stats', 's-post-summary--stats-item__emphasized', 's-post-summary--content', 's-post-summary--content-title', 's-post-summary--content-excerpt', 's-post-summary--meta', 's-post-summary--meta-tags', 'd-inline-block', 'tags', 'js-tags', 'ml0', 'list-ls-none', 'js-post-tag-list-wrapper', 's-user-card', 's-user-card__minimal', 's-avatar', 's-avatar__16', 's-user-card--avatar', 'gravatar-wrapper-16', 's-avatar--image', 's-user-card--info', 's-user-card--link', 's-user-card--awards', 's-user-card--rep', 'todo-no-class-here', 's-user-card--time', 'relativetime']\n"
     ]
    },
    {
     "name": "stderr",
     "output_type": "stream",
     "text": [
      "The chromedriver version (138.0.7204.183) detected in PATH at C:\\chromedriver-win64\\chromedriver.exe might not be compatible with the detected chrome version (139.0.7258.155); currently, chromedriver 139.0.7258.154 is recommended for chrome 139.*, so it is advised to delete the driver in PATH and retry\n",
      "The chromedriver version (138.0.7204.183) detected in PATH at C:\\chromedriver-win64\\chromedriver.exe might not be compatible with the detected chrome version (139.0.7258.155); currently, chromedriver 139.0.7258.154 is recommended for chrome 139.*, so it is advised to delete the driver in PATH and retry\n"
     ]
    },
    {
     "name": "stdout",
     "output_type": "stream",
     "text": [
      "Data-related classes: ['s-post-summary', 'js-post-summary', 's-post-summary--stats', 'js-post-summary-stats', 's-post-summary--stats-item__emphasized', 's-post-summary--content', 's-post-summary--content-title', 's-post-summary--content-excerpt', 's-post-summary--meta', 's-post-summary--meta-tags', 'd-inline-block', 'tags', 'js-tags', 'ml0', 'list-ls-none', 'js-post-tag-list-wrapper', 's-user-card', 's-user-card__minimal', 's-avatar', 's-avatar__16', 's-user-card--avatar', 'gravatar-wrapper-16', 's-avatar--image', 's-user-card--info', 's-user-card--link', 's-user-card--time', 'relativetime']\n"
     ]
    },
    {
     "name": "stderr",
     "output_type": "stream",
     "text": [
      "The chromedriver version (138.0.7204.183) detected in PATH at C:\\chromedriver-win64\\chromedriver.exe might not be compatible with the detected chrome version (139.0.7258.155); currently, chromedriver 139.0.7258.154 is recommended for chrome 139.*, so it is advised to delete the driver in PATH and retry\n"
     ]
    },
    {
     "name": "stdout",
     "output_type": "stream",
     "text": [
      "Data-related classes: ['s-post-summary', 'js-post-summary', 's-post-summary--stats', 'js-post-summary-stats', 's-post-summary--stats-item__emphasized', 's-post-summary--content', 's-post-summary--content-title', 's-post-summary--content-excerpt', 's-post-summary--meta', 's-post-summary--meta-tags', 'd-inline-block', 'tags', 'js-tags', 'ml0', 'list-ls-none', 'js-post-tag-list-wrapper', 's-user-card', 's-user-card__minimal', 's-avatar', 's-avatar__16', 's-user-card--avatar', 'gravatar-wrapper-16', 's-avatar--image', 's-user-card--info', 's-user-card--link', 's-user-card--awards', 's-user-card--rep', 'todo-no-class-here', 's-user-card--time', 'relativetime']\n"
     ]
    },
    {
     "name": "stderr",
     "output_type": "stream",
     "text": [
      "The chromedriver version (138.0.7204.183) detected in PATH at C:\\chromedriver-win64\\chromedriver.exe might not be compatible with the detected chrome version (139.0.7258.155); currently, chromedriver 139.0.7258.154 is recommended for chrome 139.*, so it is advised to delete the driver in PATH and retry\n"
     ]
    },
    {
     "name": "stdout",
     "output_type": "stream",
     "text": [
      "Data-related classes: ['s-post-summary', 'js-post-summary', 's-post-summary--stats', 'js-post-summary-stats', 's-post-summary--stats-item__emphasized', 's-post-summary--content', 's-post-summary--content-title', 's-post-summary--content-excerpt', 's-post-summary--meta', 's-post-summary--meta-tags', 'd-inline-block', 'tags', 'js-tags', 'ml0', 'list-ls-none', 'js-post-tag-list-wrapper', 's-user-card', 's-user-card__minimal', 's-avatar', 's-avatar__16', 's-user-card--avatar', 'gravatar-wrapper-16', 's-avatar--image', 's-user-card--info', 's-user-card--link', 's-user-card--awards', 's-user-card--rep', 'todo-no-class-here', 's-user-card--time', 'relativetime']\n"
     ]
    },
    {
     "name": "stderr",
     "output_type": "stream",
     "text": [
      "The chromedriver version (138.0.7204.183) detected in PATH at C:\\chromedriver-win64\\chromedriver.exe might not be compatible with the detected chrome version (139.0.7258.155); currently, chromedriver 139.0.7258.154 is recommended for chrome 139.*, so it is advised to delete the driver in PATH and retry\n",
      "The chromedriver version (138.0.7204.183) detected in PATH at C:\\chromedriver-win64\\chromedriver.exe might not be compatible with the detected chrome version (139.0.7258.155); currently, chromedriver 139.0.7258.154 is recommended for chrome 139.*, so it is advised to delete the driver in PATH and retry\n"
     ]
    },
    {
     "name": "stdout",
     "output_type": "stream",
     "text": [
      "Data-related classes: ['s-post-summary', 'js-post-summary', 's-post-summary--stats', 'js-post-summary-stats', 's-post-summary--stats-item__emphasized', 's-post-summary--content', 's-post-summary--content-title', 's-post-summary--content-excerpt', 's-post-summary--meta', 's-post-summary--meta-tags', 'd-inline-block', 'tags', 'js-tags', 'ml0', 'list-ls-none', 'js-post-tag-list-wrapper', 's-user-card', 's-user-card__minimal', 's-avatar', 's-avatar__16', 's-user-card--avatar', 'gravatar-wrapper-16', 's-avatar--image', 's-user-card--info', 's-user-card--link', 's-user-card--time', 'relativetime']\n"
     ]
    },
    {
     "name": "stderr",
     "output_type": "stream",
     "text": [
      "The chromedriver version (138.0.7204.183) detected in PATH at C:\\chromedriver-win64\\chromedriver.exe might not be compatible with the detected chrome version (139.0.7258.155); currently, chromedriver 139.0.7258.154 is recommended for chrome 139.*, so it is advised to delete the driver in PATH and retry\n"
     ]
    },
    {
     "name": "stdout",
     "output_type": "stream",
     "text": [
      "Data-related classes: ['s-post-summary', 'js-post-summary', 's-post-summary--stats', 'js-post-summary-stats', 's-post-summary--stats-item__emphasized', 's-post-summary--content', 's-post-summary--content-title', 's-post-summary--content-excerpt', 's-post-summary--meta', 's-post-summary--meta-tags', 'd-inline-block', 'tags', 'js-tags', 'ml0', 'list-ls-none', 'js-post-tag-list-wrapper', 's-user-card', 's-user-card__minimal', 's-avatar', 's-avatar__16', 's-user-card--avatar', 'gravatar-wrapper-16', 's-avatar--image', 's-user-card--info', 's-user-card--link', 's-user-card--time', 'relativetime']\n"
     ]
    },
    {
     "name": "stderr",
     "output_type": "stream",
     "text": [
      "The chromedriver version (138.0.7204.183) detected in PATH at C:\\chromedriver-win64\\chromedriver.exe might not be compatible with the detected chrome version (139.0.7258.155); currently, chromedriver 139.0.7258.154 is recommended for chrome 139.*, so it is advised to delete the driver in PATH and retry\n"
     ]
    },
    {
     "name": "stdout",
     "output_type": "stream",
     "text": [
      "Data-related classes: ['s-post-summary', 'js-post-summary', 's-post-summary--stats', 'js-post-summary-stats', 's-post-summary--stats-item__emphasized', 's-post-summary--content', 's-post-summary--content-title', 's-post-summary--content-excerpt', 's-post-summary--meta', 's-post-summary--meta-tags', 'd-inline-block', 'tags', 'js-tags', 'ml0', 'list-ls-none', 'js-post-tag-list-wrapper', 's-user-card', 's-user-card__minimal', 's-avatar', 's-avatar__16', 's-user-card--avatar', 'gravatar-wrapper-16', 's-avatar--image', 's-user-card--info', 's-user-card--link', 's-user-card--time', 'relativetime']\n"
     ]
    },
    {
     "name": "stderr",
     "output_type": "stream",
     "text": [
      "The chromedriver version (138.0.7204.183) detected in PATH at C:\\chromedriver-win64\\chromedriver.exe might not be compatible with the detected chrome version (139.0.7258.155); currently, chromedriver 139.0.7258.154 is recommended for chrome 139.*, so it is advised to delete the driver in PATH and retry\n",
      "The chromedriver version (138.0.7204.183) detected in PATH at C:\\chromedriver-win64\\chromedriver.exe might not be compatible with the detected chrome version (139.0.7258.155); currently, chromedriver 139.0.7258.154 is recommended for chrome 139.*, so it is advised to delete the driver in PATH and retry\n"
     ]
    },
    {
     "name": "stdout",
     "output_type": "stream",
     "text": [
      "Data-related classes: ['s-post-summary', 'js-post-summary', 's-post-summary--stats', 'js-post-summary-stats', 's-post-summary--stats-item__emphasized', 's-post-summary--content', 's-post-summary--content-title', 's-post-summary--content-excerpt', 's-post-summary--meta', 's-post-summary--meta-tags', 'd-inline-block', 'tags', 'js-tags', 'ml0', 'list-ls-none', 'js-post-tag-list-wrapper', 's-user-card', 's-user-card__minimal', 's-avatar', 's-avatar__16', 's-user-card--avatar', 'gravatar-wrapper-16', 's-avatar--image', 's-user-card--info', 's-user-card--link', 's-user-card--time', 'relativetime']\n"
     ]
    },
    {
     "name": "stderr",
     "output_type": "stream",
     "text": [
      "The chromedriver version (138.0.7204.183) detected in PATH at C:\\chromedriver-win64\\chromedriver.exe might not be compatible with the detected chrome version (139.0.7258.155); currently, chromedriver 139.0.7258.154 is recommended for chrome 139.*, so it is advised to delete the driver in PATH and retry\n"
     ]
    },
    {
     "name": "stdout",
     "output_type": "stream",
     "text": [
      "Data-related classes: ['s-post-summary', 'js-post-summary', 's-post-summary--stats', 'js-post-summary-stats', 's-post-summary--stats-item__emphasized', 's-post-summary--content', 's-post-summary--content-title', 's-post-summary--content-excerpt', 's-post-summary--meta', 's-post-summary--meta-tags', 'd-inline-block', 'tags', 'js-tags', 'ml0', 'list-ls-none', 'js-post-tag-list-wrapper', 's-user-card', 's-user-card__minimal', 's-avatar', 's-avatar__16', 's-user-card--avatar', 'gravatar-wrapper-16', 's-avatar--image', 's-user-card--info', 's-user-card--link', 's-user-card--time', 'relativetime']\n"
     ]
    },
    {
     "name": "stderr",
     "output_type": "stream",
     "text": [
      "The chromedriver version (138.0.7204.183) detected in PATH at C:\\chromedriver-win64\\chromedriver.exe might not be compatible with the detected chrome version (139.0.7258.155); currently, chromedriver 139.0.7258.154 is recommended for chrome 139.*, so it is advised to delete the driver in PATH and retry\n"
     ]
    },
    {
     "name": "stdout",
     "output_type": "stream",
     "text": [
      "Data-related classes: ['s-post-summary', 'js-post-summary', 's-post-summary--stats', 'js-post-summary-stats', 's-post-summary--stats-item__emphasized', 's-post-summary--content', 's-post-summary--content-title', 's-post-summary--content-excerpt', 's-post-summary--meta', 's-post-summary--meta-tags', 'd-inline-block', 'tags', 'js-tags', 'ml0', 'list-ls-none', 'js-post-tag-list-wrapper', 's-user-card', 's-user-card__minimal', 's-avatar', 's-avatar__16', 's-user-card--avatar', 'gravatar-wrapper-16', 's-avatar--image', 's-user-card--info', 's-user-card--link', 's-user-card--time', 'relativetime']\n"
     ]
    },
    {
     "name": "stderr",
     "output_type": "stream",
     "text": [
      "The chromedriver version (138.0.7204.183) detected in PATH at C:\\chromedriver-win64\\chromedriver.exe might not be compatible with the detected chrome version (139.0.7258.155); currently, chromedriver 139.0.7258.154 is recommended for chrome 139.*, so it is advised to delete the driver in PATH and retry\n",
      "The chromedriver version (138.0.7204.183) detected in PATH at C:\\chromedriver-win64\\chromedriver.exe might not be compatible with the detected chrome version (139.0.7258.155); currently, chromedriver 139.0.7258.154 is recommended for chrome 139.*, so it is advised to delete the driver in PATH and retry\n"
     ]
    },
    {
     "name": "stdout",
     "output_type": "stream",
     "text": [
      "Data-related classes: ['s-post-summary', 'js-post-summary', 's-post-summary--stats', 'js-post-summary-stats', 's-post-summary--stats-item__emphasized', 's-post-summary--content', 's-post-summary--content-title', 's-post-summary--content-excerpt', 's-post-summary--meta', 's-post-summary--meta-tags', 'd-inline-block', 'tags', 'js-tags', 'ml0', 'list-ls-none', 'js-post-tag-list-wrapper', 's-user-card', 's-user-card__minimal', 's-avatar', 's-avatar__16', 's-user-card--avatar', 'gravatar-wrapper-16', 's-avatar--image', 's-user-card--info', 's-user-card--link', 's-user-card--time', 'relativetime']\n"
     ]
    },
    {
     "name": "stderr",
     "output_type": "stream",
     "text": [
      "The chromedriver version (138.0.7204.183) detected in PATH at C:\\chromedriver-win64\\chromedriver.exe might not be compatible with the detected chrome version (139.0.7258.155); currently, chromedriver 139.0.7258.154 is recommended for chrome 139.*, so it is advised to delete the driver in PATH and retry\n"
     ]
    },
    {
     "name": "stdout",
     "output_type": "stream",
     "text": [
      "Data-related classes: ['s-post-summary', 'js-post-summary', 's-post-summary--stats', 'js-post-summary-stats', 's-post-summary--stats-item__emphasized', 's-post-summary--content', 's-post-summary--content-title', 's-post-summary--content-excerpt', 's-post-summary--meta', 's-post-summary--meta-tags', 'd-inline-block', 'tags', 'js-tags', 'ml0', 'list-ls-none', 'js-post-tag-list-wrapper', 's-user-card', 's-user-card__minimal', 's-avatar', 's-avatar__16', 's-user-card--avatar', 'gravatar-wrapper-16', 's-avatar--image', 's-user-card--info', 's-user-card--link', 's-user-card--time', 'relativetime']\n"
     ]
    },
    {
     "name": "stderr",
     "output_type": "stream",
     "text": [
      "The chromedriver version (138.0.7204.183) detected in PATH at C:\\chromedriver-win64\\chromedriver.exe might not be compatible with the detected chrome version (139.0.7258.155); currently, chromedriver 139.0.7258.154 is recommended for chrome 139.*, so it is advised to delete the driver in PATH and retry\n"
     ]
    },
    {
     "name": "stdout",
     "output_type": "stream",
     "text": [
      "Data-related classes: ['s-post-summary', 'js-post-summary', 's-post-summary--stats', 'js-post-summary-stats', 's-post-summary--stats-item__emphasized', 's-post-summary--content', 's-post-summary--content-title', 's-post-summary--content-excerpt', 's-post-summary--meta', 's-post-summary--meta-tags', 'd-inline-block', 'tags', 'js-tags', 'ml0', 'list-ls-none', 'js-post-tag-list-wrapper', 's-user-card', 's-user-card__minimal', 's-avatar', 's-avatar__16', 's-user-card--avatar', 'gravatar-wrapper-16', 's-avatar--image', 's-user-card--info', 's-user-card--link', 's-user-card--awards', 's-user-card--rep', 'todo-no-class-here', 's-user-card--time', 'relativetime']\n"
     ]
    },
    {
     "name": "stderr",
     "output_type": "stream",
     "text": [
      "The chromedriver version (138.0.7204.183) detected in PATH at C:\\chromedriver-win64\\chromedriver.exe might not be compatible with the detected chrome version (139.0.7258.155); currently, chromedriver 139.0.7258.154 is recommended for chrome 139.*, so it is advised to delete the driver in PATH and retry\n",
      "The chromedriver version (138.0.7204.183) detected in PATH at C:\\chromedriver-win64\\chromedriver.exe might not be compatible with the detected chrome version (139.0.7258.155); currently, chromedriver 139.0.7258.154 is recommended for chrome 139.*, so it is advised to delete the driver in PATH and retry\n"
     ]
    },
    {
     "name": "stdout",
     "output_type": "stream",
     "text": [
      "Data-related classes: ['s-post-summary', 'js-post-summary', 's-post-summary--stats', 'js-post-summary-stats', 's-post-summary--stats-item__emphasized', 's-post-summary--content', 's-post-summary--content-title', 's-post-summary--content-excerpt', 's-post-summary--meta', 's-post-summary--meta-tags', 'd-inline-block', 'tags', 'js-tags', 'ml0', 'list-ls-none', 'js-post-tag-list-wrapper', 's-user-card', 's-user-card__minimal', 's-avatar', 's-avatar__16', 's-user-card--avatar', 'gravatar-wrapper-16', 's-avatar--image', 's-user-card--info', 's-user-card--link', 's-user-card--time', 'relativetime']\n"
     ]
    },
    {
     "name": "stderr",
     "output_type": "stream",
     "text": [
      "The chromedriver version (138.0.7204.183) detected in PATH at C:\\chromedriver-win64\\chromedriver.exe might not be compatible with the detected chrome version (139.0.7258.155); currently, chromedriver 139.0.7258.154 is recommended for chrome 139.*, so it is advised to delete the driver in PATH and retry\n"
     ]
    },
    {
     "name": "stdout",
     "output_type": "stream",
     "text": [
      "Data-related classes: ['s-post-summary', 'js-post-summary', 's-post-summary--stats', 'js-post-summary-stats', 's-post-summary--stats-item__emphasized', 's-post-summary--content', 's-post-summary--content-title', 's-post-summary--content-excerpt', 's-post-summary--meta', 's-post-summary--meta-tags', 'd-inline-block', 'tags', 'js-tags', 'ml0', 'list-ls-none', 'js-post-tag-list-wrapper', 's-user-card', 's-user-card__minimal', 's-avatar', 's-avatar__16', 's-user-card--avatar', 'gravatar-wrapper-16', 's-avatar--image', 's-user-card--info', 's-user-card--link', 's-user-card--awards', 's-user-card--rep', 'todo-no-class-here', 's-user-card--time', 'relativetime']\n"
     ]
    },
    {
     "name": "stderr",
     "output_type": "stream",
     "text": [
      "The chromedriver version (138.0.7204.183) detected in PATH at C:\\chromedriver-win64\\chromedriver.exe might not be compatible with the detected chrome version (139.0.7258.155); currently, chromedriver 139.0.7258.154 is recommended for chrome 139.*, so it is advised to delete the driver in PATH and retry\n",
      "The chromedriver version (138.0.7204.183) detected in PATH at C:\\chromedriver-win64\\chromedriver.exe might not be compatible with the detected chrome version (139.0.7258.155); currently, chromedriver 139.0.7258.154 is recommended for chrome 139.*, so it is advised to delete the driver in PATH and retry\n"
     ]
    },
    {
     "name": "stdout",
     "output_type": "stream",
     "text": [
      "Data-related classes: ['s-post-summary', 'js-post-summary', 's-post-summary--stats', 'js-post-summary-stats', 's-post-summary--stats-item__emphasized', 's-post-summary--content', 's-post-summary--content-title', 's-post-summary--content-excerpt', 's-post-summary--meta', 's-post-summary--meta-tags', 'd-inline-block', 'tags', 'js-tags', 'ml0', 'list-ls-none', 'js-post-tag-list-wrapper', 's-user-card', 's-user-card__minimal', 's-avatar', 's-avatar__16', 's-user-card--avatar', 'gravatar-wrapper-16', 's-avatar--image', 's-user-card--info', 's-user-card--link', 's-user-card--time', 'relativetime']\n"
     ]
    },
    {
     "name": "stderr",
     "output_type": "stream",
     "text": [
      "The chromedriver version (138.0.7204.183) detected in PATH at C:\\chromedriver-win64\\chromedriver.exe might not be compatible with the detected chrome version (139.0.7258.155); currently, chromedriver 139.0.7258.154 is recommended for chrome 139.*, so it is advised to delete the driver in PATH and retry\n"
     ]
    },
    {
     "name": "stdout",
     "output_type": "stream",
     "text": [
      "Data-related classes: ['s-post-summary', 'js-post-summary', 's-post-summary--stats', 'js-post-summary-stats', 's-post-summary--stats-item__emphasized', 's-post-summary--content', 's-post-summary--content-title', 's-post-summary--content-excerpt', 's-post-summary--meta', 's-post-summary--meta-tags', 'd-inline-block', 'tags', 'js-tags', 'ml0', 'list-ls-none', 'js-post-tag-list-wrapper', 's-user-card', 's-user-card__minimal', 's-avatar', 's-avatar__16', 's-user-card--avatar', 'gravatar-wrapper-16', 's-avatar--image', 's-user-card--info', 's-user-card--link', 's-user-card--time', 'relativetime']\n"
     ]
    },
    {
     "name": "stderr",
     "output_type": "stream",
     "text": [
      "The chromedriver version (138.0.7204.183) detected in PATH at C:\\chromedriver-win64\\chromedriver.exe might not be compatible with the detected chrome version (139.0.7258.155); currently, chromedriver 139.0.7258.154 is recommended for chrome 139.*, so it is advised to delete the driver in PATH and retry\n"
     ]
    },
    {
     "name": "stdout",
     "output_type": "stream",
     "text": [
      "Data-related classes: ['s-post-summary', 'js-post-summary', 's-post-summary--stats', 'js-post-summary-stats', 's-post-summary--stats-item__emphasized', 's-post-summary--content', 's-post-summary--content-title', 's-post-summary--content-excerpt', 's-post-summary--meta', 's-post-summary--meta-tags', 'd-inline-block', 'tags', 'js-tags', 'ml0', 'list-ls-none', 'js-post-tag-list-wrapper', 's-user-card', 's-user-card__minimal', 's-avatar', 's-avatar__16', 's-user-card--avatar', 'gravatar-wrapper-16', 's-avatar--image', 's-user-card--info', 's-user-card--link', 's-user-card--time', 'relativetime']\n"
     ]
    },
    {
     "name": "stderr",
     "output_type": "stream",
     "text": [
      "The chromedriver version (138.0.7204.183) detected in PATH at C:\\chromedriver-win64\\chromedriver.exe might not be compatible with the detected chrome version (139.0.7258.155); currently, chromedriver 139.0.7258.154 is recommended for chrome 139.*, so it is advised to delete the driver in PATH and retry\n",
      "The chromedriver version (138.0.7204.183) detected in PATH at C:\\chromedriver-win64\\chromedriver.exe might not be compatible with the detected chrome version (139.0.7258.155); currently, chromedriver 139.0.7258.154 is recommended for chrome 139.*, so it is advised to delete the driver in PATH and retry\n"
     ]
    },
    {
     "name": "stdout",
     "output_type": "stream",
     "text": [
      "Data-related classes: ['s-post-summary', 'js-post-summary', 's-post-summary--stats', 'js-post-summary-stats', 's-post-summary--stats-item__emphasized', 's-post-summary--content', 's-post-summary--content-title', 's-post-summary--content-excerpt', 's-post-summary--meta', 's-post-summary--meta-tags', 'd-inline-block', 'tags', 'js-tags', 'ml0', 'list-ls-none', 'js-post-tag-list-wrapper', 's-user-card', 's-user-card__minimal', 's-avatar', 's-avatar__16', 's-user-card--avatar', 'gravatar-wrapper-16', 's-avatar--image', 's-user-card--info', 's-user-card--link', 's-user-card--time', 'relativetime']\n"
     ]
    },
    {
     "name": "stderr",
     "output_type": "stream",
     "text": [
      "The chromedriver version (138.0.7204.183) detected in PATH at C:\\chromedriver-win64\\chromedriver.exe might not be compatible with the detected chrome version (139.0.7258.155); currently, chromedriver 139.0.7258.154 is recommended for chrome 139.*, so it is advised to delete the driver in PATH and retry\n"
     ]
    },
    {
     "name": "stdout",
     "output_type": "stream",
     "text": [
      "Data-related classes: ['s-post-summary', 'js-post-summary', 's-post-summary--stats', 'js-post-summary-stats', 's-post-summary--stats-item__emphasized', 's-post-summary--content', 's-post-summary--content-title', 's-post-summary--content-excerpt', 's-post-summary--meta', 's-post-summary--meta-tags', 'd-inline-block', 'tags', 'js-tags', 'ml0', 'list-ls-none', 'js-post-tag-list-wrapper', 's-user-card', 's-user-card__minimal', 's-avatar', 's-avatar__16', 's-user-card--avatar', 'gravatar-wrapper-16', 's-avatar--image', 's-user-card--info', 's-user-card--link', 's-user-card--time', 'relativetime']\n"
     ]
    },
    {
     "name": "stderr",
     "output_type": "stream",
     "text": [
      "The chromedriver version (138.0.7204.183) detected in PATH at C:\\chromedriver-win64\\chromedriver.exe might not be compatible with the detected chrome version (139.0.7258.155); currently, chromedriver 139.0.7258.154 is recommended for chrome 139.*, so it is advised to delete the driver in PATH and retry\n"
     ]
    },
    {
     "name": "stdout",
     "output_type": "stream",
     "text": [
      "Data-related classes: ['s-post-summary', 'js-post-summary', 's-post-summary--stats', 'js-post-summary-stats', 's-post-summary--stats-item__emphasized', 's-post-summary--content', 's-post-summary--content-title', 's-post-summary--content-excerpt', 's-post-summary--meta', 's-post-summary--meta-tags', 'd-inline-block', 'tags', 'js-tags', 'ml0', 'list-ls-none', 'js-post-tag-list-wrapper', 's-user-card', 's-user-card__minimal', 's-avatar', 's-avatar__16', 's-user-card--avatar', 'gravatar-wrapper-16', 's-avatar--image', 's-user-card--info', 's-user-card--link', 's-user-card--time', 'relativetime']\n"
     ]
    },
    {
     "name": "stderr",
     "output_type": "stream",
     "text": [
      "The chromedriver version (138.0.7204.183) detected in PATH at C:\\chromedriver-win64\\chromedriver.exe might not be compatible with the detected chrome version (139.0.7258.155); currently, chromedriver 139.0.7258.154 is recommended for chrome 139.*, so it is advised to delete the driver in PATH and retry\n",
      "The chromedriver version (138.0.7204.183) detected in PATH at C:\\chromedriver-win64\\chromedriver.exe might not be compatible with the detected chrome version (139.0.7258.155); currently, chromedriver 139.0.7258.154 is recommended for chrome 139.*, so it is advised to delete the driver in PATH and retry\n"
     ]
    },
    {
     "name": "stdout",
     "output_type": "stream",
     "text": [
      "Data-related classes: ['s-post-summary', 'js-post-summary', 's-post-summary--stats', 'js-post-summary-stats', 's-post-summary--stats-item__emphasized', 's-post-summary--content', 's-post-summary--content-title', 's-post-summary--content-excerpt', 's-post-summary--meta', 's-post-summary--meta-tags', 'd-inline-block', 'tags', 'js-tags', 'ml0', 'list-ls-none', 'js-post-tag-list-wrapper', 's-user-card', 's-user-card__minimal', 's-avatar', 's-avatar__16', 's-user-card--avatar', 'gravatar-wrapper-16', 's-avatar--image', 's-user-card--info', 's-user-card--link', 's-user-card--time', 'relativetime']\n"
     ]
    },
    {
     "name": "stderr",
     "output_type": "stream",
     "text": [
      "The chromedriver version (138.0.7204.183) detected in PATH at C:\\chromedriver-win64\\chromedriver.exe might not be compatible with the detected chrome version (139.0.7258.155); currently, chromedriver 139.0.7258.154 is recommended for chrome 139.*, so it is advised to delete the driver in PATH and retry\n"
     ]
    },
    {
     "name": "stdout",
     "output_type": "stream",
     "text": [
      "Data-related classes: ['s-post-summary', 'js-post-summary', 's-post-summary--stats', 'js-post-summary-stats', 's-post-summary--stats-item__emphasized', 's-post-summary--content', 's-post-summary--content-title', 's-post-summary--content-excerpt', 's-post-summary--meta', 's-post-summary--meta-tags', 'd-inline-block', 'tags', 'js-tags', 'ml0', 'list-ls-none', 'js-post-tag-list-wrapper', 's-user-card', 's-user-card__minimal', 's-avatar', 's-avatar__16', 's-user-card--avatar', 'gravatar-wrapper-16', 's-avatar--image', 's-user-card--info', 's-user-card--link', 's-user-card--time', 'relativetime']\n"
     ]
    },
    {
     "name": "stderr",
     "output_type": "stream",
     "text": [
      "The chromedriver version (138.0.7204.183) detected in PATH at C:\\chromedriver-win64\\chromedriver.exe might not be compatible with the detected chrome version (139.0.7258.155); currently, chromedriver 139.0.7258.154 is recommended for chrome 139.*, so it is advised to delete the driver in PATH and retry\n"
     ]
    },
    {
     "name": "stdout",
     "output_type": "stream",
     "text": [
      "Data-related classes: ['s-post-summary', 'js-post-summary', 's-post-summary--stats', 'js-post-summary-stats', 's-post-summary--stats-item__emphasized', 's-post-summary--content', 's-post-summary--content-title', 's-post-summary--content-excerpt', 's-post-summary--meta', 's-post-summary--meta-tags', 'd-inline-block', 'tags', 'js-tags', 'ml0', 'list-ls-none', 'js-post-tag-list-wrapper', 's-user-card', 's-user-card__minimal', 's-avatar', 's-avatar__16', 's-user-card--avatar', 'gravatar-wrapper-16', 's-avatar--image', 's-user-card--info', 's-user-card--link', 's-user-card--time', 'relativetime']\n"
     ]
    },
    {
     "name": "stderr",
     "output_type": "stream",
     "text": [
      "The chromedriver version (138.0.7204.183) detected in PATH at C:\\chromedriver-win64\\chromedriver.exe might not be compatible with the detected chrome version (139.0.7258.155); currently, chromedriver 139.0.7258.154 is recommended for chrome 139.*, so it is advised to delete the driver in PATH and retry\n"
     ]
    },
    {
     "name": "stdout",
     "output_type": "stream",
     "text": [
      "Data-related classes: ['s-post-summary', 'js-post-summary', 's-post-summary--stats', 'js-post-summary-stats', 's-post-summary--stats-item__emphasized', 's-post-summary--content', 's-post-summary--content-title', 's-post-summary--content-excerpt', 's-post-summary--meta', 's-post-summary--meta-tags', 'd-inline-block', 'tags', 'js-tags', 'ml0', 'list-ls-none', 'js-post-tag-list-wrapper', 's-user-card', 's-user-card__minimal', 's-avatar', 's-avatar__16', 's-user-card--avatar', 'gravatar-wrapper-16', 's-avatar--image', 's-user-card--info', 's-user-card--link', 's-user-card--time', 'relativetime']\n"
     ]
    },
    {
     "name": "stderr",
     "output_type": "stream",
     "text": [
      "The chromedriver version (138.0.7204.183) detected in PATH at C:\\chromedriver-win64\\chromedriver.exe might not be compatible with the detected chrome version (139.0.7258.155); currently, chromedriver 139.0.7258.154 is recommended for chrome 139.*, so it is advised to delete the driver in PATH and retry\n",
      "The chromedriver version (138.0.7204.183) detected in PATH at C:\\chromedriver-win64\\chromedriver.exe might not be compatible with the detected chrome version (139.0.7258.155); currently, chromedriver 139.0.7258.154 is recommended for chrome 139.*, so it is advised to delete the driver in PATH and retry\n"
     ]
    },
    {
     "name": "stdout",
     "output_type": "stream",
     "text": [
      "Data-related classes: ['s-post-summary', 'js-post-summary', 's-post-summary--stats', 'js-post-summary-stats', 's-post-summary--stats-item__emphasized', 's-post-summary--content', 's-post-summary--content-title', 's-post-summary--content-excerpt', 's-post-summary--meta', 's-post-summary--meta-tags', 'd-inline-block', 'tags', 'js-tags', 'ml0', 'list-ls-none', 'js-post-tag-list-wrapper', 's-user-card', 's-user-card__minimal', 's-avatar', 's-avatar__16', 's-user-card--avatar', 'gravatar-wrapper-16', 's-avatar--image', 's-user-card--info', 's-user-card--link', 's-user-card--time', 'relativetime']\n"
     ]
    },
    {
     "name": "stderr",
     "output_type": "stream",
     "text": [
      "The chromedriver version (138.0.7204.183) detected in PATH at C:\\chromedriver-win64\\chromedriver.exe might not be compatible with the detected chrome version (139.0.7258.155); currently, chromedriver 139.0.7258.154 is recommended for chrome 139.*, so it is advised to delete the driver in PATH and retry\n"
     ]
    },
    {
     "name": "stdout",
     "output_type": "stream",
     "text": [
      "Data-related classes: ['s-post-summary', 'js-post-summary', 's-post-summary--stats', 'js-post-summary-stats', 's-post-summary--stats-item__emphasized', 's-post-summary--content', 's-post-summary--content-title', 's-post-summary--content-excerpt', 's-post-summary--meta', 's-post-summary--meta-tags', 'd-inline-block', 'tags', 'js-tags', 'ml0', 'list-ls-none', 'js-post-tag-list-wrapper', 's-user-card', 's-user-card__minimal', 's-avatar', 's-avatar__16', 's-user-card--avatar', 'gravatar-wrapper-16', 's-avatar--image', 's-user-card--info', 's-user-card--link', 's-user-card--time', 'relativetime']\n"
     ]
    },
    {
     "name": "stderr",
     "output_type": "stream",
     "text": [
      "The chromedriver version (138.0.7204.183) detected in PATH at C:\\chromedriver-win64\\chromedriver.exe might not be compatible with the detected chrome version (139.0.7258.155); currently, chromedriver 139.0.7258.154 is recommended for chrome 139.*, so it is advised to delete the driver in PATH and retry\n"
     ]
    },
    {
     "name": "stdout",
     "output_type": "stream",
     "text": [
      "Data-related classes: ['s-post-summary', 'js-post-summary', 's-post-summary--stats', 'js-post-summary-stats', 's-post-summary--stats-item__emphasized', 's-post-summary--content', 's-post-summary--content-title', 's-post-summary--content-excerpt', 's-post-summary--meta', 's-post-summary--meta-tags', 'd-inline-block', 'tags', 'js-tags', 'ml0', 'list-ls-none', 'js-post-tag-list-wrapper', 's-user-card', 's-user-card__minimal', 's-avatar', 's-avatar__16', 's-user-card--avatar', 'gravatar-wrapper-16', 's-avatar--image', 's-user-card--info', 's-user-card--link', 's-user-card--time', 'relativetime']\n"
     ]
    },
    {
     "name": "stderr",
     "output_type": "stream",
     "text": [
      "The chromedriver version (138.0.7204.183) detected in PATH at C:\\chromedriver-win64\\chromedriver.exe might not be compatible with the detected chrome version (139.0.7258.155); currently, chromedriver 139.0.7258.154 is recommended for chrome 139.*, so it is advised to delete the driver in PATH and retry\n",
      "The chromedriver version (138.0.7204.183) detected in PATH at C:\\chromedriver-win64\\chromedriver.exe might not be compatible with the detected chrome version (139.0.7258.155); currently, chromedriver 139.0.7258.154 is recommended for chrome 139.*, so it is advised to delete the driver in PATH and retry\n"
     ]
    },
    {
     "name": "stdout",
     "output_type": "stream",
     "text": [
      "Data-related classes: ['s-post-summary', 'js-post-summary', 's-post-summary--stats', 'js-post-summary-stats', 's-post-summary--stats-item__emphasized', 's-post-summary--content', 's-post-summary--content-title', 's-post-summary--content-excerpt', 's-post-summary--meta', 's-post-summary--meta-tags', 'd-inline-block', 'tags', 'js-tags', 'ml0', 'list-ls-none', 'js-post-tag-list-wrapper', 's-user-card', 's-user-card__minimal', 's-avatar', 's-avatar__16', 's-user-card--avatar', 'gravatar-wrapper-16', 's-avatar--image', 's-user-card--info', 's-user-card--link', 's-user-card--time', 'relativetime']\n"
     ]
    },
    {
     "name": "stderr",
     "output_type": "stream",
     "text": [
      "The chromedriver version (138.0.7204.183) detected in PATH at C:\\chromedriver-win64\\chromedriver.exe might not be compatible with the detected chrome version (139.0.7258.155); currently, chromedriver 139.0.7258.154 is recommended for chrome 139.*, so it is advised to delete the driver in PATH and retry\n"
     ]
    },
    {
     "name": "stdout",
     "output_type": "stream",
     "text": [
      "Data-related classes: ['s-post-summary', 'js-post-summary', 's-post-summary--stats', 'js-post-summary-stats', 's-post-summary--stats-item__emphasized', 's-post-summary--content', 's-post-summary--content-title', 's-post-summary--content-excerpt', 's-post-summary--meta', 's-post-summary--meta-tags', 'd-inline-block', 'tags', 'js-tags', 'ml0', 'list-ls-none', 'js-post-tag-list-wrapper', 's-user-card', 's-user-card__minimal', 's-avatar', 's-avatar__16', 's-user-card--avatar', 'gravatar-wrapper-16', 's-avatar--image', 's-user-card--info', 's-user-card--link', 's-user-card--time', 'relativetime']\n"
     ]
    },
    {
     "name": "stderr",
     "output_type": "stream",
     "text": [
      "The chromedriver version (138.0.7204.183) detected in PATH at C:\\chromedriver-win64\\chromedriver.exe might not be compatible with the detected chrome version (139.0.7258.155); currently, chromedriver 139.0.7258.154 is recommended for chrome 139.*, so it is advised to delete the driver in PATH and retry\n",
      "The chromedriver version (138.0.7204.183) detected in PATH at C:\\chromedriver-win64\\chromedriver.exe might not be compatible with the detected chrome version (139.0.7258.155); currently, chromedriver 139.0.7258.154 is recommended for chrome 139.*, so it is advised to delete the driver in PATH and retry\n"
     ]
    },
    {
     "name": "stdout",
     "output_type": "stream",
     "text": [
      "Data-related classes: ['s-post-summary', 'js-post-summary', 's-post-summary--stats', 'js-post-summary-stats', 's-post-summary--stats-item__emphasized', 's-post-summary--content', 's-post-summary--content-title', 's-post-summary--content-excerpt', 's-post-summary--meta', 's-post-summary--meta-tags', 'd-inline-block', 'tags', 'js-tags', 'ml0', 'list-ls-none', 'js-post-tag-list-wrapper', 's-user-card', 's-user-card__minimal', 's-avatar', 's-avatar__16', 's-user-card--avatar', 'gravatar-wrapper-16', 's-avatar--image', 's-user-card--info', 's-user-card--link', 's-user-card--time', 'relativetime']\n"
     ]
    },
    {
     "name": "stderr",
     "output_type": "stream",
     "text": [
      "The chromedriver version (138.0.7204.183) detected in PATH at C:\\chromedriver-win64\\chromedriver.exe might not be compatible with the detected chrome version (139.0.7258.155); currently, chromedriver 139.0.7258.154 is recommended for chrome 139.*, so it is advised to delete the driver in PATH and retry\n"
     ]
    },
    {
     "name": "stdout",
     "output_type": "stream",
     "text": [
      "Data-related classes: ['s-post-summary', 'js-post-summary', 's-post-summary--stats', 'js-post-summary-stats', 's-post-summary--stats-item__emphasized', 's-post-summary--content', 's-post-summary--content-title', 's-post-summary--content-excerpt', 's-post-summary--meta', 's-post-summary--meta-tags', 'd-inline-block', 'tags', 'js-tags', 'ml0', 'list-ls-none', 'js-post-tag-list-wrapper', 's-user-card', 's-user-card__minimal', 's-avatar', 's-avatar__16', 's-user-card--avatar', 'gravatar-wrapper-16', 's-avatar--image', 's-user-card--info', 's-user-card--link', 's-user-card--time', 'relativetime']\n"
     ]
    },
    {
     "name": "stderr",
     "output_type": "stream",
     "text": [
      "The chromedriver version (138.0.7204.183) detected in PATH at C:\\chromedriver-win64\\chromedriver.exe might not be compatible with the detected chrome version (139.0.7258.155); currently, chromedriver 139.0.7258.154 is recommended for chrome 139.*, so it is advised to delete the driver in PATH and retry\n"
     ]
    },
    {
     "name": "stdout",
     "output_type": "stream",
     "text": [
      "Data-related classes: ['s-post-summary', 'js-post-summary', 's-post-summary--stats', 'js-post-summary-stats', 's-post-summary--stats-item__emphasized', 's-post-summary--content', 's-post-summary--content-title', 's-post-summary--content-excerpt', 's-post-summary--meta', 's-post-summary--meta-tags', 'd-inline-block', 'tags', 'js-tags', 'ml0', 'list-ls-none', 'js-post-tag-list-wrapper', 's-user-card', 's-user-card__minimal', 's-avatar', 's-avatar__16', 's-user-card--avatar', 'gravatar-wrapper-16', 's-avatar--image', 's-user-card--info', 's-user-card--link', 's-user-card--time', 'relativetime']\n"
     ]
    },
    {
     "name": "stderr",
     "output_type": "stream",
     "text": [
      "The chromedriver version (138.0.7204.183) detected in PATH at C:\\chromedriver-win64\\chromedriver.exe might not be compatible with the detected chrome version (139.0.7258.155); currently, chromedriver 139.0.7258.154 is recommended for chrome 139.*, so it is advised to delete the driver in PATH and retry\n",
      "The chromedriver version (138.0.7204.183) detected in PATH at C:\\chromedriver-win64\\chromedriver.exe might not be compatible with the detected chrome version (139.0.7258.155); currently, chromedriver 139.0.7258.154 is recommended for chrome 139.*, so it is advised to delete the driver in PATH and retry\n"
     ]
    },
    {
     "name": "stdout",
     "output_type": "stream",
     "text": [
      "Data-related classes: ['s-post-summary', 'js-post-summary', 's-post-summary--stats', 'js-post-summary-stats', 's-post-summary--stats-item__emphasized', 's-post-summary--content', 's-post-summary--content-title', 's-post-summary--content-excerpt', 's-post-summary--meta', 's-post-summary--meta-tags', 'd-inline-block', 'tags', 'js-tags', 'ml0', 'list-ls-none', 'js-post-tag-list-wrapper', 's-user-card', 's-user-card__minimal', 's-avatar', 's-avatar__16', 's-user-card--avatar', 'gravatar-wrapper-16', 's-avatar--image', 's-user-card--info', 's-user-card--link', 's-user-card--time', 'relativetime']\n"
     ]
    },
    {
     "name": "stderr",
     "output_type": "stream",
     "text": [
      "The chromedriver version (138.0.7204.183) detected in PATH at C:\\chromedriver-win64\\chromedriver.exe might not be compatible with the detected chrome version (139.0.7258.155); currently, chromedriver 139.0.7258.154 is recommended for chrome 139.*, so it is advised to delete the driver in PATH and retry\n"
     ]
    },
    {
     "name": "stdout",
     "output_type": "stream",
     "text": [
      "Data-related classes: ['s-post-summary', 'js-post-summary', 's-post-summary--stats', 'js-post-summary-stats', 's-post-summary--stats-item__emphasized', 's-post-summary--content', 's-post-summary--content-title', 's-post-summary--content-excerpt', 's-post-summary--meta', 's-post-summary--meta-tags', 'd-inline-block', 'tags', 'js-tags', 'ml0', 'list-ls-none', 'js-post-tag-list-wrapper', 's-user-card', 's-user-card__minimal', 's-avatar', 's-avatar__16', 's-user-card--avatar', 'gravatar-wrapper-16', 's-avatar--image', 's-user-card--info', 's-user-card--link', 's-user-card--time', 'relativetime']\n"
     ]
    },
    {
     "name": "stderr",
     "output_type": "stream",
     "text": [
      "The chromedriver version (138.0.7204.183) detected in PATH at C:\\chromedriver-win64\\chromedriver.exe might not be compatible with the detected chrome version (139.0.7258.155); currently, chromedriver 139.0.7258.154 is recommended for chrome 139.*, so it is advised to delete the driver in PATH and retry\n"
     ]
    },
    {
     "name": "stdout",
     "output_type": "stream",
     "text": [
      "Data-related classes: ['s-post-summary', 'js-post-summary', 's-post-summary--stats', 'js-post-summary-stats', 's-post-summary--stats-item__emphasized', 's-post-summary--content', 's-post-summary--content-title', 's-post-summary--content-excerpt', 's-post-summary--meta', 's-post-summary--meta-tags', 'd-inline-block', 'tags', 'js-tags', 'ml0', 'list-ls-none', 'js-post-tag-list-wrapper', 's-user-card', 's-user-card__minimal', 's-avatar', 's-avatar__16', 's-user-card--avatar', 'gravatar-wrapper-16', 's-avatar--image', 's-user-card--info', 's-user-card--link', 's-user-card--time', 'relativetime']\n"
     ]
    },
    {
     "name": "stderr",
     "output_type": "stream",
     "text": [
      "The chromedriver version (138.0.7204.183) detected in PATH at C:\\chromedriver-win64\\chromedriver.exe might not be compatible with the detected chrome version (139.0.7258.155); currently, chromedriver 139.0.7258.154 is recommended for chrome 139.*, so it is advised to delete the driver in PATH and retry\n",
      "The chromedriver version (138.0.7204.183) detected in PATH at C:\\chromedriver-win64\\chromedriver.exe might not be compatible with the detected chrome version (139.0.7258.155); currently, chromedriver 139.0.7258.154 is recommended for chrome 139.*, so it is advised to delete the driver in PATH and retry\n"
     ]
    },
    {
     "name": "stdout",
     "output_type": "stream",
     "text": [
      "Data-related classes: ['s-post-summary', 'js-post-summary', 's-post-summary--stats', 'js-post-summary-stats', 's-post-summary--stats-item__emphasized', 's-post-summary--content', 's-post-summary--content-title', 's-post-summary--content-excerpt', 's-post-summary--meta', 's-post-summary--meta-tags', 'd-inline-block', 'tags', 'js-tags', 'ml0', 'list-ls-none', 'js-post-tag-list-wrapper', 's-user-card', 's-user-card__minimal', 's-avatar', 's-avatar__16', 's-user-card--avatar', 'gravatar-wrapper-16', 's-avatar--image', 's-user-card--info', 's-user-card--link', 's-user-card--time', 'relativetime']\n"
     ]
    },
    {
     "name": "stderr",
     "output_type": "stream",
     "text": [
      "The chromedriver version (138.0.7204.183) detected in PATH at C:\\chromedriver-win64\\chromedriver.exe might not be compatible with the detected chrome version (139.0.7258.155); currently, chromedriver 139.0.7258.154 is recommended for chrome 139.*, so it is advised to delete the driver in PATH and retry\n"
     ]
    },
    {
     "name": "stdout",
     "output_type": "stream",
     "text": [
      "Data-related classes: ['s-post-summary', 'js-post-summary', 's-post-summary--stats', 'js-post-summary-stats', 's-post-summary--stats-item__emphasized', 's-post-summary--content', 's-post-summary--content-title', 's-post-summary--content-excerpt', 's-post-summary--meta', 's-post-summary--meta-tags', 'd-inline-block', 'tags', 'js-tags', 'ml0', 'list-ls-none', 'js-post-tag-list-wrapper', 's-user-card', 's-user-card__minimal', 's-avatar', 's-avatar__16', 's-user-card--avatar', 'gravatar-wrapper-16', 's-avatar--image', 's-user-card--info', 's-user-card--link', 's-user-card--time', 'relativetime']\n"
     ]
    },
    {
     "name": "stderr",
     "output_type": "stream",
     "text": [
      "The chromedriver version (138.0.7204.183) detected in PATH at C:\\chromedriver-win64\\chromedriver.exe might not be compatible with the detected chrome version (139.0.7258.155); currently, chromedriver 139.0.7258.154 is recommended for chrome 139.*, so it is advised to delete the driver in PATH and retry\n"
     ]
    },
    {
     "name": "stdout",
     "output_type": "stream",
     "text": [
      "Data-related classes: ['s-post-summary', 'js-post-summary', 's-post-summary--stats', 'js-post-summary-stats', 's-post-summary--stats-item__emphasized', 's-post-summary--content', 's-post-summary--content-title', 's-post-summary--content-excerpt', 's-post-summary--meta', 's-post-summary--meta-tags', 'd-inline-block', 'tags', 'js-tags', 'ml0', 'list-ls-none', 'js-post-tag-list-wrapper', 's-user-card', 's-user-card__minimal', 's-avatar', 's-avatar__16', 's-user-card--avatar', 'gravatar-wrapper-16', 's-avatar--image', 's-user-card--info', 's-user-card--link', 's-user-card--time', 'relativetime']\n"
     ]
    },
    {
     "name": "stderr",
     "output_type": "stream",
     "text": [
      "The chromedriver version (138.0.7204.183) detected in PATH at C:\\chromedriver-win64\\chromedriver.exe might not be compatible with the detected chrome version (139.0.7258.155); currently, chromedriver 139.0.7258.154 is recommended for chrome 139.*, so it is advised to delete the driver in PATH and retry\n",
      "The chromedriver version (138.0.7204.183) detected in PATH at C:\\chromedriver-win64\\chromedriver.exe might not be compatible with the detected chrome version (139.0.7258.155); currently, chromedriver 139.0.7258.154 is recommended for chrome 139.*, so it is advised to delete the driver in PATH and retry\n"
     ]
    },
    {
     "name": "stdout",
     "output_type": "stream",
     "text": [
      "Data-related classes: ['s-post-summary', 'js-post-summary', 's-post-summary--stats', 'js-post-summary-stats', 's-post-summary--stats-item__emphasized', 's-post-summary--content', 's-post-summary--content-title', 's-post-summary--content-excerpt', 's-post-summary--meta', 's-post-summary--meta-tags', 'd-inline-block', 'tags', 'js-tags', 'ml0', 'list-ls-none', 'js-post-tag-list-wrapper', 's-user-card', 's-user-card__minimal', 's-avatar', 's-avatar__16', 's-user-card--avatar', 'gravatar-wrapper-16', 's-avatar--image', 's-user-card--info', 's-user-card--link', 's-user-card--time', 'relativetime']\n"
     ]
    },
    {
     "name": "stderr",
     "output_type": "stream",
     "text": [
      "The chromedriver version (138.0.7204.183) detected in PATH at C:\\chromedriver-win64\\chromedriver.exe might not be compatible with the detected chrome version (139.0.7258.155); currently, chromedriver 139.0.7258.154 is recommended for chrome 139.*, so it is advised to delete the driver in PATH and retry\n"
     ]
    },
    {
     "name": "stdout",
     "output_type": "stream",
     "text": [
      "Data-related classes: ['s-post-summary', 'js-post-summary', 's-post-summary--stats', 'js-post-summary-stats', 's-post-summary--stats-item__emphasized', 's-post-summary--content', 's-post-summary--content-title', 's-post-summary--content-excerpt', 's-post-summary--meta', 's-post-summary--meta-tags', 'd-inline-block', 'tags', 'js-tags', 'ml0', 'list-ls-none', 'js-post-tag-list-wrapper', 's-user-card', 's-user-card__minimal', 's-avatar', 's-avatar__16', 's-user-card--avatar', 'gravatar-wrapper-16', 's-avatar--image', 's-user-card--info', 's-user-card--link', 's-user-card--time', 'relativetime']\n"
     ]
    },
    {
     "name": "stderr",
     "output_type": "stream",
     "text": [
      "The chromedriver version (138.0.7204.183) detected in PATH at C:\\chromedriver-win64\\chromedriver.exe might not be compatible with the detected chrome version (139.0.7258.155); currently, chromedriver 139.0.7258.154 is recommended for chrome 139.*, so it is advised to delete the driver in PATH and retry\n"
     ]
    },
    {
     "name": "stdout",
     "output_type": "stream",
     "text": [
      "Data-related classes: ['s-post-summary', 'js-post-summary', 's-post-summary--stats', 'js-post-summary-stats', 's-post-summary--stats-item__emphasized', 's-post-summary--content', 's-post-summary--content-title', 's-post-summary--content-excerpt', 's-post-summary--meta', 's-post-summary--meta-tags', 'd-inline-block', 'tags', 'js-tags', 'ml0', 'list-ls-none', 'js-post-tag-list-wrapper', 's-user-card', 's-user-card__minimal', 's-avatar', 's-avatar__16', 's-user-card--avatar', 'gravatar-wrapper-16', 's-avatar--image', 's-user-card--info', 's-user-card--link', 's-user-card--time', 'relativetime']\n"
     ]
    },
    {
     "name": "stderr",
     "output_type": "stream",
     "text": [
      "The chromedriver version (138.0.7204.183) detected in PATH at C:\\chromedriver-win64\\chromedriver.exe might not be compatible with the detected chrome version (139.0.7258.155); currently, chromedriver 139.0.7258.154 is recommended for chrome 139.*, so it is advised to delete the driver in PATH and retry\n",
      "The chromedriver version (138.0.7204.183) detected in PATH at C:\\chromedriver-win64\\chromedriver.exe might not be compatible with the detected chrome version (139.0.7258.155); currently, chromedriver 139.0.7258.154 is recommended for chrome 139.*, so it is advised to delete the driver in PATH and retry\n"
     ]
    },
    {
     "name": "stdout",
     "output_type": "stream",
     "text": [
      "Data-related classes: ['s-post-summary', 'js-post-summary', 's-post-summary--stats', 'js-post-summary-stats', 's-post-summary--stats-item__emphasized', 's-post-summary--content', 's-post-summary--content-title', 's-post-summary--content-excerpt', 's-post-summary--meta', 's-post-summary--meta-tags', 'd-inline-block', 'tags', 'js-tags', 'ml0', 'list-ls-none', 'js-post-tag-list-wrapper', 's-user-card', 's-user-card__minimal', 's-avatar', 's-avatar__16', 's-user-card--avatar', 'gravatar-wrapper-16', 's-avatar--image', 's-user-card--info', 's-user-card--link', 's-user-card--time', 'relativetime']\n"
     ]
    },
    {
     "name": "stderr",
     "output_type": "stream",
     "text": [
      "The chromedriver version (138.0.7204.183) detected in PATH at C:\\chromedriver-win64\\chromedriver.exe might not be compatible with the detected chrome version (139.0.7258.155); currently, chromedriver 139.0.7258.154 is recommended for chrome 139.*, so it is advised to delete the driver in PATH and retry\n",
      "The chromedriver version (138.0.7204.183) detected in PATH at C:\\chromedriver-win64\\chromedriver.exe might not be compatible with the detected chrome version (139.0.7258.155); currently, chromedriver 139.0.7258.154 is recommended for chrome 139.*, so it is advised to delete the driver in PATH and retry\n"
     ]
    },
    {
     "name": "stdout",
     "output_type": "stream",
     "text": [
      "Data-related classes: ['s-post-summary', 'js-post-summary', 's-post-summary--stats', 'js-post-summary-stats', 's-post-summary--stats-item__emphasized', 's-post-summary--content', 's-post-summary--content-title', 's-post-summary--content-excerpt', 's-post-summary--meta', 's-post-summary--meta-tags', 'd-inline-block', 'tags', 'js-tags', 'ml0', 'list-ls-none', 'js-post-tag-list-wrapper', 's-user-card', 's-user-card__minimal', 's-avatar', 's-avatar__16', 's-user-card--avatar', 'gravatar-wrapper-16', 's-avatar--image', 's-user-card--info', 's-user-card--link', 's-user-card--time', 'relativetime']\n"
     ]
    },
    {
     "name": "stderr",
     "output_type": "stream",
     "text": [
      "The chromedriver version (138.0.7204.183) detected in PATH at C:\\chromedriver-win64\\chromedriver.exe might not be compatible with the detected chrome version (139.0.7258.155); currently, chromedriver 139.0.7258.154 is recommended for chrome 139.*, so it is advised to delete the driver in PATH and retry\n"
     ]
    },
    {
     "name": "stdout",
     "output_type": "stream",
     "text": [
      "Data-related classes: ['s-post-summary', 'js-post-summary', 's-post-summary--stats', 'js-post-summary-stats', 's-post-summary--stats-item__emphasized', 's-post-summary--content', 's-post-summary--content-title', 's-post-summary--content-excerpt', 's-post-summary--meta', 's-post-summary--meta-tags', 'd-inline-block', 'tags', 'js-tags', 'ml0', 'list-ls-none', 'js-post-tag-list-wrapper', 's-user-card', 's-user-card__minimal', 's-avatar', 's-avatar__16', 's-user-card--avatar', 'gravatar-wrapper-16', 's-avatar--image', 's-user-card--info', 's-user-card--link', 's-user-card--time', 'relativetime']\n"
     ]
    },
    {
     "name": "stderr",
     "output_type": "stream",
     "text": [
      "The chromedriver version (138.0.7204.183) detected in PATH at C:\\chromedriver-win64\\chromedriver.exe might not be compatible with the detected chrome version (139.0.7258.155); currently, chromedriver 139.0.7258.154 is recommended for chrome 139.*, so it is advised to delete the driver in PATH and retry\n"
     ]
    },
    {
     "name": "stdout",
     "output_type": "stream",
     "text": [
      "Data-related classes: ['s-post-summary', 'js-post-summary', 's-post-summary--stats', 'js-post-summary-stats', 's-post-summary--stats-item__emphasized', 's-post-summary--content', 's-post-summary--content-title', 's-post-summary--content-excerpt', 's-post-summary--meta', 's-post-summary--meta-tags', 'd-inline-block', 'tags', 'js-tags', 'ml0', 'list-ls-none', 'js-post-tag-list-wrapper', 's-user-card', 's-user-card__minimal', 's-avatar', 's-avatar__16', 's-user-card--avatar', 'gravatar-wrapper-16', 's-avatar--image', 's-user-card--info', 's-user-card--link', 's-user-card--time', 'relativetime']\n"
     ]
    },
    {
     "name": "stderr",
     "output_type": "stream",
     "text": [
      "The chromedriver version (138.0.7204.183) detected in PATH at C:\\chromedriver-win64\\chromedriver.exe might not be compatible with the detected chrome version (139.0.7258.155); currently, chromedriver 139.0.7258.154 is recommended for chrome 139.*, so it is advised to delete the driver in PATH and retry\n"
     ]
    },
    {
     "name": "stdout",
     "output_type": "stream",
     "text": [
      "Data-related classes: ['s-post-summary', 'js-post-summary', 's-post-summary--stats', 'js-post-summary-stats', 's-post-summary--stats-item__emphasized', 's-post-summary--content', 's-post-summary--content-title', 's-post-summary--content-excerpt', 's-post-summary--meta', 's-post-summary--meta-tags', 'd-inline-block', 'tags', 'js-tags', 'ml0', 'list-ls-none', 'js-post-tag-list-wrapper', 's-user-card', 's-user-card__minimal', 's-avatar', 's-avatar__16', 's-user-card--avatar', 'gravatar-wrapper-16', 's-avatar--image', 's-user-card--info', 's-user-card--link', 's-user-card--time', 'relativetime']\n"
     ]
    },
    {
     "name": "stderr",
     "output_type": "stream",
     "text": [
      "The chromedriver version (138.0.7204.183) detected in PATH at C:\\chromedriver-win64\\chromedriver.exe might not be compatible with the detected chrome version (139.0.7258.155); currently, chromedriver 139.0.7258.154 is recommended for chrome 139.*, so it is advised to delete the driver in PATH and retry\n",
      "The chromedriver version (138.0.7204.183) detected in PATH at C:\\chromedriver-win64\\chromedriver.exe might not be compatible with the detected chrome version (139.0.7258.155); currently, chromedriver 139.0.7258.154 is recommended for chrome 139.*, so it is advised to delete the driver in PATH and retry\n"
     ]
    },
    {
     "name": "stdout",
     "output_type": "stream",
     "text": [
      "Data-related classes: ['s-post-summary', 'js-post-summary', 's-post-summary--stats', 'js-post-summary-stats', 's-post-summary--stats-item__emphasized', 's-post-summary--content', 's-post-summary--content-title', 's-post-summary--content-excerpt', 's-post-summary--meta', 's-post-summary--meta-tags', 'd-inline-block', 'tags', 'js-tags', 'ml0', 'list-ls-none', 'js-post-tag-list-wrapper', 's-user-card', 's-user-card__minimal', 's-avatar', 's-avatar__16', 's-user-card--avatar', 'gravatar-wrapper-16', 's-avatar--image', 's-user-card--info', 's-user-card--link', 's-user-card--time', 'relativetime']\n"
     ]
    },
    {
     "name": "stderr",
     "output_type": "stream",
     "text": [
      "The chromedriver version (138.0.7204.183) detected in PATH at C:\\chromedriver-win64\\chromedriver.exe might not be compatible with the detected chrome version (139.0.7258.155); currently, chromedriver 139.0.7258.154 is recommended for chrome 139.*, so it is advised to delete the driver in PATH and retry\n",
      "The chromedriver version (138.0.7204.183) detected in PATH at C:\\chromedriver-win64\\chromedriver.exe might not be compatible with the detected chrome version (139.0.7258.155); currently, chromedriver 139.0.7258.154 is recommended for chrome 139.*, so it is advised to delete the driver in PATH and retry\n"
     ]
    },
    {
     "name": "stdout",
     "output_type": "stream",
     "text": [
      "Data-related classes: ['s-post-summary', 'js-post-summary', 's-post-summary--stats', 'js-post-summary-stats', 's-post-summary--stats-item__emphasized', 's-post-summary--content', 's-post-summary--content-title', 's-post-summary--content-excerpt', 's-post-summary--meta', 's-post-summary--meta-tags', 'd-inline-block', 'tags', 'js-tags', 'ml0', 'list-ls-none', 'js-post-tag-list-wrapper', 's-user-card', 's-user-card__minimal', 's-avatar', 's-avatar__16', 's-user-card--avatar', 'gravatar-wrapper-16', 's-avatar--image', 's-user-card--info', 's-user-card--link', 's-user-card--time', 'relativetime']\n"
     ]
    },
    {
     "name": "stderr",
     "output_type": "stream",
     "text": [
      "The chromedriver version (138.0.7204.183) detected in PATH at C:\\chromedriver-win64\\chromedriver.exe might not be compatible with the detected chrome version (139.0.7258.155); currently, chromedriver 139.0.7258.154 is recommended for chrome 139.*, so it is advised to delete the driver in PATH and retry\n",
      "The chromedriver version (138.0.7204.183) detected in PATH at C:\\chromedriver-win64\\chromedriver.exe might not be compatible with the detected chrome version (139.0.7258.155); currently, chromedriver 139.0.7258.154 is recommended for chrome 139.*, so it is advised to delete the driver in PATH and retry\n"
     ]
    },
    {
     "name": "stdout",
     "output_type": "stream",
     "text": [
      "Data-related classes: ['s-post-summary', 'js-post-summary', 's-post-summary--stats', 'js-post-summary-stats', 's-post-summary--stats-item__emphasized', 's-post-summary--content', 's-post-summary--content-title', 's-post-summary--content-excerpt', 's-post-summary--meta', 's-post-summary--meta-tags', 'd-inline-block', 'tags', 'js-tags', 'ml0', 'list-ls-none', 'js-post-tag-list-wrapper', 's-user-card', 's-user-card__minimal', 's-avatar', 's-avatar__16', 's-user-card--avatar', 'gravatar-wrapper-16', 's-avatar--image', 's-user-card--info', 's-user-card--link', 's-user-card--time', 'relativetime']\n"
     ]
    },
    {
     "name": "stderr",
     "output_type": "stream",
     "text": [
      "The chromedriver version (138.0.7204.183) detected in PATH at C:\\chromedriver-win64\\chromedriver.exe might not be compatible with the detected chrome version (139.0.7258.155); currently, chromedriver 139.0.7258.154 is recommended for chrome 139.*, so it is advised to delete the driver in PATH and retry\n"
     ]
    },
    {
     "name": "stdout",
     "output_type": "stream",
     "text": [
      "Data-related classes: ['s-post-summary', 'js-post-summary', 's-post-summary--stats', 'js-post-summary-stats', 's-post-summary--stats-item__emphasized', 's-post-summary--content', 's-post-summary--content-title', 's-post-summary--content-excerpt', 's-post-summary--meta', 's-post-summary--meta-tags', 'd-inline-block', 'tags', 'js-tags', 'ml0', 'list-ls-none', 'js-post-tag-list-wrapper', 's-user-card', 's-user-card__minimal', 's-avatar', 's-avatar__16', 's-user-card--avatar', 'gravatar-wrapper-16', 's-avatar--image', 's-user-card--info', 's-user-card--link', 's-user-card--time', 'relativetime']\n"
     ]
    },
    {
     "name": "stderr",
     "output_type": "stream",
     "text": [
      "The chromedriver version (138.0.7204.183) detected in PATH at C:\\chromedriver-win64\\chromedriver.exe might not be compatible with the detected chrome version (139.0.7258.155); currently, chromedriver 139.0.7258.154 is recommended for chrome 139.*, so it is advised to delete the driver in PATH and retry\n"
     ]
    },
    {
     "name": "stdout",
     "output_type": "stream",
     "text": [
      "Data-related classes: ['s-post-summary', 'js-post-summary', 's-post-summary--stats', 'js-post-summary-stats', 's-post-summary--stats-item__emphasized', 's-post-summary--content', 's-post-summary--content-title', 's-post-summary--content-excerpt', 's-post-summary--meta', 's-post-summary--meta-tags', 'd-inline-block', 'tags', 'js-tags', 'ml0', 'list-ls-none', 'js-post-tag-list-wrapper', 's-user-card', 's-user-card__minimal', 's-avatar', 's-avatar__16', 's-user-card--avatar', 'gravatar-wrapper-16', 's-avatar--image', 's-user-card--info', 's-user-card--link', 's-user-card--time', 'relativetime']\n"
     ]
    },
    {
     "name": "stderr",
     "output_type": "stream",
     "text": [
      "The chromedriver version (138.0.7204.183) detected in PATH at C:\\chromedriver-win64\\chromedriver.exe might not be compatible with the detected chrome version (139.0.7258.155); currently, chromedriver 139.0.7258.154 is recommended for chrome 139.*, so it is advised to delete the driver in PATH and retry\n",
      "The chromedriver version (138.0.7204.183) detected in PATH at C:\\chromedriver-win64\\chromedriver.exe might not be compatible with the detected chrome version (139.0.7258.155); currently, chromedriver 139.0.7258.154 is recommended for chrome 139.*, so it is advised to delete the driver in PATH and retry\n"
     ]
    },
    {
     "name": "stdout",
     "output_type": "stream",
     "text": [
      "Data-related classes: ['s-post-summary', 'js-post-summary', 's-post-summary--stats', 'js-post-summary-stats', 's-post-summary--stats-item__emphasized', 's-post-summary--content', 's-post-summary--content-title', 's-post-summary--content-excerpt', 's-post-summary--meta', 's-post-summary--meta-tags', 'd-inline-block', 'tags', 'js-tags', 'ml0', 'list-ls-none', 'js-post-tag-list-wrapper', 's-user-card', 's-user-card__minimal', 's-avatar', 's-avatar__16', 's-user-card--avatar', 'gravatar-wrapper-16', 's-avatar--image', 's-user-card--info', 's-user-card--link', 's-user-card--time', 'relativetime']\n"
     ]
    },
    {
     "name": "stderr",
     "output_type": "stream",
     "text": [
      "The chromedriver version (138.0.7204.183) detected in PATH at C:\\chromedriver-win64\\chromedriver.exe might not be compatible with the detected chrome version (139.0.7258.155); currently, chromedriver 139.0.7258.154 is recommended for chrome 139.*, so it is advised to delete the driver in PATH and retry\n"
     ]
    },
    {
     "name": "stdout",
     "output_type": "stream",
     "text": [
      "Data-related classes: ['s-post-summary', 'js-post-summary', 's-post-summary--stats', 'js-post-summary-stats', 's-post-summary--stats-item__emphasized', 's-post-summary--content', 's-post-summary--content-title', 's-post-summary--content-excerpt', 's-post-summary--meta', 's-post-summary--meta-tags', 'd-inline-block', 'tags', 'js-tags', 'ml0', 'list-ls-none', 'js-post-tag-list-wrapper', 's-user-card', 's-user-card__minimal', 's-avatar', 's-avatar__16', 's-user-card--avatar', 'gravatar-wrapper-16', 's-avatar--image', 's-user-card--info', 's-user-card--link', 's-user-card--time', 'relativetime']\n"
     ]
    },
    {
     "name": "stderr",
     "output_type": "stream",
     "text": [
      "The chromedriver version (138.0.7204.183) detected in PATH at C:\\chromedriver-win64\\chromedriver.exe might not be compatible with the detected chrome version (139.0.7258.155); currently, chromedriver 139.0.7258.154 is recommended for chrome 139.*, so it is advised to delete the driver in PATH and retry\n"
     ]
    },
    {
     "name": "stdout",
     "output_type": "stream",
     "text": [
      "Data-related classes: ['s-post-summary', 'js-post-summary', 's-post-summary--stats', 'js-post-summary-stats', 's-post-summary--stats-item__emphasized', 's-post-summary--content', 's-post-summary--content-title', 's-post-summary--content-excerpt', 's-post-summary--meta', 's-post-summary--meta-tags', 'd-inline-block', 'tags', 'js-tags', 'ml0', 'list-ls-none', 'js-post-tag-list-wrapper', 's-user-card', 's-user-card__minimal', 's-avatar', 's-avatar__16', 's-user-card--avatar', 'gravatar-wrapper-16', 's-avatar--image', 's-user-card--info', 's-user-card--link', 's-user-card--time', 'relativetime']\n"
     ]
    },
    {
     "name": "stderr",
     "output_type": "stream",
     "text": [
      "The chromedriver version (138.0.7204.183) detected in PATH at C:\\chromedriver-win64\\chromedriver.exe might not be compatible with the detected chrome version (139.0.7258.155); currently, chromedriver 139.0.7258.154 is recommended for chrome 139.*, so it is advised to delete the driver in PATH and retry\n",
      "The chromedriver version (138.0.7204.183) detected in PATH at C:\\chromedriver-win64\\chromedriver.exe might not be compatible with the detected chrome version (139.0.7258.155); currently, chromedriver 139.0.7258.154 is recommended for chrome 139.*, so it is advised to delete the driver in PATH and retry\n"
     ]
    },
    {
     "name": "stdout",
     "output_type": "stream",
     "text": [
      "Data-related classes: ['s-post-summary', 'js-post-summary', 's-post-summary--stats', 'js-post-summary-stats', 's-post-summary--stats-item__emphasized', 's-post-summary--content', 's-post-summary--content-title', 's-post-summary--content-excerpt', 's-post-summary--meta', 's-post-summary--meta-tags', 'd-inline-block', 'tags', 'js-tags', 'ml0', 'list-ls-none', 'js-post-tag-list-wrapper', 's-user-card', 's-user-card__minimal', 's-avatar', 's-avatar__16', 's-user-card--avatar', 'gravatar-wrapper-16', 's-avatar--image', 's-user-card--info', 's-user-card--link', 's-user-card--time', 'relativetime']\n"
     ]
    },
    {
     "name": "stderr",
     "output_type": "stream",
     "text": [
      "The chromedriver version (138.0.7204.183) detected in PATH at C:\\chromedriver-win64\\chromedriver.exe might not be compatible with the detected chrome version (139.0.7258.155); currently, chromedriver 139.0.7258.154 is recommended for chrome 139.*, so it is advised to delete the driver in PATH and retry\n"
     ]
    },
    {
     "name": "stdout",
     "output_type": "stream",
     "text": [
      "Data-related classes: ['s-post-summary', 'js-post-summary', 's-post-summary--stats', 'js-post-summary-stats', 's-post-summary--stats-item__emphasized', 's-post-summary--content', 's-post-summary--content-title', 's-post-summary--content-excerpt', 's-post-summary--meta', 's-post-summary--meta-tags', 'd-inline-block', 'tags', 'js-tags', 'ml0', 'list-ls-none', 'js-post-tag-list-wrapper', 's-user-card', 's-user-card__minimal', 's-avatar', 's-avatar__16', 's-user-card--avatar', 'gravatar-wrapper-16', 's-avatar--image', 's-user-card--info', 's-user-card--link', 's-user-card--time', 'relativetime']\n"
     ]
    },
    {
     "name": "stderr",
     "output_type": "stream",
     "text": [
      "The chromedriver version (138.0.7204.183) detected in PATH at C:\\chromedriver-win64\\chromedriver.exe might not be compatible with the detected chrome version (139.0.7258.155); currently, chromedriver 139.0.7258.154 is recommended for chrome 139.*, so it is advised to delete the driver in PATH and retry\n"
     ]
    },
    {
     "name": "stdout",
     "output_type": "stream",
     "text": [
      "Data-related classes: ['s-post-summary', 'js-post-summary', 's-post-summary--stats', 'js-post-summary-stats', 's-post-summary--stats-item__emphasized', 's-post-summary--content', 's-post-summary--content-title', 's-post-summary--content-excerpt', 's-post-summary--meta', 's-post-summary--meta-tags', 'd-inline-block', 'tags', 'js-tags', 'ml0', 'list-ls-none', 'js-post-tag-list-wrapper', 's-user-card', 's-user-card__minimal', 's-avatar', 's-avatar__16', 's-user-card--avatar', 'gravatar-wrapper-16', 's-avatar--image', 's-user-card--info', 's-user-card--link', 's-user-card--time', 'relativetime']\n"
     ]
    },
    {
     "name": "stderr",
     "output_type": "stream",
     "text": [
      "The chromedriver version (138.0.7204.183) detected in PATH at C:\\chromedriver-win64\\chromedriver.exe might not be compatible with the detected chrome version (139.0.7258.155); currently, chromedriver 139.0.7258.154 is recommended for chrome 139.*, so it is advised to delete the driver in PATH and retry\n",
      "The chromedriver version (138.0.7204.183) detected in PATH at C:\\chromedriver-win64\\chromedriver.exe might not be compatible with the detected chrome version (139.0.7258.155); currently, chromedriver 139.0.7258.154 is recommended for chrome 139.*, so it is advised to delete the driver in PATH and retry\n"
     ]
    },
    {
     "name": "stdout",
     "output_type": "stream",
     "text": [
      "Data-related classes: ['s-post-summary', 'js-post-summary', 's-post-summary--stats', 'js-post-summary-stats', 's-post-summary--stats-item__emphasized', 's-post-summary--content', 's-post-summary--content-title', 's-post-summary--content-excerpt', 's-post-summary--meta', 's-post-summary--meta-tags', 'd-inline-block', 'tags', 'js-tags', 'ml0', 'list-ls-none', 'js-post-tag-list-wrapper', 's-user-card', 's-user-card__minimal', 's-avatar', 's-avatar__16', 's-user-card--avatar', 'gravatar-wrapper-16', 's-avatar--image', 's-user-card--info', 's-user-card--link', 's-user-card--time', 'relativetime']\n"
     ]
    },
    {
     "name": "stderr",
     "output_type": "stream",
     "text": [
      "The chromedriver version (138.0.7204.183) detected in PATH at C:\\chromedriver-win64\\chromedriver.exe might not be compatible with the detected chrome version (139.0.7258.155); currently, chromedriver 139.0.7258.154 is recommended for chrome 139.*, so it is advised to delete the driver in PATH and retry\n"
     ]
    },
    {
     "name": "stdout",
     "output_type": "stream",
     "text": [
      "Data-related classes: ['s-post-summary', 'js-post-summary', 's-post-summary--stats', 'js-post-summary-stats', 's-post-summary--stats-item__emphasized', 's-post-summary--content', 's-post-summary--content-title', 's-post-summary--content-excerpt', 's-post-summary--meta', 's-post-summary--meta-tags', 'd-inline-block', 'tags', 'js-tags', 'ml0', 'list-ls-none', 'js-post-tag-list-wrapper', 's-user-card', 's-user-card__minimal', 's-avatar', 's-avatar__16', 's-user-card--avatar', 'gravatar-wrapper-16', 's-avatar--image', 's-user-card--info', 's-user-card--link', 's-user-card--time', 'relativetime']\n"
     ]
    },
    {
     "name": "stderr",
     "output_type": "stream",
     "text": [
      "The chromedriver version (138.0.7204.183) detected in PATH at C:\\chromedriver-win64\\chromedriver.exe might not be compatible with the detected chrome version (139.0.7258.155); currently, chromedriver 139.0.7258.154 is recommended for chrome 139.*, so it is advised to delete the driver in PATH and retry\n"
     ]
    },
    {
     "name": "stdout",
     "output_type": "stream",
     "text": [
      "Data-related classes: ['s-post-summary', 'js-post-summary', 's-post-summary--stats', 'js-post-summary-stats', 's-post-summary--stats-item__emphasized', 's-post-summary--content', 's-post-summary--content-title', 's-post-summary--content-excerpt', 's-post-summary--meta', 's-post-summary--meta-tags', 'd-inline-block', 'tags', 'js-tags', 'ml0', 'list-ls-none', 'js-post-tag-list-wrapper', 's-user-card', 's-user-card__minimal', 's-avatar', 's-avatar__16', 's-user-card--avatar', 'gravatar-wrapper-16', 's-avatar--image', 's-user-card--info', 's-user-card--link', 's-user-card--time', 'relativetime']\n"
     ]
    },
    {
     "name": "stderr",
     "output_type": "stream",
     "text": [
      "The chromedriver version (138.0.7204.183) detected in PATH at C:\\chromedriver-win64\\chromedriver.exe might not be compatible with the detected chrome version (139.0.7258.155); currently, chromedriver 139.0.7258.154 is recommended for chrome 139.*, so it is advised to delete the driver in PATH and retry\n",
      "The chromedriver version (138.0.7204.183) detected in PATH at C:\\chromedriver-win64\\chromedriver.exe might not be compatible with the detected chrome version (139.0.7258.155); currently, chromedriver 139.0.7258.154 is recommended for chrome 139.*, so it is advised to delete the driver in PATH and retry\n"
     ]
    },
    {
     "name": "stdout",
     "output_type": "stream",
     "text": [
      "Data-related classes: ['s-post-summary', 'js-post-summary', 's-post-summary--stats', 'js-post-summary-stats', 's-post-summary--stats-item__emphasized', 's-post-summary--content', 's-post-summary--content-title', 's-post-summary--content-excerpt', 's-post-summary--meta', 's-post-summary--meta-tags', 'd-inline-block', 'tags', 'js-tags', 'ml0', 'list-ls-none', 'js-post-tag-list-wrapper', 's-user-card', 's-user-card__minimal', 's-avatar', 's-avatar__16', 's-user-card--avatar', 'gravatar-wrapper-16', 's-avatar--image', 's-user-card--info', 's-user-card--link', 's-user-card--time', 'relativetime']\n"
     ]
    },
    {
     "name": "stderr",
     "output_type": "stream",
     "text": [
      "The chromedriver version (138.0.7204.183) detected in PATH at C:\\chromedriver-win64\\chromedriver.exe might not be compatible with the detected chrome version (139.0.7258.155); currently, chromedriver 139.0.7258.154 is recommended for chrome 139.*, so it is advised to delete the driver in PATH and retry\n"
     ]
    },
    {
     "name": "stdout",
     "output_type": "stream",
     "text": [
      "Data-related classes: ['s-post-summary', 'js-post-summary', 's-post-summary--stats', 'js-post-summary-stats', 's-post-summary--stats-item__emphasized', 's-post-summary--content', 's-post-summary--content-title', 's-post-summary--content-excerpt', 's-post-summary--meta', 's-post-summary--meta-tags', 'd-inline-block', 'tags', 'js-tags', 'ml0', 'list-ls-none', 'js-post-tag-list-wrapper', 's-user-card', 's-user-card__minimal', 's-avatar', 's-avatar__16', 's-user-card--avatar', 'gravatar-wrapper-16', 's-avatar--image', 's-user-card--info', 's-user-card--link', 's-user-card--time', 'relativetime']\n"
     ]
    },
    {
     "name": "stderr",
     "output_type": "stream",
     "text": [
      "The chromedriver version (138.0.7204.183) detected in PATH at C:\\chromedriver-win64\\chromedriver.exe might not be compatible with the detected chrome version (139.0.7258.155); currently, chromedriver 139.0.7258.154 is recommended for chrome 139.*, so it is advised to delete the driver in PATH and retry\n"
     ]
    },
    {
     "name": "stdout",
     "output_type": "stream",
     "text": [
      "Data-related classes: ['s-post-summary', 'js-post-summary', 's-post-summary--stats', 'js-post-summary-stats', 's-post-summary--stats-item__emphasized', 's-post-summary--content', 's-post-summary--content-title', 's-post-summary--content-excerpt', 's-post-summary--meta', 's-post-summary--meta-tags', 'd-inline-block', 'tags', 'js-tags', 'ml0', 'list-ls-none', 'js-post-tag-list-wrapper', 's-user-card', 's-user-card__minimal', 's-avatar', 's-avatar__16', 's-user-card--avatar', 'gravatar-wrapper-16', 's-avatar--image', 's-user-card--info', 's-user-card--link', 's-user-card--time', 'relativetime']\n"
     ]
    },
    {
     "name": "stderr",
     "output_type": "stream",
     "text": [
      "The chromedriver version (138.0.7204.183) detected in PATH at C:\\chromedriver-win64\\chromedriver.exe might not be compatible with the detected chrome version (139.0.7258.155); currently, chromedriver 139.0.7258.154 is recommended for chrome 139.*, so it is advised to delete the driver in PATH and retry\n",
      "The chromedriver version (138.0.7204.183) detected in PATH at C:\\chromedriver-win64\\chromedriver.exe might not be compatible with the detected chrome version (139.0.7258.155); currently, chromedriver 139.0.7258.154 is recommended for chrome 139.*, so it is advised to delete the driver in PATH and retry\n"
     ]
    },
    {
     "name": "stdout",
     "output_type": "stream",
     "text": [
      "Data-related classes: ['s-post-summary', 'js-post-summary', 's-post-summary--stats', 'js-post-summary-stats', 's-post-summary--stats-item__emphasized', 's-post-summary--content', 's-post-summary--content-title', 's-post-summary--content-excerpt', 's-post-summary--meta', 's-post-summary--meta-tags', 'd-inline-block', 'tags', 'js-tags', 'ml0', 'list-ls-none', 'js-post-tag-list-wrapper', 's-user-card', 's-user-card__minimal', 's-avatar', 's-avatar__16', 's-user-card--avatar', 'gravatar-wrapper-16', 's-avatar--image', 's-user-card--info', 's-user-card--link', 's-user-card--time', 'relativetime']\n"
     ]
    },
    {
     "name": "stderr",
     "output_type": "stream",
     "text": [
      "The chromedriver version (138.0.7204.183) detected in PATH at C:\\chromedriver-win64\\chromedriver.exe might not be compatible with the detected chrome version (139.0.7258.155); currently, chromedriver 139.0.7258.154 is recommended for chrome 139.*, so it is advised to delete the driver in PATH and retry\n"
     ]
    },
    {
     "name": "stdout",
     "output_type": "stream",
     "text": [
      "Data-related classes: ['s-post-summary', 'js-post-summary', 's-post-summary--stats', 'js-post-summary-stats', 's-post-summary--stats-item__emphasized', 's-post-summary--content', 's-post-summary--content-title', 's-post-summary--content-excerpt', 's-post-summary--meta', 's-post-summary--meta-tags', 'd-inline-block', 'tags', 'js-tags', 'ml0', 'list-ls-none', 'js-post-tag-list-wrapper', 's-user-card', 's-user-card__minimal', 's-avatar', 's-avatar__16', 's-user-card--avatar', 'gravatar-wrapper-16', 's-avatar--image', 's-user-card--info', 's-user-card--link', 's-user-card--time', 'relativetime']\n"
     ]
    },
    {
     "name": "stderr",
     "output_type": "stream",
     "text": [
      "The chromedriver version (138.0.7204.183) detected in PATH at C:\\chromedriver-win64\\chromedriver.exe might not be compatible with the detected chrome version (139.0.7258.155); currently, chromedriver 139.0.7258.154 is recommended for chrome 139.*, so it is advised to delete the driver in PATH and retry\n",
      "The chromedriver version (138.0.7204.183) detected in PATH at C:\\chromedriver-win64\\chromedriver.exe might not be compatible with the detected chrome version (139.0.7258.155); currently, chromedriver 139.0.7258.154 is recommended for chrome 139.*, so it is advised to delete the driver in PATH and retry\n"
     ]
    },
    {
     "name": "stdout",
     "output_type": "stream",
     "text": [
      "Data-related classes: ['s-post-summary', 'js-post-summary', 's-post-summary--stats', 'js-post-summary-stats', 's-post-summary--stats-item__emphasized', 's-post-summary--content', 's-post-summary--content-title', 's-post-summary--content-excerpt', 's-post-summary--meta', 's-post-summary--meta-tags', 'd-inline-block', 'tags', 'js-tags', 'ml0', 'list-ls-none', 'js-post-tag-list-wrapper', 's-user-card', 's-user-card__minimal', 's-avatar', 's-avatar__16', 's-user-card--avatar', 'gravatar-wrapper-16', 's-avatar--image', 's-user-card--info', 's-user-card--link', 's-user-card--time', 'relativetime']\n"
     ]
    },
    {
     "name": "stderr",
     "output_type": "stream",
     "text": [
      "The chromedriver version (138.0.7204.183) detected in PATH at C:\\chromedriver-win64\\chromedriver.exe might not be compatible with the detected chrome version (139.0.7258.155); currently, chromedriver 139.0.7258.154 is recommended for chrome 139.*, so it is advised to delete the driver in PATH and retry\n"
     ]
    },
    {
     "name": "stdout",
     "output_type": "stream",
     "text": [
      "Data-related classes: ['s-post-summary', 'js-post-summary', 's-post-summary--stats', 'js-post-summary-stats', 's-post-summary--stats-item__emphasized', 's-post-summary--content', 's-post-summary--content-title', 's-post-summary--content-excerpt', 's-post-summary--meta', 's-post-summary--meta-tags', 'd-inline-block', 'tags', 'js-tags', 'ml0', 'list-ls-none', 'js-post-tag-list-wrapper', 's-user-card', 's-user-card__minimal', 's-avatar', 's-avatar__16', 's-user-card--avatar', 'gravatar-wrapper-16', 's-avatar--image', 's-user-card--info', 's-user-card--link', 's-user-card--time', 'relativetime']\n"
     ]
    },
    {
     "name": "stderr",
     "output_type": "stream",
     "text": [
      "The chromedriver version (138.0.7204.183) detected in PATH at C:\\chromedriver-win64\\chromedriver.exe might not be compatible with the detected chrome version (139.0.7258.155); currently, chromedriver 139.0.7258.154 is recommended for chrome 139.*, so it is advised to delete the driver in PATH and retry\n"
     ]
    },
    {
     "name": "stdout",
     "output_type": "stream",
     "text": [
      "Data-related classes: ['s-post-summary', 'js-post-summary', 's-post-summary--stats', 'js-post-summary-stats', 's-post-summary--stats-item__emphasized', 's-post-summary--content', 's-post-summary--content-title', 's-post-summary--content-excerpt', 's-post-summary--meta', 's-post-summary--meta-tags', 'd-inline-block', 'tags', 'js-tags', 'ml0', 'list-ls-none', 'js-post-tag-list-wrapper', 's-user-card', 's-user-card__minimal', 's-avatar', 's-avatar__16', 's-user-card--avatar', 'gravatar-wrapper-16', 's-avatar--image', 's-user-card--info', 's-user-card--link', 's-user-card--time', 'relativetime']\n"
     ]
    },
    {
     "name": "stderr",
     "output_type": "stream",
     "text": [
      "The chromedriver version (138.0.7204.183) detected in PATH at C:\\chromedriver-win64\\chromedriver.exe might not be compatible with the detected chrome version (139.0.7258.155); currently, chromedriver 139.0.7258.154 is recommended for chrome 139.*, so it is advised to delete the driver in PATH and retry\n",
      "The chromedriver version (138.0.7204.183) detected in PATH at C:\\chromedriver-win64\\chromedriver.exe might not be compatible with the detected chrome version (139.0.7258.155); currently, chromedriver 139.0.7258.154 is recommended for chrome 139.*, so it is advised to delete the driver in PATH and retry\n"
     ]
    },
    {
     "name": "stdout",
     "output_type": "stream",
     "text": [
      "Data-related classes: ['s-post-summary', 'js-post-summary', 's-post-summary--stats', 'js-post-summary-stats', 's-post-summary--stats-item__emphasized', 's-post-summary--content', 's-post-summary--content-title', 's-post-summary--content-excerpt', 's-post-summary--meta', 's-post-summary--meta-tags', 'd-inline-block', 'tags', 'js-tags', 'ml0', 'list-ls-none', 'js-post-tag-list-wrapper', 's-user-card', 's-user-card__minimal', 's-avatar', 's-avatar__16', 's-user-card--avatar', 'gravatar-wrapper-16', 's-avatar--image', 's-user-card--info', 's-user-card--link', 's-user-card--time', 'relativetime']\n"
     ]
    },
    {
     "name": "stderr",
     "output_type": "stream",
     "text": [
      "The chromedriver version (138.0.7204.183) detected in PATH at C:\\chromedriver-win64\\chromedriver.exe might not be compatible with the detected chrome version (139.0.7258.155); currently, chromedriver 139.0.7258.154 is recommended for chrome 139.*, so it is advised to delete the driver in PATH and retry\n"
     ]
    },
    {
     "name": "stdout",
     "output_type": "stream",
     "text": [
      "Data-related classes: ['s-post-summary', 'js-post-summary', 's-post-summary--stats', 'js-post-summary-stats', 's-post-summary--stats-item__emphasized', 's-post-summary--content', 's-post-summary--content-title', 's-post-summary--content-excerpt', 's-post-summary--meta', 's-post-summary--meta-tags', 'd-inline-block', 'tags', 'js-tags', 'ml0', 'list-ls-none', 'js-post-tag-list-wrapper', 's-user-card', 's-user-card__minimal', 's-avatar', 's-avatar__16', 's-user-card--avatar', 'gravatar-wrapper-16', 's-avatar--image', 's-user-card--info', 's-user-card--link', 's-user-card--time', 'relativetime']\n"
     ]
    },
    {
     "name": "stderr",
     "output_type": "stream",
     "text": [
      "The chromedriver version (138.0.7204.183) detected in PATH at C:\\chromedriver-win64\\chromedriver.exe might not be compatible with the detected chrome version (139.0.7258.155); currently, chromedriver 139.0.7258.154 is recommended for chrome 139.*, so it is advised to delete the driver in PATH and retry\n"
     ]
    },
    {
     "name": "stdout",
     "output_type": "stream",
     "text": [
      "Data-related classes: ['s-post-summary', 'js-post-summary', 's-post-summary--stats', 'js-post-summary-stats', 's-post-summary--stats-item__emphasized', 's-post-summary--content', 's-post-summary--content-title', 's-post-summary--content-excerpt', 's-post-summary--meta', 's-post-summary--meta-tags', 'd-inline-block', 'tags', 'js-tags', 'ml0', 'list-ls-none', 'js-post-tag-list-wrapper', 's-user-card', 's-user-card__minimal', 's-avatar', 's-avatar__16', 's-user-card--avatar', 'gravatar-wrapper-16', 's-avatar--image', 's-user-card--info', 's-user-card--link', 's-user-card--time', 'relativetime']\n"
     ]
    },
    {
     "name": "stderr",
     "output_type": "stream",
     "text": [
      "The chromedriver version (138.0.7204.183) detected in PATH at C:\\chromedriver-win64\\chromedriver.exe might not be compatible with the detected chrome version (139.0.7258.155); currently, chromedriver 139.0.7258.154 is recommended for chrome 139.*, so it is advised to delete the driver in PATH and retry\n",
      "The chromedriver version (138.0.7204.183) detected in PATH at C:\\chromedriver-win64\\chromedriver.exe might not be compatible with the detected chrome version (139.0.7258.155); currently, chromedriver 139.0.7258.154 is recommended for chrome 139.*, so it is advised to delete the driver in PATH and retry\n"
     ]
    },
    {
     "name": "stdout",
     "output_type": "stream",
     "text": [
      "Data-related classes: ['s-post-summary', 'js-post-summary', 's-post-summary--stats', 'js-post-summary-stats', 's-post-summary--stats-item__emphasized', 's-post-summary--content', 's-post-summary--content-title', 's-post-summary--content-excerpt', 's-post-summary--meta', 's-post-summary--meta-tags', 'd-inline-block', 'tags', 'js-tags', 'ml0', 'list-ls-none', 'js-post-tag-list-wrapper', 's-user-card', 's-user-card__minimal', 's-avatar', 's-avatar__16', 's-user-card--avatar', 'gravatar-wrapper-16', 's-avatar--image', 's-user-card--info', 's-user-card--link', 's-user-card--time', 'relativetime']\n"
     ]
    },
    {
     "name": "stderr",
     "output_type": "stream",
     "text": [
      "The chromedriver version (138.0.7204.183) detected in PATH at C:\\chromedriver-win64\\chromedriver.exe might not be compatible with the detected chrome version (139.0.7258.155); currently, chromedriver 139.0.7258.154 is recommended for chrome 139.*, so it is advised to delete the driver in PATH and retry\n"
     ]
    },
    {
     "name": "stdout",
     "output_type": "stream",
     "text": [
      "Data-related classes: ['s-post-summary', 'js-post-summary', 's-post-summary--stats', 'js-post-summary-stats', 's-post-summary--stats-item__emphasized', 's-post-summary--content', 's-post-summary--content-title', 's-post-summary--content-excerpt', 's-post-summary--meta', 's-post-summary--meta-tags', 'd-inline-block', 'tags', 'js-tags', 'ml0', 'list-ls-none', 'js-post-tag-list-wrapper', 's-user-card', 's-user-card__minimal', 's-avatar', 's-avatar__16', 's-user-card--avatar', 'gravatar-wrapper-16', 's-avatar--image', 's-user-card--info', 's-user-card--link', 's-user-card--time', 'relativetime']\n"
     ]
    },
    {
     "name": "stderr",
     "output_type": "stream",
     "text": [
      "The chromedriver version (138.0.7204.183) detected in PATH at C:\\chromedriver-win64\\chromedriver.exe might not be compatible with the detected chrome version (139.0.7258.155); currently, chromedriver 139.0.7258.154 is recommended for chrome 139.*, so it is advised to delete the driver in PATH and retry\n",
      "The chromedriver version (138.0.7204.183) detected in PATH at C:\\chromedriver-win64\\chromedriver.exe might not be compatible with the detected chrome version (139.0.7258.155); currently, chromedriver 139.0.7258.154 is recommended for chrome 139.*, so it is advised to delete the driver in PATH and retry\n"
     ]
    },
    {
     "name": "stdout",
     "output_type": "stream",
     "text": [
      "Data-related classes: ['s-post-summary', 'js-post-summary', 's-post-summary--stats', 'js-post-summary-stats', 's-post-summary--stats-item__emphasized', 's-post-summary--content', 's-post-summary--content-title', 's-post-summary--content-excerpt', 's-post-summary--meta', 's-post-summary--meta-tags', 'd-inline-block', 'tags', 'js-tags', 'ml0', 'list-ls-none', 'js-post-tag-list-wrapper', 's-user-card', 's-user-card__minimal', 's-avatar', 's-avatar__16', 's-user-card--avatar', 'gravatar-wrapper-16', 's-avatar--image', 's-user-card--info', 's-user-card--link', 's-user-card--time', 'relativetime']\n"
     ]
    },
    {
     "name": "stderr",
     "output_type": "stream",
     "text": [
      "The chromedriver version (138.0.7204.183) detected in PATH at C:\\chromedriver-win64\\chromedriver.exe might not be compatible with the detected chrome version (139.0.7258.155); currently, chromedriver 139.0.7258.154 is recommended for chrome 139.*, so it is advised to delete the driver in PATH and retry\n"
     ]
    },
    {
     "name": "stdout",
     "output_type": "stream",
     "text": [
      "Data-related classes: ['s-post-summary', 'js-post-summary', 's-post-summary--stats', 'js-post-summary-stats', 's-post-summary--stats-item__emphasized', 's-post-summary--content', 's-post-summary--content-title', 's-post-summary--content-excerpt', 's-post-summary--meta', 's-post-summary--meta-tags', 'd-inline-block', 'tags', 'js-tags', 'ml0', 'list-ls-none', 'js-post-tag-list-wrapper', 's-user-card', 's-user-card__minimal', 's-avatar', 's-avatar__16', 's-user-card--avatar', 'gravatar-wrapper-16', 's-avatar--image', 's-user-card--info', 's-user-card--link', 's-user-card--time', 'relativetime']\n"
     ]
    },
    {
     "name": "stderr",
     "output_type": "stream",
     "text": [
      "The chromedriver version (138.0.7204.183) detected in PATH at C:\\chromedriver-win64\\chromedriver.exe might not be compatible with the detected chrome version (139.0.7258.155); currently, chromedriver 139.0.7258.154 is recommended for chrome 139.*, so it is advised to delete the driver in PATH and retry\n"
     ]
    },
    {
     "name": "stdout",
     "output_type": "stream",
     "text": [
      "Data-related classes: ['s-post-summary', 'js-post-summary', 's-post-summary--stats', 'js-post-summary-stats', 's-post-summary--stats-item__emphasized', 's-post-summary--content', 's-post-summary--content-title', 's-post-summary--content-excerpt', 's-post-summary--meta', 's-post-summary--meta-tags', 'd-inline-block', 'tags', 'js-tags', 'ml0', 'list-ls-none', 'js-post-tag-list-wrapper', 's-user-card', 's-user-card__minimal', 's-avatar', 's-avatar__16', 's-user-card--avatar', 'gravatar-wrapper-16', 's-avatar--image', 's-user-card--info', 's-user-card--link', 's-user-card--time', 'relativetime']\n"
     ]
    },
    {
     "name": "stderr",
     "output_type": "stream",
     "text": [
      "The chromedriver version (138.0.7204.183) detected in PATH at C:\\chromedriver-win64\\chromedriver.exe might not be compatible with the detected chrome version (139.0.7258.155); currently, chromedriver 139.0.7258.154 is recommended for chrome 139.*, so it is advised to delete the driver in PATH and retry\n",
      "The chromedriver version (138.0.7204.183) detected in PATH at C:\\chromedriver-win64\\chromedriver.exe might not be compatible with the detected chrome version (139.0.7258.155); currently, chromedriver 139.0.7258.154 is recommended for chrome 139.*, so it is advised to delete the driver in PATH and retry\n"
     ]
    },
    {
     "name": "stdout",
     "output_type": "stream",
     "text": [
      "Data-related classes: ['s-post-summary', 'js-post-summary', 's-post-summary--stats', 'js-post-summary-stats', 's-post-summary--stats-item__emphasized', 's-post-summary--content', 's-post-summary--content-title', 's-post-summary--content-excerpt', 's-post-summary--meta', 's-post-summary--meta-tags', 'd-inline-block', 'tags', 'js-tags', 'ml0', 'list-ls-none', 'js-post-tag-list-wrapper', 's-user-card', 's-user-card__minimal', 's-avatar', 's-avatar__16', 's-user-card--avatar', 'gravatar-wrapper-16', 's-avatar--image', 's-user-card--info', 's-user-card--link', 's-user-card--time', 'relativetime']\n"
     ]
    },
    {
     "name": "stderr",
     "output_type": "stream",
     "text": [
      "The chromedriver version (138.0.7204.183) detected in PATH at C:\\chromedriver-win64\\chromedriver.exe might not be compatible with the detected chrome version (139.0.7258.155); currently, chromedriver 139.0.7258.154 is recommended for chrome 139.*, so it is advised to delete the driver in PATH and retry\n"
     ]
    },
    {
     "name": "stdout",
     "output_type": "stream",
     "text": [
      "Data-related classes: ['s-post-summary', 'js-post-summary', 's-post-summary--stats', 'js-post-summary-stats', 's-post-summary--stats-item__emphasized', 's-post-summary--content', 's-post-summary--content-title', 's-post-summary--content-excerpt', 's-post-summary--meta', 's-post-summary--meta-tags', 'd-inline-block', 'tags', 'js-tags', 'ml0', 'list-ls-none', 'js-post-tag-list-wrapper', 's-user-card', 's-user-card__minimal', 's-avatar', 's-avatar__16', 's-user-card--avatar', 'gravatar-wrapper-16', 's-avatar--image', 's-user-card--info', 's-user-card--link', 's-user-card--time', 'relativetime']\n"
     ]
    },
    {
     "name": "stderr",
     "output_type": "stream",
     "text": [
      "The chromedriver version (138.0.7204.183) detected in PATH at C:\\chromedriver-win64\\chromedriver.exe might not be compatible with the detected chrome version (139.0.7258.155); currently, chromedriver 139.0.7258.154 is recommended for chrome 139.*, so it is advised to delete the driver in PATH and retry\n",
      "The chromedriver version (138.0.7204.183) detected in PATH at C:\\chromedriver-win64\\chromedriver.exe might not be compatible with the detected chrome version (139.0.7258.155); currently, chromedriver 139.0.7258.154 is recommended for chrome 139.*, so it is advised to delete the driver in PATH and retry\n"
     ]
    },
    {
     "name": "stdout",
     "output_type": "stream",
     "text": [
      "Data-related classes: ['s-post-summary', 'js-post-summary', 's-post-summary--stats', 'js-post-summary-stats', 's-post-summary--stats-item__emphasized', 's-post-summary--content', 's-post-summary--content-title', 's-post-summary--content-excerpt', 's-post-summary--meta', 's-post-summary--meta-tags', 'd-inline-block', 'tags', 'js-tags', 'ml0', 'list-ls-none', 'js-post-tag-list-wrapper', 's-user-card', 's-user-card__minimal', 's-avatar', 's-avatar__16', 's-user-card--avatar', 'gravatar-wrapper-16', 's-avatar--image', 's-user-card--info', 's-user-card--link', 's-user-card--time', 'relativetime']\n"
     ]
    },
    {
     "name": "stderr",
     "output_type": "stream",
     "text": [
      "The chromedriver version (138.0.7204.183) detected in PATH at C:\\chromedriver-win64\\chromedriver.exe might not be compatible with the detected chrome version (139.0.7258.155); currently, chromedriver 139.0.7258.154 is recommended for chrome 139.*, so it is advised to delete the driver in PATH and retry\n"
     ]
    },
    {
     "name": "stdout",
     "output_type": "stream",
     "text": [
      "Data-related classes: ['s-post-summary', 'js-post-summary', 's-post-summary--stats', 'js-post-summary-stats', 's-post-summary--stats-item__emphasized', 's-post-summary--content', 's-post-summary--content-title', 's-post-summary--content-excerpt', 's-post-summary--meta', 's-post-summary--meta-tags', 'd-inline-block', 'tags', 'js-tags', 'ml0', 'list-ls-none', 'js-post-tag-list-wrapper', 's-user-card', 's-user-card__minimal', 's-avatar', 's-avatar__16', 's-user-card--avatar', 'gravatar-wrapper-16', 's-avatar--image', 's-user-card--info', 's-user-card--link', 's-user-card--time', 'relativetime']\n"
     ]
    },
    {
     "name": "stderr",
     "output_type": "stream",
     "text": [
      "The chromedriver version (138.0.7204.183) detected in PATH at C:\\chromedriver-win64\\chromedriver.exe might not be compatible with the detected chrome version (139.0.7258.155); currently, chromedriver 139.0.7258.154 is recommended for chrome 139.*, so it is advised to delete the driver in PATH and retry\n",
      "The chromedriver version (138.0.7204.183) detected in PATH at C:\\chromedriver-win64\\chromedriver.exe might not be compatible with the detected chrome version (139.0.7258.155); currently, chromedriver 139.0.7258.154 is recommended for chrome 139.*, so it is advised to delete the driver in PATH and retry\n"
     ]
    },
    {
     "name": "stdout",
     "output_type": "stream",
     "text": [
      "Data-related classes: ['s-post-summary', 'js-post-summary', 's-post-summary--stats', 'js-post-summary-stats', 's-post-summary--stats-item__emphasized', 's-post-summary--content', 's-post-summary--content-title', 's-post-summary--content-excerpt', 's-post-summary--meta', 's-post-summary--meta-tags', 'd-inline-block', 'tags', 'js-tags', 'ml0', 'list-ls-none', 'js-post-tag-list-wrapper', 's-user-card', 's-user-card__minimal', 's-avatar', 's-avatar__16', 's-user-card--avatar', 'gravatar-wrapper-16', 's-avatar--image', 's-user-card--info', 's-user-card--link', 's-user-card--time', 'relativetime']\n"
     ]
    },
    {
     "name": "stderr",
     "output_type": "stream",
     "text": [
      "The chromedriver version (138.0.7204.183) detected in PATH at C:\\chromedriver-win64\\chromedriver.exe might not be compatible with the detected chrome version (139.0.7258.155); currently, chromedriver 139.0.7258.154 is recommended for chrome 139.*, so it is advised to delete the driver in PATH and retry\n"
     ]
    },
    {
     "name": "stdout",
     "output_type": "stream",
     "text": [
      "Data-related classes: ['s-post-summary', 'js-post-summary', 's-post-summary--stats', 'js-post-summary-stats', 's-post-summary--stats-item__emphasized', 's-post-summary--content', 's-post-summary--content-title', 's-post-summary--content-excerpt', 's-post-summary--meta', 's-post-summary--meta-tags', 'd-inline-block', 'tags', 'js-tags', 'ml0', 'list-ls-none', 'js-post-tag-list-wrapper', 's-user-card', 's-user-card__minimal', 's-avatar', 's-avatar__16', 's-user-card--avatar', 'gravatar-wrapper-16', 's-avatar--image', 's-user-card--info', 's-user-card--link', 's-user-card--time', 'relativetime']\n"
     ]
    },
    {
     "name": "stderr",
     "output_type": "stream",
     "text": [
      "The chromedriver version (138.0.7204.183) detected in PATH at C:\\chromedriver-win64\\chromedriver.exe might not be compatible with the detected chrome version (139.0.7258.155); currently, chromedriver 139.0.7258.154 is recommended for chrome 139.*, so it is advised to delete the driver in PATH and retry\n"
     ]
    },
    {
     "name": "stdout",
     "output_type": "stream",
     "text": [
      "Data-related classes: ['s-post-summary', 'js-post-summary', 's-post-summary--stats', 'js-post-summary-stats', 's-post-summary--stats-item__emphasized', 's-post-summary--content', 's-post-summary--content-title', 's-post-summary--content-excerpt', 's-post-summary--meta', 's-post-summary--meta-tags', 'd-inline-block', 'tags', 'js-tags', 'ml0', 'list-ls-none', 'js-post-tag-list-wrapper', 's-user-card', 's-user-card__minimal', 's-avatar', 's-avatar__16', 's-user-card--avatar', 'gravatar-wrapper-16', 's-avatar--image', 's-user-card--info', 's-user-card--link', 's-user-card--time', 'relativetime']\n"
     ]
    },
    {
     "name": "stderr",
     "output_type": "stream",
     "text": [
      "The chromedriver version (138.0.7204.183) detected in PATH at C:\\chromedriver-win64\\chromedriver.exe might not be compatible with the detected chrome version (139.0.7258.155); currently, chromedriver 139.0.7258.154 is recommended for chrome 139.*, so it is advised to delete the driver in PATH and retry\n"
     ]
    },
    {
     "name": "stdout",
     "output_type": "stream",
     "text": [
      "Data-related classes: ['s-post-summary', 'js-post-summary', 's-post-summary--stats', 'js-post-summary-stats', 's-post-summary--stats-item__emphasized', 's-post-summary--content', 's-post-summary--content-title', 's-post-summary--content-excerpt', 's-post-summary--meta', 's-post-summary--meta-tags', 'd-inline-block', 'tags', 'js-tags', 'ml0', 'list-ls-none', 'js-post-tag-list-wrapper', 's-user-card', 's-user-card__minimal', 's-avatar', 's-avatar__16', 's-user-card--avatar', 'gravatar-wrapper-16', 's-avatar--image', 's-user-card--info', 's-user-card--link', 's-user-card--time', 'relativetime']\n"
     ]
    },
    {
     "name": "stderr",
     "output_type": "stream",
     "text": [
      "The chromedriver version (138.0.7204.183) detected in PATH at C:\\chromedriver-win64\\chromedriver.exe might not be compatible with the detected chrome version (139.0.7258.155); currently, chromedriver 139.0.7258.154 is recommended for chrome 139.*, so it is advised to delete the driver in PATH and retry\n",
      "The chromedriver version (138.0.7204.183) detected in PATH at C:\\chromedriver-win64\\chromedriver.exe might not be compatible with the detected chrome version (139.0.7258.155); currently, chromedriver 139.0.7258.154 is recommended for chrome 139.*, so it is advised to delete the driver in PATH and retry\n"
     ]
    },
    {
     "name": "stdout",
     "output_type": "stream",
     "text": [
      "Data-related classes: ['s-post-summary', 'js-post-summary', 's-post-summary--stats', 'js-post-summary-stats', 's-post-summary--stats-item__emphasized', 's-post-summary--content', 's-post-summary--content-title', 's-post-summary--content-excerpt', 's-post-summary--meta', 's-post-summary--meta-tags', 'd-inline-block', 'tags', 'js-tags', 'ml0', 'list-ls-none', 'js-post-tag-list-wrapper', 's-user-card', 's-user-card__minimal', 's-avatar', 's-avatar__16', 's-user-card--avatar', 'gravatar-wrapper-16', 's-avatar--image', 's-user-card--info', 's-user-card--link', 's-user-card--time', 'relativetime']\n"
     ]
    },
    {
     "name": "stderr",
     "output_type": "stream",
     "text": [
      "The chromedriver version (138.0.7204.183) detected in PATH at C:\\chromedriver-win64\\chromedriver.exe might not be compatible with the detected chrome version (139.0.7258.155); currently, chromedriver 139.0.7258.154 is recommended for chrome 139.*, so it is advised to delete the driver in PATH and retry\n"
     ]
    },
    {
     "name": "stdout",
     "output_type": "stream",
     "text": [
      "Data-related classes: ['s-post-summary', 'js-post-summary', 's-post-summary--stats', 'js-post-summary-stats', 's-post-summary--stats-item__emphasized', 's-post-summary--content', 's-post-summary--content-title', 's-post-summary--content-excerpt', 's-post-summary--meta', 's-post-summary--meta-tags', 'd-inline-block', 'tags', 'js-tags', 'ml0', 'list-ls-none', 'js-post-tag-list-wrapper', 's-user-card', 's-user-card__minimal', 's-avatar', 's-avatar__16', 's-user-card--avatar', 'gravatar-wrapper-16', 's-avatar--image', 's-user-card--info', 's-user-card--link', 's-user-card--time', 'relativetime']\n"
     ]
    },
    {
     "name": "stderr",
     "output_type": "stream",
     "text": [
      "The chromedriver version (138.0.7204.183) detected in PATH at C:\\chromedriver-win64\\chromedriver.exe might not be compatible with the detected chrome version (139.0.7258.155); currently, chromedriver 139.0.7258.154 is recommended for chrome 139.*, so it is advised to delete the driver in PATH and retry\n"
     ]
    },
    {
     "name": "stdout",
     "output_type": "stream",
     "text": [
      "Data-related classes: ['s-post-summary', 'js-post-summary', 's-post-summary--stats', 'js-post-summary-stats', 's-post-summary--stats-item__emphasized', 's-post-summary--content', 's-post-summary--content-title', 's-post-summary--content-excerpt', 's-post-summary--meta', 's-post-summary--meta-tags', 'd-inline-block', 'tags', 'js-tags', 'ml0', 'list-ls-none', 'js-post-tag-list-wrapper', 's-user-card', 's-user-card__minimal', 's-avatar', 's-avatar__16', 's-user-card--avatar', 'gravatar-wrapper-16', 's-avatar--image', 's-user-card--info', 's-user-card--link', 's-user-card--time', 'relativetime']\n"
     ]
    },
    {
     "name": "stderr",
     "output_type": "stream",
     "text": [
      "The chromedriver version (138.0.7204.183) detected in PATH at C:\\chromedriver-win64\\chromedriver.exe might not be compatible with the detected chrome version (139.0.7258.155); currently, chromedriver 139.0.7258.154 is recommended for chrome 139.*, so it is advised to delete the driver in PATH and retry\n",
      "The chromedriver version (138.0.7204.183) detected in PATH at C:\\chromedriver-win64\\chromedriver.exe might not be compatible with the detected chrome version (139.0.7258.155); currently, chromedriver 139.0.7258.154 is recommended for chrome 139.*, so it is advised to delete the driver in PATH and retry\n"
     ]
    },
    {
     "name": "stdout",
     "output_type": "stream",
     "text": [
      "Data-related classes: ['s-post-summary', 'js-post-summary', 's-post-summary--stats', 'js-post-summary-stats', 's-post-summary--stats-item__emphasized', 's-post-summary--content', 's-post-summary--content-title', 's-post-summary--content-excerpt', 's-post-summary--meta', 's-post-summary--meta-tags', 'd-inline-block', 'tags', 'js-tags', 'ml0', 'list-ls-none', 'js-post-tag-list-wrapper', 's-user-card', 's-user-card__minimal', 's-avatar', 's-avatar__16', 's-user-card--avatar', 'gravatar-wrapper-16', 's-avatar--image', 's-user-card--info', 's-user-card--link', 's-user-card--time', 'relativetime']\n"
     ]
    },
    {
     "name": "stderr",
     "output_type": "stream",
     "text": [
      "The chromedriver version (138.0.7204.183) detected in PATH at C:\\chromedriver-win64\\chromedriver.exe might not be compatible with the detected chrome version (139.0.7258.155); currently, chromedriver 139.0.7258.154 is recommended for chrome 139.*, so it is advised to delete the driver in PATH and retry\n",
      "The chromedriver version (138.0.7204.183) detected in PATH at C:\\chromedriver-win64\\chromedriver.exe might not be compatible with the detected chrome version (139.0.7258.155); currently, chromedriver 139.0.7258.154 is recommended for chrome 139.*, so it is advised to delete the driver in PATH and retry\n"
     ]
    },
    {
     "name": "stdout",
     "output_type": "stream",
     "text": [
      "Data-related classes: ['s-post-summary', 'js-post-summary', 's-post-summary--stats', 'js-post-summary-stats', 's-post-summary--stats-item__emphasized', 's-post-summary--content', 's-post-summary--content-title', 's-post-summary--content-excerpt', 's-post-summary--meta', 's-post-summary--meta-tags', 'd-inline-block', 'tags', 'js-tags', 'ml0', 'list-ls-none', 'js-post-tag-list-wrapper', 's-user-card', 's-user-card__minimal', 's-avatar', 's-avatar__16', 's-user-card--avatar', 'gravatar-wrapper-16', 's-avatar--image', 's-user-card--info', 's-user-card--link', 's-user-card--time', 'relativetime']\n"
     ]
    },
    {
     "name": "stderr",
     "output_type": "stream",
     "text": [
      "The chromedriver version (138.0.7204.183) detected in PATH at C:\\chromedriver-win64\\chromedriver.exe might not be compatible with the detected chrome version (139.0.7258.155); currently, chromedriver 139.0.7258.154 is recommended for chrome 139.*, so it is advised to delete the driver in PATH and retry\n"
     ]
    },
    {
     "name": "stdout",
     "output_type": "stream",
     "text": [
      "Data-related classes: ['s-post-summary', 'js-post-summary', 's-post-summary--stats', 'js-post-summary-stats', 's-post-summary--stats-item__emphasized', 's-post-summary--content', 's-post-summary--content-title', 's-post-summary--content-excerpt', 's-post-summary--meta', 's-post-summary--meta-tags', 'd-inline-block', 'tags', 'js-tags', 'ml0', 'list-ls-none', 'js-post-tag-list-wrapper', 's-user-card', 's-user-card__minimal', 's-avatar', 's-avatar__16', 's-user-card--avatar', 'gravatar-wrapper-16', 's-avatar--image', 's-user-card--info', 's-user-card--link', 's-user-card--time', 'relativetime']\n"
     ]
    },
    {
     "name": "stderr",
     "output_type": "stream",
     "text": [
      "The chromedriver version (138.0.7204.183) detected in PATH at C:\\chromedriver-win64\\chromedriver.exe might not be compatible with the detected chrome version (139.0.7258.155); currently, chromedriver 139.0.7258.154 is recommended for chrome 139.*, so it is advised to delete the driver in PATH and retry\n"
     ]
    },
    {
     "name": "stdout",
     "output_type": "stream",
     "text": [
      "Data-related classes: ['s-post-summary', 'js-post-summary', 's-post-summary--stats', 'js-post-summary-stats', 's-post-summary--stats-item__emphasized', 's-post-summary--content', 's-post-summary--content-title', 's-post-summary--content-excerpt', 's-post-summary--meta', 's-post-summary--meta-tags', 'd-inline-block', 'tags', 'js-tags', 'ml0', 'list-ls-none', 'js-post-tag-list-wrapper', 's-user-card', 's-user-card__minimal', 's-avatar', 's-avatar__16', 's-user-card--avatar', 'gravatar-wrapper-16', 's-avatar--image', 's-user-card--info', 's-user-card--link', 's-user-card--time', 'relativetime']\n"
     ]
    },
    {
     "name": "stderr",
     "output_type": "stream",
     "text": [
      "The chromedriver version (138.0.7204.183) detected in PATH at C:\\chromedriver-win64\\chromedriver.exe might not be compatible with the detected chrome version (139.0.7258.155); currently, chromedriver 139.0.7258.154 is recommended for chrome 139.*, so it is advised to delete the driver in PATH and retry\n",
      "The chromedriver version (138.0.7204.183) detected in PATH at C:\\chromedriver-win64\\chromedriver.exe might not be compatible with the detected chrome version (139.0.7258.155); currently, chromedriver 139.0.7258.154 is recommended for chrome 139.*, so it is advised to delete the driver in PATH and retry\n"
     ]
    },
    {
     "name": "stdout",
     "output_type": "stream",
     "text": [
      "Data-related classes: ['s-post-summary', 'js-post-summary', 's-post-summary--stats', 'js-post-summary-stats', 's-post-summary--stats-item__emphasized', 's-post-summary--content', 's-post-summary--content-title', 's-post-summary--content-excerpt', 's-post-summary--meta', 's-post-summary--meta-tags', 'd-inline-block', 'tags', 'js-tags', 'ml0', 'list-ls-none', 'js-post-tag-list-wrapper', 's-user-card', 's-user-card__minimal', 's-avatar', 's-avatar__16', 's-user-card--avatar', 'gravatar-wrapper-16', 's-avatar--image', 's-user-card--info', 's-user-card--link', 's-user-card--time', 'relativetime']\n"
     ]
    },
    {
     "name": "stderr",
     "output_type": "stream",
     "text": [
      "The chromedriver version (138.0.7204.183) detected in PATH at C:\\chromedriver-win64\\chromedriver.exe might not be compatible with the detected chrome version (139.0.7258.155); currently, chromedriver 139.0.7258.154 is recommended for chrome 139.*, so it is advised to delete the driver in PATH and retry\n"
     ]
    },
    {
     "name": "stdout",
     "output_type": "stream",
     "text": [
      "Data-related classes: ['s-post-summary', 'js-post-summary', 's-post-summary--stats', 'js-post-summary-stats', 's-post-summary--stats-item__emphasized', 's-post-summary--content', 's-post-summary--content-title', 's-post-summary--content-excerpt', 's-post-summary--meta', 's-post-summary--meta-tags', 'd-inline-block', 'tags', 'js-tags', 'ml0', 'list-ls-none', 'js-post-tag-list-wrapper', 's-user-card', 's-user-card__minimal', 's-avatar', 's-avatar__16', 's-user-card--avatar', 'gravatar-wrapper-16', 's-avatar--image', 's-user-card--info', 's-user-card--link', 's-user-card--time', 'relativetime']\n"
     ]
    },
    {
     "name": "stderr",
     "output_type": "stream",
     "text": [
      "The chromedriver version (138.0.7204.183) detected in PATH at C:\\chromedriver-win64\\chromedriver.exe might not be compatible with the detected chrome version (139.0.7258.155); currently, chromedriver 139.0.7258.154 is recommended for chrome 139.*, so it is advised to delete the driver in PATH and retry\n"
     ]
    },
    {
     "name": "stdout",
     "output_type": "stream",
     "text": [
      "Data-related classes: ['s-post-summary', 'js-post-summary', 's-post-summary--stats', 'js-post-summary-stats', 's-post-summary--stats-item__emphasized', 's-post-summary--content', 's-post-summary--content-title', 's-post-summary--content-excerpt', 's-post-summary--meta', 's-post-summary--meta-tags', 'd-inline-block', 'tags', 'js-tags', 'ml0', 'list-ls-none', 'js-post-tag-list-wrapper', 's-user-card', 's-user-card__minimal', 's-avatar', 's-avatar__16', 's-user-card--avatar', 'gravatar-wrapper-16', 's-avatar--image', 's-user-card--info', 's-user-card--link', 's-user-card--time', 'relativetime']\n"
     ]
    },
    {
     "name": "stderr",
     "output_type": "stream",
     "text": [
      "The chromedriver version (138.0.7204.183) detected in PATH at C:\\chromedriver-win64\\chromedriver.exe might not be compatible with the detected chrome version (139.0.7258.155); currently, chromedriver 139.0.7258.154 is recommended for chrome 139.*, so it is advised to delete the driver in PATH and retry\n",
      "The chromedriver version (138.0.7204.183) detected in PATH at C:\\chromedriver-win64\\chromedriver.exe might not be compatible with the detected chrome version (139.0.7258.155); currently, chromedriver 139.0.7258.154 is recommended for chrome 139.*, so it is advised to delete the driver in PATH and retry\n"
     ]
    },
    {
     "name": "stdout",
     "output_type": "stream",
     "text": [
      "Data-related classes: ['s-post-summary', 'js-post-summary', 's-post-summary--stats', 'js-post-summary-stats', 's-post-summary--stats-item__emphasized', 's-post-summary--content', 's-post-summary--content-title', 's-post-summary--content-excerpt', 's-post-summary--meta', 's-post-summary--meta-tags', 'd-inline-block', 'tags', 'js-tags', 'ml0', 'list-ls-none', 'js-post-tag-list-wrapper', 's-user-card', 's-user-card__minimal', 's-avatar', 's-avatar__16', 's-user-card--avatar', 'gravatar-wrapper-16', 's-avatar--image', 's-user-card--info', 's-user-card--link', 's-user-card--time', 'relativetime']\n"
     ]
    },
    {
     "name": "stderr",
     "output_type": "stream",
     "text": [
      "The chromedriver version (138.0.7204.183) detected in PATH at C:\\chromedriver-win64\\chromedriver.exe might not be compatible with the detected chrome version (139.0.7258.155); currently, chromedriver 139.0.7258.154 is recommended for chrome 139.*, so it is advised to delete the driver in PATH and retry\n"
     ]
    },
    {
     "name": "stdout",
     "output_type": "stream",
     "text": [
      "Data-related classes: ['s-post-summary', 'js-post-summary', 's-post-summary--stats', 'js-post-summary-stats', 's-post-summary--stats-item__emphasized', 's-post-summary--content', 's-post-summary--content-title', 's-post-summary--content-excerpt', 's-post-summary--meta', 's-post-summary--meta-tags', 'd-inline-block', 'tags', 'js-tags', 'ml0', 'list-ls-none', 'js-post-tag-list-wrapper', 's-user-card', 's-user-card__minimal', 's-avatar', 's-avatar__16', 's-user-card--avatar', 'gravatar-wrapper-16', 's-avatar--image', 's-user-card--info', 's-user-card--link', 's-user-card--time', 'relativetime']\n"
     ]
    },
    {
     "name": "stderr",
     "output_type": "stream",
     "text": [
      "The chromedriver version (138.0.7204.183) detected in PATH at C:\\chromedriver-win64\\chromedriver.exe might not be compatible with the detected chrome version (139.0.7258.155); currently, chromedriver 139.0.7258.154 is recommended for chrome 139.*, so it is advised to delete the driver in PATH and retry\n",
      "The chromedriver version (138.0.7204.183) detected in PATH at C:\\chromedriver-win64\\chromedriver.exe might not be compatible with the detected chrome version (139.0.7258.155); currently, chromedriver 139.0.7258.154 is recommended for chrome 139.*, so it is advised to delete the driver in PATH and retry\n"
     ]
    },
    {
     "name": "stdout",
     "output_type": "stream",
     "text": [
      "Data-related classes: ['s-post-summary', 'js-post-summary', 's-post-summary--stats', 'js-post-summary-stats', 's-post-summary--stats-item__emphasized', 's-post-summary--content', 's-post-summary--content-title', 's-post-summary--content-excerpt', 's-post-summary--meta', 's-post-summary--meta-tags', 'd-inline-block', 'tags', 'js-tags', 'ml0', 'list-ls-none', 'js-post-tag-list-wrapper', 's-user-card', 's-user-card__minimal', 's-avatar', 's-avatar__16', 's-user-card--avatar', 'gravatar-wrapper-16', 's-avatar--image', 's-user-card--info', 's-user-card--link', 's-user-card--time', 'relativetime']\n"
     ]
    },
    {
     "name": "stderr",
     "output_type": "stream",
     "text": [
      "The chromedriver version (138.0.7204.183) detected in PATH at C:\\chromedriver-win64\\chromedriver.exe might not be compatible with the detected chrome version (139.0.7258.155); currently, chromedriver 139.0.7258.154 is recommended for chrome 139.*, so it is advised to delete the driver in PATH and retry\n"
     ]
    },
    {
     "name": "stdout",
     "output_type": "stream",
     "text": [
      "Data-related classes: ['s-post-summary', 'js-post-summary', 's-post-summary--stats', 'js-post-summary-stats', 's-post-summary--stats-item__emphasized', 's-post-summary--content', 's-post-summary--content-title', 's-post-summary--content-excerpt', 's-post-summary--meta', 's-post-summary--meta-tags', 'd-inline-block', 'tags', 'js-tags', 'ml0', 'list-ls-none', 'js-post-tag-list-wrapper', 's-user-card', 's-user-card__minimal', 's-avatar', 's-avatar__16', 's-user-card--avatar', 'gravatar-wrapper-16', 's-avatar--image', 's-user-card--info', 's-user-card--link', 's-user-card--time', 'relativetime']\n"
     ]
    },
    {
     "name": "stderr",
     "output_type": "stream",
     "text": [
      "The chromedriver version (138.0.7204.183) detected in PATH at C:\\chromedriver-win64\\chromedriver.exe might not be compatible with the detected chrome version (139.0.7258.155); currently, chromedriver 139.0.7258.154 is recommended for chrome 139.*, so it is advised to delete the driver in PATH and retry\n"
     ]
    },
    {
     "name": "stdout",
     "output_type": "stream",
     "text": [
      "Data-related classes: ['s-post-summary', 'js-post-summary', 's-post-summary--stats', 'js-post-summary-stats', 's-post-summary--stats-item__emphasized', 's-post-summary--content', 's-post-summary--content-title', 's-post-summary--content-excerpt', 's-post-summary--meta', 's-post-summary--meta-tags', 'd-inline-block', 'tags', 'js-tags', 'ml0', 'list-ls-none', 'js-post-tag-list-wrapper', 's-user-card', 's-user-card__minimal', 's-avatar', 's-avatar__16', 's-user-card--avatar', 'gravatar-wrapper-16', 's-avatar--image', 's-user-card--info', 's-user-card--link', 's-user-card--time', 'relativetime']\n"
     ]
    },
    {
     "name": "stderr",
     "output_type": "stream",
     "text": [
      "The chromedriver version (138.0.7204.183) detected in PATH at C:\\chromedriver-win64\\chromedriver.exe might not be compatible with the detected chrome version (139.0.7258.155); currently, chromedriver 139.0.7258.154 is recommended for chrome 139.*, so it is advised to delete the driver in PATH and retry\n",
      "The chromedriver version (138.0.7204.183) detected in PATH at C:\\chromedriver-win64\\chromedriver.exe might not be compatible with the detected chrome version (139.0.7258.155); currently, chromedriver 139.0.7258.154 is recommended for chrome 139.*, so it is advised to delete the driver in PATH and retry\n"
     ]
    },
    {
     "name": "stdout",
     "output_type": "stream",
     "text": [
      "Data-related classes: ['s-post-summary', 'js-post-summary', 's-post-summary--stats', 'js-post-summary-stats', 's-post-summary--stats-item__emphasized', 's-post-summary--content', 's-post-summary--content-title', 's-post-summary--content-excerpt', 's-post-summary--meta', 's-post-summary--meta-tags', 'd-inline-block', 'tags', 'js-tags', 'ml0', 'list-ls-none', 'js-post-tag-list-wrapper', 's-user-card', 's-user-card__minimal', 's-avatar', 's-avatar__16', 's-user-card--avatar', 'gravatar-wrapper-16', 's-avatar--image', 's-user-card--info', 's-user-card--link', 's-user-card--time', 'relativetime']\n"
     ]
    },
    {
     "name": "stderr",
     "output_type": "stream",
     "text": [
      "The chromedriver version (138.0.7204.183) detected in PATH at C:\\chromedriver-win64\\chromedriver.exe might not be compatible with the detected chrome version (139.0.7258.155); currently, chromedriver 139.0.7258.154 is recommended for chrome 139.*, so it is advised to delete the driver in PATH and retry\n"
     ]
    },
    {
     "name": "stdout",
     "output_type": "stream",
     "text": [
      "Data-related classes: ['s-post-summary', 'js-post-summary', 's-post-summary--stats', 'js-post-summary-stats', 's-post-summary--stats-item__emphasized', 's-post-summary--content', 's-post-summary--content-title', 's-post-summary--content-excerpt', 's-post-summary--meta', 's-post-summary--meta-tags', 'd-inline-block', 'tags', 'js-tags', 'ml0', 'list-ls-none', 'js-post-tag-list-wrapper', 's-user-card', 's-user-card__minimal', 's-avatar', 's-avatar__16', 's-user-card--avatar', 'gravatar-wrapper-16', 's-avatar--image', 's-user-card--info', 's-user-card--link', 's-user-card--time', 'relativetime']\n"
     ]
    },
    {
     "name": "stderr",
     "output_type": "stream",
     "text": [
      "The chromedriver version (138.0.7204.183) detected in PATH at C:\\chromedriver-win64\\chromedriver.exe might not be compatible with the detected chrome version (139.0.7258.155); currently, chromedriver 139.0.7258.154 is recommended for chrome 139.*, so it is advised to delete the driver in PATH and retry\n",
      "The chromedriver version (138.0.7204.183) detected in PATH at C:\\chromedriver-win64\\chromedriver.exe might not be compatible with the detected chrome version (139.0.7258.155); currently, chromedriver 139.0.7258.154 is recommended for chrome 139.*, so it is advised to delete the driver in PATH and retry\n"
     ]
    },
    {
     "name": "stdout",
     "output_type": "stream",
     "text": [
      "Data-related classes: ['s-post-summary', 'js-post-summary', 's-post-summary--stats', 'js-post-summary-stats', 's-post-summary--stats-item__emphasized', 's-post-summary--content', 's-post-summary--content-title', 's-post-summary--content-excerpt', 's-post-summary--meta', 's-post-summary--meta-tags', 'd-inline-block', 'tags', 'js-tags', 'ml0', 'list-ls-none', 'js-post-tag-list-wrapper', 's-user-card', 's-user-card__minimal', 's-avatar', 's-avatar__16', 's-user-card--avatar', 'gravatar-wrapper-16', 's-avatar--image', 's-user-card--info', 's-user-card--link', 's-user-card--time', 'relativetime']\n"
     ]
    },
    {
     "name": "stderr",
     "output_type": "stream",
     "text": [
      "The chromedriver version (138.0.7204.183) detected in PATH at C:\\chromedriver-win64\\chromedriver.exe might not be compatible with the detected chrome version (139.0.7258.155); currently, chromedriver 139.0.7258.154 is recommended for chrome 139.*, so it is advised to delete the driver in PATH and retry\n"
     ]
    },
    {
     "name": "stdout",
     "output_type": "stream",
     "text": [
      "Data-related classes: ['s-post-summary', 'js-post-summary', 's-post-summary--stats', 'js-post-summary-stats', 's-post-summary--stats-item__emphasized', 's-post-summary--content', 's-post-summary--content-title', 's-post-summary--content-excerpt', 's-post-summary--meta', 's-post-summary--meta-tags', 'd-inline-block', 'tags', 'js-tags', 'ml0', 'list-ls-none', 'js-post-tag-list-wrapper', 's-user-card', 's-user-card__minimal', 's-avatar', 's-avatar__16', 's-user-card--avatar', 'gravatar-wrapper-16', 's-avatar--image', 's-user-card--info', 's-user-card--link', 's-user-card--time', 'relativetime']\n"
     ]
    },
    {
     "name": "stderr",
     "output_type": "stream",
     "text": [
      "The chromedriver version (138.0.7204.183) detected in PATH at C:\\chromedriver-win64\\chromedriver.exe might not be compatible with the detected chrome version (139.0.7258.155); currently, chromedriver 139.0.7258.154 is recommended for chrome 139.*, so it is advised to delete the driver in PATH and retry\n"
     ]
    },
    {
     "name": "stdout",
     "output_type": "stream",
     "text": [
      "Data-related classes: ['s-post-summary', 'js-post-summary', 's-post-summary--stats', 'js-post-summary-stats', 's-post-summary--stats-item__emphasized', 's-post-summary--content', 's-post-summary--content-title', 's-post-summary--content-excerpt', 's-post-summary--meta', 's-post-summary--meta-tags', 'd-inline-block', 'tags', 'js-tags', 'ml0', 'list-ls-none', 'js-post-tag-list-wrapper', 's-user-card', 's-user-card__minimal', 's-avatar', 's-avatar__16', 's-user-card--avatar', 'gravatar-wrapper-16', 's-avatar--image', 's-user-card--info', 's-user-card--link', 's-user-card--time', 'relativetime']\n"
     ]
    },
    {
     "name": "stderr",
     "output_type": "stream",
     "text": [
      "The chromedriver version (138.0.7204.183) detected in PATH at C:\\chromedriver-win64\\chromedriver.exe might not be compatible with the detected chrome version (139.0.7258.155); currently, chromedriver 139.0.7258.154 is recommended for chrome 139.*, so it is advised to delete the driver in PATH and retry\n",
      "The chromedriver version (138.0.7204.183) detected in PATH at C:\\chromedriver-win64\\chromedriver.exe might not be compatible with the detected chrome version (139.0.7258.155); currently, chromedriver 139.0.7258.154 is recommended for chrome 139.*, so it is advised to delete the driver in PATH and retry\n"
     ]
    },
    {
     "name": "stdout",
     "output_type": "stream",
     "text": [
      "Data-related classes: ['s-post-summary', 'js-post-summary', 's-post-summary--stats', 'js-post-summary-stats', 's-post-summary--stats-item__emphasized', 's-post-summary--content', 's-post-summary--content-title', 's-post-summary--content-excerpt', 's-post-summary--meta', 's-post-summary--meta-tags', 'd-inline-block', 'tags', 'js-tags', 'ml0', 'list-ls-none', 'js-post-tag-list-wrapper', 's-user-card', 's-user-card__minimal', 's-avatar', 's-avatar__16', 's-user-card--avatar', 'gravatar-wrapper-16', 's-avatar--image', 's-user-card--info', 's-user-card--link', 's-user-card--time', 'relativetime']\n"
     ]
    },
    {
     "name": "stderr",
     "output_type": "stream",
     "text": [
      "The chromedriver version (138.0.7204.183) detected in PATH at C:\\chromedriver-win64\\chromedriver.exe might not be compatible with the detected chrome version (139.0.7258.155); currently, chromedriver 139.0.7258.154 is recommended for chrome 139.*, so it is advised to delete the driver in PATH and retry\n"
     ]
    },
    {
     "name": "stdout",
     "output_type": "stream",
     "text": [
      "Data-related classes: ['s-post-summary', 'js-post-summary', 's-post-summary--stats', 'js-post-summary-stats', 's-post-summary--stats-item__emphasized', 's-post-summary--content', 's-post-summary--content-title', 's-post-summary--content-excerpt', 's-post-summary--meta', 's-post-summary--meta-tags', 'd-inline-block', 'tags', 'js-tags', 'ml0', 'list-ls-none', 'js-post-tag-list-wrapper', 's-user-card', 's-user-card__minimal', 's-avatar', 's-avatar__16', 's-user-card--avatar', 'gravatar-wrapper-16', 's-avatar--image', 's-user-card--info', 's-user-card--link', 's-user-card--time', 'relativetime']\n"
     ]
    },
    {
     "name": "stderr",
     "output_type": "stream",
     "text": [
      "The chromedriver version (138.0.7204.183) detected in PATH at C:\\chromedriver-win64\\chromedriver.exe might not be compatible with the detected chrome version (139.0.7258.155); currently, chromedriver 139.0.7258.154 is recommended for chrome 139.*, so it is advised to delete the driver in PATH and retry\n"
     ]
    },
    {
     "name": "stdout",
     "output_type": "stream",
     "text": [
      "Data-related classes: ['s-post-summary', 'js-post-summary', 's-post-summary--stats', 'js-post-summary-stats', 's-post-summary--stats-item__emphasized', 's-post-summary--content', 's-post-summary--content-title', 's-post-summary--content-excerpt', 's-post-summary--meta', 's-post-summary--meta-tags', 'd-inline-block', 'tags', 'js-tags', 'ml0', 'list-ls-none', 'js-post-tag-list-wrapper', 's-user-card', 's-user-card__minimal', 's-avatar', 's-avatar__16', 's-user-card--avatar', 'gravatar-wrapper-16', 's-avatar--image', 's-user-card--info', 's-user-card--link', 's-user-card--time', 'relativetime']\n"
     ]
    },
    {
     "name": "stderr",
     "output_type": "stream",
     "text": [
      "The chromedriver version (138.0.7204.183) detected in PATH at C:\\chromedriver-win64\\chromedriver.exe might not be compatible with the detected chrome version (139.0.7258.155); currently, chromedriver 139.0.7258.154 is recommended for chrome 139.*, so it is advised to delete the driver in PATH and retry\n",
      "The chromedriver version (138.0.7204.183) detected in PATH at C:\\chromedriver-win64\\chromedriver.exe might not be compatible with the detected chrome version (139.0.7258.155); currently, chromedriver 139.0.7258.154 is recommended for chrome 139.*, so it is advised to delete the driver in PATH and retry\n",
      "The chromedriver version (138.0.7204.183) detected in PATH at C:\\chromedriver-win64\\chromedriver.exe might not be compatible with the detected chrome version (139.0.7258.155); currently, chromedriver 139.0.7258.154 is recommended for chrome 139.*, so it is advised to delete the driver in PATH and retry\n"
     ]
    },
    {
     "name": "stdout",
     "output_type": "stream",
     "text": [
      "Data-related classes: ['s-post-summary', 'js-post-summary', 's-post-summary--stats', 'js-post-summary-stats', 's-post-summary--stats-item__emphasized', 's-post-summary--content', 's-post-summary--content-title', 's-post-summary--content-excerpt', 's-post-summary--meta', 's-post-summary--meta-tags', 'd-inline-block', 'tags', 'js-tags', 'ml0', 'list-ls-none', 'js-post-tag-list-wrapper', 's-user-card', 's-user-card__minimal', 's-avatar', 's-avatar__16', 's-user-card--avatar', 'gravatar-wrapper-16', 's-avatar--image', 's-user-card--info', 's-user-card--link', 's-user-card--time', 'relativetime']\n"
     ]
    },
    {
     "name": "stderr",
     "output_type": "stream",
     "text": [
      "The chromedriver version (138.0.7204.183) detected in PATH at C:\\chromedriver-win64\\chromedriver.exe might not be compatible with the detected chrome version (139.0.7258.155); currently, chromedriver 139.0.7258.154 is recommended for chrome 139.*, so it is advised to delete the driver in PATH and retry\n"
     ]
    },
    {
     "name": "stdout",
     "output_type": "stream",
     "text": [
      "Data-related classes: ['s-post-summary', 'js-post-summary', 's-post-summary--stats', 'js-post-summary-stats', 's-post-summary--stats-item__emphasized', 's-post-summary--content', 's-post-summary--content-title', 's-post-summary--content-excerpt', 's-post-summary--meta', 's-post-summary--meta-tags', 'd-inline-block', 'tags', 'js-tags', 'ml0', 'list-ls-none', 'js-post-tag-list-wrapper', 's-user-card', 's-user-card__minimal', 's-avatar', 's-avatar__16', 's-user-card--avatar', 'gravatar-wrapper-16', 's-avatar--image', 's-user-card--info', 's-user-card--link', 's-user-card--time', 'relativetime']\n"
     ]
    },
    {
     "name": "stderr",
     "output_type": "stream",
     "text": [
      "The chromedriver version (138.0.7204.183) detected in PATH at C:\\chromedriver-win64\\chromedriver.exe might not be compatible with the detected chrome version (139.0.7258.155); currently, chromedriver 139.0.7258.154 is recommended for chrome 139.*, so it is advised to delete the driver in PATH and retry\n",
      "The chromedriver version (138.0.7204.183) detected in PATH at C:\\chromedriver-win64\\chromedriver.exe might not be compatible with the detected chrome version (139.0.7258.155); currently, chromedriver 139.0.7258.154 is recommended for chrome 139.*, so it is advised to delete the driver in PATH and retry\n"
     ]
    },
    {
     "name": "stdout",
     "output_type": "stream",
     "text": [
      "Data-related classes: ['s-post-summary', 'js-post-summary', 's-post-summary--stats', 'js-post-summary-stats', 's-post-summary--stats-item__emphasized', 's-post-summary--content', 's-post-summary--content-title', 's-post-summary--content-excerpt', 's-post-summary--meta', 's-post-summary--meta-tags', 'd-inline-block', 'tags', 'js-tags', 'ml0', 'list-ls-none', 'js-post-tag-list-wrapper', 's-user-card', 's-user-card__minimal', 's-avatar', 's-avatar__16', 's-user-card--avatar', 'gravatar-wrapper-16', 's-avatar--image', 's-user-card--info', 's-user-card--link', 's-user-card--time', 'relativetime']\n"
     ]
    },
    {
     "name": "stderr",
     "output_type": "stream",
     "text": [
      "The chromedriver version (138.0.7204.183) detected in PATH at C:\\chromedriver-win64\\chromedriver.exe might not be compatible with the detected chrome version (139.0.7258.155); currently, chromedriver 139.0.7258.154 is recommended for chrome 139.*, so it is advised to delete the driver in PATH and retry\n"
     ]
    },
    {
     "name": "stdout",
     "output_type": "stream",
     "text": [
      "Data-related classes: ['s-post-summary', 'js-post-summary', 's-post-summary--stats', 'js-post-summary-stats', 's-post-summary--stats-item__emphasized', 's-post-summary--content', 's-post-summary--content-title', 's-post-summary--content-excerpt', 's-post-summary--meta', 's-post-summary--meta-tags', 'd-inline-block', 'tags', 'js-tags', 'ml0', 'list-ls-none', 'js-post-tag-list-wrapper', 's-user-card', 's-user-card__minimal', 's-avatar', 's-avatar__16', 's-user-card--avatar', 'gravatar-wrapper-16', 's-avatar--image', 's-user-card--info', 's-user-card--link', 's-user-card--time', 'relativetime']\n"
     ]
    },
    {
     "name": "stderr",
     "output_type": "stream",
     "text": [
      "The chromedriver version (138.0.7204.183) detected in PATH at C:\\chromedriver-win64\\chromedriver.exe might not be compatible with the detected chrome version (139.0.7258.155); currently, chromedriver 139.0.7258.154 is recommended for chrome 139.*, so it is advised to delete the driver in PATH and retry\n"
     ]
    },
    {
     "name": "stdout",
     "output_type": "stream",
     "text": [
      "Data-related classes: ['s-post-summary', 'js-post-summary', 's-post-summary--stats', 'js-post-summary-stats', 's-post-summary--stats-item__emphasized', 's-post-summary--content', 's-post-summary--content-title', 's-post-summary--content-excerpt', 's-post-summary--meta', 's-post-summary--meta-tags', 'd-inline-block', 'tags', 'js-tags', 'ml0', 'list-ls-none', 'js-post-tag-list-wrapper', 's-user-card', 's-user-card__minimal', 's-avatar', 's-avatar__16', 's-user-card--avatar', 'gravatar-wrapper-16', 's-avatar--image', 's-user-card--info', 's-user-card--link', 's-user-card--time', 'relativetime']\n"
     ]
    },
    {
     "name": "stderr",
     "output_type": "stream",
     "text": [
      "The chromedriver version (138.0.7204.183) detected in PATH at C:\\chromedriver-win64\\chromedriver.exe might not be compatible with the detected chrome version (139.0.7258.155); currently, chromedriver 139.0.7258.154 is recommended for chrome 139.*, so it is advised to delete the driver in PATH and retry\n",
      "The chromedriver version (138.0.7204.183) detected in PATH at C:\\chromedriver-win64\\chromedriver.exe might not be compatible with the detected chrome version (139.0.7258.155); currently, chromedriver 139.0.7258.154 is recommended for chrome 139.*, so it is advised to delete the driver in PATH and retry\n"
     ]
    },
    {
     "name": "stdout",
     "output_type": "stream",
     "text": [
      "Data-related classes: ['s-post-summary', 'js-post-summary', 's-post-summary--stats', 'js-post-summary-stats', 's-post-summary--stats-item__emphasized', 's-post-summary--content', 's-post-summary--content-title', 's-post-summary--content-excerpt', 's-post-summary--meta', 's-post-summary--meta-tags', 'd-inline-block', 'tags', 'js-tags', 'ml0', 'list-ls-none', 'js-post-tag-list-wrapper', 's-user-card', 's-user-card__minimal', 's-avatar', 's-avatar__16', 's-user-card--avatar', 'gravatar-wrapper-16', 's-avatar--image', 's-user-card--info', 's-user-card--link', 's-user-card--time', 'relativetime']\n"
     ]
    },
    {
     "name": "stderr",
     "output_type": "stream",
     "text": [
      "The chromedriver version (138.0.7204.183) detected in PATH at C:\\chromedriver-win64\\chromedriver.exe might not be compatible with the detected chrome version (139.0.7258.155); currently, chromedriver 139.0.7258.154 is recommended for chrome 139.*, so it is advised to delete the driver in PATH and retry\n"
     ]
    },
    {
     "name": "stdout",
     "output_type": "stream",
     "text": [
      "Data-related classes: ['s-post-summary', 'js-post-summary', 's-post-summary--stats', 'js-post-summary-stats', 's-post-summary--stats-item__emphasized', 's-post-summary--content', 's-post-summary--content-title', 's-post-summary--content-excerpt', 's-post-summary--meta', 's-post-summary--meta-tags', 'd-inline-block', 'tags', 'js-tags', 'ml0', 'list-ls-none', 'js-post-tag-list-wrapper', 's-user-card', 's-user-card__minimal', 's-avatar', 's-avatar__16', 's-user-card--avatar', 'gravatar-wrapper-16', 's-avatar--image', 's-user-card--info', 's-user-card--link', 's-user-card--time', 'relativetime']\n"
     ]
    },
    {
     "name": "stderr",
     "output_type": "stream",
     "text": [
      "The chromedriver version (138.0.7204.183) detected in PATH at C:\\chromedriver-win64\\chromedriver.exe might not be compatible with the detected chrome version (139.0.7258.155); currently, chromedriver 139.0.7258.154 is recommended for chrome 139.*, so it is advised to delete the driver in PATH and retry\n"
     ]
    },
    {
     "name": "stdout",
     "output_type": "stream",
     "text": [
      "Data-related classes: ['s-post-summary', 'js-post-summary', 's-post-summary--stats', 'js-post-summary-stats', 's-post-summary--stats-item__emphasized', 's-post-summary--content', 's-post-summary--content-title', 's-post-summary--content-excerpt', 's-post-summary--meta', 's-post-summary--meta-tags', 'd-inline-block', 'tags', 'js-tags', 'ml0', 'list-ls-none', 'js-post-tag-list-wrapper', 's-user-card', 's-user-card__minimal', 's-avatar', 's-avatar__16', 's-user-card--avatar', 'gravatar-wrapper-16', 's-avatar--image', 's-user-card--info', 's-user-card--link', 's-user-card--time', 'relativetime']\n"
     ]
    },
    {
     "name": "stderr",
     "output_type": "stream",
     "text": [
      "The chromedriver version (138.0.7204.183) detected in PATH at C:\\chromedriver-win64\\chromedriver.exe might not be compatible with the detected chrome version (139.0.7258.155); currently, chromedriver 139.0.7258.154 is recommended for chrome 139.*, so it is advised to delete the driver in PATH and retry\n",
      "The chromedriver version (138.0.7204.183) detected in PATH at C:\\chromedriver-win64\\chromedriver.exe might not be compatible with the detected chrome version (139.0.7258.155); currently, chromedriver 139.0.7258.154 is recommended for chrome 139.*, so it is advised to delete the driver in PATH and retry\n"
     ]
    },
    {
     "name": "stdout",
     "output_type": "stream",
     "text": [
      "Data-related classes: ['s-post-summary', 'js-post-summary', 's-post-summary--stats', 'js-post-summary-stats', 's-post-summary--stats-item__emphasized', 's-post-summary--content', 's-post-summary--content-title', 's-post-summary--content-excerpt', 's-post-summary--meta', 's-post-summary--meta-tags', 'd-inline-block', 'tags', 'js-tags', 'ml0', 'list-ls-none', 'js-post-tag-list-wrapper', 's-user-card', 's-user-card__minimal', 's-avatar', 's-avatar__16', 's-user-card--avatar', 'gravatar-wrapper-16', 's-avatar--image', 's-user-card--info', 's-user-card--link', 's-user-card--time', 'relativetime']\n"
     ]
    },
    {
     "name": "stderr",
     "output_type": "stream",
     "text": [
      "The chromedriver version (138.0.7204.183) detected in PATH at C:\\chromedriver-win64\\chromedriver.exe might not be compatible with the detected chrome version (139.0.7258.155); currently, chromedriver 139.0.7258.154 is recommended for chrome 139.*, so it is advised to delete the driver in PATH and retry\n"
     ]
    },
    {
     "name": "stdout",
     "output_type": "stream",
     "text": [
      "Data-related classes: ['s-post-summary', 'js-post-summary', 's-post-summary--stats', 'js-post-summary-stats', 's-post-summary--stats-item__emphasized', 's-post-summary--content', 's-post-summary--content-title', 's-post-summary--content-excerpt', 's-post-summary--meta', 's-post-summary--meta-tags', 'd-inline-block', 'tags', 'js-tags', 'ml0', 'list-ls-none', 'js-post-tag-list-wrapper', 's-user-card', 's-user-card__minimal', 's-avatar', 's-avatar__16', 's-user-card--avatar', 'gravatar-wrapper-16', 's-avatar--image', 's-user-card--info', 's-user-card--link', 's-user-card--time', 'relativetime']\n"
     ]
    },
    {
     "name": "stderr",
     "output_type": "stream",
     "text": [
      "The chromedriver version (138.0.7204.183) detected in PATH at C:\\chromedriver-win64\\chromedriver.exe might not be compatible with the detected chrome version (139.0.7258.155); currently, chromedriver 139.0.7258.154 is recommended for chrome 139.*, so it is advised to delete the driver in PATH and retry\n",
      "The chromedriver version (138.0.7204.183) detected in PATH at C:\\chromedriver-win64\\chromedriver.exe might not be compatible with the detected chrome version (139.0.7258.155); currently, chromedriver 139.0.7258.154 is recommended for chrome 139.*, so it is advised to delete the driver in PATH and retry\n"
     ]
    },
    {
     "name": "stdout",
     "output_type": "stream",
     "text": [
      "Data-related classes: ['s-post-summary', 'js-post-summary', 's-post-summary--stats', 'js-post-summary-stats', 's-post-summary--stats-item__emphasized', 's-post-summary--content', 's-post-summary--content-title', 's-post-summary--content-excerpt', 's-post-summary--meta', 's-post-summary--meta-tags', 'd-inline-block', 'tags', 'js-tags', 'ml0', 'list-ls-none', 'js-post-tag-list-wrapper', 's-user-card', 's-user-card__minimal', 's-avatar', 's-avatar__16', 's-user-card--avatar', 'gravatar-wrapper-16', 's-avatar--image', 's-user-card--info', 's-user-card--link', 's-user-card--time', 'relativetime']\n"
     ]
    },
    {
     "name": "stderr",
     "output_type": "stream",
     "text": [
      "The chromedriver version (138.0.7204.183) detected in PATH at C:\\chromedriver-win64\\chromedriver.exe might not be compatible with the detected chrome version (139.0.7258.155); currently, chromedriver 139.0.7258.154 is recommended for chrome 139.*, so it is advised to delete the driver in PATH and retry\n",
      "The chromedriver version (138.0.7204.183) detected in PATH at C:\\chromedriver-win64\\chromedriver.exe might not be compatible with the detected chrome version (139.0.7258.155); currently, chromedriver 139.0.7258.154 is recommended for chrome 139.*, so it is advised to delete the driver in PATH and retry\n"
     ]
    },
    {
     "name": "stdout",
     "output_type": "stream",
     "text": [
      "Data-related classes: ['s-post-summary', 'js-post-summary', 's-post-summary--stats', 'js-post-summary-stats', 's-post-summary--stats-item__emphasized', 's-post-summary--content', 's-post-summary--content-title', 's-post-summary--content-excerpt', 's-post-summary--meta', 's-post-summary--meta-tags', 'd-inline-block', 'tags', 'js-tags', 'ml0', 'list-ls-none', 'js-post-tag-list-wrapper', 's-user-card', 's-user-card__minimal', 's-avatar', 's-avatar__16', 's-user-card--avatar', 'gravatar-wrapper-16', 's-avatar--image', 's-user-card--info', 's-user-card--link', 's-user-card--time', 'relativetime']\n"
     ]
    },
    {
     "name": "stderr",
     "output_type": "stream",
     "text": [
      "The chromedriver version (138.0.7204.183) detected in PATH at C:\\chromedriver-win64\\chromedriver.exe might not be compatible with the detected chrome version (139.0.7258.155); currently, chromedriver 139.0.7258.154 is recommended for chrome 139.*, so it is advised to delete the driver in PATH and retry\n"
     ]
    },
    {
     "name": "stdout",
     "output_type": "stream",
     "text": [
      "Data-related classes: ['s-post-summary', 'js-post-summary', 's-post-summary--stats', 'js-post-summary-stats', 's-post-summary--stats-item__emphasized', 's-post-summary--content', 's-post-summary--content-title', 's-post-summary--content-excerpt', 's-post-summary--meta', 's-post-summary--meta-tags', 'd-inline-block', 'tags', 'js-tags', 'ml0', 'list-ls-none', 'js-post-tag-list-wrapper', 's-user-card', 's-user-card__minimal', 's-avatar', 's-avatar__16', 's-user-card--avatar', 'gravatar-wrapper-16', 's-avatar--image', 's-user-card--info', 's-user-card--link', 's-user-card--time', 'relativetime']\n"
     ]
    },
    {
     "name": "stderr",
     "output_type": "stream",
     "text": [
      "The chromedriver version (138.0.7204.183) detected in PATH at C:\\chromedriver-win64\\chromedriver.exe might not be compatible with the detected chrome version (139.0.7258.155); currently, chromedriver 139.0.7258.154 is recommended for chrome 139.*, so it is advised to delete the driver in PATH and retry\n"
     ]
    },
    {
     "name": "stdout",
     "output_type": "stream",
     "text": [
      "Data-related classes: ['s-post-summary', 'js-post-summary', 's-post-summary--stats', 'js-post-summary-stats', 's-post-summary--stats-item__emphasized', 's-post-summary--content', 's-post-summary--content-title', 's-post-summary--content-excerpt', 's-post-summary--meta', 's-post-summary--meta-tags', 'd-inline-block', 'tags', 'js-tags', 'ml0', 'list-ls-none', 'js-post-tag-list-wrapper', 's-user-card', 's-user-card__minimal', 's-avatar', 's-avatar__16', 's-user-card--avatar', 'gravatar-wrapper-16', 's-avatar--image', 's-user-card--info', 's-user-card--link', 's-user-card--time', 'relativetime']\n"
     ]
    },
    {
     "name": "stderr",
     "output_type": "stream",
     "text": [
      "The chromedriver version (138.0.7204.183) detected in PATH at C:\\chromedriver-win64\\chromedriver.exe might not be compatible with the detected chrome version (139.0.7258.155); currently, chromedriver 139.0.7258.154 is recommended for chrome 139.*, so it is advised to delete the driver in PATH and retry\n",
      "The chromedriver version (138.0.7204.183) detected in PATH at C:\\chromedriver-win64\\chromedriver.exe might not be compatible with the detected chrome version (139.0.7258.155); currently, chromedriver 139.0.7258.154 is recommended for chrome 139.*, so it is advised to delete the driver in PATH and retry\n"
     ]
    },
    {
     "name": "stdout",
     "output_type": "stream",
     "text": [
      "Data-related classes: ['s-post-summary', 'js-post-summary', 's-post-summary--stats', 'js-post-summary-stats', 's-post-summary--stats-item__emphasized', 's-post-summary--content', 's-post-summary--content-title', 's-post-summary--content-excerpt', 's-post-summary--meta', 's-post-summary--meta-tags', 'd-inline-block', 'tags', 'js-tags', 'ml0', 'list-ls-none', 'js-post-tag-list-wrapper', 's-user-card', 's-user-card__minimal', 's-avatar', 's-avatar__16', 's-user-card--avatar', 'gravatar-wrapper-16', 's-avatar--image', 's-user-card--info', 's-user-card--link', 's-user-card--time', 'relativetime']\n"
     ]
    },
    {
     "name": "stderr",
     "output_type": "stream",
     "text": [
      "The chromedriver version (138.0.7204.183) detected in PATH at C:\\chromedriver-win64\\chromedriver.exe might not be compatible with the detected chrome version (139.0.7258.155); currently, chromedriver 139.0.7258.154 is recommended for chrome 139.*, so it is advised to delete the driver in PATH and retry\n"
     ]
    },
    {
     "name": "stdout",
     "output_type": "stream",
     "text": [
      "Data-related classes: ['s-post-summary', 'js-post-summary', 's-post-summary--stats', 'js-post-summary-stats', 's-post-summary--stats-item__emphasized', 's-post-summary--content', 's-post-summary--content-title', 's-post-summary--content-excerpt', 's-post-summary--meta', 's-post-summary--meta-tags', 'd-inline-block', 'tags', 'js-tags', 'ml0', 'list-ls-none', 'js-post-tag-list-wrapper', 's-user-card', 's-user-card__minimal', 's-avatar', 's-avatar__16', 's-user-card--avatar', 'gravatar-wrapper-16', 's-avatar--image', 's-user-card--info', 's-user-card--link', 's-user-card--time', 'relativetime']\n"
     ]
    },
    {
     "name": "stderr",
     "output_type": "stream",
     "text": [
      "The chromedriver version (138.0.7204.183) detected in PATH at C:\\chromedriver-win64\\chromedriver.exe might not be compatible with the detected chrome version (139.0.7258.155); currently, chromedriver 139.0.7258.154 is recommended for chrome 139.*, so it is advised to delete the driver in PATH and retry\n"
     ]
    },
    {
     "name": "stdout",
     "output_type": "stream",
     "text": [
      "Data-related classes: ['s-post-summary', 'js-post-summary', 's-post-summary--stats', 'js-post-summary-stats', 's-post-summary--stats-item__emphasized', 's-post-summary--content', 's-post-summary--content-title', 's-post-summary--content-excerpt', 's-post-summary--meta', 's-post-summary--meta-tags', 'd-inline-block', 'tags', 'js-tags', 'ml0', 'list-ls-none', 'js-post-tag-list-wrapper', 's-user-card', 's-user-card__minimal', 's-avatar', 's-avatar__16', 's-user-card--avatar', 'gravatar-wrapper-16', 's-avatar--image', 's-user-card--info', 's-user-card--link', 's-user-card--time', 'relativetime']\n"
     ]
    },
    {
     "name": "stderr",
     "output_type": "stream",
     "text": [
      "The chromedriver version (138.0.7204.183) detected in PATH at C:\\chromedriver-win64\\chromedriver.exe might not be compatible with the detected chrome version (139.0.7258.155); currently, chromedriver 139.0.7258.154 is recommended for chrome 139.*, so it is advised to delete the driver in PATH and retry\n",
      "The chromedriver version (138.0.7204.183) detected in PATH at C:\\chromedriver-win64\\chromedriver.exe might not be compatible with the detected chrome version (139.0.7258.155); currently, chromedriver 139.0.7258.154 is recommended for chrome 139.*, so it is advised to delete the driver in PATH and retry\n"
     ]
    },
    {
     "name": "stdout",
     "output_type": "stream",
     "text": [
      "Data-related classes: ['s-post-summary', 'js-post-summary', 's-post-summary--stats', 'js-post-summary-stats', 's-post-summary--stats-item__emphasized', 's-post-summary--content', 's-post-summary--content-title', 's-post-summary--content-excerpt', 's-post-summary--meta', 's-post-summary--meta-tags', 'd-inline-block', 'tags', 'js-tags', 'ml0', 'list-ls-none', 'js-post-tag-list-wrapper', 's-user-card', 's-user-card__minimal', 's-avatar', 's-avatar__16', 's-user-card--avatar', 'gravatar-wrapper-16', 's-avatar--image', 's-user-card--info', 's-user-card--link', 's-user-card--time', 'relativetime']\n"
     ]
    },
    {
     "name": "stderr",
     "output_type": "stream",
     "text": [
      "The chromedriver version (138.0.7204.183) detected in PATH at C:\\chromedriver-win64\\chromedriver.exe might not be compatible with the detected chrome version (139.0.7258.155); currently, chromedriver 139.0.7258.154 is recommended for chrome 139.*, so it is advised to delete the driver in PATH and retry\n"
     ]
    },
    {
     "name": "stdout",
     "output_type": "stream",
     "text": [
      "Data-related classes: ['s-post-summary', 'js-post-summary', 's-post-summary--stats', 'js-post-summary-stats', 's-post-summary--stats-item__emphasized', 's-post-summary--content', 's-post-summary--content-title', 's-post-summary--content-excerpt', 's-post-summary--meta', 's-post-summary--meta-tags', 'd-inline-block', 'tags', 'js-tags', 'ml0', 'list-ls-none', 'js-post-tag-list-wrapper', 's-user-card', 's-user-card__minimal', 's-avatar', 's-avatar__16', 's-user-card--avatar', 'gravatar-wrapper-16', 's-avatar--image', 's-user-card--info', 's-user-card--link', 's-user-card--time', 'relativetime']\n"
     ]
    },
    {
     "name": "stderr",
     "output_type": "stream",
     "text": [
      "The chromedriver version (138.0.7204.183) detected in PATH at C:\\chromedriver-win64\\chromedriver.exe might not be compatible with the detected chrome version (139.0.7258.155); currently, chromedriver 139.0.7258.154 is recommended for chrome 139.*, so it is advised to delete the driver in PATH and retry\n"
     ]
    },
    {
     "name": "stdout",
     "output_type": "stream",
     "text": [
      "Data-related classes: ['s-post-summary', 'js-post-summary', 's-post-summary--stats', 'js-post-summary-stats', 's-post-summary--stats-item__emphasized', 's-post-summary--content', 's-post-summary--content-title', 's-post-summary--content-excerpt', 's-post-summary--meta', 's-post-summary--meta-tags', 'd-inline-block', 'tags', 'js-tags', 'ml0', 'list-ls-none', 'js-post-tag-list-wrapper', 's-user-card', 's-user-card__minimal', 's-avatar', 's-avatar__16', 's-user-card--avatar', 'gravatar-wrapper-16', 's-avatar--image', 's-user-card--info', 's-user-card--link', 's-user-card--time', 'relativetime']\n"
     ]
    },
    {
     "name": "stderr",
     "output_type": "stream",
     "text": [
      "The chromedriver version (138.0.7204.183) detected in PATH at C:\\chromedriver-win64\\chromedriver.exe might not be compatible with the detected chrome version (139.0.7258.155); currently, chromedriver 139.0.7258.154 is recommended for chrome 139.*, so it is advised to delete the driver in PATH and retry\n",
      "The chromedriver version (138.0.7204.183) detected in PATH at C:\\chromedriver-win64\\chromedriver.exe might not be compatible with the detected chrome version (139.0.7258.155); currently, chromedriver 139.0.7258.154 is recommended for chrome 139.*, so it is advised to delete the driver in PATH and retry\n"
     ]
    },
    {
     "name": "stdout",
     "output_type": "stream",
     "text": [
      "Data-related classes: ['s-post-summary', 'js-post-summary', 's-post-summary--stats', 'js-post-summary-stats', 's-post-summary--stats-item__emphasized', 's-post-summary--content', 's-post-summary--content-title', 's-post-summary--content-excerpt', 's-post-summary--meta', 's-post-summary--meta-tags', 'd-inline-block', 'tags', 'js-tags', 'ml0', 'list-ls-none', 'js-post-tag-list-wrapper', 's-user-card', 's-user-card__minimal', 's-avatar', 's-avatar__16', 's-user-card--avatar', 'gravatar-wrapper-16', 's-avatar--image', 's-user-card--info', 's-user-card--link', 's-user-card--time', 'relativetime']\n"
     ]
    },
    {
     "name": "stderr",
     "output_type": "stream",
     "text": [
      "The chromedriver version (138.0.7204.183) detected in PATH at C:\\chromedriver-win64\\chromedriver.exe might not be compatible with the detected chrome version (139.0.7258.155); currently, chromedriver 139.0.7258.154 is recommended for chrome 139.*, so it is advised to delete the driver in PATH and retry\n"
     ]
    },
    {
     "name": "stdout",
     "output_type": "stream",
     "text": [
      "Data-related classes: ['s-post-summary', 'js-post-summary', 's-post-summary--stats', 'js-post-summary-stats', 's-post-summary--stats-item__emphasized', 's-post-summary--content', 's-post-summary--content-title', 's-post-summary--content-excerpt', 's-post-summary--meta', 's-post-summary--meta-tags', 'd-inline-block', 'tags', 'js-tags', 'ml0', 'list-ls-none', 'js-post-tag-list-wrapper', 's-user-card', 's-user-card__minimal', 's-avatar', 's-avatar__16', 's-user-card--avatar', 'gravatar-wrapper-16', 's-avatar--image', 's-user-card--info', 's-user-card--link', 's-user-card--time', 'relativetime']\n"
     ]
    },
    {
     "name": "stderr",
     "output_type": "stream",
     "text": [
      "The chromedriver version (138.0.7204.183) detected in PATH at C:\\chromedriver-win64\\chromedriver.exe might not be compatible with the detected chrome version (139.0.7258.155); currently, chromedriver 139.0.7258.154 is recommended for chrome 139.*, so it is advised to delete the driver in PATH and retry\n",
      "The chromedriver version (138.0.7204.183) detected in PATH at C:\\chromedriver-win64\\chromedriver.exe might not be compatible with the detected chrome version (139.0.7258.155); currently, chromedriver 139.0.7258.154 is recommended for chrome 139.*, so it is advised to delete the driver in PATH and retry\n"
     ]
    },
    {
     "name": "stdout",
     "output_type": "stream",
     "text": [
      "Data-related classes: ['s-post-summary', 'js-post-summary', 's-post-summary--stats', 'js-post-summary-stats', 's-post-summary--stats-item__emphasized', 's-post-summary--content', 's-post-summary--content-title', 's-post-summary--content-excerpt', 's-post-summary--meta', 's-post-summary--meta-tags', 'd-inline-block', 'tags', 'js-tags', 'ml0', 'list-ls-none', 'js-post-tag-list-wrapper', 's-user-card', 's-user-card__minimal', 's-avatar', 's-avatar__16', 's-user-card--avatar', 'gravatar-wrapper-16', 's-avatar--image', 's-user-card--info', 's-user-card--link', 's-user-card--time', 'relativetime']\n"
     ]
    },
    {
     "name": "stderr",
     "output_type": "stream",
     "text": [
      "The chromedriver version (138.0.7204.183) detected in PATH at C:\\chromedriver-win64\\chromedriver.exe might not be compatible with the detected chrome version (139.0.7258.155); currently, chromedriver 139.0.7258.154 is recommended for chrome 139.*, so it is advised to delete the driver in PATH and retry\n",
      "The chromedriver version (138.0.7204.183) detected in PATH at C:\\chromedriver-win64\\chromedriver.exe might not be compatible with the detected chrome version (139.0.7258.155); currently, chromedriver 139.0.7258.154 is recommended for chrome 139.*, so it is advised to delete the driver in PATH and retry\n"
     ]
    },
    {
     "name": "stdout",
     "output_type": "stream",
     "text": [
      "Data-related classes: ['s-post-summary', 'js-post-summary', 's-post-summary--stats', 'js-post-summary-stats', 's-post-summary--stats-item__emphasized', 's-post-summary--content', 's-post-summary--content-title', 's-post-summary--content-excerpt', 's-post-summary--meta', 's-post-summary--meta-tags', 'd-inline-block', 'tags', 'js-tags', 'ml0', 'list-ls-none', 'js-post-tag-list-wrapper', 's-user-card', 's-user-card__minimal', 's-avatar', 's-avatar__16', 's-user-card--avatar', 'gravatar-wrapper-16', 's-avatar--image', 's-user-card--info', 's-user-card--link', 's-user-card--time', 'relativetime']\n"
     ]
    },
    {
     "name": "stderr",
     "output_type": "stream",
     "text": [
      "The chromedriver version (138.0.7204.183) detected in PATH at C:\\chromedriver-win64\\chromedriver.exe might not be compatible with the detected chrome version (139.0.7258.155); currently, chromedriver 139.0.7258.154 is recommended for chrome 139.*, so it is advised to delete the driver in PATH and retry\n"
     ]
    },
    {
     "name": "stdout",
     "output_type": "stream",
     "text": [
      "Data-related classes: ['s-post-summary', 'js-post-summary', 's-post-summary--stats', 'js-post-summary-stats', 's-post-summary--stats-item__emphasized', 's-post-summary--content', 's-post-summary--content-title', 's-post-summary--content-excerpt', 's-post-summary--meta', 's-post-summary--meta-tags', 'd-inline-block', 'tags', 'js-tags', 'ml0', 'list-ls-none', 'js-post-tag-list-wrapper', 's-user-card', 's-user-card__minimal', 's-avatar', 's-avatar__16', 's-user-card--avatar', 'gravatar-wrapper-16', 's-avatar--image', 's-user-card--info', 's-user-card--link', 's-user-card--time', 'relativetime']\n"
     ]
    },
    {
     "name": "stderr",
     "output_type": "stream",
     "text": [
      "The chromedriver version (138.0.7204.183) detected in PATH at C:\\chromedriver-win64\\chromedriver.exe might not be compatible with the detected chrome version (139.0.7258.155); currently, chromedriver 139.0.7258.154 is recommended for chrome 139.*, so it is advised to delete the driver in PATH and retry\n"
     ]
    },
    {
     "name": "stdout",
     "output_type": "stream",
     "text": [
      "Data-related classes: ['s-post-summary', 'js-post-summary', 's-post-summary--stats', 'js-post-summary-stats', 's-post-summary--stats-item__emphasized', 's-post-summary--content', 's-post-summary--content-title', 's-post-summary--content-excerpt', 's-post-summary--meta', 's-post-summary--meta-tags', 'd-inline-block', 'tags', 'js-tags', 'ml0', 'list-ls-none', 'js-post-tag-list-wrapper', 's-user-card', 's-user-card__minimal', 's-avatar', 's-avatar__16', 's-user-card--avatar', 'gravatar-wrapper-16', 's-avatar--image', 's-user-card--info', 's-user-card--link', 's-user-card--time', 'relativetime']\n"
     ]
    },
    {
     "name": "stderr",
     "output_type": "stream",
     "text": [
      "The chromedriver version (138.0.7204.183) detected in PATH at C:\\chromedriver-win64\\chromedriver.exe might not be compatible with the detected chrome version (139.0.7258.155); currently, chromedriver 139.0.7258.154 is recommended for chrome 139.*, so it is advised to delete the driver in PATH and retry\n",
      "The chromedriver version (138.0.7204.183) detected in PATH at C:\\chromedriver-win64\\chromedriver.exe might not be compatible with the detected chrome version (139.0.7258.155); currently, chromedriver 139.0.7258.154 is recommended for chrome 139.*, so it is advised to delete the driver in PATH and retry\n"
     ]
    },
    {
     "name": "stdout",
     "output_type": "stream",
     "text": [
      "Data-related classes: ['s-post-summary', 'js-post-summary', 's-post-summary--stats', 'js-post-summary-stats', 's-post-summary--stats-item__emphasized', 's-post-summary--content', 's-post-summary--content-title', 's-post-summary--content-excerpt', 's-post-summary--meta', 's-post-summary--meta-tags', 'd-inline-block', 'tags', 'js-tags', 'ml0', 'list-ls-none', 'js-post-tag-list-wrapper', 's-user-card', 's-user-card__minimal', 's-avatar', 's-avatar__16', 's-user-card--avatar', 'gravatar-wrapper-16', 's-avatar--image', 's-user-card--info', 's-user-card--link', 's-user-card--time', 'relativetime']\n"
     ]
    },
    {
     "name": "stderr",
     "output_type": "stream",
     "text": [
      "The chromedriver version (138.0.7204.183) detected in PATH at C:\\chromedriver-win64\\chromedriver.exe might not be compatible with the detected chrome version (139.0.7258.155); currently, chromedriver 139.0.7258.154 is recommended for chrome 139.*, so it is advised to delete the driver in PATH and retry\n"
     ]
    },
    {
     "name": "stdout",
     "output_type": "stream",
     "text": [
      "Data-related classes: ['s-post-summary', 'js-post-summary', 's-post-summary--stats', 'js-post-summary-stats', 's-post-summary--stats-item__emphasized', 's-post-summary--content', 's-post-summary--content-title', 's-post-summary--content-excerpt', 's-post-summary--meta', 's-post-summary--meta-tags', 'd-inline-block', 'tags', 'js-tags', 'ml0', 'list-ls-none', 'js-post-tag-list-wrapper', 's-user-card', 's-user-card__minimal', 's-avatar', 's-avatar__16', 's-user-card--avatar', 'gravatar-wrapper-16', 's-avatar--image', 's-user-card--info', 's-user-card--link', 's-user-card--time', 'relativetime']\n"
     ]
    },
    {
     "name": "stderr",
     "output_type": "stream",
     "text": [
      "The chromedriver version (138.0.7204.183) detected in PATH at C:\\chromedriver-win64\\chromedriver.exe might not be compatible with the detected chrome version (139.0.7258.155); currently, chromedriver 139.0.7258.154 is recommended for chrome 139.*, so it is advised to delete the driver in PATH and retry\n",
      "The chromedriver version (138.0.7204.183) detected in PATH at C:\\chromedriver-win64\\chromedriver.exe might not be compatible with the detected chrome version (139.0.7258.155); currently, chromedriver 139.0.7258.154 is recommended for chrome 139.*, so it is advised to delete the driver in PATH and retry\n"
     ]
    },
    {
     "name": "stdout",
     "output_type": "stream",
     "text": [
      "Data-related classes: ['s-post-summary', 'js-post-summary', 's-post-summary--stats', 'js-post-summary-stats', 's-post-summary--stats-item__emphasized', 's-post-summary--content', 's-post-summary--content-title', 's-post-summary--content-excerpt', 's-post-summary--meta', 's-post-summary--meta-tags', 'd-inline-block', 'tags', 'js-tags', 'ml0', 'list-ls-none', 'js-post-tag-list-wrapper', 's-user-card', 's-user-card__minimal', 's-avatar', 's-avatar__16', 's-user-card--avatar', 'gravatar-wrapper-16', 's-avatar--image', 's-user-card--info', 's-user-card--link', 's-user-card--time', 'relativetime']\n"
     ]
    },
    {
     "name": "stderr",
     "output_type": "stream",
     "text": [
      "The chromedriver version (138.0.7204.183) detected in PATH at C:\\chromedriver-win64\\chromedriver.exe might not be compatible with the detected chrome version (139.0.7258.155); currently, chromedriver 139.0.7258.154 is recommended for chrome 139.*, so it is advised to delete the driver in PATH and retry\n"
     ]
    },
    {
     "name": "stdout",
     "output_type": "stream",
     "text": [
      "Data-related classes: ['s-post-summary', 'js-post-summary', 's-post-summary--stats', 'js-post-summary-stats', 's-post-summary--stats-item__emphasized', 's-post-summary--content', 's-post-summary--content-title', 's-post-summary--content-excerpt', 's-post-summary--meta', 's-post-summary--meta-tags', 'd-inline-block', 'tags', 'js-tags', 'ml0', 'list-ls-none', 'js-post-tag-list-wrapper', 's-user-card', 's-user-card__minimal', 's-avatar', 's-avatar__16', 's-user-card--avatar', 'gravatar-wrapper-16', 's-avatar--image', 's-user-card--info', 's-user-card--link', 's-user-card--time', 'relativetime']\n"
     ]
    },
    {
     "name": "stderr",
     "output_type": "stream",
     "text": [
      "The chromedriver version (138.0.7204.183) detected in PATH at C:\\chromedriver-win64\\chromedriver.exe might not be compatible with the detected chrome version (139.0.7258.155); currently, chromedriver 139.0.7258.154 is recommended for chrome 139.*, so it is advised to delete the driver in PATH and retry\n"
     ]
    },
    {
     "name": "stdout",
     "output_type": "stream",
     "text": [
      "Data-related classes: ['s-post-summary', 'js-post-summary', 's-post-summary--stats', 'js-post-summary-stats', 's-post-summary--stats-item__emphasized', 's-post-summary--content', 's-post-summary--content-title', 's-post-summary--content-excerpt', 's-post-summary--meta', 's-post-summary--meta-tags', 'd-inline-block', 'tags', 'js-tags', 'ml0', 'list-ls-none', 'js-post-tag-list-wrapper', 's-user-card', 's-user-card__minimal', 's-avatar', 's-avatar__16', 's-user-card--avatar', 'gravatar-wrapper-16', 's-avatar--image', 's-user-card--info', 's-user-card--link', 's-user-card--time', 'relativetime']\n"
     ]
    },
    {
     "name": "stderr",
     "output_type": "stream",
     "text": [
      "The chromedriver version (138.0.7204.183) detected in PATH at C:\\chromedriver-win64\\chromedriver.exe might not be compatible with the detected chrome version (139.0.7258.155); currently, chromedriver 139.0.7258.154 is recommended for chrome 139.*, so it is advised to delete the driver in PATH and retry\n",
      "The chromedriver version (138.0.7204.183) detected in PATH at C:\\chromedriver-win64\\chromedriver.exe might not be compatible with the detected chrome version (139.0.7258.155); currently, chromedriver 139.0.7258.154 is recommended for chrome 139.*, so it is advised to delete the driver in PATH and retry\n"
     ]
    },
    {
     "name": "stdout",
     "output_type": "stream",
     "text": [
      "Data-related classes: ['s-post-summary', 'js-post-summary', 's-post-summary--stats', 'js-post-summary-stats', 's-post-summary--stats-item__emphasized', 's-post-summary--content', 's-post-summary--content-title', 's-post-summary--content-excerpt', 's-post-summary--meta', 's-post-summary--meta-tags', 'd-inline-block', 'tags', 'js-tags', 'ml0', 'list-ls-none', 'js-post-tag-list-wrapper', 's-user-card', 's-user-card__minimal', 's-avatar', 's-avatar__16', 's-user-card--avatar', 'gravatar-wrapper-16', 's-avatar--image', 's-user-card--info', 's-user-card--link', 's-user-card--time', 'relativetime']\n"
     ]
    },
    {
     "name": "stderr",
     "output_type": "stream",
     "text": [
      "The chromedriver version (138.0.7204.183) detected in PATH at C:\\chromedriver-win64\\chromedriver.exe might not be compatible with the detected chrome version (139.0.7258.155); currently, chromedriver 139.0.7258.154 is recommended for chrome 139.*, so it is advised to delete the driver in PATH and retry\n"
     ]
    },
    {
     "name": "stdout",
     "output_type": "stream",
     "text": [
      "Data-related classes: ['s-post-summary', 'js-post-summary', 's-post-summary--stats', 'js-post-summary-stats', 's-post-summary--stats-item__emphasized', 's-post-summary--content', 's-post-summary--content-title', 's-post-summary--content-excerpt', 's-post-summary--meta', 's-post-summary--meta-tags', 'd-inline-block', 'tags', 'js-tags', 'ml0', 'list-ls-none', 'js-post-tag-list-wrapper', 's-user-card', 's-user-card__minimal', 's-avatar', 's-avatar__16', 's-user-card--avatar', 'gravatar-wrapper-16', 's-avatar--image', 's-user-card--info', 's-user-card--link', 's-user-card--time', 'relativetime']\n"
     ]
    },
    {
     "name": "stderr",
     "output_type": "stream",
     "text": [
      "The chromedriver version (138.0.7204.183) detected in PATH at C:\\chromedriver-win64\\chromedriver.exe might not be compatible with the detected chrome version (139.0.7258.155); currently, chromedriver 139.0.7258.154 is recommended for chrome 139.*, so it is advised to delete the driver in PATH and retry\n",
      "The chromedriver version (138.0.7204.183) detected in PATH at C:\\chromedriver-win64\\chromedriver.exe might not be compatible with the detected chrome version (139.0.7258.155); currently, chromedriver 139.0.7258.154 is recommended for chrome 139.*, so it is advised to delete the driver in PATH and retry\n"
     ]
    },
    {
     "name": "stdout",
     "output_type": "stream",
     "text": [
      "Data-related classes: ['s-post-summary', 'js-post-summary', 's-post-summary--stats', 'js-post-summary-stats', 's-post-summary--stats-item__emphasized', 's-post-summary--content', 's-post-summary--content-title', 's-post-summary--content-excerpt', 's-post-summary--meta', 's-post-summary--meta-tags', 'd-inline-block', 'tags', 'js-tags', 'ml0', 'list-ls-none', 'js-post-tag-list-wrapper', 's-user-card', 's-user-card__minimal', 's-avatar', 's-avatar__16', 's-user-card--avatar', 'gravatar-wrapper-16', 's-avatar--image', 's-user-card--info', 's-user-card--link', 's-user-card--time', 'relativetime']\n"
     ]
    },
    {
     "name": "stderr",
     "output_type": "stream",
     "text": [
      "The chromedriver version (138.0.7204.183) detected in PATH at C:\\chromedriver-win64\\chromedriver.exe might not be compatible with the detected chrome version (139.0.7258.155); currently, chromedriver 139.0.7258.154 is recommended for chrome 139.*, so it is advised to delete the driver in PATH and retry\n"
     ]
    },
    {
     "name": "stdout",
     "output_type": "stream",
     "text": [
      "Data-related classes: ['s-post-summary', 'js-post-summary', 's-post-summary--stats', 'js-post-summary-stats', 's-post-summary--stats-item__emphasized', 's-post-summary--content', 's-post-summary--content-title', 's-post-summary--content-excerpt', 's-post-summary--meta', 's-post-summary--meta-tags', 'd-inline-block', 'tags', 'js-tags', 'ml0', 'list-ls-none', 'js-post-tag-list-wrapper', 's-user-card', 's-user-card__minimal', 's-avatar', 's-avatar__16', 's-user-card--avatar', 'gravatar-wrapper-16', 's-avatar--image', 's-user-card--info', 's-user-card--link', 's-user-card--time', 'relativetime']\n"
     ]
    },
    {
     "name": "stderr",
     "output_type": "stream",
     "text": [
      "The chromedriver version (138.0.7204.183) detected in PATH at C:\\chromedriver-win64\\chromedriver.exe might not be compatible with the detected chrome version (139.0.7258.155); currently, chromedriver 139.0.7258.154 is recommended for chrome 139.*, so it is advised to delete the driver in PATH and retry\n",
      "The chromedriver version (138.0.7204.183) detected in PATH at C:\\chromedriver-win64\\chromedriver.exe might not be compatible with the detected chrome version (139.0.7258.155); currently, chromedriver 139.0.7258.154 is recommended for chrome 139.*, so it is advised to delete the driver in PATH and retry\n"
     ]
    },
    {
     "name": "stdout",
     "output_type": "stream",
     "text": [
      "Data-related classes: ['s-post-summary', 'js-post-summary', 's-post-summary--stats', 'js-post-summary-stats', 's-post-summary--stats-item__emphasized', 's-post-summary--content', 's-post-summary--content-title', 's-post-summary--content-excerpt', 's-post-summary--meta', 's-post-summary--meta-tags', 'd-inline-block', 'tags', 'js-tags', 'ml0', 'list-ls-none', 'js-post-tag-list-wrapper', 's-user-card', 's-user-card__minimal', 's-avatar', 's-avatar__16', 's-user-card--avatar', 'gravatar-wrapper-16', 's-avatar--image', 's-user-card--info', 's-user-card--link', 's-user-card--time', 'relativetime']\n"
     ]
    },
    {
     "name": "stderr",
     "output_type": "stream",
     "text": [
      "The chromedriver version (138.0.7204.183) detected in PATH at C:\\chromedriver-win64\\chromedriver.exe might not be compatible with the detected chrome version (139.0.7258.155); currently, chromedriver 139.0.7258.154 is recommended for chrome 139.*, so it is advised to delete the driver in PATH and retry\n"
     ]
    },
    {
     "name": "stdout",
     "output_type": "stream",
     "text": [
      "Data-related classes: ['s-post-summary', 'js-post-summary', 's-post-summary--stats', 'js-post-summary-stats', 's-post-summary--stats-item__emphasized', 's-post-summary--content', 's-post-summary--content-title', 's-post-summary--content-excerpt', 's-post-summary--meta', 's-post-summary--meta-tags', 'd-inline-block', 'tags', 'js-tags', 'ml0', 'list-ls-none', 'js-post-tag-list-wrapper', 's-user-card', 's-user-card__minimal', 's-avatar', 's-avatar__16', 's-user-card--avatar', 'gravatar-wrapper-16', 's-avatar--image', 's-user-card--info', 's-user-card--link', 's-user-card--time', 'relativetime']\n"
     ]
    },
    {
     "name": "stderr",
     "output_type": "stream",
     "text": [
      "The chromedriver version (138.0.7204.183) detected in PATH at C:\\chromedriver-win64\\chromedriver.exe might not be compatible with the detected chrome version (139.0.7258.155); currently, chromedriver 139.0.7258.154 is recommended for chrome 139.*, so it is advised to delete the driver in PATH and retry\n",
      "The chromedriver version (138.0.7204.183) detected in PATH at C:\\chromedriver-win64\\chromedriver.exe might not be compatible with the detected chrome version (139.0.7258.155); currently, chromedriver 139.0.7258.154 is recommended for chrome 139.*, so it is advised to delete the driver in PATH and retry\n"
     ]
    },
    {
     "name": "stdout",
     "output_type": "stream",
     "text": [
      "Data-related classes: ['s-post-summary', 'js-post-summary', 's-post-summary--stats', 'js-post-summary-stats', 's-post-summary--stats-item__emphasized', 's-post-summary--content', 's-post-summary--content-title', 's-post-summary--content-excerpt', 's-post-summary--meta', 's-post-summary--meta-tags', 'd-inline-block', 'tags', 'js-tags', 'ml0', 'list-ls-none', 'js-post-tag-list-wrapper', 's-user-card', 's-user-card__minimal', 's-avatar', 's-avatar__16', 's-user-card--avatar', 'gravatar-wrapper-16', 's-avatar--image', 's-user-card--info', 's-user-card--link', 's-user-card--awards', 's-user-card--rep', 'todo-no-class-here', 's-user-card--time', 'relativetime']\n"
     ]
    },
    {
     "name": "stderr",
     "output_type": "stream",
     "text": [
      "The chromedriver version (138.0.7204.183) detected in PATH at C:\\chromedriver-win64\\chromedriver.exe might not be compatible with the detected chrome version (139.0.7258.155); currently, chromedriver 139.0.7258.154 is recommended for chrome 139.*, so it is advised to delete the driver in PATH and retry\n"
     ]
    },
    {
     "name": "stdout",
     "output_type": "stream",
     "text": [
      "Data-related classes: ['s-post-summary', 'js-post-summary', 's-post-summary--stats', 'js-post-summary-stats', 's-post-summary--stats-item__emphasized', 's-post-summary--content', 's-post-summary--content-title', 's-post-summary--content-excerpt', 's-post-summary--meta', 's-post-summary--meta-tags', 'd-inline-block', 'tags', 'js-tags', 'ml0', 'list-ls-none', 'js-post-tag-list-wrapper', 's-user-card', 's-user-card__minimal', 's-avatar', 's-avatar__16', 's-user-card--avatar', 'gravatar-wrapper-16', 's-avatar--image', 's-user-card--info', 's-user-card--link', 's-user-card--time', 'relativetime']\n"
     ]
    },
    {
     "name": "stderr",
     "output_type": "stream",
     "text": [
      "The chromedriver version (138.0.7204.183) detected in PATH at C:\\chromedriver-win64\\chromedriver.exe might not be compatible with the detected chrome version (139.0.7258.155); currently, chromedriver 139.0.7258.154 is recommended for chrome 139.*, so it is advised to delete the driver in PATH and retry\n",
      "The chromedriver version (138.0.7204.183) detected in PATH at C:\\chromedriver-win64\\chromedriver.exe might not be compatible with the detected chrome version (139.0.7258.155); currently, chromedriver 139.0.7258.154 is recommended for chrome 139.*, so it is advised to delete the driver in PATH and retry\n"
     ]
    },
    {
     "name": "stdout",
     "output_type": "stream",
     "text": [
      "Data-related classes: ['s-post-summary', 'js-post-summary', 's-post-summary--stats', 'js-post-summary-stats', 's-post-summary--stats-item__emphasized', 's-post-summary--content', 's-post-summary--content-title', 's-post-summary--content-excerpt', 's-post-summary--meta', 's-post-summary--meta-tags', 'd-inline-block', 'tags', 'js-tags', 'ml0', 'list-ls-none', 'js-post-tag-list-wrapper', 's-user-card', 's-user-card__minimal', 's-avatar', 's-avatar__16', 's-user-card--avatar', 'gravatar-wrapper-16', 's-avatar--image', 's-user-card--info', 's-user-card--link', 's-user-card--time', 'relativetime']\n"
     ]
    },
    {
     "name": "stderr",
     "output_type": "stream",
     "text": [
      "The chromedriver version (138.0.7204.183) detected in PATH at C:\\chromedriver-win64\\chromedriver.exe might not be compatible with the detected chrome version (139.0.7258.155); currently, chromedriver 139.0.7258.154 is recommended for chrome 139.*, so it is advised to delete the driver in PATH and retry\n"
     ]
    },
    {
     "name": "stdout",
     "output_type": "stream",
     "text": [
      "Data-related classes: ['s-post-summary', 'js-post-summary', 's-post-summary--stats', 'js-post-summary-stats', 's-post-summary--stats-item__emphasized', 's-post-summary--content', 's-post-summary--content-title', 's-post-summary--content-excerpt', 's-post-summary--meta', 's-post-summary--meta-tags', 'd-inline-block', 'tags', 'js-tags', 'ml0', 'list-ls-none', 'js-post-tag-list-wrapper', 's-user-card', 's-user-card__minimal', 's-avatar', 's-avatar__16', 's-user-card--avatar', 'gravatar-wrapper-16', 's-avatar--image', 's-user-card--info', 's-user-card--link', 's-user-card--time', 'relativetime']\n"
     ]
    },
    {
     "name": "stderr",
     "output_type": "stream",
     "text": [
      "The chromedriver version (138.0.7204.183) detected in PATH at C:\\chromedriver-win64\\chromedriver.exe might not be compatible with the detected chrome version (139.0.7258.155); currently, chromedriver 139.0.7258.154 is recommended for chrome 139.*, so it is advised to delete the driver in PATH and retry\n",
      "The chromedriver version (138.0.7204.183) detected in PATH at C:\\chromedriver-win64\\chromedriver.exe might not be compatible with the detected chrome version (139.0.7258.155); currently, chromedriver 139.0.7258.154 is recommended for chrome 139.*, so it is advised to delete the driver in PATH and retry\n"
     ]
    },
    {
     "name": "stdout",
     "output_type": "stream",
     "text": [
      "Data-related classes: ['s-post-summary', 'js-post-summary', 's-post-summary--stats', 'js-post-summary-stats', 's-post-summary--stats-item__emphasized', 's-post-summary--content', 's-post-summary--content-title', 's-post-summary--content-excerpt', 's-post-summary--meta', 's-post-summary--meta-tags', 'd-inline-block', 'tags', 'js-tags', 'ml0', 'list-ls-none', 'js-post-tag-list-wrapper', 's-user-card', 's-user-card__minimal', 's-avatar', 's-avatar__16', 's-user-card--avatar', 'gravatar-wrapper-16', 's-avatar--image', 's-user-card--info', 's-user-card--link', 's-user-card--time', 'relativetime']\n"
     ]
    },
    {
     "name": "stderr",
     "output_type": "stream",
     "text": [
      "The chromedriver version (138.0.7204.183) detected in PATH at C:\\chromedriver-win64\\chromedriver.exe might not be compatible with the detected chrome version (139.0.7258.155); currently, chromedriver 139.0.7258.154 is recommended for chrome 139.*, so it is advised to delete the driver in PATH and retry\n"
     ]
    },
    {
     "name": "stdout",
     "output_type": "stream",
     "text": [
      "Data-related classes: ['s-post-summary', 'js-post-summary', 's-post-summary--stats', 'js-post-summary-stats', 's-post-summary--stats-item__emphasized', 's-post-summary--content', 's-post-summary--content-title', 's-post-summary--content-excerpt', 's-post-summary--meta', 's-post-summary--meta-tags', 'd-inline-block', 'tags', 'js-tags', 'ml0', 'list-ls-none', 'js-post-tag-list-wrapper', 's-user-card', 's-user-card__minimal', 's-avatar', 's-avatar__16', 's-user-card--avatar', 'gravatar-wrapper-16', 's-avatar--image', 's-user-card--info', 's-user-card--link', 's-user-card--time', 'relativetime']\n"
     ]
    },
    {
     "name": "stderr",
     "output_type": "stream",
     "text": [
      "The chromedriver version (138.0.7204.183) detected in PATH at C:\\chromedriver-win64\\chromedriver.exe might not be compatible with the detected chrome version (139.0.7258.155); currently, chromedriver 139.0.7258.154 is recommended for chrome 139.*, so it is advised to delete the driver in PATH and retry\n",
      "The chromedriver version (138.0.7204.183) detected in PATH at C:\\chromedriver-win64\\chromedriver.exe might not be compatible with the detected chrome version (139.0.7258.155); currently, chromedriver 139.0.7258.154 is recommended for chrome 139.*, so it is advised to delete the driver in PATH and retry\n"
     ]
    },
    {
     "name": "stdout",
     "output_type": "stream",
     "text": [
      "Data-related classes: ['s-post-summary', 'js-post-summary', 's-post-summary--stats', 'js-post-summary-stats', 's-post-summary--stats-item__emphasized', 's-post-summary--content', 's-post-summary--content-title', 's-post-summary--content-excerpt', 's-post-summary--meta', 's-post-summary--meta-tags', 'd-inline-block', 'tags', 'js-tags', 'ml0', 'list-ls-none', 'js-post-tag-list-wrapper', 's-user-card', 's-user-card__minimal', 's-avatar', 's-avatar__16', 's-user-card--avatar', 'gravatar-wrapper-16', 's-avatar--image', 's-user-card--info', 's-user-card--link', 's-user-card--time', 'relativetime']\n"
     ]
    },
    {
     "name": "stderr",
     "output_type": "stream",
     "text": [
      "The chromedriver version (138.0.7204.183) detected in PATH at C:\\chromedriver-win64\\chromedriver.exe might not be compatible with the detected chrome version (139.0.7258.155); currently, chromedriver 139.0.7258.154 is recommended for chrome 139.*, so it is advised to delete the driver in PATH and retry\n"
     ]
    },
    {
     "name": "stdout",
     "output_type": "stream",
     "text": [
      "Data-related classes: ['s-post-summary', 'js-post-summary', 's-post-summary--stats', 'js-post-summary-stats', 's-post-summary--stats-item__emphasized', 's-post-summary--content', 's-post-summary--content-title', 's-post-summary--content-excerpt', 's-post-summary--meta', 's-post-summary--meta-tags', 'd-inline-block', 'tags', 'js-tags', 'ml0', 'list-ls-none', 'js-post-tag-list-wrapper', 's-user-card', 's-user-card__minimal', 's-avatar', 's-avatar__16', 's-user-card--avatar', 'gravatar-wrapper-16', 's-avatar--image', 's-user-card--info', 's-user-card--link', 's-user-card--time', 'relativetime']\n"
     ]
    },
    {
     "name": "stderr",
     "output_type": "stream",
     "text": [
      "The chromedriver version (138.0.7204.183) detected in PATH at C:\\chromedriver-win64\\chromedriver.exe might not be compatible with the detected chrome version (139.0.7258.155); currently, chromedriver 139.0.7258.154 is recommended for chrome 139.*, so it is advised to delete the driver in PATH and retry\n",
      "The chromedriver version (138.0.7204.183) detected in PATH at C:\\chromedriver-win64\\chromedriver.exe might not be compatible with the detected chrome version (139.0.7258.155); currently, chromedriver 139.0.7258.154 is recommended for chrome 139.*, so it is advised to delete the driver in PATH and retry\n"
     ]
    },
    {
     "name": "stdout",
     "output_type": "stream",
     "text": [
      "Data-related classes: ['s-post-summary', 'js-post-summary', 's-post-summary--stats', 'js-post-summary-stats', 's-post-summary--stats-item__emphasized', 's-post-summary--content', 's-post-summary--content-title', 's-post-summary--content-excerpt', 's-post-summary--meta', 's-post-summary--meta-tags', 'd-inline-block', 'tags', 'js-tags', 'ml0', 'list-ls-none', 'js-post-tag-list-wrapper', 's-user-card', 's-user-card__minimal', 's-avatar', 's-avatar__16', 's-user-card--avatar', 'gravatar-wrapper-16', 's-avatar--image', 's-user-card--info', 's-user-card--link', 's-user-card--time', 'relativetime']\n"
     ]
    },
    {
     "name": "stderr",
     "output_type": "stream",
     "text": [
      "The chromedriver version (138.0.7204.183) detected in PATH at C:\\chromedriver-win64\\chromedriver.exe might not be compatible with the detected chrome version (139.0.7258.155); currently, chromedriver 139.0.7258.154 is recommended for chrome 139.*, so it is advised to delete the driver in PATH and retry\n"
     ]
    },
    {
     "name": "stdout",
     "output_type": "stream",
     "text": [
      "Data-related classes: ['s-post-summary', 'js-post-summary', 's-post-summary--stats', 'js-post-summary-stats', 's-post-summary--stats-item__emphasized', 's-post-summary--content', 's-post-summary--content-title', 's-post-summary--content-excerpt', 's-post-summary--meta', 's-post-summary--meta-tags', 'd-inline-block', 'tags', 'js-tags', 'ml0', 'list-ls-none', 'js-post-tag-list-wrapper', 's-user-card', 's-user-card__minimal', 's-avatar', 's-avatar__16', 's-user-card--avatar', 'gravatar-wrapper-16', 's-avatar--image', 's-user-card--info', 's-user-card--link', 's-user-card--time', 'relativetime']\n"
     ]
    },
    {
     "name": "stderr",
     "output_type": "stream",
     "text": [
      "The chromedriver version (138.0.7204.183) detected in PATH at C:\\chromedriver-win64\\chromedriver.exe might not be compatible with the detected chrome version (139.0.7258.155); currently, chromedriver 139.0.7258.154 is recommended for chrome 139.*, so it is advised to delete the driver in PATH and retry\n"
     ]
    },
    {
     "name": "stdout",
     "output_type": "stream",
     "text": [
      "Data-related classes: ['s-post-summary', 'js-post-summary', 's-post-summary--stats', 'js-post-summary-stats', 's-post-summary--stats-item__emphasized', 's-post-summary--content', 's-post-summary--content-title', 's-post-summary--content-excerpt', 's-post-summary--meta', 's-post-summary--meta-tags', 'd-inline-block', 'tags', 'js-tags', 'ml0', 'list-ls-none', 'js-post-tag-list-wrapper', 's-user-card', 's-user-card__minimal', 's-avatar', 's-avatar__16', 's-user-card--avatar', 'gravatar-wrapper-16', 's-avatar--image', 's-user-card--info', 's-user-card--link', 's-user-card--time', 'relativetime']\n"
     ]
    },
    {
     "name": "stderr",
     "output_type": "stream",
     "text": [
      "The chromedriver version (138.0.7204.183) detected in PATH at C:\\chromedriver-win64\\chromedriver.exe might not be compatible with the detected chrome version (139.0.7258.155); currently, chromedriver 139.0.7258.154 is recommended for chrome 139.*, so it is advised to delete the driver in PATH and retry\n"
     ]
    },
    {
     "name": "stdout",
     "output_type": "stream",
     "text": [
      "Data-related classes: ['s-post-summary', 'js-post-summary', 's-post-summary--stats', 'js-post-summary-stats', 's-post-summary--stats-item__emphasized', 's-post-summary--content', 's-post-summary--content-title', 's-post-summary--content-excerpt', 's-post-summary--meta', 's-post-summary--meta-tags', 'd-inline-block', 'tags', 'js-tags', 'ml0', 'list-ls-none', 'js-post-tag-list-wrapper', 's-user-card', 's-user-card__minimal', 's-avatar', 's-avatar__16', 's-user-card--avatar', 'gravatar-wrapper-16', 's-avatar--image', 's-user-card--info', 's-user-card--link', 's-user-card--time', 'relativetime']\n"
     ]
    },
    {
     "name": "stderr",
     "output_type": "stream",
     "text": [
      "The chromedriver version (138.0.7204.183) detected in PATH at C:\\chromedriver-win64\\chromedriver.exe might not be compatible with the detected chrome version (139.0.7258.155); currently, chromedriver 139.0.7258.154 is recommended for chrome 139.*, so it is advised to delete the driver in PATH and retry\n",
      "The chromedriver version (138.0.7204.183) detected in PATH at C:\\chromedriver-win64\\chromedriver.exe might not be compatible with the detected chrome version (139.0.7258.155); currently, chromedriver 139.0.7258.154 is recommended for chrome 139.*, so it is advised to delete the driver in PATH and retry\n"
     ]
    },
    {
     "name": "stdout",
     "output_type": "stream",
     "text": [
      "Data-related classes: ['s-post-summary', 'js-post-summary', 's-post-summary--stats', 'js-post-summary-stats', 's-post-summary--stats-item__emphasized', 's-post-summary--content', 's-post-summary--content-title', 's-post-summary--content-excerpt', 's-post-summary--meta', 's-post-summary--meta-tags', 'd-inline-block', 'tags', 'js-tags', 'ml0', 'list-ls-none', 'js-post-tag-list-wrapper', 's-user-card', 's-user-card__minimal', 's-avatar', 's-avatar__16', 's-user-card--avatar', 'gravatar-wrapper-16', 's-avatar--image', 's-user-card--info', 's-user-card--link', 's-user-card--time', 'relativetime']\n"
     ]
    },
    {
     "name": "stderr",
     "output_type": "stream",
     "text": [
      "The chromedriver version (138.0.7204.183) detected in PATH at C:\\chromedriver-win64\\chromedriver.exe might not be compatible with the detected chrome version (139.0.7258.155); currently, chromedriver 139.0.7258.154 is recommended for chrome 139.*, so it is advised to delete the driver in PATH and retry\n"
     ]
    },
    {
     "name": "stdout",
     "output_type": "stream",
     "text": [
      "Data-related classes: ['s-post-summary', 'js-post-summary', 's-post-summary--stats', 'js-post-summary-stats', 's-post-summary--stats-item__emphasized', 's-post-summary--content', 's-post-summary--content-title', 's-post-summary--content-excerpt', 's-post-summary--meta', 's-post-summary--meta-tags', 'd-inline-block', 'tags', 'js-tags', 'ml0', 'list-ls-none', 'js-post-tag-list-wrapper', 's-user-card', 's-user-card__minimal', 's-avatar', 's-avatar__16', 's-user-card--avatar', 'gravatar-wrapper-16', 's-avatar--image', 's-user-card--info', 's-user-card--link', 's-user-card--time', 'relativetime']\n"
     ]
    },
    {
     "name": "stderr",
     "output_type": "stream",
     "text": [
      "The chromedriver version (138.0.7204.183) detected in PATH at C:\\chromedriver-win64\\chromedriver.exe might not be compatible with the detected chrome version (139.0.7258.155); currently, chromedriver 139.0.7258.154 is recommended for chrome 139.*, so it is advised to delete the driver in PATH and retry\n"
     ]
    },
    {
     "name": "stdout",
     "output_type": "stream",
     "text": [
      "Data-related classes: ['s-post-summary', 'js-post-summary', 's-post-summary--stats', 'js-post-summary-stats', 's-post-summary--stats-item__emphasized', 's-post-summary--content', 's-post-summary--content-title', 's-post-summary--content-excerpt', 's-post-summary--meta', 's-post-summary--meta-tags', 'd-inline-block', 'tags', 'js-tags', 'ml0', 'list-ls-none', 'js-post-tag-list-wrapper', 's-user-card', 's-user-card__minimal', 's-avatar', 's-avatar__16', 's-user-card--avatar', 'gravatar-wrapper-16', 's-avatar--image', 's-user-card--info', 's-user-card--link', 's-user-card--time', 'relativetime']\n"
     ]
    },
    {
     "name": "stderr",
     "output_type": "stream",
     "text": [
      "The chromedriver version (138.0.7204.183) detected in PATH at C:\\chromedriver-win64\\chromedriver.exe might not be compatible with the detected chrome version (139.0.7258.155); currently, chromedriver 139.0.7258.154 is recommended for chrome 139.*, so it is advised to delete the driver in PATH and retry\n",
      "The chromedriver version (138.0.7204.183) detected in PATH at C:\\chromedriver-win64\\chromedriver.exe might not be compatible with the detected chrome version (139.0.7258.155); currently, chromedriver 139.0.7258.154 is recommended for chrome 139.*, so it is advised to delete the driver in PATH and retry\n"
     ]
    },
    {
     "name": "stdout",
     "output_type": "stream",
     "text": [
      "Data-related classes: ['s-post-summary', 'js-post-summary', 's-post-summary--stats', 'js-post-summary-stats', 's-post-summary--stats-item__emphasized', 's-post-summary--content', 's-post-summary--content-title', 's-post-summary--content-excerpt', 's-post-summary--meta', 's-post-summary--meta-tags', 'd-inline-block', 'tags', 'js-tags', 'ml0', 'list-ls-none', 'js-post-tag-list-wrapper', 's-user-card', 's-user-card__minimal', 's-avatar', 's-avatar__16', 's-user-card--avatar', 'gravatar-wrapper-16', 's-avatar--image', 's-user-card--info', 's-user-card--link', 's-user-card--time', 'relativetime']\n"
     ]
    },
    {
     "name": "stderr",
     "output_type": "stream",
     "text": [
      "The chromedriver version (138.0.7204.183) detected in PATH at C:\\chromedriver-win64\\chromedriver.exe might not be compatible with the detected chrome version (139.0.7258.155); currently, chromedriver 139.0.7258.154 is recommended for chrome 139.*, so it is advised to delete the driver in PATH and retry\n"
     ]
    },
    {
     "name": "stdout",
     "output_type": "stream",
     "text": [
      "Data-related classes: ['s-post-summary', 'js-post-summary', 's-post-summary--stats', 'js-post-summary-stats', 's-post-summary--stats-item__emphasized', 's-post-summary--content', 's-post-summary--content-title', 's-post-summary--content-excerpt', 's-post-summary--meta', 's-post-summary--meta-tags', 'd-inline-block', 'tags', 'js-tags', 'ml0', 'list-ls-none', 'js-post-tag-list-wrapper', 's-user-card', 's-user-card__minimal', 's-avatar', 's-avatar__16', 's-user-card--avatar', 'gravatar-wrapper-16', 's-avatar--image', 's-user-card--info', 's-user-card--link', 's-user-card--time', 'relativetime']\n"
     ]
    },
    {
     "name": "stderr",
     "output_type": "stream",
     "text": [
      "The chromedriver version (138.0.7204.183) detected in PATH at C:\\chromedriver-win64\\chromedriver.exe might not be compatible with the detected chrome version (139.0.7258.155); currently, chromedriver 139.0.7258.154 is recommended for chrome 139.*, so it is advised to delete the driver in PATH and retry\n",
      "The chromedriver version (138.0.7204.183) detected in PATH at C:\\chromedriver-win64\\chromedriver.exe might not be compatible with the detected chrome version (139.0.7258.155); currently, chromedriver 139.0.7258.154 is recommended for chrome 139.*, so it is advised to delete the driver in PATH and retry\n"
     ]
    },
    {
     "name": "stdout",
     "output_type": "stream",
     "text": [
      "Data-related classes: ['s-post-summary--stats-item', 's-post-summary--stats-item-number', 's-post-summary--stats-item-unit', 'mr4', 'js-post-tag-list-item', 's-tag', 'post-tag', 'mt0']\n",
      "Data-related classes: ['s-post-summary', 'js-post-summary', 's-post-summary--stats', 'js-post-summary-stats', 's-post-summary--stats-item__emphasized', 's-post-summary--content', 's-post-summary--content-title', 's-post-summary--content-excerpt', 's-post-summary--meta', 's-post-summary--meta-tags', 'd-inline-block', 'tags', 'js-tags', 'ml0', 'list-ls-none', 'js-post-tag-list-wrapper', 's-user-card', 's-user-card__minimal', 's-avatar', 's-avatar__16', 's-user-card--avatar', 'gravatar-wrapper-16', 's-avatar--image', 's-user-card--info', 's-user-card--link', 's-user-card--time', 'relativetime']\n"
     ]
    },
    {
     "name": "stderr",
     "output_type": "stream",
     "text": [
      "The chromedriver version (138.0.7204.183) detected in PATH at C:\\chromedriver-win64\\chromedriver.exe might not be compatible with the detected chrome version (139.0.7258.155); currently, chromedriver 139.0.7258.154 is recommended for chrome 139.*, so it is advised to delete the driver in PATH and retry\n"
     ]
    },
    {
     "name": "stdout",
     "output_type": "stream",
     "text": [
      "Data-related classes: ['s-post-summary', 'js-post-summary', 's-post-summary--stats', 'js-post-summary-stats', 's-post-summary--stats-item__emphasized', 's-post-summary--content', 's-post-summary--content-title', 's-post-summary--content-excerpt', 's-post-summary--meta', 's-post-summary--meta-tags', 'd-inline-block', 'tags', 'js-tags', 'ml0', 'list-ls-none', 'js-post-tag-list-wrapper', 's-user-card', 's-user-card__minimal', 's-avatar', 's-avatar__16', 's-user-card--avatar', 'gravatar-wrapper-16', 's-avatar--image', 's-user-card--info', 's-user-card--link', 's-user-card--time', 'relativetime']\n"
     ]
    },
    {
     "name": "stderr",
     "output_type": "stream",
     "text": [
      "The chromedriver version (138.0.7204.183) detected in PATH at C:\\chromedriver-win64\\chromedriver.exe might not be compatible with the detected chrome version (139.0.7258.155); currently, chromedriver 139.0.7258.154 is recommended for chrome 139.*, so it is advised to delete the driver in PATH and retry\n",
      "The chromedriver version (138.0.7204.183) detected in PATH at C:\\chromedriver-win64\\chromedriver.exe might not be compatible with the detected chrome version (139.0.7258.155); currently, chromedriver 139.0.7258.154 is recommended for chrome 139.*, so it is advised to delete the driver in PATH and retry\n"
     ]
    },
    {
     "name": "stdout",
     "output_type": "stream",
     "text": [
      "Data-related classes: ['s-post-summary', 'js-post-summary', 's-post-summary--stats', 'js-post-summary-stats', 's-post-summary--stats-item__emphasized', 's-post-summary--content', 's-post-summary--content-title', 's-post-summary--content-excerpt', 's-post-summary--meta', 's-post-summary--meta-tags', 'd-inline-block', 'tags', 'js-tags', 'ml0', 'list-ls-none', 'js-post-tag-list-wrapper', 's-user-card', 's-user-card__minimal', 's-avatar', 's-avatar__16', 's-user-card--avatar', 'gravatar-wrapper-16', 's-avatar--image', 's-user-card--info', 's-user-card--link', 's-user-card--time', 'relativetime']\n"
     ]
    },
    {
     "name": "stderr",
     "output_type": "stream",
     "text": [
      "The chromedriver version (138.0.7204.183) detected in PATH at C:\\chromedriver-win64\\chromedriver.exe might not be compatible with the detected chrome version (139.0.7258.155); currently, chromedriver 139.0.7258.154 is recommended for chrome 139.*, so it is advised to delete the driver in PATH and retry\n"
     ]
    },
    {
     "name": "stdout",
     "output_type": "stream",
     "text": [
      "Data-related classes: ['s-post-summary', 'js-post-summary', 's-post-summary--stats', 'js-post-summary-stats', 's-post-summary--stats-item__emphasized', 's-post-summary--content', 's-post-summary--content-title', 's-post-summary--content-excerpt', 's-post-summary--meta', 's-post-summary--meta-tags', 'd-inline-block', 'tags', 'js-tags', 'ml0', 'list-ls-none', 'js-post-tag-list-wrapper', 's-user-card', 's-user-card__minimal', 's-avatar', 's-avatar__16', 's-user-card--avatar', 'gravatar-wrapper-16', 's-avatar--image', 's-user-card--info', 's-user-card--link', 's-user-card--time', 'relativetime']\n"
     ]
    },
    {
     "name": "stderr",
     "output_type": "stream",
     "text": [
      "The chromedriver version (138.0.7204.183) detected in PATH at C:\\chromedriver-win64\\chromedriver.exe might not be compatible with the detected chrome version (139.0.7258.155); currently, chromedriver 139.0.7258.154 is recommended for chrome 139.*, so it is advised to delete the driver in PATH and retry\n"
     ]
    },
    {
     "name": "stdout",
     "output_type": "stream",
     "text": [
      "Data-related classes: ['s-post-summary', 'js-post-summary', 's-post-summary--stats', 'js-post-summary-stats', 's-post-summary--stats-item__emphasized', 's-post-summary--content', 's-post-summary--content-title', 's-post-summary--content-excerpt', 's-post-summary--meta', 's-post-summary--meta-tags', 'd-inline-block', 'tags', 'js-tags', 'ml0', 'list-ls-none', 'js-post-tag-list-wrapper', 's-user-card', 's-user-card__minimal', 's-avatar', 's-avatar__16', 's-user-card--avatar', 'gravatar-wrapper-16', 's-avatar--image', 's-user-card--info', 's-user-card--link', 's-user-card--time', 'relativetime']\n"
     ]
    },
    {
     "name": "stderr",
     "output_type": "stream",
     "text": [
      "The chromedriver version (138.0.7204.183) detected in PATH at C:\\chromedriver-win64\\chromedriver.exe might not be compatible with the detected chrome version (139.0.7258.155); currently, chromedriver 139.0.7258.154 is recommended for chrome 139.*, so it is advised to delete the driver in PATH and retry\n",
      "The chromedriver version (138.0.7204.183) detected in PATH at C:\\chromedriver-win64\\chromedriver.exe might not be compatible with the detected chrome version (139.0.7258.155); currently, chromedriver 139.0.7258.154 is recommended for chrome 139.*, so it is advised to delete the driver in PATH and retry\n"
     ]
    },
    {
     "name": "stdout",
     "output_type": "stream",
     "text": [
      "Data-related classes: ['s-post-summary', 'js-post-summary', 's-post-summary--stats', 'js-post-summary-stats', 's-post-summary--stats-item__emphasized', 's-post-summary--content', 's-post-summary--content-title', 's-post-summary--content-excerpt', 's-post-summary--meta', 's-post-summary--meta-tags', 'd-inline-block', 'tags', 'js-tags', 'ml0', 'list-ls-none', 'js-post-tag-list-wrapper', 's-user-card', 's-user-card__minimal', 's-avatar', 's-avatar__16', 's-user-card--avatar', 'gravatar-wrapper-16', 's-avatar--image', 's-user-card--info', 's-user-card--link', 's-user-card--time', 'relativetime']\n"
     ]
    },
    {
     "name": "stderr",
     "output_type": "stream",
     "text": [
      "The chromedriver version (138.0.7204.183) detected in PATH at C:\\chromedriver-win64\\chromedriver.exe might not be compatible with the detected chrome version (139.0.7258.155); currently, chromedriver 139.0.7258.154 is recommended for chrome 139.*, so it is advised to delete the driver in PATH and retry\n"
     ]
    },
    {
     "name": "stdout",
     "output_type": "stream",
     "text": [
      "Data-related classes: ['s-post-summary', 'js-post-summary', 's-post-summary--stats', 'js-post-summary-stats', 's-post-summary--stats-item__emphasized', 's-post-summary--content', 's-post-summary--content-title', 's-post-summary--content-excerpt', 's-post-summary--meta', 's-post-summary--meta-tags', 'd-inline-block', 'tags', 'js-tags', 'ml0', 'list-ls-none', 'js-post-tag-list-wrapper', 's-user-card', 's-user-card__minimal', 's-avatar', 's-avatar__16', 's-user-card--avatar', 'gravatar-wrapper-16', 's-avatar--image', 's-user-card--info', 's-user-card--link', 's-user-card--awards', 's-user-card--rep', 'todo-no-class-here', 's-user-card--time', 'relativetime']\n"
     ]
    },
    {
     "name": "stderr",
     "output_type": "stream",
     "text": [
      "The chromedriver version (138.0.7204.183) detected in PATH at C:\\chromedriver-win64\\chromedriver.exe might not be compatible with the detected chrome version (139.0.7258.155); currently, chromedriver 139.0.7258.154 is recommended for chrome 139.*, so it is advised to delete the driver in PATH and retry\n",
      "The chromedriver version (138.0.7204.183) detected in PATH at C:\\chromedriver-win64\\chromedriver.exe might not be compatible with the detected chrome version (139.0.7258.155); currently, chromedriver 139.0.7258.154 is recommended for chrome 139.*, so it is advised to delete the driver in PATH and retry\n"
     ]
    },
    {
     "name": "stdout",
     "output_type": "stream",
     "text": [
      "Data-related classes: ['s-post-summary', 'js-post-summary', 's-post-summary--stats', 'js-post-summary-stats', 's-post-summary--stats-item__emphasized', 's-post-summary--content', 's-post-summary--content-title', 's-post-summary--content-excerpt', 's-post-summary--meta', 's-post-summary--meta-tags', 'd-inline-block', 'tags', 'js-tags', 'ml0', 'list-ls-none', 'js-post-tag-list-wrapper', 's-user-card', 's-user-card__minimal', 's-avatar', 's-avatar__16', 's-user-card--avatar', 'gravatar-wrapper-16', 's-avatar--image', 's-user-card--info', 's-user-card--link', 's-user-card--time', 'relativetime']\n"
     ]
    },
    {
     "name": "stderr",
     "output_type": "stream",
     "text": [
      "The chromedriver version (138.0.7204.183) detected in PATH at C:\\chromedriver-win64\\chromedriver.exe might not be compatible with the detected chrome version (139.0.7258.155); currently, chromedriver 139.0.7258.154 is recommended for chrome 139.*, so it is advised to delete the driver in PATH and retry\n"
     ]
    },
    {
     "name": "stdout",
     "output_type": "stream",
     "text": [
      "Data-related classes: ['s-post-summary', 'js-post-summary', 's-post-summary--stats', 'js-post-summary-stats', 's-post-summary--stats-item__emphasized', 's-post-summary--content', 's-post-summary--content-title', 's-post-summary--content-excerpt', 's-post-summary--meta', 's-post-summary--meta-tags', 'd-inline-block', 'tags', 'js-tags', 'ml0', 'list-ls-none', 'js-post-tag-list-wrapper', 's-user-card', 's-user-card__minimal', 's-avatar', 's-avatar__16', 's-user-card--avatar', 'gravatar-wrapper-16', 's-avatar--image', 's-user-card--info', 's-user-card--link', 's-user-card--time', 'relativetime']\n"
     ]
    },
    {
     "name": "stderr",
     "output_type": "stream",
     "text": [
      "The chromedriver version (138.0.7204.183) detected in PATH at C:\\chromedriver-win64\\chromedriver.exe might not be compatible with the detected chrome version (139.0.7258.155); currently, chromedriver 139.0.7258.154 is recommended for chrome 139.*, so it is advised to delete the driver in PATH and retry\n",
      "The chromedriver version (138.0.7204.183) detected in PATH at C:\\chromedriver-win64\\chromedriver.exe might not be compatible with the detected chrome version (139.0.7258.155); currently, chromedriver 139.0.7258.154 is recommended for chrome 139.*, so it is advised to delete the driver in PATH and retry\n"
     ]
    },
    {
     "name": "stdout",
     "output_type": "stream",
     "text": [
      "Data-related classes: ['s-post-summary', 'js-post-summary', 's-post-summary--stats', 'js-post-summary-stats', 's-post-summary--stats-item__emphasized', 's-post-summary--content', 's-post-summary--content-title', 's-post-summary--content-excerpt', 's-post-summary--meta', 's-post-summary--meta-tags', 'd-inline-block', 'tags', 'js-tags', 'ml0', 'list-ls-none', 'js-post-tag-list-wrapper', 's-user-card', 's-user-card__minimal', 's-avatar', 's-avatar__16', 's-user-card--avatar', 'gravatar-wrapper-16', 's-avatar--image', 's-user-card--info', 's-user-card--link', 's-user-card--time', 'relativetime']\n"
     ]
    },
    {
     "name": "stderr",
     "output_type": "stream",
     "text": [
      "The chromedriver version (138.0.7204.183) detected in PATH at C:\\chromedriver-win64\\chromedriver.exe might not be compatible with the detected chrome version (139.0.7258.155); currently, chromedriver 139.0.7258.154 is recommended for chrome 139.*, so it is advised to delete the driver in PATH and retry\n"
     ]
    },
    {
     "name": "stdout",
     "output_type": "stream",
     "text": [
      "Data-related classes: ['s-post-summary', 'js-post-summary', 's-post-summary--stats', 'js-post-summary-stats', 's-post-summary--stats-item__emphasized', 's-post-summary--content', 's-post-summary--content-title', 's-post-summary--content-excerpt', 's-post-summary--meta', 's-post-summary--meta-tags', 'd-inline-block', 'tags', 'js-tags', 'ml0', 'list-ls-none', 'js-post-tag-list-wrapper', 's-user-card', 's-user-card__minimal', 's-avatar', 's-avatar__16', 's-user-card--avatar', 'gravatar-wrapper-16', 's-avatar--image', 's-user-card--info', 's-user-card--link', 's-user-card--time', 'relativetime']\n"
     ]
    },
    {
     "name": "stderr",
     "output_type": "stream",
     "text": [
      "The chromedriver version (138.0.7204.183) detected in PATH at C:\\chromedriver-win64\\chromedriver.exe might not be compatible with the detected chrome version (139.0.7258.155); currently, chromedriver 139.0.7258.154 is recommended for chrome 139.*, so it is advised to delete the driver in PATH and retry\n",
      "The chromedriver version (138.0.7204.183) detected in PATH at C:\\chromedriver-win64\\chromedriver.exe might not be compatible with the detected chrome version (139.0.7258.155); currently, chromedriver 139.0.7258.154 is recommended for chrome 139.*, so it is advised to delete the driver in PATH and retry\n"
     ]
    },
    {
     "name": "stdout",
     "output_type": "stream",
     "text": [
      "Data-related classes: ['s-post-summary', 'js-post-summary', 's-post-summary--stats', 'js-post-summary-stats', 's-post-summary--stats-item__emphasized', 's-post-summary--content', 's-post-summary--content-title', 's-post-summary--content-excerpt', 's-post-summary--meta', 's-post-summary--meta-tags', 'd-inline-block', 'tags', 'js-tags', 'ml0', 'list-ls-none', 'js-post-tag-list-wrapper', 's-user-card', 's-user-card__minimal', 's-avatar', 's-avatar__16', 's-user-card--avatar', 'gravatar-wrapper-16', 's-avatar--image', 's-user-card--info', 's-user-card--link', 's-user-card--time', 'relativetime']\n"
     ]
    },
    {
     "name": "stderr",
     "output_type": "stream",
     "text": [
      "The chromedriver version (138.0.7204.183) detected in PATH at C:\\chromedriver-win64\\chromedriver.exe might not be compatible with the detected chrome version (139.0.7258.155); currently, chromedriver 139.0.7258.154 is recommended for chrome 139.*, so it is advised to delete the driver in PATH and retry\n"
     ]
    },
    {
     "name": "stdout",
     "output_type": "stream",
     "text": [
      "Data-related classes: ['s-post-summary', 'js-post-summary', 's-post-summary--stats', 'js-post-summary-stats', 's-post-summary--stats-item__emphasized', 's-post-summary--content', 's-post-summary--content-title', 's-post-summary--content-excerpt', 's-post-summary--meta', 's-post-summary--meta-tags', 'd-inline-block', 'tags', 'js-tags', 'ml0', 'list-ls-none', 'js-post-tag-list-wrapper', 's-user-card', 's-user-card__minimal', 's-avatar', 's-avatar__16', 's-user-card--avatar', 'gravatar-wrapper-16', 's-avatar--image', 's-user-card--info', 's-user-card--link', 's-user-card--time', 'relativetime']\n"
     ]
    },
    {
     "name": "stderr",
     "output_type": "stream",
     "text": [
      "The chromedriver version (138.0.7204.183) detected in PATH at C:\\chromedriver-win64\\chromedriver.exe might not be compatible with the detected chrome version (139.0.7258.155); currently, chromedriver 139.0.7258.154 is recommended for chrome 139.*, so it is advised to delete the driver in PATH and retry\n"
     ]
    },
    {
     "name": "stdout",
     "output_type": "stream",
     "text": [
      "Data-related classes: ['s-post-summary', 'js-post-summary', 's-post-summary--stats', 'js-post-summary-stats', 's-post-summary--stats-item__emphasized', 's-post-summary--content', 's-post-summary--content-title', 's-post-summary--content-excerpt', 's-post-summary--meta', 's-post-summary--meta-tags', 'd-inline-block', 'tags', 'js-tags', 'ml0', 'list-ls-none', 'js-post-tag-list-wrapper', 's-user-card', 's-user-card__minimal', 's-avatar', 's-avatar__16', 's-user-card--avatar', 'gravatar-wrapper-16', 's-avatar--image', 's-user-card--info', 's-user-card--link', 's-user-card--time', 'relativetime']\n"
     ]
    },
    {
     "name": "stderr",
     "output_type": "stream",
     "text": [
      "The chromedriver version (138.0.7204.183) detected in PATH at C:\\chromedriver-win64\\chromedriver.exe might not be compatible with the detected chrome version (139.0.7258.155); currently, chromedriver 139.0.7258.154 is recommended for chrome 139.*, so it is advised to delete the driver in PATH and retry\n",
      "The chromedriver version (138.0.7204.183) detected in PATH at C:\\chromedriver-win64\\chromedriver.exe might not be compatible with the detected chrome version (139.0.7258.155); currently, chromedriver 139.0.7258.154 is recommended for chrome 139.*, so it is advised to delete the driver in PATH and retry\n"
     ]
    },
    {
     "name": "stdout",
     "output_type": "stream",
     "text": [
      "Data-related classes: ['s-post-summary', 'js-post-summary', 's-post-summary--stats', 'js-post-summary-stats', 's-post-summary--stats-item__emphasized', 's-post-summary--content', 's-post-summary--content-title', 's-post-summary--content-excerpt', 's-post-summary--meta', 's-post-summary--meta-tags', 'd-inline-block', 'tags', 'js-tags', 'ml0', 'list-ls-none', 'js-post-tag-list-wrapper', 's-user-card', 's-user-card__minimal', 's-avatar', 's-avatar__16', 's-user-card--avatar', 'gravatar-wrapper-16', 's-avatar--image', 's-user-card--info', 's-user-card--link', 's-user-card--time', 'relativetime']\n"
     ]
    },
    {
     "name": "stderr",
     "output_type": "stream",
     "text": [
      "The chromedriver version (138.0.7204.183) detected in PATH at C:\\chromedriver-win64\\chromedriver.exe might not be compatible with the detected chrome version (139.0.7258.155); currently, chromedriver 139.0.7258.154 is recommended for chrome 139.*, so it is advised to delete the driver in PATH and retry\n"
     ]
    },
    {
     "name": "stdout",
     "output_type": "stream",
     "text": [
      "Data-related classes: ['s-post-summary', 'js-post-summary', 's-post-summary--stats', 'js-post-summary-stats', 's-post-summary--stats-item__emphasized', 's-post-summary--content', 's-post-summary--content-title', 's-post-summary--content-excerpt', 's-post-summary--meta', 's-post-summary--meta-tags', 'd-inline-block', 'tags', 'js-tags', 'ml0', 'list-ls-none', 'js-post-tag-list-wrapper', 's-user-card', 's-user-card__minimal', 's-avatar', 's-avatar__16', 's-user-card--avatar', 'gravatar-wrapper-16', 's-avatar--image', 's-user-card--info', 's-user-card--link', 's-user-card--time', 'relativetime']\n"
     ]
    },
    {
     "name": "stderr",
     "output_type": "stream",
     "text": [
      "The chromedriver version (138.0.7204.183) detected in PATH at C:\\chromedriver-win64\\chromedriver.exe might not be compatible with the detected chrome version (139.0.7258.155); currently, chromedriver 139.0.7258.154 is recommended for chrome 139.*, so it is advised to delete the driver in PATH and retry\n",
      "The chromedriver version (138.0.7204.183) detected in PATH at C:\\chromedriver-win64\\chromedriver.exe might not be compatible with the detected chrome version (139.0.7258.155); currently, chromedriver 139.0.7258.154 is recommended for chrome 139.*, so it is advised to delete the driver in PATH and retry\n"
     ]
    },
    {
     "name": "stdout",
     "output_type": "stream",
     "text": [
      "Data-related classes: ['s-post-summary', 'js-post-summary', 's-post-summary--stats', 'js-post-summary-stats', 's-post-summary--stats-item__emphasized', 's-post-summary--content', 's-post-summary--content-title', 's-post-summary--content-excerpt', 's-post-summary--meta', 's-post-summary--meta-tags', 'd-inline-block', 'tags', 'js-tags', 'ml0', 'list-ls-none', 'js-post-tag-list-wrapper', 's-user-card', 's-user-card__minimal', 's-avatar', 's-avatar__16', 's-user-card--avatar', 'gravatar-wrapper-16', 's-avatar--image', 's-user-card--info', 's-user-card--link', 's-user-card--time', 'relativetime']\n"
     ]
    },
    {
     "name": "stderr",
     "output_type": "stream",
     "text": [
      "The chromedriver version (138.0.7204.183) detected in PATH at C:\\chromedriver-win64\\chromedriver.exe might not be compatible with the detected chrome version (139.0.7258.155); currently, chromedriver 139.0.7258.154 is recommended for chrome 139.*, so it is advised to delete the driver in PATH and retry\n"
     ]
    },
    {
     "name": "stdout",
     "output_type": "stream",
     "text": [
      "Data-related classes: ['s-post-summary', 'js-post-summary', 's-post-summary--stats', 'js-post-summary-stats', 's-post-summary--stats-item__emphasized', 's-post-summary--content', 's-post-summary--content-title', 's-post-summary--content-excerpt', 's-post-summary--meta', 's-post-summary--meta-tags', 'd-inline-block', 'tags', 'js-tags', 'ml0', 'list-ls-none', 'js-post-tag-list-wrapper', 's-user-card', 's-user-card__minimal', 's-avatar', 's-avatar__16', 's-user-card--avatar', 'gravatar-wrapper-16', 's-avatar--image', 's-user-card--info', 's-user-card--link', 's-user-card--time', 'relativetime']\n"
     ]
    },
    {
     "name": "stderr",
     "output_type": "stream",
     "text": [
      "The chromedriver version (138.0.7204.183) detected in PATH at C:\\chromedriver-win64\\chromedriver.exe might not be compatible with the detected chrome version (139.0.7258.155); currently, chromedriver 139.0.7258.154 is recommended for chrome 139.*, so it is advised to delete the driver in PATH and retry\n"
     ]
    },
    {
     "name": "stdout",
     "output_type": "stream",
     "text": [
      "Data-related classes: ['s-post-summary', 'js-post-summary', 's-post-summary--stats', 'js-post-summary-stats', 's-post-summary--stats-item__emphasized', 's-post-summary--content', 's-post-summary--content-title', 's-post-summary--content-excerpt', 's-post-summary--meta', 's-post-summary--meta-tags', 'd-inline-block', 'tags', 'js-tags', 'ml0', 'list-ls-none', 'js-post-tag-list-wrapper', 's-user-card', 's-user-card__minimal', 's-avatar', 's-avatar__16', 's-user-card--avatar', 'gravatar-wrapper-16', 's-avatar--image', 's-user-card--info', 's-user-card--link', 's-user-card--time', 'relativetime']\n"
     ]
    },
    {
     "name": "stderr",
     "output_type": "stream",
     "text": [
      "The chromedriver version (138.0.7204.183) detected in PATH at C:\\chromedriver-win64\\chromedriver.exe might not be compatible with the detected chrome version (139.0.7258.155); currently, chromedriver 139.0.7258.154 is recommended for chrome 139.*, so it is advised to delete the driver in PATH and retry\n",
      "The chromedriver version (138.0.7204.183) detected in PATH at C:\\chromedriver-win64\\chromedriver.exe might not be compatible with the detected chrome version (139.0.7258.155); currently, chromedriver 139.0.7258.154 is recommended for chrome 139.*, so it is advised to delete the driver in PATH and retry\n"
     ]
    },
    {
     "name": "stdout",
     "output_type": "stream",
     "text": [
      "Data-related classes: ['s-post-summary', 'js-post-summary', 's-post-summary--stats', 'js-post-summary-stats', 's-post-summary--stats-item__emphasized', 's-post-summary--content', 's-post-summary--content-title', 's-post-summary--content-excerpt', 's-post-summary--meta', 's-post-summary--meta-tags', 'd-inline-block', 'tags', 'js-tags', 'ml0', 'list-ls-none', 'js-post-tag-list-wrapper', 's-user-card', 's-user-card__minimal', 's-avatar', 's-avatar__16', 's-user-card--avatar', 'gravatar-wrapper-16', 's-avatar--image', 's-user-card--info', 's-user-card--link', 's-user-card--time', 'relativetime']\n"
     ]
    },
    {
     "name": "stderr",
     "output_type": "stream",
     "text": [
      "The chromedriver version (138.0.7204.183) detected in PATH at C:\\chromedriver-win64\\chromedriver.exe might not be compatible with the detected chrome version (139.0.7258.155); currently, chromedriver 139.0.7258.154 is recommended for chrome 139.*, so it is advised to delete the driver in PATH and retry\n"
     ]
    },
    {
     "name": "stdout",
     "output_type": "stream",
     "text": [
      "Data-related classes: ['s-post-summary', 'js-post-summary', 's-post-summary--stats', 'js-post-summary-stats', 's-post-summary--stats-item__emphasized', 's-post-summary--content', 's-post-summary--content-title', 's-post-summary--content-excerpt', 's-post-summary--meta', 's-post-summary--meta-tags', 'd-inline-block', 'tags', 'js-tags', 'ml0', 'list-ls-none', 'js-post-tag-list-wrapper', 's-user-card', 's-user-card__minimal', 's-avatar', 's-avatar__16', 's-user-card--avatar', 'gravatar-wrapper-16', 's-avatar--image', 's-user-card--info', 's-user-card--link', 's-user-card--time', 'relativetime']\n"
     ]
    },
    {
     "name": "stderr",
     "output_type": "stream",
     "text": [
      "The chromedriver version (138.0.7204.183) detected in PATH at C:\\chromedriver-win64\\chromedriver.exe might not be compatible with the detected chrome version (139.0.7258.155); currently, chromedriver 139.0.7258.154 is recommended for chrome 139.*, so it is advised to delete the driver in PATH and retry\n"
     ]
    },
    {
     "name": "stdout",
     "output_type": "stream",
     "text": [
      "Data-related classes: ['s-post-summary', 'js-post-summary', 's-post-summary--stats', 'js-post-summary-stats', 's-post-summary--stats-item__emphasized', 's-post-summary--content', 's-post-summary--content-title', 's-post-summary--content-excerpt', 's-post-summary--meta', 's-post-summary--meta-tags', 'd-inline-block', 'tags', 'js-tags', 'ml0', 'list-ls-none', 'js-post-tag-list-wrapper', 's-user-card', 's-user-card__minimal', 's-avatar', 's-avatar__16', 's-user-card--avatar', 'gravatar-wrapper-16', 's-avatar--image', 's-user-card--info', 's-user-card--link', 's-user-card--time', 'relativetime']\n"
     ]
    },
    {
     "name": "stderr",
     "output_type": "stream",
     "text": [
      "The chromedriver version (138.0.7204.183) detected in PATH at C:\\chromedriver-win64\\chromedriver.exe might not be compatible with the detected chrome version (139.0.7258.155); currently, chromedriver 139.0.7258.154 is recommended for chrome 139.*, so it is advised to delete the driver in PATH and retry\n",
      "The chromedriver version (138.0.7204.183) detected in PATH at C:\\chromedriver-win64\\chromedriver.exe might not be compatible with the detected chrome version (139.0.7258.155); currently, chromedriver 139.0.7258.154 is recommended for chrome 139.*, so it is advised to delete the driver in PATH and retry\n"
     ]
    },
    {
     "name": "stdout",
     "output_type": "stream",
     "text": [
      "Data-related classes: ['s-post-summary', 'js-post-summary', 's-post-summary--stats', 'js-post-summary-stats', 's-post-summary--stats-item__emphasized', 's-post-summary--content', 's-post-summary--content-title', 's-post-summary--content-excerpt', 's-post-summary--meta', 's-post-summary--meta-tags', 'd-inline-block', 'tags', 'js-tags', 'ml0', 'list-ls-none', 'js-post-tag-list-wrapper', 's-user-card', 's-user-card__minimal', 's-avatar', 's-avatar__16', 's-user-card--avatar', 'gravatar-wrapper-16', 's-avatar--image', 's-user-card--info', 's-user-card--link', 's-user-card--time', 'relativetime']\n"
     ]
    },
    {
     "name": "stderr",
     "output_type": "stream",
     "text": [
      "The chromedriver version (138.0.7204.183) detected in PATH at C:\\chromedriver-win64\\chromedriver.exe might not be compatible with the detected chrome version (139.0.7258.155); currently, chromedriver 139.0.7258.154 is recommended for chrome 139.*, so it is advised to delete the driver in PATH and retry\n",
      "The chromedriver version (138.0.7204.183) detected in PATH at C:\\chromedriver-win64\\chromedriver.exe might not be compatible with the detected chrome version (139.0.7258.155); currently, chromedriver 139.0.7258.154 is recommended for chrome 139.*, so it is advised to delete the driver in PATH and retry\n"
     ]
    },
    {
     "name": "stdout",
     "output_type": "stream",
     "text": [
      "Data-related classes: ['s-post-summary', 'js-post-summary', 's-post-summary--stats', 'js-post-summary-stats', 's-post-summary--stats-item__emphasized', 's-post-summary--content', 's-post-summary--content-title', 's-post-summary--content-excerpt', 's-post-summary--meta', 's-post-summary--meta-tags', 'd-inline-block', 'tags', 'js-tags', 'ml0', 'list-ls-none', 'js-post-tag-list-wrapper', 's-user-card', 's-user-card__minimal', 's-avatar', 's-avatar__16', 's-user-card--avatar', 'gravatar-wrapper-16', 's-avatar--image', 's-user-card--info', 's-user-card--link', 's-user-card--time', 'relativetime']\n"
     ]
    },
    {
     "name": "stderr",
     "output_type": "stream",
     "text": [
      "The chromedriver version (138.0.7204.183) detected in PATH at C:\\chromedriver-win64\\chromedriver.exe might not be compatible with the detected chrome version (139.0.7258.155); currently, chromedriver 139.0.7258.154 is recommended for chrome 139.*, so it is advised to delete the driver in PATH and retry\n"
     ]
    },
    {
     "name": "stdout",
     "output_type": "stream",
     "text": [
      "Data-related classes: ['s-post-summary', 'js-post-summary', 's-post-summary--stats', 'js-post-summary-stats', 's-post-summary--stats-item__emphasized', 's-post-summary--content', 's-post-summary--content-title', 's-post-summary--content-excerpt', 's-post-summary--meta', 's-post-summary--meta-tags', 'd-inline-block', 'tags', 'js-tags', 'ml0', 'list-ls-none', 'js-post-tag-list-wrapper', 's-user-card', 's-user-card__minimal', 's-avatar', 's-avatar__16', 's-user-card--avatar', 'gravatar-wrapper-16', 's-avatar--image', 's-user-card--info', 's-user-card--link', 's-user-card--time', 'relativetime']\n"
     ]
    },
    {
     "name": "stderr",
     "output_type": "stream",
     "text": [
      "The chromedriver version (138.0.7204.183) detected in PATH at C:\\chromedriver-win64\\chromedriver.exe might not be compatible with the detected chrome version (139.0.7258.155); currently, chromedriver 139.0.7258.154 is recommended for chrome 139.*, so it is advised to delete the driver in PATH and retry\n",
      "The chromedriver version (138.0.7204.183) detected in PATH at C:\\chromedriver-win64\\chromedriver.exe might not be compatible with the detected chrome version (139.0.7258.155); currently, chromedriver 139.0.7258.154 is recommended for chrome 139.*, so it is advised to delete the driver in PATH and retry\n"
     ]
    },
    {
     "name": "stdout",
     "output_type": "stream",
     "text": [
      "Data-related classes: ['s-post-summary', 'js-post-summary', 's-post-summary--stats', 'js-post-summary-stats', 's-post-summary--stats-item__emphasized', 's-post-summary--content', 's-post-summary--content-title', 's-post-summary--content-excerpt', 's-post-summary--meta', 's-post-summary--meta-tags', 'd-inline-block', 'tags', 'js-tags', 'ml0', 'list-ls-none', 'js-post-tag-list-wrapper', 's-user-card', 's-user-card__minimal', 's-avatar', 's-avatar__16', 's-user-card--avatar', 'gravatar-wrapper-16', 's-avatar--image', 's-user-card--info', 's-user-card--link', 's-user-card--time', 'relativetime']\n"
     ]
    },
    {
     "name": "stderr",
     "output_type": "stream",
     "text": [
      "The chromedriver version (138.0.7204.183) detected in PATH at C:\\chromedriver-win64\\chromedriver.exe might not be compatible with the detected chrome version (139.0.7258.155); currently, chromedriver 139.0.7258.154 is recommended for chrome 139.*, so it is advised to delete the driver in PATH and retry\n"
     ]
    },
    {
     "name": "stdout",
     "output_type": "stream",
     "text": [
      "Data-related classes: ['s-post-summary', 'js-post-summary', 's-post-summary--stats', 'js-post-summary-stats', 's-post-summary--stats-item__emphasized', 's-post-summary--content', 's-post-summary--content-title', 's-post-summary--content-excerpt', 's-post-summary--meta', 's-post-summary--meta-tags', 'd-inline-block', 'tags', 'js-tags', 'ml0', 'list-ls-none', 'js-post-tag-list-wrapper', 's-user-card', 's-user-card__minimal', 's-avatar', 's-avatar__16', 's-user-card--avatar', 'gravatar-wrapper-16', 's-avatar--image', 's-user-card--info', 's-user-card--link', 's-user-card--time', 'relativetime']\n"
     ]
    },
    {
     "name": "stderr",
     "output_type": "stream",
     "text": [
      "The chromedriver version (138.0.7204.183) detected in PATH at C:\\chromedriver-win64\\chromedriver.exe might not be compatible with the detected chrome version (139.0.7258.155); currently, chromedriver 139.0.7258.154 is recommended for chrome 139.*, so it is advised to delete the driver in PATH and retry\n",
      "The chromedriver version (138.0.7204.183) detected in PATH at C:\\chromedriver-win64\\chromedriver.exe might not be compatible with the detected chrome version (139.0.7258.155); currently, chromedriver 139.0.7258.154 is recommended for chrome 139.*, so it is advised to delete the driver in PATH and retry\n"
     ]
    },
    {
     "name": "stdout",
     "output_type": "stream",
     "text": [
      "Data-related classes: ['s-post-summary', 'js-post-summary', 's-post-summary--stats', 'js-post-summary-stats', 's-post-summary--stats-item__emphasized', 's-post-summary--content', 's-post-summary--content-title', 's-post-summary--content-excerpt', 's-post-summary--meta', 's-post-summary--meta-tags', 'd-inline-block', 'tags', 'js-tags', 'ml0', 'list-ls-none', 'js-post-tag-list-wrapper', 's-user-card', 's-user-card__minimal', 's-avatar', 's-avatar__16', 's-user-card--avatar', 'gravatar-wrapper-16', 's-avatar--image', 's-user-card--info', 's-user-card--link', 's-user-card--time', 'relativetime']\n"
     ]
    },
    {
     "name": "stderr",
     "output_type": "stream",
     "text": [
      "The chromedriver version (138.0.7204.183) detected in PATH at C:\\chromedriver-win64\\chromedriver.exe might not be compatible with the detected chrome version (139.0.7258.155); currently, chromedriver 139.0.7258.154 is recommended for chrome 139.*, so it is advised to delete the driver in PATH and retry\n"
     ]
    },
    {
     "name": "stdout",
     "output_type": "stream",
     "text": [
      "Data-related classes: ['s-post-summary', 'js-post-summary', 's-post-summary--stats', 'js-post-summary-stats', 's-post-summary--stats-item__emphasized', 's-post-summary--content', 's-post-summary--content-title', 's-post-summary--content-excerpt', 's-post-summary--meta', 's-post-summary--meta-tags', 'd-inline-block', 'tags', 'js-tags', 'ml0', 'list-ls-none', 'js-post-tag-list-wrapper', 's-user-card', 's-user-card__minimal', 's-avatar', 's-avatar__16', 's-user-card--avatar', 'gravatar-wrapper-16', 's-avatar--image', 's-user-card--info', 's-user-card--link', 's-user-card--time', 'relativetime']\n"
     ]
    },
    {
     "name": "stderr",
     "output_type": "stream",
     "text": [
      "The chromedriver version (138.0.7204.183) detected in PATH at C:\\chromedriver-win64\\chromedriver.exe might not be compatible with the detected chrome version (139.0.7258.155); currently, chromedriver 139.0.7258.154 is recommended for chrome 139.*, so it is advised to delete the driver in PATH and retry\n",
      "The chromedriver version (138.0.7204.183) detected in PATH at C:\\chromedriver-win64\\chromedriver.exe might not be compatible with the detected chrome version (139.0.7258.155); currently, chromedriver 139.0.7258.154 is recommended for chrome 139.*, so it is advised to delete the driver in PATH and retry\n"
     ]
    },
    {
     "name": "stdout",
     "output_type": "stream",
     "text": [
      "Data-related classes: ['s-post-summary', 'js-post-summary', 's-post-summary--stats', 'js-post-summary-stats', 's-post-summary--stats-item__emphasized', 's-post-summary--content', 's-post-summary--content-title', 's-post-summary--content-excerpt', 's-post-summary--meta', 's-post-summary--meta-tags', 'd-inline-block', 'tags', 'js-tags', 'ml0', 'list-ls-none', 'js-post-tag-list-wrapper', 's-user-card', 's-user-card__minimal', 's-avatar', 's-avatar__16', 's-user-card--avatar', 'gravatar-wrapper-16', 's-avatar--image', 's-user-card--info', 's-user-card--link', 's-user-card--time', 'relativetime']\n"
     ]
    },
    {
     "name": "stderr",
     "output_type": "stream",
     "text": [
      "The chromedriver version (138.0.7204.183) detected in PATH at C:\\chromedriver-win64\\chromedriver.exe might not be compatible with the detected chrome version (139.0.7258.155); currently, chromedriver 139.0.7258.154 is recommended for chrome 139.*, so it is advised to delete the driver in PATH and retry\n"
     ]
    },
    {
     "name": "stdout",
     "output_type": "stream",
     "text": [
      "Data-related classes: ['s-post-summary', 'js-post-summary', 's-post-summary--stats', 'js-post-summary-stats', 's-post-summary--stats-item__emphasized', 's-post-summary--content', 's-post-summary--content-title', 's-post-summary--content-excerpt', 's-post-summary--meta', 's-post-summary--meta-tags', 'd-inline-block', 'tags', 'js-tags', 'ml0', 'list-ls-none', 'js-post-tag-list-wrapper', 's-user-card', 's-user-card__minimal', 's-avatar', 's-avatar__16', 's-user-card--avatar', 'gravatar-wrapper-16', 's-avatar--image', 's-user-card--info', 's-user-card--link', 's-user-card--time', 'relativetime']\n"
     ]
    },
    {
     "name": "stderr",
     "output_type": "stream",
     "text": [
      "The chromedriver version (138.0.7204.183) detected in PATH at C:\\chromedriver-win64\\chromedriver.exe might not be compatible with the detected chrome version (139.0.7258.155); currently, chromedriver 139.0.7258.154 is recommended for chrome 139.*, so it is advised to delete the driver in PATH and retry\n",
      "The chromedriver version (138.0.7204.183) detected in PATH at C:\\chromedriver-win64\\chromedriver.exe might not be compatible with the detected chrome version (139.0.7258.155); currently, chromedriver 139.0.7258.154 is recommended for chrome 139.*, so it is advised to delete the driver in PATH and retry\n"
     ]
    },
    {
     "name": "stdout",
     "output_type": "stream",
     "text": [
      "Data-related classes: ['s-post-summary', 'js-post-summary', 's-post-summary--stats', 'js-post-summary-stats', 's-post-summary--stats-item__emphasized', 's-post-summary--content', 's-post-summary--content-title', 's-post-summary--content-excerpt', 's-post-summary--meta', 's-post-summary--meta-tags', 'd-inline-block', 'tags', 'js-tags', 'ml0', 'list-ls-none', 'js-post-tag-list-wrapper', 's-user-card', 's-user-card__minimal', 's-avatar', 's-avatar__16', 's-user-card--avatar', 'gravatar-wrapper-16', 's-avatar--image', 's-user-card--info', 's-user-card--link', 's-user-card--time', 'relativetime']\n"
     ]
    },
    {
     "name": "stderr",
     "output_type": "stream",
     "text": [
      "The chromedriver version (138.0.7204.183) detected in PATH at C:\\chromedriver-win64\\chromedriver.exe might not be compatible with the detected chrome version (139.0.7258.155); currently, chromedriver 139.0.7258.154 is recommended for chrome 139.*, so it is advised to delete the driver in PATH and retry\n"
     ]
    },
    {
     "name": "stdout",
     "output_type": "stream",
     "text": [
      "Data-related classes: ['s-post-summary', 'js-post-summary', 's-post-summary--stats', 'js-post-summary-stats', 's-post-summary--stats-item__emphasized', 's-post-summary--content', 's-post-summary--content-title', 's-post-summary--content-excerpt', 's-post-summary--meta', 's-post-summary--meta-tags', 'd-inline-block', 'tags', 'js-tags', 'ml0', 'list-ls-none', 'js-post-tag-list-wrapper', 's-user-card', 's-user-card__minimal', 's-avatar', 's-avatar__16', 's-user-card--avatar', 'gravatar-wrapper-16', 's-avatar--image', 's-user-card--info', 's-user-card--link', 's-user-card--time', 'relativetime']\n"
     ]
    },
    {
     "name": "stderr",
     "output_type": "stream",
     "text": [
      "The chromedriver version (138.0.7204.183) detected in PATH at C:\\chromedriver-win64\\chromedriver.exe might not be compatible with the detected chrome version (139.0.7258.155); currently, chromedriver 139.0.7258.154 is recommended for chrome 139.*, so it is advised to delete the driver in PATH and retry\n",
      "The chromedriver version (138.0.7204.183) detected in PATH at C:\\chromedriver-win64\\chromedriver.exe might not be compatible with the detected chrome version (139.0.7258.155); currently, chromedriver 139.0.7258.154 is recommended for chrome 139.*, so it is advised to delete the driver in PATH and retry\n"
     ]
    },
    {
     "name": "stdout",
     "output_type": "stream",
     "text": [
      "Data-related classes: ['s-post-summary', 'js-post-summary', 's-post-summary--stats', 'js-post-summary-stats', 's-post-summary--stats-item__emphasized', 's-post-summary--content', 's-post-summary--content-title', 's-post-summary--content-excerpt', 's-post-summary--meta', 's-post-summary--meta-tags', 'd-inline-block', 'tags', 'js-tags', 'ml0', 'list-ls-none', 'js-post-tag-list-wrapper', 's-user-card', 's-user-card__minimal', 's-avatar', 's-avatar__16', 's-user-card--avatar', 'gravatar-wrapper-16', 's-avatar--image', 's-user-card--info', 's-user-card--link', 's-user-card--time', 'relativetime']\n"
     ]
    },
    {
     "name": "stderr",
     "output_type": "stream",
     "text": [
      "The chromedriver version (138.0.7204.183) detected in PATH at C:\\chromedriver-win64\\chromedriver.exe might not be compatible with the detected chrome version (139.0.7258.155); currently, chromedriver 139.0.7258.154 is recommended for chrome 139.*, so it is advised to delete the driver in PATH and retry\n"
     ]
    },
    {
     "name": "stdout",
     "output_type": "stream",
     "text": [
      "Data-related classes: ['s-post-summary', 'js-post-summary', 's-post-summary--stats', 'js-post-summary-stats', 's-post-summary--stats-item__emphasized', 's-post-summary--content', 's-post-summary--content-title', 's-post-summary--content-excerpt', 's-post-summary--meta', 's-post-summary--meta-tags', 'd-inline-block', 'tags', 'js-tags', 'ml0', 'list-ls-none', 'js-post-tag-list-wrapper', 's-user-card', 's-user-card__minimal', 's-avatar', 's-avatar__16', 's-user-card--avatar', 'gravatar-wrapper-16', 's-avatar--image', 's-user-card--info', 's-user-card--link', 's-user-card--time', 'relativetime']\n"
     ]
    },
    {
     "name": "stderr",
     "output_type": "stream",
     "text": [
      "The chromedriver version (138.0.7204.183) detected in PATH at C:\\chromedriver-win64\\chromedriver.exe might not be compatible with the detected chrome version (139.0.7258.155); currently, chromedriver 139.0.7258.154 is recommended for chrome 139.*, so it is advised to delete the driver in PATH and retry\n",
      "The chromedriver version (138.0.7204.183) detected in PATH at C:\\chromedriver-win64\\chromedriver.exe might not be compatible with the detected chrome version (139.0.7258.155); currently, chromedriver 139.0.7258.154 is recommended for chrome 139.*, so it is advised to delete the driver in PATH and retry\n"
     ]
    },
    {
     "name": "stdout",
     "output_type": "stream",
     "text": [
      "Data-related classes: ['s-post-summary', 'js-post-summary', 's-post-summary--stats', 'js-post-summary-stats', 's-post-summary--stats-item__emphasized', 's-post-summary--content', 's-post-summary--content-title', 's-post-summary--content-excerpt', 's-post-summary--meta', 's-post-summary--meta-tags', 'd-inline-block', 'tags', 'js-tags', 'ml0', 'list-ls-none', 'js-post-tag-list-wrapper', 's-user-card', 's-user-card__minimal', 's-avatar', 's-avatar__16', 's-user-card--avatar', 'gravatar-wrapper-16', 's-avatar--image', 's-user-card--info', 's-user-card--link', 's-user-card--time', 'relativetime']\n"
     ]
    },
    {
     "name": "stderr",
     "output_type": "stream",
     "text": [
      "The chromedriver version (138.0.7204.183) detected in PATH at C:\\chromedriver-win64\\chromedriver.exe might not be compatible with the detected chrome version (139.0.7258.155); currently, chromedriver 139.0.7258.154 is recommended for chrome 139.*, so it is advised to delete the driver in PATH and retry\n"
     ]
    },
    {
     "name": "stdout",
     "output_type": "stream",
     "text": [
      "Data-related classes: ['s-post-summary', 'js-post-summary', 's-post-summary--stats', 'js-post-summary-stats', 's-post-summary--stats-item__emphasized', 's-post-summary--content', 's-post-summary--content-title', 's-post-summary--content-excerpt', 's-post-summary--meta', 's-post-summary--meta-tags', 'd-inline-block', 'tags', 'js-tags', 'ml0', 'list-ls-none', 'js-post-tag-list-wrapper', 's-user-card', 's-user-card__minimal', 's-avatar', 's-avatar__16', 's-user-card--avatar', 'gravatar-wrapper-16', 's-avatar--image', 's-user-card--info', 's-user-card--link', 's-user-card--time', 'relativetime']\n"
     ]
    },
    {
     "name": "stderr",
     "output_type": "stream",
     "text": [
      "The chromedriver version (138.0.7204.183) detected in PATH at C:\\chromedriver-win64\\chromedriver.exe might not be compatible with the detected chrome version (139.0.7258.155); currently, chromedriver 139.0.7258.154 is recommended for chrome 139.*, so it is advised to delete the driver in PATH and retry\n",
      "The chromedriver version (138.0.7204.183) detected in PATH at C:\\chromedriver-win64\\chromedriver.exe might not be compatible with the detected chrome version (139.0.7258.155); currently, chromedriver 139.0.7258.154 is recommended for chrome 139.*, so it is advised to delete the driver in PATH and retry\n"
     ]
    },
    {
     "name": "stdout",
     "output_type": "stream",
     "text": [
      "Data-related classes: ['s-post-summary', 'js-post-summary', 's-post-summary--stats', 'js-post-summary-stats', 's-post-summary--stats-item__emphasized', 's-post-summary--content', 's-post-summary--content-title', 's-post-summary--content-excerpt', 's-post-summary--meta', 's-post-summary--meta-tags', 'd-inline-block', 'tags', 'js-tags', 'ml0', 'list-ls-none', 'js-post-tag-list-wrapper', 's-user-card', 's-user-card__minimal', 's-avatar', 's-avatar__16', 's-user-card--avatar', 'gravatar-wrapper-16', 's-avatar--image', 's-user-card--info', 's-user-card--link', 's-user-card--time', 'relativetime']\n"
     ]
    },
    {
     "name": "stderr",
     "output_type": "stream",
     "text": [
      "The chromedriver version (138.0.7204.183) detected in PATH at C:\\chromedriver-win64\\chromedriver.exe might not be compatible with the detected chrome version (139.0.7258.155); currently, chromedriver 139.0.7258.154 is recommended for chrome 139.*, so it is advised to delete the driver in PATH and retry\n"
     ]
    },
    {
     "name": "stdout",
     "output_type": "stream",
     "text": [
      "Data-related classes: ['s-post-summary', 'js-post-summary', 's-post-summary--stats', 'js-post-summary-stats', 's-post-summary--stats-item__emphasized', 's-post-summary--content', 's-post-summary--content-title', 's-post-summary--content-excerpt', 's-post-summary--meta', 's-post-summary--meta-tags', 'd-inline-block', 'tags', 'js-tags', 'ml0', 'list-ls-none', 'js-post-tag-list-wrapper', 's-user-card', 's-user-card__minimal', 's-avatar', 's-avatar__16', 's-user-card--avatar', 'gravatar-wrapper-16', 's-avatar--image', 's-user-card--info', 's-user-card--link', 's-user-card--time', 'relativetime']\n"
     ]
    },
    {
     "name": "stderr",
     "output_type": "stream",
     "text": [
      "The chromedriver version (138.0.7204.183) detected in PATH at C:\\chromedriver-win64\\chromedriver.exe might not be compatible with the detected chrome version (139.0.7258.155); currently, chromedriver 139.0.7258.154 is recommended for chrome 139.*, so it is advised to delete the driver in PATH and retry\n",
      "The chromedriver version (138.0.7204.183) detected in PATH at C:\\chromedriver-win64\\chromedriver.exe might not be compatible with the detected chrome version (139.0.7258.155); currently, chromedriver 139.0.7258.154 is recommended for chrome 139.*, so it is advised to delete the driver in PATH and retry\n"
     ]
    },
    {
     "name": "stdout",
     "output_type": "stream",
     "text": [
      "Data-related classes: ['s-post-summary--stats-item', 's-post-summary--stats-item-number', 's-post-summary--stats-item-unit', 'mr4', 'js-post-tag-list-item', 's-tag', 'post-tag', 'mt0']\n",
      "Data-related classes: ['s-post-summary', 'js-post-summary', 's-post-summary--stats', 'js-post-summary-stats', 's-post-summary--stats-item__emphasized', 's-post-summary--content', 's-post-summary--content-title', 's-post-summary--content-excerpt', 's-post-summary--meta', 's-post-summary--meta-tags', 'd-inline-block', 'tags', 'js-tags', 'ml0', 'list-ls-none', 'js-post-tag-list-wrapper', 's-user-card', 's-user-card__minimal', 's-avatar', 's-avatar__16', 's-user-card--avatar', 'gravatar-wrapper-16', 's-avatar--image', 's-user-card--info', 's-user-card--link', 's-user-card--time', 'relativetime']\n"
     ]
    },
    {
     "name": "stderr",
     "output_type": "stream",
     "text": [
      "The chromedriver version (138.0.7204.183) detected in PATH at C:\\chromedriver-win64\\chromedriver.exe might not be compatible with the detected chrome version (139.0.7258.155); currently, chromedriver 139.0.7258.154 is recommended for chrome 139.*, so it is advised to delete the driver in PATH and retry\n"
     ]
    },
    {
     "name": "stdout",
     "output_type": "stream",
     "text": [
      "Data-related classes: ['s-post-summary', 'js-post-summary', 's-post-summary--stats', 'js-post-summary-stats', 's-post-summary--stats-item__emphasized', 's-post-summary--content', 's-post-summary--content-title', 's-post-summary--content-excerpt', 's-post-summary--meta', 's-post-summary--meta-tags', 'd-inline-block', 'tags', 'js-tags', 'ml0', 'list-ls-none', 'js-post-tag-list-wrapper', 's-user-card', 's-user-card__minimal', 's-avatar', 's-avatar__16', 's-user-card--avatar', 'gravatar-wrapper-16', 's-avatar--image', 's-user-card--info', 's-user-card--link', 's-user-card--time', 'relativetime']\n"
     ]
    },
    {
     "name": "stderr",
     "output_type": "stream",
     "text": [
      "The chromedriver version (138.0.7204.183) detected in PATH at C:\\chromedriver-win64\\chromedriver.exe might not be compatible with the detected chrome version (139.0.7258.155); currently, chromedriver 139.0.7258.154 is recommended for chrome 139.*, so it is advised to delete the driver in PATH and retry\n"
     ]
    },
    {
     "name": "stdout",
     "output_type": "stream",
     "text": [
      "Data-related classes: ['s-post-summary', 'js-post-summary', 's-post-summary--stats', 'js-post-summary-stats', 's-post-summary--stats-item__emphasized', 's-post-summary--content', 's-post-summary--content-title', 's-post-summary--content-excerpt', 's-post-summary--meta', 's-post-summary--meta-tags', 'd-inline-block', 'tags', 'js-tags', 'ml0', 'list-ls-none', 'js-post-tag-list-wrapper', 's-user-card', 's-user-card__minimal', 's-avatar', 's-avatar__16', 's-user-card--avatar', 'gravatar-wrapper-16', 's-avatar--image', 's-user-card--info', 's-user-card--link', 's-user-card--time', 'relativetime']\n"
     ]
    },
    {
     "name": "stderr",
     "output_type": "stream",
     "text": [
      "The chromedriver version (138.0.7204.183) detected in PATH at C:\\chromedriver-win64\\chromedriver.exe might not be compatible with the detected chrome version (139.0.7258.155); currently, chromedriver 139.0.7258.154 is recommended for chrome 139.*, so it is advised to delete the driver in PATH and retry\n",
      "The chromedriver version (138.0.7204.183) detected in PATH at C:\\chromedriver-win64\\chromedriver.exe might not be compatible with the detected chrome version (139.0.7258.155); currently, chromedriver 139.0.7258.154 is recommended for chrome 139.*, so it is advised to delete the driver in PATH and retry\n"
     ]
    },
    {
     "name": "stdout",
     "output_type": "stream",
     "text": [
      "Data-related classes: ['s-post-summary', 'js-post-summary', 's-post-summary--stats', 'js-post-summary-stats', 's-post-summary--stats-item__emphasized', 's-post-summary--content', 's-post-summary--content-title', 's-post-summary--content-excerpt', 's-post-summary--meta', 's-post-summary--meta-tags', 'd-inline-block', 'tags', 'js-tags', 'ml0', 'list-ls-none', 'js-post-tag-list-wrapper', 's-user-card', 's-user-card__minimal', 's-avatar', 's-avatar__16', 's-user-card--avatar', 'gravatar-wrapper-16', 's-avatar--image', 's-user-card--info', 's-user-card--link', 's-user-card--time', 'relativetime']\n"
     ]
    },
    {
     "name": "stderr",
     "output_type": "stream",
     "text": [
      "The chromedriver version (138.0.7204.183) detected in PATH at C:\\chromedriver-win64\\chromedriver.exe might not be compatible with the detected chrome version (139.0.7258.155); currently, chromedriver 139.0.7258.154 is recommended for chrome 139.*, so it is advised to delete the driver in PATH and retry\n"
     ]
    },
    {
     "name": "stdout",
     "output_type": "stream",
     "text": [
      "Data-related classes: ['s-post-summary', 'js-post-summary', 's-post-summary--stats', 'js-post-summary-stats', 's-post-summary--stats-item__emphasized', 's-post-summary--content', 's-post-summary--content-title', 's-post-summary--content-excerpt', 's-post-summary--meta', 's-post-summary--meta-tags', 'd-inline-block', 'tags', 'js-tags', 'ml0', 'list-ls-none', 'js-post-tag-list-wrapper', 's-user-card', 's-user-card__minimal', 's-avatar', 's-avatar__16', 's-user-card--avatar', 'gravatar-wrapper-16', 's-avatar--image', 's-user-card--info', 's-user-card--link', 's-user-card--time', 'relativetime']\n"
     ]
    },
    {
     "name": "stderr",
     "output_type": "stream",
     "text": [
      "The chromedriver version (138.0.7204.183) detected in PATH at C:\\chromedriver-win64\\chromedriver.exe might not be compatible with the detected chrome version (139.0.7258.155); currently, chromedriver 139.0.7258.154 is recommended for chrome 139.*, so it is advised to delete the driver in PATH and retry\n"
     ]
    },
    {
     "name": "stdout",
     "output_type": "stream",
     "text": [
      "Data-related classes: ['s-post-summary', 'js-post-summary', 's-post-summary--stats', 'js-post-summary-stats', 's-post-summary--stats-item__emphasized', 's-post-summary--content', 's-post-summary--content-title', 's-post-summary--content-excerpt', 's-post-summary--meta', 's-post-summary--meta-tags', 'd-inline-block', 'tags', 'js-tags', 'ml0', 'list-ls-none', 'js-post-tag-list-wrapper', 's-user-card', 's-user-card__minimal', 's-avatar', 's-avatar__16', 's-user-card--avatar', 'gravatar-wrapper-16', 's-avatar--image', 's-user-card--info', 's-user-card--link', 's-user-card--time', 'relativetime']\n"
     ]
    },
    {
     "name": "stderr",
     "output_type": "stream",
     "text": [
      "The chromedriver version (138.0.7204.183) detected in PATH at C:\\chromedriver-win64\\chromedriver.exe might not be compatible with the detected chrome version (139.0.7258.155); currently, chromedriver 139.0.7258.154 is recommended for chrome 139.*, so it is advised to delete the driver in PATH and retry\n",
      "The chromedriver version (138.0.7204.183) detected in PATH at C:\\chromedriver-win64\\chromedriver.exe might not be compatible with the detected chrome version (139.0.7258.155); currently, chromedriver 139.0.7258.154 is recommended for chrome 139.*, so it is advised to delete the driver in PATH and retry\n"
     ]
    },
    {
     "name": "stdout",
     "output_type": "stream",
     "text": [
      "Data-related classes: ['s-post-summary', 'js-post-summary', 's-post-summary--stats', 'js-post-summary-stats', 's-post-summary--stats-item__emphasized', 's-post-summary--content', 's-post-summary--content-title', 's-post-summary--content-excerpt', 's-post-summary--meta', 's-post-summary--meta-tags', 'd-inline-block', 'tags', 'js-tags', 'ml0', 'list-ls-none', 'js-post-tag-list-wrapper', 's-user-card', 's-user-card__minimal', 's-avatar', 's-avatar__16', 's-user-card--avatar', 'gravatar-wrapper-16', 's-avatar--image', 's-user-card--info', 's-user-card--link', 's-user-card--time', 'relativetime']\n"
     ]
    },
    {
     "name": "stderr",
     "output_type": "stream",
     "text": [
      "The chromedriver version (138.0.7204.183) detected in PATH at C:\\chromedriver-win64\\chromedriver.exe might not be compatible with the detected chrome version (139.0.7258.155); currently, chromedriver 139.0.7258.154 is recommended for chrome 139.*, so it is advised to delete the driver in PATH and retry\n"
     ]
    },
    {
     "name": "stdout",
     "output_type": "stream",
     "text": [
      "Data-related classes: ['s-post-summary', 'js-post-summary', 's-post-summary--stats', 'js-post-summary-stats', 's-post-summary--stats-item__emphasized', 's-post-summary--content', 's-post-summary--content-title', 's-post-summary--content-excerpt', 's-post-summary--meta', 's-post-summary--meta-tags', 'd-inline-block', 'tags', 'js-tags', 'ml0', 'list-ls-none', 'js-post-tag-list-wrapper', 's-user-card', 's-user-card__minimal', 's-avatar', 's-avatar__16', 's-user-card--avatar', 'gravatar-wrapper-16', 's-avatar--image', 's-user-card--info', 's-user-card--link', 's-user-card--time', 'relativetime']\n"
     ]
    },
    {
     "name": "stderr",
     "output_type": "stream",
     "text": [
      "The chromedriver version (138.0.7204.183) detected in PATH at C:\\chromedriver-win64\\chromedriver.exe might not be compatible with the detected chrome version (139.0.7258.155); currently, chromedriver 139.0.7258.154 is recommended for chrome 139.*, so it is advised to delete the driver in PATH and retry\n",
      "The chromedriver version (138.0.7204.183) detected in PATH at C:\\chromedriver-win64\\chromedriver.exe might not be compatible with the detected chrome version (139.0.7258.155); currently, chromedriver 139.0.7258.154 is recommended for chrome 139.*, so it is advised to delete the driver in PATH and retry\n"
     ]
    },
    {
     "name": "stdout",
     "output_type": "stream",
     "text": [
      "Data-related classes: ['s-post-summary', 'js-post-summary', 's-post-summary--stats', 'js-post-summary-stats', 's-post-summary--stats-item__emphasized', 's-post-summary--content', 's-post-summary--content-title', 's-post-summary--content-excerpt', 's-post-summary--meta', 's-post-summary--meta-tags', 'd-inline-block', 'tags', 'js-tags', 'ml0', 'list-ls-none', 'js-post-tag-list-wrapper', 's-user-card', 's-user-card__minimal', 's-avatar', 's-avatar__16', 's-user-card--avatar', 'gravatar-wrapper-16', 's-avatar--image', 's-user-card--info', 's-user-card--link', 's-user-card--time', 'relativetime']\n"
     ]
    },
    {
     "name": "stderr",
     "output_type": "stream",
     "text": [
      "The chromedriver version (138.0.7204.183) detected in PATH at C:\\chromedriver-win64\\chromedriver.exe might not be compatible with the detected chrome version (139.0.7258.155); currently, chromedriver 139.0.7258.154 is recommended for chrome 139.*, so it is advised to delete the driver in PATH and retry\n",
      "The chromedriver version (138.0.7204.183) detected in PATH at C:\\chromedriver-win64\\chromedriver.exe might not be compatible with the detected chrome version (139.0.7258.155); currently, chromedriver 139.0.7258.154 is recommended for chrome 139.*, so it is advised to delete the driver in PATH and retry\n"
     ]
    },
    {
     "name": "stdout",
     "output_type": "stream",
     "text": [
      "Data-related classes: ['s-post-summary', 'js-post-summary', 's-post-summary--stats', 'js-post-summary-stats', 's-post-summary--stats-item__emphasized', 's-post-summary--content', 's-post-summary--content-title', 's-post-summary--content-excerpt', 's-post-summary--meta', 's-post-summary--meta-tags', 'd-inline-block', 'tags', 'js-tags', 'ml0', 'list-ls-none', 'js-post-tag-list-wrapper', 's-user-card', 's-user-card__minimal', 's-avatar', 's-avatar__16', 's-user-card--avatar', 'gravatar-wrapper-16', 's-avatar--image', 's-user-card--info', 's-user-card--link', 's-user-card--time', 'relativetime']\n"
     ]
    },
    {
     "name": "stderr",
     "output_type": "stream",
     "text": [
      "The chromedriver version (138.0.7204.183) detected in PATH at C:\\chromedriver-win64\\chromedriver.exe might not be compatible with the detected chrome version (139.0.7258.155); currently, chromedriver 139.0.7258.154 is recommended for chrome 139.*, so it is advised to delete the driver in PATH and retry\n"
     ]
    },
    {
     "name": "stdout",
     "output_type": "stream",
     "text": [
      "Data-related classes: ['s-post-summary', 'js-post-summary', 's-post-summary--stats', 'js-post-summary-stats', 's-post-summary--stats-item__emphasized', 's-post-summary--content', 's-post-summary--content-title', 's-post-summary--content-excerpt', 's-post-summary--meta', 's-post-summary--meta-tags', 'd-inline-block', 'tags', 'js-tags', 'ml0', 'list-ls-none', 'js-post-tag-list-wrapper', 's-user-card', 's-user-card__minimal', 's-avatar', 's-avatar__16', 's-user-card--avatar', 'gravatar-wrapper-16', 's-avatar--image', 's-user-card--info', 's-user-card--link', 's-user-card--time', 'relativetime']\n"
     ]
    },
    {
     "name": "stderr",
     "output_type": "stream",
     "text": [
      "The chromedriver version (138.0.7204.183) detected in PATH at C:\\chromedriver-win64\\chromedriver.exe might not be compatible with the detected chrome version (139.0.7258.155); currently, chromedriver 139.0.7258.154 is recommended for chrome 139.*, so it is advised to delete the driver in PATH and retry\n"
     ]
    },
    {
     "name": "stdout",
     "output_type": "stream",
     "text": [
      "Data-related classes: ['s-post-summary', 'js-post-summary', 's-post-summary--stats', 'js-post-summary-stats', 's-post-summary--stats-item__emphasized', 's-post-summary--content', 's-post-summary--content-title', 's-post-summary--content-excerpt', 's-post-summary--meta', 's-post-summary--meta-tags', 'd-inline-block', 'tags', 'js-tags', 'ml0', 'list-ls-none', 'js-post-tag-list-wrapper', 's-user-card', 's-user-card__minimal', 's-avatar', 's-avatar__16', 's-user-card--avatar', 'gravatar-wrapper-16', 's-avatar--image', 's-user-card--info', 's-user-card--link', 's-user-card--time', 'relativetime']\n"
     ]
    },
    {
     "name": "stderr",
     "output_type": "stream",
     "text": [
      "The chromedriver version (138.0.7204.183) detected in PATH at C:\\chromedriver-win64\\chromedriver.exe might not be compatible with the detected chrome version (139.0.7258.155); currently, chromedriver 139.0.7258.154 is recommended for chrome 139.*, so it is advised to delete the driver in PATH and retry\n",
      "The chromedriver version (138.0.7204.183) detected in PATH at C:\\chromedriver-win64\\chromedriver.exe might not be compatible with the detected chrome version (139.0.7258.155); currently, chromedriver 139.0.7258.154 is recommended for chrome 139.*, so it is advised to delete the driver in PATH and retry\n"
     ]
    },
    {
     "name": "stdout",
     "output_type": "stream",
     "text": [
      "Data-related classes: ['s-post-summary', 'js-post-summary', 's-post-summary--stats', 'js-post-summary-stats', 's-post-summary--stats-item__emphasized', 's-post-summary--content', 's-post-summary--content-title', 's-post-summary--content-excerpt', 's-post-summary--meta', 's-post-summary--meta-tags', 'd-inline-block', 'tags', 'js-tags', 'ml0', 'list-ls-none', 'js-post-tag-list-wrapper', 's-user-card', 's-user-card__minimal', 's-avatar', 's-avatar__16', 's-user-card--avatar', 'gravatar-wrapper-16', 's-avatar--image', 's-user-card--info', 's-user-card--link', 's-user-card--time', 'relativetime']\n"
     ]
    },
    {
     "name": "stderr",
     "output_type": "stream",
     "text": [
      "The chromedriver version (138.0.7204.183) detected in PATH at C:\\chromedriver-win64\\chromedriver.exe might not be compatible with the detected chrome version (139.0.7258.155); currently, chromedriver 139.0.7258.154 is recommended for chrome 139.*, so it is advised to delete the driver in PATH and retry\n"
     ]
    },
    {
     "name": "stdout",
     "output_type": "stream",
     "text": [
      "Data-related classes: ['s-post-summary', 'js-post-summary', 's-post-summary--stats', 'js-post-summary-stats', 's-post-summary--stats-item__emphasized', 's-post-summary--content', 's-post-summary--content-title', 's-post-summary--content-excerpt', 's-post-summary--meta', 's-post-summary--meta-tags', 'd-inline-block', 'tags', 'js-tags', 'ml0', 'list-ls-none', 'js-post-tag-list-wrapper', 's-user-card', 's-user-card__minimal', 's-avatar', 's-avatar__16', 's-user-card--avatar', 'gravatar-wrapper-16', 's-avatar--image', 's-user-card--info', 's-user-card--link', 's-user-card--time', 'relativetime']\n"
     ]
    },
    {
     "name": "stderr",
     "output_type": "stream",
     "text": [
      "The chromedriver version (138.0.7204.183) detected in PATH at C:\\chromedriver-win64\\chromedriver.exe might not be compatible with the detected chrome version (139.0.7258.155); currently, chromedriver 139.0.7258.154 is recommended for chrome 139.*, so it is advised to delete the driver in PATH and retry\n",
      "The chromedriver version (138.0.7204.183) detected in PATH at C:\\chromedriver-win64\\chromedriver.exe might not be compatible with the detected chrome version (139.0.7258.155); currently, chromedriver 139.0.7258.154 is recommended for chrome 139.*, so it is advised to delete the driver in PATH and retry\n"
     ]
    },
    {
     "name": "stdout",
     "output_type": "stream",
     "text": [
      "Data-related classes: ['s-post-summary', 'js-post-summary', 's-post-summary--stats', 'js-post-summary-stats', 's-post-summary--stats-item__emphasized', 's-post-summary--content', 's-post-summary--content-title', 's-post-summary--content-excerpt', 's-post-summary--meta', 's-post-summary--meta-tags', 'd-inline-block', 'tags', 'js-tags', 'ml0', 'list-ls-none', 'js-post-tag-list-wrapper', 's-user-card', 's-user-card__minimal', 's-avatar', 's-avatar__16', 's-user-card--avatar', 'gravatar-wrapper-16', 's-avatar--image', 's-user-card--info', 's-user-card--link', 's-user-card--time', 'relativetime']\n"
     ]
    },
    {
     "name": "stderr",
     "output_type": "stream",
     "text": [
      "The chromedriver version (138.0.7204.183) detected in PATH at C:\\chromedriver-win64\\chromedriver.exe might not be compatible with the detected chrome version (139.0.7258.155); currently, chromedriver 139.0.7258.154 is recommended for chrome 139.*, so it is advised to delete the driver in PATH and retry\n",
      "The chromedriver version (138.0.7204.183) detected in PATH at C:\\chromedriver-win64\\chromedriver.exe might not be compatible with the detected chrome version (139.0.7258.155); currently, chromedriver 139.0.7258.154 is recommended for chrome 139.*, so it is advised to delete the driver in PATH and retry\n"
     ]
    },
    {
     "name": "stdout",
     "output_type": "stream",
     "text": [
      "Data-related classes: ['s-post-summary', 'js-post-summary', 's-post-summary--stats', 'js-post-summary-stats', 's-post-summary--stats-item__emphasized', 's-post-summary--content', 's-post-summary--content-title', 's-post-summary--content-excerpt', 's-post-summary--meta', 's-post-summary--meta-tags', 'd-inline-block', 'tags', 'js-tags', 'ml0', 'list-ls-none', 'js-post-tag-list-wrapper', 's-user-card', 's-user-card__minimal', 's-avatar', 's-avatar__16', 's-user-card--avatar', 'gravatar-wrapper-16', 's-avatar--image', 's-user-card--info', 's-user-card--link', 's-user-card--time', 'relativetime']\n"
     ]
    },
    {
     "name": "stderr",
     "output_type": "stream",
     "text": [
      "The chromedriver version (138.0.7204.183) detected in PATH at C:\\chromedriver-win64\\chromedriver.exe might not be compatible with the detected chrome version (139.0.7258.155); currently, chromedriver 139.0.7258.154 is recommended for chrome 139.*, so it is advised to delete the driver in PATH and retry\n"
     ]
    },
    {
     "name": "stdout",
     "output_type": "stream",
     "text": [
      "Data-related classes: ['s-post-summary', 'js-post-summary', 's-post-summary--stats', 'js-post-summary-stats', 's-post-summary--stats-item__emphasized', 's-post-summary--content', 's-post-summary--content-title', 's-post-summary--content-excerpt', 's-post-summary--meta', 's-post-summary--meta-tags', 'd-inline-block', 'tags', 'js-tags', 'ml0', 'list-ls-none', 'js-post-tag-list-wrapper', 's-user-card', 's-user-card__minimal', 's-avatar', 's-avatar__16', 's-user-card--avatar', 'gravatar-wrapper-16', 's-avatar--image', 's-user-card--info', 's-user-card--link', 's-user-card--time', 'relativetime']\n"
     ]
    },
    {
     "name": "stderr",
     "output_type": "stream",
     "text": [
      "The chromedriver version (138.0.7204.183) detected in PATH at C:\\chromedriver-win64\\chromedriver.exe might not be compatible with the detected chrome version (139.0.7258.155); currently, chromedriver 139.0.7258.154 is recommended for chrome 139.*, so it is advised to delete the driver in PATH and retry\n",
      "The chromedriver version (138.0.7204.183) detected in PATH at C:\\chromedriver-win64\\chromedriver.exe might not be compatible with the detected chrome version (139.0.7258.155); currently, chromedriver 139.0.7258.154 is recommended for chrome 139.*, so it is advised to delete the driver in PATH and retry\n"
     ]
    },
    {
     "name": "stdout",
     "output_type": "stream",
     "text": [
      "Data-related classes: ['s-post-summary', 'js-post-summary', 's-post-summary--stats', 'js-post-summary-stats', 's-post-summary--stats-item__emphasized', 's-post-summary--content', 's-post-summary--content-title', 's-post-summary--content-excerpt', 's-post-summary--meta', 's-post-summary--meta-tags', 'd-inline-block', 'tags', 'js-tags', 'ml0', 'list-ls-none', 'js-post-tag-list-wrapper', 's-user-card', 's-user-card__minimal', 's-avatar', 's-avatar__16', 's-user-card--avatar', 'gravatar-wrapper-16', 's-avatar--image', 's-user-card--info', 's-user-card--link', 's-user-card--time', 'relativetime']\n"
     ]
    },
    {
     "name": "stderr",
     "output_type": "stream",
     "text": [
      "The chromedriver version (138.0.7204.183) detected in PATH at C:\\chromedriver-win64\\chromedriver.exe might not be compatible with the detected chrome version (139.0.7258.155); currently, chromedriver 139.0.7258.154 is recommended for chrome 139.*, so it is advised to delete the driver in PATH and retry\n"
     ]
    },
    {
     "name": "stdout",
     "output_type": "stream",
     "text": [
      "Data-related classes: ['s-post-summary', 'js-post-summary', 's-post-summary--stats', 'js-post-summary-stats', 's-post-summary--stats-item__emphasized', 's-post-summary--content', 's-post-summary--content-title', 's-post-summary--content-excerpt', 's-post-summary--meta', 's-post-summary--meta-tags', 'd-inline-block', 'tags', 'js-tags', 'ml0', 'list-ls-none', 'js-post-tag-list-wrapper', 's-user-card', 's-user-card__minimal', 's-avatar', 's-avatar__16', 's-user-card--avatar', 'gravatar-wrapper-16', 's-avatar--image', 's-user-card--info', 's-user-card--link', 's-user-card--time', 'relativetime']\n"
     ]
    },
    {
     "name": "stderr",
     "output_type": "stream",
     "text": [
      "The chromedriver version (138.0.7204.183) detected in PATH at C:\\chromedriver-win64\\chromedriver.exe might not be compatible with the detected chrome version (139.0.7258.155); currently, chromedriver 139.0.7258.154 is recommended for chrome 139.*, so it is advised to delete the driver in PATH and retry\n",
      "The chromedriver version (138.0.7204.183) detected in PATH at C:\\chromedriver-win64\\chromedriver.exe might not be compatible with the detected chrome version (139.0.7258.155); currently, chromedriver 139.0.7258.154 is recommended for chrome 139.*, so it is advised to delete the driver in PATH and retry\n"
     ]
    },
    {
     "name": "stdout",
     "output_type": "stream",
     "text": [
      "Data-related classes: ['s-post-summary', 'js-post-summary', 's-post-summary--stats', 'js-post-summary-stats', 's-post-summary--stats-item__emphasized', 's-post-summary--content', 's-post-summary--content-title', 's-post-summary--content-excerpt', 's-post-summary--meta', 's-post-summary--meta-tags', 'd-inline-block', 'tags', 'js-tags', 'ml0', 'list-ls-none', 'js-post-tag-list-wrapper', 's-user-card', 's-user-card__minimal', 's-avatar', 's-avatar__16', 's-user-card--avatar', 'gravatar-wrapper-16', 's-avatar--image', 's-user-card--info', 's-user-card--link', 's-user-card--time', 'relativetime']\n"
     ]
    },
    {
     "name": "stderr",
     "output_type": "stream",
     "text": [
      "The chromedriver version (138.0.7204.183) detected in PATH at C:\\chromedriver-win64\\chromedriver.exe might not be compatible with the detected chrome version (139.0.7258.155); currently, chromedriver 139.0.7258.154 is recommended for chrome 139.*, so it is advised to delete the driver in PATH and retry\n"
     ]
    },
    {
     "name": "stdout",
     "output_type": "stream",
     "text": [
      "Data-related classes: ['s-post-summary', 'js-post-summary', 's-post-summary--stats', 'js-post-summary-stats', 's-post-summary--stats-item__emphasized', 's-post-summary--content', 's-post-summary--content-title', 's-post-summary--content-excerpt', 's-post-summary--meta', 's-post-summary--meta-tags', 'd-inline-block', 'tags', 'js-tags', 'ml0', 'list-ls-none', 'js-post-tag-list-wrapper', 's-user-card', 's-user-card__minimal', 's-avatar', 's-avatar__16', 's-user-card--avatar', 'gravatar-wrapper-16', 's-avatar--image', 's-user-card--info', 's-user-card--link', 's-user-card--time', 'relativetime']\n"
     ]
    },
    {
     "name": "stderr",
     "output_type": "stream",
     "text": [
      "The chromedriver version (138.0.7204.183) detected in PATH at C:\\chromedriver-win64\\chromedriver.exe might not be compatible with the detected chrome version (139.0.7258.155); currently, chromedriver 139.0.7258.154 is recommended for chrome 139.*, so it is advised to delete the driver in PATH and retry\n"
     ]
    },
    {
     "name": "stdout",
     "output_type": "stream",
     "text": [
      "Data-related classes: ['s-post-summary', 'js-post-summary', 's-post-summary--stats', 'js-post-summary-stats', 's-post-summary--stats-item__emphasized', 's-post-summary--content', 's-post-summary--content-title', 's-post-summary--content-excerpt', 's-post-summary--meta', 's-post-summary--meta-tags', 'd-inline-block', 'tags', 'js-tags', 'ml0', 'list-ls-none', 'js-post-tag-list-wrapper', 's-user-card', 's-user-card__minimal', 's-avatar', 's-avatar__16', 's-user-card--avatar', 'gravatar-wrapper-16', 's-avatar--image', 's-user-card--info', 's-user-card--link', 's-user-card--time', 'relativetime']\n"
     ]
    },
    {
     "name": "stderr",
     "output_type": "stream",
     "text": [
      "The chromedriver version (138.0.7204.183) detected in PATH at C:\\chromedriver-win64\\chromedriver.exe might not be compatible with the detected chrome version (139.0.7258.155); currently, chromedriver 139.0.7258.154 is recommended for chrome 139.*, so it is advised to delete the driver in PATH and retry\n",
      "The chromedriver version (138.0.7204.183) detected in PATH at C:\\chromedriver-win64\\chromedriver.exe might not be compatible with the detected chrome version (139.0.7258.155); currently, chromedriver 139.0.7258.154 is recommended for chrome 139.*, so it is advised to delete the driver in PATH and retry\n"
     ]
    },
    {
     "name": "stdout",
     "output_type": "stream",
     "text": [
      "Data-related classes: ['s-post-summary', 'js-post-summary', 's-post-summary--stats', 'js-post-summary-stats', 's-post-summary--stats-item__emphasized', 's-post-summary--content', 's-post-summary--content-title', 's-post-summary--content-excerpt', 's-post-summary--meta', 's-post-summary--meta-tags', 'd-inline-block', 'tags', 'js-tags', 'ml0', 'list-ls-none', 'js-post-tag-list-wrapper', 's-user-card', 's-user-card__minimal', 's-avatar', 's-avatar__16', 's-user-card--avatar', 'gravatar-wrapper-16', 's-avatar--image', 's-user-card--info', 's-user-card--link', 's-user-card--time', 'relativetime']\n"
     ]
    },
    {
     "name": "stderr",
     "output_type": "stream",
     "text": [
      "The chromedriver version (138.0.7204.183) detected in PATH at C:\\chromedriver-win64\\chromedriver.exe might not be compatible with the detected chrome version (139.0.7258.155); currently, chromedriver 139.0.7258.154 is recommended for chrome 139.*, so it is advised to delete the driver in PATH and retry\n"
     ]
    },
    {
     "name": "stdout",
     "output_type": "stream",
     "text": [
      "Data-related classes: ['s-post-summary', 'js-post-summary', 's-post-summary--stats', 'js-post-summary-stats', 's-post-summary--stats-item__emphasized', 's-post-summary--content', 's-post-summary--content-title', 's-post-summary--content-excerpt', 's-post-summary--meta', 's-post-summary--meta-tags', 'd-inline-block', 'tags', 'js-tags', 'ml0', 'list-ls-none', 'js-post-tag-list-wrapper', 's-user-card', 's-user-card__minimal', 's-avatar', 's-avatar__16', 's-user-card--avatar', 'gravatar-wrapper-16', 's-avatar--image', 's-user-card--info', 's-user-card--link', 's-user-card--time', 'relativetime']\n"
     ]
    },
    {
     "name": "stderr",
     "output_type": "stream",
     "text": [
      "The chromedriver version (138.0.7204.183) detected in PATH at C:\\chromedriver-win64\\chromedriver.exe might not be compatible with the detected chrome version (139.0.7258.155); currently, chromedriver 139.0.7258.154 is recommended for chrome 139.*, so it is advised to delete the driver in PATH and retry\n",
      "The chromedriver version (138.0.7204.183) detected in PATH at C:\\chromedriver-win64\\chromedriver.exe might not be compatible with the detected chrome version (139.0.7258.155); currently, chromedriver 139.0.7258.154 is recommended for chrome 139.*, so it is advised to delete the driver in PATH and retry\n"
     ]
    },
    {
     "name": "stdout",
     "output_type": "stream",
     "text": [
      "Data-related classes: ['s-post-summary', 'js-post-summary', 's-post-summary--stats', 'js-post-summary-stats', 's-post-summary--stats-item__emphasized', 's-post-summary--content', 's-post-summary--content-title', 's-post-summary--content-excerpt', 's-post-summary--meta', 's-post-summary--meta-tags', 'd-inline-block', 'tags', 'js-tags', 'ml0', 'list-ls-none', 'js-post-tag-list-wrapper', 's-user-card', 's-user-card__minimal', 's-avatar', 's-avatar__16', 's-user-card--avatar', 'gravatar-wrapper-16', 's-avatar--image', 's-user-card--info', 's-user-card--link', 's-user-card--time', 'relativetime']\n"
     ]
    },
    {
     "name": "stderr",
     "output_type": "stream",
     "text": [
      "The chromedriver version (138.0.7204.183) detected in PATH at C:\\chromedriver-win64\\chromedriver.exe might not be compatible with the detected chrome version (139.0.7258.155); currently, chromedriver 139.0.7258.154 is recommended for chrome 139.*, so it is advised to delete the driver in PATH and retry\n"
     ]
    },
    {
     "name": "stdout",
     "output_type": "stream",
     "text": [
      "Data-related classes: ['s-post-summary', 'js-post-summary', 's-post-summary--stats', 'js-post-summary-stats', 's-post-summary--stats-item__emphasized', 's-post-summary--content', 's-post-summary--content-title', 's-post-summary--content-excerpt', 's-post-summary--meta', 's-post-summary--meta-tags', 'd-inline-block', 'tags', 'js-tags', 'ml0', 'list-ls-none', 'js-post-tag-list-wrapper', 's-user-card', 's-user-card__minimal', 's-avatar', 's-avatar__16', 's-user-card--avatar', 'gravatar-wrapper-16', 's-avatar--image', 's-user-card--info', 's-user-card--link', 's-user-card--time', 'relativetime']\n"
     ]
    },
    {
     "name": "stderr",
     "output_type": "stream",
     "text": [
      "The chromedriver version (138.0.7204.183) detected in PATH at C:\\chromedriver-win64\\chromedriver.exe might not be compatible with the detected chrome version (139.0.7258.155); currently, chromedriver 139.0.7258.154 is recommended for chrome 139.*, so it is advised to delete the driver in PATH and retry\n"
     ]
    },
    {
     "name": "stdout",
     "output_type": "stream",
     "text": [
      "Data-related classes: ['s-post-summary', 'js-post-summary', 's-post-summary--stats', 'js-post-summary-stats', 's-post-summary--stats-item__emphasized', 's-post-summary--content', 's-post-summary--content-title', 's-post-summary--content-excerpt', 's-post-summary--meta', 's-post-summary--meta-tags', 'd-inline-block', 'tags', 'js-tags', 'ml0', 'list-ls-none', 'js-post-tag-list-wrapper', 's-user-card', 's-user-card__minimal', 's-avatar', 's-avatar__16', 's-user-card--avatar', 'gravatar-wrapper-16', 's-avatar--image', 's-user-card--info', 's-user-card--link', 's-user-card--time', 'relativetime']\n"
     ]
    },
    {
     "name": "stderr",
     "output_type": "stream",
     "text": [
      "The chromedriver version (138.0.7204.183) detected in PATH at C:\\chromedriver-win64\\chromedriver.exe might not be compatible with the detected chrome version (139.0.7258.155); currently, chromedriver 139.0.7258.154 is recommended for chrome 139.*, so it is advised to delete the driver in PATH and retry\n",
      "The chromedriver version (138.0.7204.183) detected in PATH at C:\\chromedriver-win64\\chromedriver.exe might not be compatible with the detected chrome version (139.0.7258.155); currently, chromedriver 139.0.7258.154 is recommended for chrome 139.*, so it is advised to delete the driver in PATH and retry\n"
     ]
    },
    {
     "name": "stdout",
     "output_type": "stream",
     "text": [
      "Data-related classes: ['s-post-summary', 'js-post-summary', 's-post-summary--stats', 'js-post-summary-stats', 's-post-summary--stats-item__emphasized', 's-post-summary--content', 's-post-summary--content-title', 's-post-summary--content-excerpt', 's-post-summary--meta', 's-post-summary--meta-tags', 'd-inline-block', 'tags', 'js-tags', 'ml0', 'list-ls-none', 'js-post-tag-list-wrapper', 's-user-card', 's-user-card__minimal', 's-avatar', 's-avatar__16', 's-user-card--avatar', 'gravatar-wrapper-16', 's-avatar--image', 's-user-card--info', 's-user-card--link', 's-user-card--time', 'relativetime']\n"
     ]
    },
    {
     "name": "stderr",
     "output_type": "stream",
     "text": [
      "The chromedriver version (138.0.7204.183) detected in PATH at C:\\chromedriver-win64\\chromedriver.exe might not be compatible with the detected chrome version (139.0.7258.155); currently, chromedriver 139.0.7258.154 is recommended for chrome 139.*, so it is advised to delete the driver in PATH and retry\n"
     ]
    },
    {
     "name": "stdout",
     "output_type": "stream",
     "text": [
      "Data-related classes: ['s-post-summary', 'js-post-summary', 's-post-summary--stats', 'js-post-summary-stats', 's-post-summary--stats-item__emphasized', 's-post-summary--content', 's-post-summary--content-title', 's-post-summary--content-excerpt', 's-post-summary--meta', 's-post-summary--meta-tags', 'd-inline-block', 'tags', 'js-tags', 'ml0', 'list-ls-none', 'js-post-tag-list-wrapper', 's-user-card', 's-user-card__minimal', 's-avatar', 's-avatar__16', 's-user-card--avatar', 'gravatar-wrapper-16', 's-avatar--image', 's-user-card--info', 's-user-card--link', 's-user-card--time', 'relativetime']\n"
     ]
    },
    {
     "name": "stderr",
     "output_type": "stream",
     "text": [
      "The chromedriver version (138.0.7204.183) detected in PATH at C:\\chromedriver-win64\\chromedriver.exe might not be compatible with the detected chrome version (139.0.7258.155); currently, chromedriver 139.0.7258.154 is recommended for chrome 139.*, so it is advised to delete the driver in PATH and retry\n"
     ]
    },
    {
     "name": "stdout",
     "output_type": "stream",
     "text": [
      "Data-related classes: ['s-post-summary', 'js-post-summary', 's-post-summary--stats', 'js-post-summary-stats', 's-post-summary--stats-item__emphasized', 's-post-summary--content', 's-post-summary--content-title', 's-post-summary--content-excerpt', 's-post-summary--meta', 's-post-summary--meta-tags', 'd-inline-block', 'tags', 'js-tags', 'ml0', 'list-ls-none', 'js-post-tag-list-wrapper', 's-user-card', 's-user-card__minimal', 's-avatar', 's-avatar__16', 's-user-card--avatar', 'gravatar-wrapper-16', 's-avatar--image', 's-user-card--info', 's-user-card--link', 's-user-card--time', 'relativetime']\n"
     ]
    },
    {
     "name": "stderr",
     "output_type": "stream",
     "text": [
      "The chromedriver version (138.0.7204.183) detected in PATH at C:\\chromedriver-win64\\chromedriver.exe might not be compatible with the detected chrome version (139.0.7258.155); currently, chromedriver 139.0.7258.154 is recommended for chrome 139.*, so it is advised to delete the driver in PATH and retry\n",
      "The chromedriver version (138.0.7204.183) detected in PATH at C:\\chromedriver-win64\\chromedriver.exe might not be compatible with the detected chrome version (139.0.7258.155); currently, chromedriver 139.0.7258.154 is recommended for chrome 139.*, so it is advised to delete the driver in PATH and retry\n"
     ]
    },
    {
     "name": "stdout",
     "output_type": "stream",
     "text": [
      "Data-related classes: ['s-post-summary', 'js-post-summary', 's-post-summary--stats', 'js-post-summary-stats', 's-post-summary--stats-item__emphasized', 's-post-summary--content', 's-post-summary--content-title', 's-post-summary--content-excerpt', 's-post-summary--meta', 's-post-summary--meta-tags', 'd-inline-block', 'tags', 'js-tags', 'ml0', 'list-ls-none', 'js-post-tag-list-wrapper', 's-user-card', 's-user-card__minimal', 's-avatar', 's-avatar__16', 's-user-card--avatar', 'gravatar-wrapper-16', 's-avatar--image', 's-user-card--info', 's-user-card--link', 's-user-card--time', 'relativetime']\n"
     ]
    },
    {
     "name": "stderr",
     "output_type": "stream",
     "text": [
      "The chromedriver version (138.0.7204.183) detected in PATH at C:\\chromedriver-win64\\chromedriver.exe might not be compatible with the detected chrome version (139.0.7258.155); currently, chromedriver 139.0.7258.154 is recommended for chrome 139.*, so it is advised to delete the driver in PATH and retry\n",
      "The chromedriver version (138.0.7204.183) detected in PATH at C:\\chromedriver-win64\\chromedriver.exe might not be compatible with the detected chrome version (139.0.7258.155); currently, chromedriver 139.0.7258.154 is recommended for chrome 139.*, so it is advised to delete the driver in PATH and retry\n"
     ]
    },
    {
     "name": "stdout",
     "output_type": "stream",
     "text": [
      "Data-related classes: ['s-post-summary', 'js-post-summary', 's-post-summary--stats', 'js-post-summary-stats', 's-post-summary--stats-item__emphasized', 's-post-summary--content', 's-post-summary--content-title', 's-post-summary--content-excerpt', 's-post-summary--meta', 's-post-summary--meta-tags', 'd-inline-block', 'tags', 'js-tags', 'ml0', 'list-ls-none', 'js-post-tag-list-wrapper', 's-user-card', 's-user-card__minimal', 's-avatar', 's-avatar__16', 's-user-card--avatar', 'gravatar-wrapper-16', 's-avatar--image', 's-user-card--info', 's-user-card--link', 's-user-card--time', 'relativetime']\n"
     ]
    },
    {
     "name": "stderr",
     "output_type": "stream",
     "text": [
      "The chromedriver version (138.0.7204.183) detected in PATH at C:\\chromedriver-win64\\chromedriver.exe might not be compatible with the detected chrome version (139.0.7258.155); currently, chromedriver 139.0.7258.154 is recommended for chrome 139.*, so it is advised to delete the driver in PATH and retry\n",
      "The chromedriver version (138.0.7204.183) detected in PATH at C:\\chromedriver-win64\\chromedriver.exe might not be compatible with the detected chrome version (139.0.7258.155); currently, chromedriver 139.0.7258.154 is recommended for chrome 139.*, so it is advised to delete the driver in PATH and retry\n"
     ]
    },
    {
     "name": "stdout",
     "output_type": "stream",
     "text": [
      "Data-related classes: ['s-post-summary', 'js-post-summary', 's-post-summary--stats', 'js-post-summary-stats', 's-post-summary--stats-item__emphasized', 's-post-summary--content', 's-post-summary--content-title', 's-post-summary--content-excerpt', 's-post-summary--meta', 's-post-summary--meta-tags', 'd-inline-block', 'tags', 'js-tags', 'ml0', 'list-ls-none', 'js-post-tag-list-wrapper', 's-user-card', 's-user-card__minimal', 's-avatar', 's-avatar__16', 's-user-card--avatar', 'gravatar-wrapper-16', 's-avatar--image', 's-user-card--info', 's-user-card--link', 's-user-card--time', 'relativetime']\n"
     ]
    },
    {
     "name": "stderr",
     "output_type": "stream",
     "text": [
      "The chromedriver version (138.0.7204.183) detected in PATH at C:\\chromedriver-win64\\chromedriver.exe might not be compatible with the detected chrome version (139.0.7258.155); currently, chromedriver 139.0.7258.154 is recommended for chrome 139.*, so it is advised to delete the driver in PATH and retry\n",
      "The chromedriver version (138.0.7204.183) detected in PATH at C:\\chromedriver-win64\\chromedriver.exe might not be compatible with the detected chrome version (139.0.7258.155); currently, chromedriver 139.0.7258.154 is recommended for chrome 139.*, so it is advised to delete the driver in PATH and retry\n"
     ]
    },
    {
     "name": "stdout",
     "output_type": "stream",
     "text": [
      "Data-related classes: ['s-post-summary', 'js-post-summary', 's-post-summary--stats', 'js-post-summary-stats', 's-post-summary--stats-item__emphasized', 's-post-summary--content', 's-post-summary--content-title', 's-post-summary--content-excerpt', 's-post-summary--meta', 's-post-summary--meta-tags', 'd-inline-block', 'tags', 'js-tags', 'ml0', 'list-ls-none', 'js-post-tag-list-wrapper', 's-user-card', 's-user-card__minimal', 's-avatar', 's-avatar__16', 's-user-card--avatar', 'gravatar-wrapper-16', 's-avatar--image', 's-user-card--info', 's-user-card--link', 's-user-card--time', 'relativetime']\n"
     ]
    },
    {
     "name": "stderr",
     "output_type": "stream",
     "text": [
      "The chromedriver version (138.0.7204.183) detected in PATH at C:\\chromedriver-win64\\chromedriver.exe might not be compatible with the detected chrome version (139.0.7258.155); currently, chromedriver 139.0.7258.154 is recommended for chrome 139.*, so it is advised to delete the driver in PATH and retry\n"
     ]
    },
    {
     "name": "stdout",
     "output_type": "stream",
     "text": [
      "Data-related classes: ['s-post-summary', 'js-post-summary', 's-post-summary--stats', 'js-post-summary-stats', 's-post-summary--stats-item__emphasized', 's-post-summary--content', 's-post-summary--content-title', 's-post-summary--content-excerpt', 's-post-summary--meta', 's-post-summary--meta-tags', 'd-inline-block', 'tags', 'js-tags', 'ml0', 'list-ls-none', 'js-post-tag-list-wrapper', 's-user-card', 's-user-card__minimal', 's-avatar', 's-avatar__16', 's-user-card--avatar', 'gravatar-wrapper-16', 's-avatar--image', 's-user-card--info', 's-user-card--link', 's-user-card--time', 'relativetime']\n"
     ]
    },
    {
     "name": "stderr",
     "output_type": "stream",
     "text": [
      "The chromedriver version (138.0.7204.183) detected in PATH at C:\\chromedriver-win64\\chromedriver.exe might not be compatible with the detected chrome version (139.0.7258.155); currently, chromedriver 139.0.7258.154 is recommended for chrome 139.*, so it is advised to delete the driver in PATH and retry\n",
      "The chromedriver version (138.0.7204.183) detected in PATH at C:\\chromedriver-win64\\chromedriver.exe might not be compatible with the detected chrome version (139.0.7258.155); currently, chromedriver 139.0.7258.154 is recommended for chrome 139.*, so it is advised to delete the driver in PATH and retry\n"
     ]
    },
    {
     "name": "stdout",
     "output_type": "stream",
     "text": [
      "Data-related classes: ['s-post-summary', 'js-post-summary', 's-post-summary--stats', 'js-post-summary-stats', 's-post-summary--stats-item__emphasized', 's-post-summary--content', 's-post-summary--content-title', 's-post-summary--content-excerpt', 's-post-summary--meta', 's-post-summary--meta-tags', 'd-inline-block', 'tags', 'js-tags', 'ml0', 'list-ls-none', 'js-post-tag-list-wrapper', 's-user-card', 's-user-card__minimal', 's-avatar', 's-avatar__16', 's-user-card--avatar', 'gravatar-wrapper-16', 's-avatar--image', 's-user-card--info', 's-user-card--link', 's-user-card--time', 'relativetime']\n"
     ]
    },
    {
     "name": "stderr",
     "output_type": "stream",
     "text": [
      "The chromedriver version (138.0.7204.183) detected in PATH at C:\\chromedriver-win64\\chromedriver.exe might not be compatible with the detected chrome version (139.0.7258.155); currently, chromedriver 139.0.7258.154 is recommended for chrome 139.*, so it is advised to delete the driver in PATH and retry\n"
     ]
    },
    {
     "name": "stdout",
     "output_type": "stream",
     "text": [
      "Data-related classes: ['s-post-summary', 'js-post-summary', 's-post-summary--stats', 'js-post-summary-stats', 's-post-summary--stats-item__emphasized', 's-post-summary--content', 's-post-summary--content-title', 's-post-summary--content-excerpt', 's-post-summary--meta', 's-post-summary--meta-tags', 'd-inline-block', 'tags', 'js-tags', 'ml0', 'list-ls-none', 'js-post-tag-list-wrapper', 's-user-card', 's-user-card__minimal', 's-avatar', 's-avatar__16', 's-user-card--avatar', 'gravatar-wrapper-16', 's-avatar--image', 's-user-card--info', 's-user-card--link', 's-user-card--time', 'relativetime']\n"
     ]
    },
    {
     "name": "stderr",
     "output_type": "stream",
     "text": [
      "The chromedriver version (138.0.7204.183) detected in PATH at C:\\chromedriver-win64\\chromedriver.exe might not be compatible with the detected chrome version (139.0.7258.155); currently, chromedriver 139.0.7258.154 is recommended for chrome 139.*, so it is advised to delete the driver in PATH and retry\n",
      "The chromedriver version (138.0.7204.183) detected in PATH at C:\\chromedriver-win64\\chromedriver.exe might not be compatible with the detected chrome version (139.0.7258.155); currently, chromedriver 139.0.7258.154 is recommended for chrome 139.*, so it is advised to delete the driver in PATH and retry\n"
     ]
    },
    {
     "name": "stdout",
     "output_type": "stream",
     "text": [
      "Data-related classes: ['s-post-summary', 'js-post-summary', 's-post-summary--stats', 'js-post-summary-stats', 's-post-summary--stats-item__emphasized', 's-post-summary--content', 's-post-summary--content-title', 's-post-summary--content-excerpt', 's-post-summary--meta', 's-post-summary--meta-tags', 'd-inline-block', 'tags', 'js-tags', 'ml0', 'list-ls-none', 'js-post-tag-list-wrapper', 's-user-card', 's-user-card__minimal', 's-avatar', 's-avatar__16', 's-user-card--avatar', 'gravatar-wrapper-16', 's-avatar--image', 's-user-card--info', 's-user-card--link', 's-user-card--time', 'relativetime']\n"
     ]
    },
    {
     "name": "stderr",
     "output_type": "stream",
     "text": [
      "The chromedriver version (138.0.7204.183) detected in PATH at C:\\chromedriver-win64\\chromedriver.exe might not be compatible with the detected chrome version (139.0.7258.155); currently, chromedriver 139.0.7258.154 is recommended for chrome 139.*, so it is advised to delete the driver in PATH and retry\n"
     ]
    },
    {
     "name": "stdout",
     "output_type": "stream",
     "text": [
      "Data-related classes: ['s-post-summary', 'js-post-summary', 's-post-summary--stats', 'js-post-summary-stats', 's-post-summary--stats-item__emphasized', 's-post-summary--content', 's-post-summary--content-title', 's-post-summary--content-excerpt', 's-post-summary--meta', 's-post-summary--meta-tags', 'd-inline-block', 'tags', 'js-tags', 'ml0', 'list-ls-none', 'js-post-tag-list-wrapper', 's-user-card', 's-user-card__minimal', 's-avatar', 's-avatar__16', 's-user-card--avatar', 'gravatar-wrapper-16', 's-avatar--image', 's-user-card--info', 's-user-card--link', 's-user-card--time', 'relativetime']\n"
     ]
    },
    {
     "name": "stderr",
     "output_type": "stream",
     "text": [
      "The chromedriver version (138.0.7204.183) detected in PATH at C:\\chromedriver-win64\\chromedriver.exe might not be compatible with the detected chrome version (139.0.7258.155); currently, chromedriver 139.0.7258.154 is recommended for chrome 139.*, so it is advised to delete the driver in PATH and retry\n",
      "The chromedriver version (138.0.7204.183) detected in PATH at C:\\chromedriver-win64\\chromedriver.exe might not be compatible with the detected chrome version (139.0.7258.155); currently, chromedriver 139.0.7258.154 is recommended for chrome 139.*, so it is advised to delete the driver in PATH and retry\n",
      "The chromedriver version (138.0.7204.183) detected in PATH at C:\\chromedriver-win64\\chromedriver.exe might not be compatible with the detected chrome version (139.0.7258.155); currently, chromedriver 139.0.7258.154 is recommended for chrome 139.*, so it is advised to delete the driver in PATH and retry\n"
     ]
    },
    {
     "name": "stdout",
     "output_type": "stream",
     "text": [
      "Data-related classes: ['s-post-summary', 'js-post-summary', 's-post-summary--stats', 'js-post-summary-stats', 's-post-summary--stats-item__emphasized', 's-post-summary--content', 's-post-summary--content-title', 's-post-summary--content-excerpt', 's-post-summary--meta', 's-post-summary--meta-tags', 'd-inline-block', 'tags', 'js-tags', 'ml0', 'list-ls-none', 'js-post-tag-list-wrapper', 's-user-card', 's-user-card__minimal', 's-avatar', 's-avatar__16', 's-user-card--avatar', 'gravatar-wrapper-16', 's-avatar--image', 's-user-card--info', 's-user-card--link', 's-user-card--time', 'relativetime']\n"
     ]
    },
    {
     "name": "stderr",
     "output_type": "stream",
     "text": [
      "The chromedriver version (138.0.7204.183) detected in PATH at C:\\chromedriver-win64\\chromedriver.exe might not be compatible with the detected chrome version (139.0.7258.155); currently, chromedriver 139.0.7258.154 is recommended for chrome 139.*, so it is advised to delete the driver in PATH and retry\n",
      "The chromedriver version (138.0.7204.183) detected in PATH at C:\\chromedriver-win64\\chromedriver.exe might not be compatible with the detected chrome version (139.0.7258.155); currently, chromedriver 139.0.7258.154 is recommended for chrome 139.*, so it is advised to delete the driver in PATH and retry\n",
      "The chromedriver version (138.0.7204.183) detected in PATH at C:\\chromedriver-win64\\chromedriver.exe might not be compatible with the detected chrome version (139.0.7258.155); currently, chromedriver 139.0.7258.154 is recommended for chrome 139.*, so it is advised to delete the driver in PATH and retry\n"
     ]
    },
    {
     "name": "stdout",
     "output_type": "stream",
     "text": [
      "Data-related classes: ['s-post-summary', 'js-post-summary', 's-post-summary--stats', 'js-post-summary-stats', 's-post-summary--stats-item__emphasized', 's-post-summary--content', 's-post-summary--content-title', 's-post-summary--content-excerpt', 's-post-summary--meta', 's-post-summary--meta-tags', 'd-inline-block', 'tags', 'js-tags', 'ml0', 'list-ls-none', 'js-post-tag-list-wrapper', 's-user-card', 's-user-card__minimal', 's-avatar', 's-avatar__16', 's-user-card--avatar', 'gravatar-wrapper-16', 's-avatar--image', 's-user-card--info', 's-user-card--link', 's-user-card--time', 'relativetime']\n"
     ]
    },
    {
     "name": "stderr",
     "output_type": "stream",
     "text": [
      "The chromedriver version (138.0.7204.183) detected in PATH at C:\\chromedriver-win64\\chromedriver.exe might not be compatible with the detected chrome version (139.0.7258.155); currently, chromedriver 139.0.7258.154 is recommended for chrome 139.*, so it is advised to delete the driver in PATH and retry\n",
      "The chromedriver version (138.0.7204.183) detected in PATH at C:\\chromedriver-win64\\chromedriver.exe might not be compatible with the detected chrome version (139.0.7258.155); currently, chromedriver 139.0.7258.154 is recommended for chrome 139.*, so it is advised to delete the driver in PATH and retry\n",
      "The chromedriver version (138.0.7204.183) detected in PATH at C:\\chromedriver-win64\\chromedriver.exe might not be compatible with the detected chrome version (139.0.7258.155); currently, chromedriver 139.0.7258.154 is recommended for chrome 139.*, so it is advised to delete the driver in PATH and retry\n",
      "The chromedriver version (138.0.7204.183) detected in PATH at C:\\chromedriver-win64\\chromedriver.exe might not be compatible with the detected chrome version (139.0.7258.155); currently, chromedriver 139.0.7258.154 is recommended for chrome 139.*, so it is advised to delete the driver in PATH and retry\n"
     ]
    },
    {
     "name": "stdout",
     "output_type": "stream",
     "text": [
      "Data-related classes: ['s-post-summary', 'js-post-summary', 's-post-summary--stats', 'js-post-summary-stats', 's-post-summary--stats-item__emphasized', 's-post-summary--content', 's-post-summary--content-title', 's-post-summary--content-excerpt', 's-post-summary--meta', 's-post-summary--meta-tags', 'd-inline-block', 'tags', 'js-tags', 'ml0', 'list-ls-none', 'js-post-tag-list-wrapper', 's-user-card', 's-user-card__minimal', 's-avatar', 's-avatar__16', 's-user-card--avatar', 'gravatar-wrapper-16', 's-avatar--image', 's-user-card--info', 's-user-card--link', 's-user-card--time', 'relativetime']\n"
     ]
    },
    {
     "name": "stderr",
     "output_type": "stream",
     "text": [
      "The chromedriver version (138.0.7204.183) detected in PATH at C:\\chromedriver-win64\\chromedriver.exe might not be compatible with the detected chrome version (139.0.7258.155); currently, chromedriver 139.0.7258.154 is recommended for chrome 139.*, so it is advised to delete the driver in PATH and retry\n"
     ]
    },
    {
     "name": "stdout",
     "output_type": "stream",
     "text": [
      "Data-related classes: ['s-post-summary', 'js-post-summary', 's-post-summary--stats', 'js-post-summary-stats', 's-post-summary--stats-item__emphasized', 's-post-summary--content', 's-post-summary--content-title', 's-post-summary--content-excerpt', 's-post-summary--meta', 's-post-summary--meta-tags', 'd-inline-block', 'tags', 'js-tags', 'ml0', 'list-ls-none', 'js-post-tag-list-wrapper', 's-user-card', 's-user-card__minimal', 's-avatar', 's-avatar__16', 's-user-card--avatar', 'gravatar-wrapper-16', 's-avatar--image', 's-user-card--info', 's-user-card--link', 's-user-card--time', 'relativetime']\n"
     ]
    },
    {
     "name": "stderr",
     "output_type": "stream",
     "text": [
      "The chromedriver version (138.0.7204.183) detected in PATH at C:\\chromedriver-win64\\chromedriver.exe might not be compatible with the detected chrome version (139.0.7258.155); currently, chromedriver 139.0.7258.154 is recommended for chrome 139.*, so it is advised to delete the driver in PATH and retry\n",
      "The chromedriver version (138.0.7204.183) detected in PATH at C:\\chromedriver-win64\\chromedriver.exe might not be compatible with the detected chrome version (139.0.7258.155); currently, chromedriver 139.0.7258.154 is recommended for chrome 139.*, so it is advised to delete the driver in PATH and retry\n"
     ]
    },
    {
     "name": "stdout",
     "output_type": "stream",
     "text": [
      "Data-related classes: ['s-post-summary', 'js-post-summary', 's-post-summary--stats', 'js-post-summary-stats', 's-post-summary--stats-item__emphasized', 's-post-summary--content', 's-post-summary--content-title', 's-post-summary--content-excerpt', 's-post-summary--meta', 's-post-summary--meta-tags', 'd-inline-block', 'tags', 'js-tags', 'ml0', 'list-ls-none', 'js-post-tag-list-wrapper', 's-user-card', 's-user-card__minimal', 's-avatar', 's-avatar__16', 's-user-card--avatar', 'gravatar-wrapper-16', 's-avatar--image', 's-user-card--info', 's-user-card--link', 's-user-card--time', 'relativetime']\n"
     ]
    },
    {
     "name": "stderr",
     "output_type": "stream",
     "text": [
      "The chromedriver version (138.0.7204.183) detected in PATH at C:\\chromedriver-win64\\chromedriver.exe might not be compatible with the detected chrome version (139.0.7258.155); currently, chromedriver 139.0.7258.154 is recommended for chrome 139.*, so it is advised to delete the driver in PATH and retry\n",
      "The chromedriver version (138.0.7204.183) detected in PATH at C:\\chromedriver-win64\\chromedriver.exe might not be compatible with the detected chrome version (139.0.7258.155); currently, chromedriver 139.0.7258.154 is recommended for chrome 139.*, so it is advised to delete the driver in PATH and retry\n"
     ]
    },
    {
     "name": "stdout",
     "output_type": "stream",
     "text": [
      "Data-related classes: ['s-post-summary', 'js-post-summary', 's-post-summary--stats', 'js-post-summary-stats', 's-post-summary--stats-item__emphasized', 's-post-summary--content', 's-post-summary--content-title', 's-post-summary--content-excerpt', 's-post-summary--meta', 's-post-summary--meta-tags', 'd-inline-block', 'tags', 'js-tags', 'ml0', 'list-ls-none', 'js-post-tag-list-wrapper', 's-user-card', 's-user-card__minimal', 's-avatar', 's-avatar__16', 's-user-card--avatar', 'gravatar-wrapper-16', 's-avatar--image', 's-user-card--info', 's-user-card--link', 's-user-card--time', 'relativetime']\n"
     ]
    },
    {
     "name": "stderr",
     "output_type": "stream",
     "text": [
      "The chromedriver version (138.0.7204.183) detected in PATH at C:\\chromedriver-win64\\chromedriver.exe might not be compatible with the detected chrome version (139.0.7258.155); currently, chromedriver 139.0.7258.154 is recommended for chrome 139.*, so it is advised to delete the driver in PATH and retry\n",
      "The chromedriver version (138.0.7204.183) detected in PATH at C:\\chromedriver-win64\\chromedriver.exe might not be compatible with the detected chrome version (139.0.7258.155); currently, chromedriver 139.0.7258.154 is recommended for chrome 139.*, so it is advised to delete the driver in PATH and retry\n"
     ]
    },
    {
     "name": "stdout",
     "output_type": "stream",
     "text": [
      "Data-related classes: ['s-post-summary', 'js-post-summary', 's-post-summary--stats', 'js-post-summary-stats', 's-post-summary--stats-item__emphasized', 's-post-summary--content', 's-post-summary--content-title', 's-post-summary--content-excerpt', 's-post-summary--meta', 's-post-summary--meta-tags', 'd-inline-block', 'tags', 'js-tags', 'ml0', 'list-ls-none', 'js-post-tag-list-wrapper', 's-user-card', 's-user-card__minimal', 's-avatar', 's-avatar__16', 's-user-card--avatar', 'gravatar-wrapper-16', 's-avatar--image', 's-user-card--info', 's-user-card--link', 's-user-card--time', 'relativetime']\n"
     ]
    },
    {
     "name": "stderr",
     "output_type": "stream",
     "text": [
      "The chromedriver version (138.0.7204.183) detected in PATH at C:\\chromedriver-win64\\chromedriver.exe might not be compatible with the detected chrome version (139.0.7258.155); currently, chromedriver 139.0.7258.154 is recommended for chrome 139.*, so it is advised to delete the driver in PATH and retry\n",
      "The chromedriver version (138.0.7204.183) detected in PATH at C:\\chromedriver-win64\\chromedriver.exe might not be compatible with the detected chrome version (139.0.7258.155); currently, chromedriver 139.0.7258.154 is recommended for chrome 139.*, so it is advised to delete the driver in PATH and retry\n"
     ]
    },
    {
     "name": "stdout",
     "output_type": "stream",
     "text": [
      "Data-related classes: ['s-post-summary', 'js-post-summary', 's-post-summary--stats', 'js-post-summary-stats', 's-post-summary--stats-item__emphasized', 's-post-summary--content', 's-post-summary--content-title', 's-post-summary--content-excerpt', 's-post-summary--meta', 's-post-summary--meta-tags', 'd-inline-block', 'tags', 'js-tags', 'ml0', 'list-ls-none', 'js-post-tag-list-wrapper', 's-user-card', 's-user-card__minimal', 's-avatar', 's-avatar__16', 's-user-card--avatar', 'gravatar-wrapper-16', 's-avatar--image', 's-user-card--info', 's-user-card--link', 's-user-card--time', 'relativetime']\n"
     ]
    },
    {
     "name": "stderr",
     "output_type": "stream",
     "text": [
      "The chromedriver version (138.0.7204.183) detected in PATH at C:\\chromedriver-win64\\chromedriver.exe might not be compatible with the detected chrome version (139.0.7258.155); currently, chromedriver 139.0.7258.154 is recommended for chrome 139.*, so it is advised to delete the driver in PATH and retry\n"
     ]
    },
    {
     "name": "stdout",
     "output_type": "stream",
     "text": [
      "Data-related classes: ['s-post-summary', 'js-post-summary', 's-post-summary--stats', 'js-post-summary-stats', 's-post-summary--stats-item__emphasized', 's-post-summary--content', 's-post-summary--content-title', 's-post-summary--content-excerpt', 's-post-summary--meta', 's-post-summary--meta-tags', 'd-inline-block', 'tags', 'js-tags', 'ml0', 'list-ls-none', 'js-post-tag-list-wrapper', 's-user-card', 's-user-card__minimal', 's-avatar', 's-avatar__16', 's-user-card--avatar', 'gravatar-wrapper-16', 's-avatar--image', 's-user-card--info', 's-user-card--link', 's-user-card--time', 'relativetime']\n"
     ]
    },
    {
     "name": "stderr",
     "output_type": "stream",
     "text": [
      "The chromedriver version (138.0.7204.183) detected in PATH at C:\\chromedriver-win64\\chromedriver.exe might not be compatible with the detected chrome version (139.0.7258.155); currently, chromedriver 139.0.7258.154 is recommended for chrome 139.*, so it is advised to delete the driver in PATH and retry\n",
      "The chromedriver version (138.0.7204.183) detected in PATH at C:\\chromedriver-win64\\chromedriver.exe might not be compatible with the detected chrome version (139.0.7258.155); currently, chromedriver 139.0.7258.154 is recommended for chrome 139.*, so it is advised to delete the driver in PATH and retry\n",
      "The chromedriver version (138.0.7204.183) detected in PATH at C:\\chromedriver-win64\\chromedriver.exe might not be compatible with the detected chrome version (139.0.7258.155); currently, chromedriver 139.0.7258.154 is recommended for chrome 139.*, so it is advised to delete the driver in PATH and retry\n",
      "The chromedriver version (138.0.7204.183) detected in PATH at C:\\chromedriver-win64\\chromedriver.exe might not be compatible with the detected chrome version (139.0.7258.155); currently, chromedriver 139.0.7258.154 is recommended for chrome 139.*, so it is advised to delete the driver in PATH and retry\n"
     ]
    },
    {
     "name": "stdout",
     "output_type": "stream",
     "text": [
      "Data-related classes: ['s-post-summary', 'js-post-summary', 's-post-summary--stats', 'js-post-summary-stats', 's-post-summary--stats-item__emphasized', 's-post-summary--content', 's-post-summary--content-title', 's-post-summary--content-excerpt', 's-post-summary--meta', 's-post-summary--meta-tags', 'd-inline-block', 'tags', 'js-tags', 'ml0', 'list-ls-none', 'js-post-tag-list-wrapper', 's-user-card', 's-user-card__minimal', 's-avatar', 's-avatar__16', 's-user-card--avatar', 'gravatar-wrapper-16', 's-avatar--image', 's-user-card--info', 's-user-card--link', 's-user-card--time', 'relativetime']\n"
     ]
    },
    {
     "name": "stderr",
     "output_type": "stream",
     "text": [
      "The chromedriver version (138.0.7204.183) detected in PATH at C:\\chromedriver-win64\\chromedriver.exe might not be compatible with the detected chrome version (139.0.7258.155); currently, chromedriver 139.0.7258.154 is recommended for chrome 139.*, so it is advised to delete the driver in PATH and retry\n",
      "The chromedriver version (138.0.7204.183) detected in PATH at C:\\chromedriver-win64\\chromedriver.exe might not be compatible with the detected chrome version (139.0.7258.155); currently, chromedriver 139.0.7258.154 is recommended for chrome 139.*, so it is advised to delete the driver in PATH and retry\n"
     ]
    },
    {
     "name": "stdout",
     "output_type": "stream",
     "text": [
      "Data-related classes: ['s-post-summary', 'js-post-summary', 's-post-summary--stats', 'js-post-summary-stats', 's-post-summary--stats-item__emphasized', 's-post-summary--content', 's-post-summary--content-title', 's-post-summary--content-excerpt', 's-post-summary--meta', 's-post-summary--meta-tags', 'd-inline-block', 'tags', 'js-tags', 'ml0', 'list-ls-none', 'js-post-tag-list-wrapper', 's-user-card', 's-user-card__minimal', 's-avatar', 's-avatar__16', 's-user-card--avatar', 'gravatar-wrapper-16', 's-avatar--image', 's-user-card--info', 's-user-card--link', 's-user-card--time', 'relativetime']\n"
     ]
    },
    {
     "name": "stderr",
     "output_type": "stream",
     "text": [
      "The chromedriver version (138.0.7204.183) detected in PATH at C:\\chromedriver-win64\\chromedriver.exe might not be compatible with the detected chrome version (139.0.7258.155); currently, chromedriver 139.0.7258.154 is recommended for chrome 139.*, so it is advised to delete the driver in PATH and retry\n",
      "The chromedriver version (138.0.7204.183) detected in PATH at C:\\chromedriver-win64\\chromedriver.exe might not be compatible with the detected chrome version (139.0.7258.155); currently, chromedriver 139.0.7258.154 is recommended for chrome 139.*, so it is advised to delete the driver in PATH and retry\n"
     ]
    },
    {
     "name": "stdout",
     "output_type": "stream",
     "text": [
      "Data-related classes: ['s-post-summary', 'js-post-summary', 's-post-summary--stats', 'js-post-summary-stats', 's-post-summary--stats-item__emphasized', 's-post-summary--content', 's-post-summary--content-title', 's-post-summary--content-excerpt', 's-post-summary--meta', 's-post-summary--meta-tags', 'd-inline-block', 'tags', 'js-tags', 'ml0', 'list-ls-none', 'js-post-tag-list-wrapper', 's-user-card', 's-user-card__minimal', 's-avatar', 's-avatar__16', 's-user-card--avatar', 'gravatar-wrapper-16', 's-avatar--image', 's-user-card--info', 's-user-card--link', 's-user-card--time', 'relativetime']\n"
     ]
    },
    {
     "name": "stderr",
     "output_type": "stream",
     "text": [
      "The chromedriver version (138.0.7204.183) detected in PATH at C:\\chromedriver-win64\\chromedriver.exe might not be compatible with the detected chrome version (139.0.7258.155); currently, chromedriver 139.0.7258.154 is recommended for chrome 139.*, so it is advised to delete the driver in PATH and retry\n",
      "The chromedriver version (138.0.7204.183) detected in PATH at C:\\chromedriver-win64\\chromedriver.exe might not be compatible with the detected chrome version (139.0.7258.155); currently, chromedriver 139.0.7258.154 is recommended for chrome 139.*, so it is advised to delete the driver in PATH and retry\n"
     ]
    },
    {
     "name": "stdout",
     "output_type": "stream",
     "text": [
      "Data-related classes: ['s-post-summary', 'js-post-summary', 's-post-summary--stats', 'js-post-summary-stats', 's-post-summary--stats-item__emphasized', 's-post-summary--content', 's-post-summary--content-title', 's-post-summary--content-excerpt', 's-post-summary--meta', 's-post-summary--meta-tags', 'd-inline-block', 'tags', 'js-tags', 'ml0', 'list-ls-none', 'js-post-tag-list-wrapper', 's-user-card', 's-user-card__minimal', 's-avatar', 's-avatar__16', 's-user-card--avatar', 'gravatar-wrapper-16', 's-avatar--image', 's-user-card--info', 's-user-card--link', 's-user-card--time', 'relativetime']\n"
     ]
    },
    {
     "name": "stderr",
     "output_type": "stream",
     "text": [
      "The chromedriver version (138.0.7204.183) detected in PATH at C:\\chromedriver-win64\\chromedriver.exe might not be compatible with the detected chrome version (139.0.7258.155); currently, chromedriver 139.0.7258.154 is recommended for chrome 139.*, so it is advised to delete the driver in PATH and retry\n"
     ]
    },
    {
     "name": "stdout",
     "output_type": "stream",
     "text": [
      "Data-related classes: ['s-post-summary', 'js-post-summary', 's-post-summary--stats', 'js-post-summary-stats', 's-post-summary--stats-item__emphasized', 's-post-summary--content', 's-post-summary--content-title', 's-post-summary--content-excerpt', 's-post-summary--meta', 's-post-summary--meta-tags', 'd-inline-block', 'tags', 'js-tags', 'ml0', 'list-ls-none', 'js-post-tag-list-wrapper', 's-user-card', 's-user-card__minimal', 's-avatar', 's-avatar__16', 's-user-card--avatar', 'gravatar-wrapper-16', 's-avatar--image', 's-user-card--info', 's-user-card--link', 's-user-card--time', 'relativetime']\n"
     ]
    },
    {
     "name": "stderr",
     "output_type": "stream",
     "text": [
      "The chromedriver version (138.0.7204.183) detected in PATH at C:\\chromedriver-win64\\chromedriver.exe might not be compatible with the detected chrome version (139.0.7258.155); currently, chromedriver 139.0.7258.154 is recommended for chrome 139.*, so it is advised to delete the driver in PATH and retry\n",
      "The chromedriver version (138.0.7204.183) detected in PATH at C:\\chromedriver-win64\\chromedriver.exe might not be compatible with the detected chrome version (139.0.7258.155); currently, chromedriver 139.0.7258.154 is recommended for chrome 139.*, so it is advised to delete the driver in PATH and retry\n"
     ]
    },
    {
     "name": "stdout",
     "output_type": "stream",
     "text": [
      "Data-related classes: ['s-post-summary', 'js-post-summary', 's-post-summary--stats', 'js-post-summary-stats', 's-post-summary--stats-item__emphasized', 's-post-summary--content', 's-post-summary--content-title', 's-post-summary--content-excerpt', 's-post-summary--meta', 's-post-summary--meta-tags', 'd-inline-block', 'tags', 'js-tags', 'ml0', 'list-ls-none', 'js-post-tag-list-wrapper', 's-user-card', 's-user-card__minimal', 's-avatar', 's-avatar__16', 's-user-card--avatar', 'gravatar-wrapper-16', 's-avatar--image', 's-user-card--info', 's-user-card--link', 's-user-card--time', 'relativetime']\n"
     ]
    },
    {
     "name": "stderr",
     "output_type": "stream",
     "text": [
      "The chromedriver version (138.0.7204.183) detected in PATH at C:\\chromedriver-win64\\chromedriver.exe might not be compatible with the detected chrome version (139.0.7258.155); currently, chromedriver 139.0.7258.154 is recommended for chrome 139.*, so it is advised to delete the driver in PATH and retry\n",
      "The chromedriver version (138.0.7204.183) detected in PATH at C:\\chromedriver-win64\\chromedriver.exe might not be compatible with the detected chrome version (139.0.7258.155); currently, chromedriver 139.0.7258.154 is recommended for chrome 139.*, so it is advised to delete the driver in PATH and retry\n",
      "The chromedriver version (138.0.7204.183) detected in PATH at C:\\chromedriver-win64\\chromedriver.exe might not be compatible with the detected chrome version (139.0.7258.155); currently, chromedriver 139.0.7258.154 is recommended for chrome 139.*, so it is advised to delete the driver in PATH and retry\n"
     ]
    },
    {
     "name": "stdout",
     "output_type": "stream",
     "text": [
      "Data-related classes: ['s-post-summary', 'js-post-summary', 's-post-summary--stats', 'js-post-summary-stats', 's-post-summary--stats-item__emphasized', 's-post-summary--content', 's-post-summary--content-title', 's-post-summary--content-excerpt', 's-post-summary--meta', 's-post-summary--meta-tags', 'd-inline-block', 'tags', 'js-tags', 'ml0', 'list-ls-none', 'js-post-tag-list-wrapper', 's-user-card', 's-user-card__minimal', 's-avatar', 's-avatar__16', 's-user-card--avatar', 'gravatar-wrapper-16', 's-avatar--image', 's-user-card--info', 's-user-card--link', 's-user-card--time', 'relativetime']\n"
     ]
    },
    {
     "name": "stderr",
     "output_type": "stream",
     "text": [
      "The chromedriver version (138.0.7204.183) detected in PATH at C:\\chromedriver-win64\\chromedriver.exe might not be compatible with the detected chrome version (139.0.7258.155); currently, chromedriver 139.0.7258.154 is recommended for chrome 139.*, so it is advised to delete the driver in PATH and retry\n"
     ]
    },
    {
     "name": "stdout",
     "output_type": "stream",
     "text": [
      "Data-related classes: ['s-post-summary', 'js-post-summary', 's-post-summary--stats', 'js-post-summary-stats', 's-post-summary--stats-item__emphasized', 's-post-summary--content', 's-post-summary--content-title', 's-post-summary--content-excerpt', 's-post-summary--meta', 's-post-summary--meta-tags', 'd-inline-block', 'tags', 'js-tags', 'ml0', 'list-ls-none', 'js-post-tag-list-wrapper', 's-user-card', 's-user-card__minimal', 's-avatar', 's-avatar__16', 's-user-card--avatar', 'gravatar-wrapper-16', 's-avatar--image', 's-user-card--info', 's-user-card--link', 's-user-card--time', 'relativetime']\n"
     ]
    },
    {
     "name": "stderr",
     "output_type": "stream",
     "text": [
      "The chromedriver version (138.0.7204.183) detected in PATH at C:\\chromedriver-win64\\chromedriver.exe might not be compatible with the detected chrome version (139.0.7258.155); currently, chromedriver 139.0.7258.154 is recommended for chrome 139.*, so it is advised to delete the driver in PATH and retry\n"
     ]
    },
    {
     "name": "stdout",
     "output_type": "stream",
     "text": [
      "Data-related classes: ['s-post-summary', 'js-post-summary', 's-post-summary--stats', 'js-post-summary-stats', 's-post-summary--stats-item__emphasized', 's-post-summary--content', 's-post-summary--content-title', 's-post-summary--content-excerpt', 's-post-summary--meta', 's-post-summary--meta-tags', 'd-inline-block', 'tags', 'js-tags', 'ml0', 'list-ls-none', 'js-post-tag-list-wrapper', 's-user-card', 's-user-card__minimal', 's-avatar', 's-avatar__16', 's-user-card--avatar', 'gravatar-wrapper-16', 's-avatar--image', 's-user-card--info', 's-user-card--link', 's-user-card--time', 'relativetime']\n"
     ]
    },
    {
     "name": "stderr",
     "output_type": "stream",
     "text": [
      "The chromedriver version (138.0.7204.183) detected in PATH at C:\\chromedriver-win64\\chromedriver.exe might not be compatible with the detected chrome version (139.0.7258.155); currently, chromedriver 139.0.7258.154 is recommended for chrome 139.*, so it is advised to delete the driver in PATH and retry\n",
      "The chromedriver version (138.0.7204.183) detected in PATH at C:\\chromedriver-win64\\chromedriver.exe might not be compatible with the detected chrome version (139.0.7258.155); currently, chromedriver 139.0.7258.154 is recommended for chrome 139.*, so it is advised to delete the driver in PATH and retry\n",
      "The chromedriver version (138.0.7204.183) detected in PATH at C:\\chromedriver-win64\\chromedriver.exe might not be compatible with the detected chrome version (139.0.7258.155); currently, chromedriver 139.0.7258.154 is recommended for chrome 139.*, so it is advised to delete the driver in PATH and retry\n"
     ]
    },
    {
     "name": "stdout",
     "output_type": "stream",
     "text": [
      "Data-related classes: ['s-post-summary', 'js-post-summary', 's-post-summary--stats', 'js-post-summary-stats', 's-post-summary--stats-item__emphasized', 's-post-summary--content', 's-post-summary--content-title', 's-post-summary--content-excerpt', 's-post-summary--meta', 's-post-summary--meta-tags', 'd-inline-block', 'tags', 'js-tags', 'ml0', 'list-ls-none', 'js-post-tag-list-wrapper', 's-user-card', 's-user-card__minimal', 's-avatar', 's-avatar__16', 's-user-card--avatar', 'gravatar-wrapper-16', 's-avatar--image', 's-user-card--info', 's-user-card--link', 's-user-card--time', 'relativetime']\n"
     ]
    },
    {
     "name": "stderr",
     "output_type": "stream",
     "text": [
      "The chromedriver version (138.0.7204.183) detected in PATH at C:\\chromedriver-win64\\chromedriver.exe might not be compatible with the detected chrome version (139.0.7258.155); currently, chromedriver 139.0.7258.154 is recommended for chrome 139.*, so it is advised to delete the driver in PATH and retry\n"
     ]
    },
    {
     "name": "stdout",
     "output_type": "stream",
     "text": [
      "Data-related classes: ['s-post-summary', 'js-post-summary', 's-post-summary--stats', 'js-post-summary-stats', 's-post-summary--stats-item__emphasized', 's-post-summary--content', 's-post-summary--content-title', 's-post-summary--content-excerpt', 's-post-summary--meta', 's-post-summary--meta-tags', 'd-inline-block', 'tags', 'js-tags', 'ml0', 'list-ls-none', 'js-post-tag-list-wrapper', 's-user-card', 's-user-card__minimal', 's-avatar', 's-avatar__16', 's-user-card--avatar', 'gravatar-wrapper-16', 's-avatar--image', 's-user-card--info', 's-user-card--link', 's-user-card--time', 'relativetime']\n"
     ]
    },
    {
     "name": "stderr",
     "output_type": "stream",
     "text": [
      "The chromedriver version (138.0.7204.183) detected in PATH at C:\\chromedriver-win64\\chromedriver.exe might not be compatible with the detected chrome version (139.0.7258.155); currently, chromedriver 139.0.7258.154 is recommended for chrome 139.*, so it is advised to delete the driver in PATH and retry\n",
      "The chromedriver version (138.0.7204.183) detected in PATH at C:\\chromedriver-win64\\chromedriver.exe might not be compatible with the detected chrome version (139.0.7258.155); currently, chromedriver 139.0.7258.154 is recommended for chrome 139.*, so it is advised to delete the driver in PATH and retry\n"
     ]
    },
    {
     "name": "stdout",
     "output_type": "stream",
     "text": [
      "Data-related classes: ['s-post-summary', 'js-post-summary', 's-post-summary--stats', 'js-post-summary-stats', 's-post-summary--stats-item__emphasized', 's-post-summary--content', 's-post-summary--content-title', 's-post-summary--content-excerpt', 's-post-summary--meta', 's-post-summary--meta-tags', 'd-inline-block', 'tags', 'js-tags', 'ml0', 'list-ls-none', 'js-post-tag-list-wrapper', 's-user-card', 's-user-card__minimal', 's-avatar', 's-avatar__16', 's-user-card--avatar', 'gravatar-wrapper-16', 's-avatar--image', 's-user-card--info', 's-user-card--link', 's-user-card--time', 'relativetime']\n"
     ]
    },
    {
     "name": "stderr",
     "output_type": "stream",
     "text": [
      "The chromedriver version (138.0.7204.183) detected in PATH at C:\\chromedriver-win64\\chromedriver.exe might not be compatible with the detected chrome version (139.0.7258.155); currently, chromedriver 139.0.7258.154 is recommended for chrome 139.*, so it is advised to delete the driver in PATH and retry\n"
     ]
    },
    {
     "name": "stdout",
     "output_type": "stream",
     "text": [
      "Data-related classes: ['s-post-summary', 'js-post-summary', 's-post-summary--stats', 'js-post-summary-stats', 's-post-summary--stats-item__emphasized', 's-post-summary--content', 's-post-summary--content-title', 's-post-summary--content-excerpt', 's-post-summary--meta', 's-post-summary--meta-tags', 'd-inline-block', 'tags', 'js-tags', 'ml0', 'list-ls-none', 'js-post-tag-list-wrapper', 's-user-card', 's-user-card__minimal', 's-avatar', 's-avatar__16', 's-user-card--avatar', 'gravatar-wrapper-16', 's-avatar--image', 's-user-card--info', 's-user-card--link', 's-user-card--time', 'relativetime']\n"
     ]
    },
    {
     "name": "stderr",
     "output_type": "stream",
     "text": [
      "The chromedriver version (138.0.7204.183) detected in PATH at C:\\chromedriver-win64\\chromedriver.exe might not be compatible with the detected chrome version (139.0.7258.155); currently, chromedriver 139.0.7258.154 is recommended for chrome 139.*, so it is advised to delete the driver in PATH and retry\n"
     ]
    },
    {
     "name": "stdout",
     "output_type": "stream",
     "text": [
      "Data-related classes: ['s-post-summary', 'js-post-summary', 's-post-summary--stats', 'js-post-summary-stats', 's-post-summary--stats-item__emphasized', 's-post-summary--content', 's-post-summary--content-title', 's-post-summary--content-excerpt', 's-post-summary--meta', 's-post-summary--meta-tags', 'd-inline-block', 'tags', 'js-tags', 'ml0', 'list-ls-none', 'js-post-tag-list-wrapper', 's-user-card', 's-user-card__minimal', 's-avatar', 's-avatar__16', 's-user-card--avatar', 'gravatar-wrapper-16', 's-avatar--image', 's-user-card--info', 's-user-card--link', 's-user-card--time', 'relativetime']\n"
     ]
    },
    {
     "name": "stderr",
     "output_type": "stream",
     "text": [
      "The chromedriver version (138.0.7204.183) detected in PATH at C:\\chromedriver-win64\\chromedriver.exe might not be compatible with the detected chrome version (139.0.7258.155); currently, chromedriver 139.0.7258.154 is recommended for chrome 139.*, so it is advised to delete the driver in PATH and retry\n",
      "The chromedriver version (138.0.7204.183) detected in PATH at C:\\chromedriver-win64\\chromedriver.exe might not be compatible with the detected chrome version (139.0.7258.155); currently, chromedriver 139.0.7258.154 is recommended for chrome 139.*, so it is advised to delete the driver in PATH and retry\n"
     ]
    },
    {
     "name": "stdout",
     "output_type": "stream",
     "text": [
      "Data-related classes: ['s-post-summary', 'js-post-summary', 's-post-summary--stats', 'js-post-summary-stats', 's-post-summary--stats-item__emphasized', 's-post-summary--content', 's-post-summary--content-title', 's-post-summary--content-excerpt', 's-post-summary--meta', 's-post-summary--meta-tags', 'd-inline-block', 'tags', 'js-tags', 'ml0', 'list-ls-none', 'js-post-tag-list-wrapper', 's-user-card', 's-user-card__minimal', 's-avatar', 's-avatar__16', 's-user-card--avatar', 'gravatar-wrapper-16', 's-avatar--image', 's-user-card--info', 's-user-card--link', 's-user-card--time', 'relativetime']\n"
     ]
    },
    {
     "name": "stderr",
     "output_type": "stream",
     "text": [
      "The chromedriver version (138.0.7204.183) detected in PATH at C:\\chromedriver-win64\\chromedriver.exe might not be compatible with the detected chrome version (139.0.7258.155); currently, chromedriver 139.0.7258.154 is recommended for chrome 139.*, so it is advised to delete the driver in PATH and retry\n"
     ]
    },
    {
     "name": "stdout",
     "output_type": "stream",
     "text": [
      "Data-related classes: ['s-post-summary', 'js-post-summary', 's-post-summary--stats', 'js-post-summary-stats', 's-post-summary--stats-item__emphasized', 's-post-summary--content', 's-post-summary--content-title', 's-post-summary--content-excerpt', 's-post-summary--meta', 's-post-summary--meta-tags', 'd-inline-block', 'tags', 'js-tags', 'ml0', 'list-ls-none', 'js-post-tag-list-wrapper', 's-user-card', 's-user-card__minimal', 's-avatar', 's-avatar__16', 's-user-card--avatar', 'gravatar-wrapper-16', 's-avatar--image', 's-user-card--info', 's-user-card--link', 's-user-card--time', 'relativetime']\n"
     ]
    },
    {
     "name": "stderr",
     "output_type": "stream",
     "text": [
      "The chromedriver version (138.0.7204.183) detected in PATH at C:\\chromedriver-win64\\chromedriver.exe might not be compatible with the detected chrome version (139.0.7258.155); currently, chromedriver 139.0.7258.154 is recommended for chrome 139.*, so it is advised to delete the driver in PATH and retry\n",
      "The chromedriver version (138.0.7204.183) detected in PATH at C:\\chromedriver-win64\\chromedriver.exe might not be compatible with the detected chrome version (139.0.7258.155); currently, chromedriver 139.0.7258.154 is recommended for chrome 139.*, so it is advised to delete the driver in PATH and retry\n",
      "The chromedriver version (138.0.7204.183) detected in PATH at C:\\chromedriver-win64\\chromedriver.exe might not be compatible with the detected chrome version (139.0.7258.155); currently, chromedriver 139.0.7258.154 is recommended for chrome 139.*, so it is advised to delete the driver in PATH and retry\n"
     ]
    },
    {
     "name": "stdout",
     "output_type": "stream",
     "text": [
      "Data-related classes: ['s-post-summary', 'js-post-summary', 's-post-summary--stats', 'js-post-summary-stats', 's-post-summary--stats-item__emphasized', 's-post-summary--content', 's-post-summary--content-title', 's-post-summary--content-excerpt', 's-post-summary--meta', 's-post-summary--meta-tags', 'd-inline-block', 'tags', 'js-tags', 'ml0', 'list-ls-none', 'js-post-tag-list-wrapper', 's-user-card', 's-user-card__minimal', 's-avatar', 's-avatar__16', 's-user-card--avatar', 'gravatar-wrapper-16', 's-avatar--image', 's-user-card--info', 's-user-card--link', 's-user-card--time', 'relativetime']\n"
     ]
    },
    {
     "name": "stderr",
     "output_type": "stream",
     "text": [
      "The chromedriver version (138.0.7204.183) detected in PATH at C:\\chromedriver-win64\\chromedriver.exe might not be compatible with the detected chrome version (139.0.7258.155); currently, chromedriver 139.0.7258.154 is recommended for chrome 139.*, so it is advised to delete the driver in PATH and retry\n"
     ]
    },
    {
     "name": "stdout",
     "output_type": "stream",
     "text": [
      "Data-related classes: ['s-post-summary', 'js-post-summary', 's-post-summary--stats', 'js-post-summary-stats', 's-post-summary--stats-item__emphasized', 's-post-summary--content', 's-post-summary--content-title', 's-post-summary--content-excerpt', 's-post-summary--meta', 's-post-summary--meta-tags', 'd-inline-block', 'tags', 'js-tags', 'ml0', 'list-ls-none', 'js-post-tag-list-wrapper', 's-user-card', 's-user-card__minimal', 's-avatar', 's-avatar__16', 's-user-card--avatar', 'gravatar-wrapper-16', 's-avatar--image', 's-user-card--info', 's-user-card--link', 's-user-card--time', 'relativetime']\n"
     ]
    },
    {
     "name": "stderr",
     "output_type": "stream",
     "text": [
      "The chromedriver version (138.0.7204.183) detected in PATH at C:\\chromedriver-win64\\chromedriver.exe might not be compatible with the detected chrome version (139.0.7258.155); currently, chromedriver 139.0.7258.154 is recommended for chrome 139.*, so it is advised to delete the driver in PATH and retry\n",
      "The chromedriver version (138.0.7204.183) detected in PATH at C:\\chromedriver-win64\\chromedriver.exe might not be compatible with the detected chrome version (139.0.7258.155); currently, chromedriver 139.0.7258.154 is recommended for chrome 139.*, so it is advised to delete the driver in PATH and retry\n",
      "The chromedriver version (138.0.7204.183) detected in PATH at C:\\chromedriver-win64\\chromedriver.exe might not be compatible with the detected chrome version (139.0.7258.155); currently, chromedriver 139.0.7258.154 is recommended for chrome 139.*, so it is advised to delete the driver in PATH and retry\n"
     ]
    },
    {
     "name": "stdout",
     "output_type": "stream",
     "text": [
      "Data-related classes: ['s-post-summary', 'js-post-summary', 's-post-summary--stats', 'js-post-summary-stats', 's-post-summary--stats-item__emphasized', 's-post-summary--content', 's-post-summary--content-title', 's-post-summary--content-excerpt', 's-post-summary--meta', 's-post-summary--meta-tags', 'd-inline-block', 'tags', 'js-tags', 'ml0', 'list-ls-none', 'js-post-tag-list-wrapper', 's-user-card', 's-user-card__minimal', 's-avatar', 's-avatar__16', 's-user-card--avatar', 'gravatar-wrapper-16', 's-avatar--image', 's-user-card--info', 's-user-card--link', 's-user-card--time', 'relativetime']\n"
     ]
    },
    {
     "name": "stderr",
     "output_type": "stream",
     "text": [
      "The chromedriver version (138.0.7204.183) detected in PATH at C:\\chromedriver-win64\\chromedriver.exe might not be compatible with the detected chrome version (139.0.7258.155); currently, chromedriver 139.0.7258.154 is recommended for chrome 139.*, so it is advised to delete the driver in PATH and retry\n",
      "The chromedriver version (138.0.7204.183) detected in PATH at C:\\chromedriver-win64\\chromedriver.exe might not be compatible with the detected chrome version (139.0.7258.155); currently, chromedriver 139.0.7258.154 is recommended for chrome 139.*, so it is advised to delete the driver in PATH and retry\n",
      "The chromedriver version (138.0.7204.183) detected in PATH at C:\\chromedriver-win64\\chromedriver.exe might not be compatible with the detected chrome version (139.0.7258.155); currently, chromedriver 139.0.7258.154 is recommended for chrome 139.*, so it is advised to delete the driver in PATH and retry\n",
      "The chromedriver version (138.0.7204.183) detected in PATH at C:\\chromedriver-win64\\chromedriver.exe might not be compatible with the detected chrome version (139.0.7258.155); currently, chromedriver 139.0.7258.154 is recommended for chrome 139.*, so it is advised to delete the driver in PATH and retry\n"
     ]
    },
    {
     "name": "stdout",
     "output_type": "stream",
     "text": [
      "Data-related classes: ['s-post-summary', 'js-post-summary', 's-post-summary--stats', 'js-post-summary-stats', 's-post-summary--stats-item__emphasized', 's-post-summary--content', 's-post-summary--content-title', 's-post-summary--content-excerpt', 's-post-summary--meta', 's-post-summary--meta-tags', 'd-inline-block', 'tags', 'js-tags', 'ml0', 'list-ls-none', 'js-post-tag-list-wrapper', 's-user-card', 's-user-card__minimal', 's-avatar', 's-avatar__16', 's-user-card--avatar', 'gravatar-wrapper-16', 's-avatar--image', 's-user-card--info', 's-user-card--link', 's-user-card--time', 'relativetime']\n"
     ]
    },
    {
     "name": "stderr",
     "output_type": "stream",
     "text": [
      "The chromedriver version (138.0.7204.183) detected in PATH at C:\\chromedriver-win64\\chromedriver.exe might not be compatible with the detected chrome version (139.0.7258.155); currently, chromedriver 139.0.7258.154 is recommended for chrome 139.*, so it is advised to delete the driver in PATH and retry\n",
      "The chromedriver version (138.0.7204.183) detected in PATH at C:\\chromedriver-win64\\chromedriver.exe might not be compatible with the detected chrome version (139.0.7258.155); currently, chromedriver 139.0.7258.154 is recommended for chrome 139.*, so it is advised to delete the driver in PATH and retry\n",
      "The chromedriver version (138.0.7204.183) detected in PATH at C:\\chromedriver-win64\\chromedriver.exe might not be compatible with the detected chrome version (139.0.7258.155); currently, chromedriver 139.0.7258.154 is recommended for chrome 139.*, so it is advised to delete the driver in PATH and retry\n"
     ]
    },
    {
     "name": "stdout",
     "output_type": "stream",
     "text": [
      "Data-related classes: ['s-post-summary', 'js-post-summary', 's-post-summary--stats', 'js-post-summary-stats', 's-post-summary--stats-item__emphasized', 's-post-summary--content', 's-post-summary--content-title', 's-post-summary--content-excerpt', 's-post-summary--meta', 's-post-summary--meta-tags', 'd-inline-block', 'tags', 'js-tags', 'ml0', 'list-ls-none', 'js-post-tag-list-wrapper', 's-user-card', 's-user-card__minimal', 's-avatar', 's-avatar__16', 's-user-card--avatar', 'gravatar-wrapper-16', 's-avatar--image', 's-user-card--info', 's-user-card--link', 's-user-card--time', 'relativetime']\n"
     ]
    },
    {
     "name": "stderr",
     "output_type": "stream",
     "text": [
      "The chromedriver version (138.0.7204.183) detected in PATH at C:\\chromedriver-win64\\chromedriver.exe might not be compatible with the detected chrome version (139.0.7258.155); currently, chromedriver 139.0.7258.154 is recommended for chrome 139.*, so it is advised to delete the driver in PATH and retry\n",
      "The chromedriver version (138.0.7204.183) detected in PATH at C:\\chromedriver-win64\\chromedriver.exe might not be compatible with the detected chrome version (139.0.7258.155); currently, chromedriver 139.0.7258.154 is recommended for chrome 139.*, so it is advised to delete the driver in PATH and retry\n"
     ]
    },
    {
     "name": "stdout",
     "output_type": "stream",
     "text": [
      "Data-related classes: ['s-post-summary', 'js-post-summary', 's-post-summary--stats', 'js-post-summary-stats', 's-post-summary--stats-item__emphasized', 's-post-summary--content', 's-post-summary--content-title', 's-post-summary--content-excerpt', 's-post-summary--meta', 's-post-summary--meta-tags', 'd-inline-block', 'tags', 'js-tags', 'ml0', 'list-ls-none', 'js-post-tag-list-wrapper', 's-user-card', 's-user-card__minimal', 's-avatar', 's-avatar__16', 's-user-card--avatar', 'gravatar-wrapper-16', 's-avatar--image', 's-user-card--info', 's-user-card--link', 's-user-card--time', 'relativetime']\n"
     ]
    },
    {
     "name": "stderr",
     "output_type": "stream",
     "text": [
      "The chromedriver version (138.0.7204.183) detected in PATH at C:\\chromedriver-win64\\chromedriver.exe might not be compatible with the detected chrome version (139.0.7258.155); currently, chromedriver 139.0.7258.154 is recommended for chrome 139.*, so it is advised to delete the driver in PATH and retry\n",
      "The chromedriver version (138.0.7204.183) detected in PATH at C:\\chromedriver-win64\\chromedriver.exe might not be compatible with the detected chrome version (139.0.7258.155); currently, chromedriver 139.0.7258.154 is recommended for chrome 139.*, so it is advised to delete the driver in PATH and retry\n"
     ]
    },
    {
     "name": "stdout",
     "output_type": "stream",
     "text": [
      "Data-related classes: ['s-post-summary', 'js-post-summary', 's-post-summary--stats', 'js-post-summary-stats', 's-post-summary--stats-item__emphasized', 's-post-summary--content', 's-post-summary--content-title', 's-post-summary--content-excerpt', 's-post-summary--meta', 's-post-summary--meta-tags', 'd-inline-block', 'tags', 'js-tags', 'ml0', 'list-ls-none', 'js-post-tag-list-wrapper', 's-user-card', 's-user-card__minimal', 's-avatar', 's-avatar__16', 's-user-card--avatar', 'gravatar-wrapper-16', 's-avatar--image', 's-user-card--info', 's-user-card--link', 's-user-card--time', 'relativetime']\n"
     ]
    },
    {
     "name": "stderr",
     "output_type": "stream",
     "text": [
      "The chromedriver version (138.0.7204.183) detected in PATH at C:\\chromedriver-win64\\chromedriver.exe might not be compatible with the detected chrome version (139.0.7258.155); currently, chromedriver 139.0.7258.154 is recommended for chrome 139.*, so it is advised to delete the driver in PATH and retry\n",
      "The chromedriver version (138.0.7204.183) detected in PATH at C:\\chromedriver-win64\\chromedriver.exe might not be compatible with the detected chrome version (139.0.7258.155); currently, chromedriver 139.0.7258.154 is recommended for chrome 139.*, so it is advised to delete the driver in PATH and retry\n"
     ]
    },
    {
     "name": "stdout",
     "output_type": "stream",
     "text": [
      "Data-related classes: ['s-post-summary', 'js-post-summary', 's-post-summary--stats', 'js-post-summary-stats', 's-post-summary--stats-item__emphasized', 's-post-summary--content', 's-post-summary--content-title', 's-post-summary--content-excerpt', 's-post-summary--meta', 's-post-summary--meta-tags', 'd-inline-block', 'tags', 'js-tags', 'ml0', 'list-ls-none', 'js-post-tag-list-wrapper', 's-user-card', 's-user-card__minimal', 's-avatar', 's-avatar__16', 's-user-card--avatar', 'gravatar-wrapper-16', 's-avatar--image', 's-user-card--info', 's-user-card--link', 's-user-card--time', 'relativetime']\n"
     ]
    },
    {
     "name": "stderr",
     "output_type": "stream",
     "text": [
      "The chromedriver version (138.0.7204.183) detected in PATH at C:\\chromedriver-win64\\chromedriver.exe might not be compatible with the detected chrome version (139.0.7258.155); currently, chromedriver 139.0.7258.154 is recommended for chrome 139.*, so it is advised to delete the driver in PATH and retry\n",
      "The chromedriver version (138.0.7204.183) detected in PATH at C:\\chromedriver-win64\\chromedriver.exe might not be compatible with the detected chrome version (139.0.7258.155); currently, chromedriver 139.0.7258.154 is recommended for chrome 139.*, so it is advised to delete the driver in PATH and retry\n",
      "The chromedriver version (138.0.7204.183) detected in PATH at C:\\chromedriver-win64\\chromedriver.exe might not be compatible with the detected chrome version (139.0.7258.155); currently, chromedriver 139.0.7258.154 is recommended for chrome 139.*, so it is advised to delete the driver in PATH and retry\n"
     ]
    },
    {
     "name": "stdout",
     "output_type": "stream",
     "text": [
      "Data-related classes: ['s-post-summary', 'js-post-summary', 's-post-summary--stats', 'js-post-summary-stats', 's-post-summary--stats-item__emphasized', 's-post-summary--content', 's-post-summary--content-title', 's-post-summary--content-excerpt', 's-post-summary--meta', 's-post-summary--meta-tags', 'd-inline-block', 'tags', 'js-tags', 'ml0', 'list-ls-none', 'js-post-tag-list-wrapper', 's-user-card', 's-user-card__minimal', 's-avatar', 's-avatar__16', 's-user-card--avatar', 'gravatar-wrapper-16', 's-avatar--image', 's-user-card--info', 's-user-card--link', 's-user-card--time', 'relativetime']\n"
     ]
    },
    {
     "name": "stderr",
     "output_type": "stream",
     "text": [
      "The chromedriver version (138.0.7204.183) detected in PATH at C:\\chromedriver-win64\\chromedriver.exe might not be compatible with the detected chrome version (139.0.7258.155); currently, chromedriver 139.0.7258.154 is recommended for chrome 139.*, so it is advised to delete the driver in PATH and retry\n",
      "The chromedriver version (138.0.7204.183) detected in PATH at C:\\chromedriver-win64\\chromedriver.exe might not be compatible with the detected chrome version (139.0.7258.155); currently, chromedriver 139.0.7258.154 is recommended for chrome 139.*, so it is advised to delete the driver in PATH and retry\n"
     ]
    },
    {
     "name": "stdout",
     "output_type": "stream",
     "text": [
      "Data-related classes: ['s-post-summary', 'js-post-summary', 's-post-summary--stats', 'js-post-summary-stats', 's-post-summary--stats-item__emphasized', 's-post-summary--content', 's-post-summary--content-title', 's-post-summary--content-excerpt', 's-post-summary--meta', 's-post-summary--meta-tags', 'd-inline-block', 'tags', 'js-tags', 'ml0', 'list-ls-none', 'js-post-tag-list-wrapper', 's-user-card', 's-user-card__minimal', 's-avatar', 's-avatar__16', 's-user-card--avatar', 'gravatar-wrapper-16', 's-avatar--image', 's-user-card--info', 's-user-card--link', 's-user-card--awards', 's-user-card--rep', 'todo-no-class-here', 's-user-card--time', 'relativetime']\n"
     ]
    },
    {
     "name": "stderr",
     "output_type": "stream",
     "text": [
      "The chromedriver version (138.0.7204.183) detected in PATH at C:\\chromedriver-win64\\chromedriver.exe might not be compatible with the detected chrome version (139.0.7258.155); currently, chromedriver 139.0.7258.154 is recommended for chrome 139.*, so it is advised to delete the driver in PATH and retry\n",
      "The chromedriver version (138.0.7204.183) detected in PATH at C:\\chromedriver-win64\\chromedriver.exe might not be compatible with the detected chrome version (139.0.7258.155); currently, chromedriver 139.0.7258.154 is recommended for chrome 139.*, so it is advised to delete the driver in PATH and retry\n",
      "The chromedriver version (138.0.7204.183) detected in PATH at C:\\chromedriver-win64\\chromedriver.exe might not be compatible with the detected chrome version (139.0.7258.155); currently, chromedriver 139.0.7258.154 is recommended for chrome 139.*, so it is advised to delete the driver in PATH and retry\n"
     ]
    },
    {
     "name": "stdout",
     "output_type": "stream",
     "text": [
      "Data-related classes: ['s-post-summary', 'js-post-summary', 's-post-summary--stats', 'js-post-summary-stats', 's-post-summary--stats-item__emphasized', 's-post-summary--content', 's-post-summary--content-title', 's-post-summary--content-excerpt', 's-post-summary--meta', 's-post-summary--meta-tags', 'd-inline-block', 'tags', 'js-tags', 'ml0', 'list-ls-none', 'js-post-tag-list-wrapper', 's-user-card', 's-user-card__minimal', 's-avatar', 's-avatar__16', 's-user-card--avatar', 'gravatar-wrapper-16', 's-avatar--image', 's-user-card--info', 's-user-card--link', 's-user-card--time', 'relativetime']\n"
     ]
    },
    {
     "name": "stderr",
     "output_type": "stream",
     "text": [
      "The chromedriver version (138.0.7204.183) detected in PATH at C:\\chromedriver-win64\\chromedriver.exe might not be compatible with the detected chrome version (139.0.7258.155); currently, chromedriver 139.0.7258.154 is recommended for chrome 139.*, so it is advised to delete the driver in PATH and retry\n"
     ]
    },
    {
     "name": "stdout",
     "output_type": "stream",
     "text": [
      "Data-related classes: ['s-post-summary', 'js-post-summary', 's-post-summary--stats', 'js-post-summary-stats', 's-post-summary--stats-item__emphasized', 's-post-summary--content', 's-post-summary--content-title', 's-post-summary--content-excerpt', 's-post-summary--meta', 's-post-summary--meta-tags', 'd-inline-block', 'tags', 'js-tags', 'ml0', 'list-ls-none', 'js-post-tag-list-wrapper', 's-user-card', 's-user-card__minimal', 's-avatar', 's-avatar__16', 's-user-card--avatar', 'gravatar-wrapper-16', 's-avatar--image', 's-user-card--info', 's-user-card--link', 's-user-card--time', 'relativetime']\n"
     ]
    },
    {
     "name": "stderr",
     "output_type": "stream",
     "text": [
      "The chromedriver version (138.0.7204.183) detected in PATH at C:\\chromedriver-win64\\chromedriver.exe might not be compatible with the detected chrome version (139.0.7258.155); currently, chromedriver 139.0.7258.154 is recommended for chrome 139.*, so it is advised to delete the driver in PATH and retry\n",
      "The chromedriver version (138.0.7204.183) detected in PATH at C:\\chromedriver-win64\\chromedriver.exe might not be compatible with the detected chrome version (139.0.7258.155); currently, chromedriver 139.0.7258.154 is recommended for chrome 139.*, so it is advised to delete the driver in PATH and retry\n"
     ]
    },
    {
     "name": "stdout",
     "output_type": "stream",
     "text": [
      "Data-related classes: ['s-post-summary', 'js-post-summary', 's-post-summary--stats', 'js-post-summary-stats', 's-post-summary--stats-item__emphasized', 'has-answers', 's-post-summary--content', 's-post-summary--content-title', 's-post-summary--content-excerpt', 's-post-summary--meta', 's-post-summary--meta-tags', 'd-inline-block', 'tags', 'js-tags', 'ml0', 'list-ls-none', 'js-post-tag-list-wrapper', 's-user-card', 's-user-card__minimal', 's-avatar', 's-avatar__16', 's-user-card--avatar', 'gravatar-wrapper-16', 's-avatar--image', 's-user-card--info', 's-user-card--link', 's-user-card--time', 'relativetime']\n"
     ]
    },
    {
     "name": "stderr",
     "output_type": "stream",
     "text": [
      "The chromedriver version (138.0.7204.183) detected in PATH at C:\\chromedriver-win64\\chromedriver.exe might not be compatible with the detected chrome version (139.0.7258.155); currently, chromedriver 139.0.7258.154 is recommended for chrome 139.*, so it is advised to delete the driver in PATH and retry\n",
      "The chromedriver version (138.0.7204.183) detected in PATH at C:\\chromedriver-win64\\chromedriver.exe might not be compatible with the detected chrome version (139.0.7258.155); currently, chromedriver 139.0.7258.154 is recommended for chrome 139.*, so it is advised to delete the driver in PATH and retry\n",
      "The chromedriver version (138.0.7204.183) detected in PATH at C:\\chromedriver-win64\\chromedriver.exe might not be compatible with the detected chrome version (139.0.7258.155); currently, chromedriver 139.0.7258.154 is recommended for chrome 139.*, so it is advised to delete the driver in PATH and retry\n"
     ]
    },
    {
     "name": "stdout",
     "output_type": "stream",
     "text": [
      "Data-related classes: ['s-post-summary', 'js-post-summary', 's-post-summary--stats', 'js-post-summary-stats', 's-post-summary--stats-item__emphasized', 's-post-summary--content', 's-post-summary--content-title', 's-post-summary--content-excerpt', 's-post-summary--meta', 's-post-summary--meta-tags', 'd-inline-block', 'tags', 'js-tags', 'ml0', 'list-ls-none', 'js-post-tag-list-wrapper', 's-user-card', 's-user-card__minimal', 's-avatar', 's-avatar__16', 's-user-card--avatar', 'gravatar-wrapper-16', 's-avatar--image', 's-user-card--info', 's-user-card--link', 's-user-card--time', 'relativetime']\n"
     ]
    },
    {
     "name": "stderr",
     "output_type": "stream",
     "text": [
      "The chromedriver version (138.0.7204.183) detected in PATH at C:\\chromedriver-win64\\chromedriver.exe might not be compatible with the detected chrome version (139.0.7258.155); currently, chromedriver 139.0.7258.154 is recommended for chrome 139.*, so it is advised to delete the driver in PATH and retry\n",
      "The chromedriver version (138.0.7204.183) detected in PATH at C:\\chromedriver-win64\\chromedriver.exe might not be compatible with the detected chrome version (139.0.7258.155); currently, chromedriver 139.0.7258.154 is recommended for chrome 139.*, so it is advised to delete the driver in PATH and retry\n"
     ]
    },
    {
     "name": "stdout",
     "output_type": "stream",
     "text": [
      "Data-related classes: ['s-post-summary', 'js-post-summary', 's-post-summary--stats', 'js-post-summary-stats', 's-post-summary--stats-item__emphasized', 's-post-summary--content', 's-post-summary--content-title', 's-post-summary--content-excerpt', 's-post-summary--meta', 's-post-summary--meta-tags', 'd-inline-block', 'tags', 'js-tags', 'ml0', 'list-ls-none', 'js-post-tag-list-wrapper', 's-user-card', 's-user-card__minimal', 's-avatar', 's-avatar__16', 's-user-card--avatar', 'gravatar-wrapper-16', 's-avatar--image', 's-user-card--info', 's-user-card--link', 's-user-card--time', 'relativetime']\n"
     ]
    },
    {
     "name": "stderr",
     "output_type": "stream",
     "text": [
      "The chromedriver version (138.0.7204.183) detected in PATH at C:\\chromedriver-win64\\chromedriver.exe might not be compatible with the detected chrome version (139.0.7258.155); currently, chromedriver 139.0.7258.154 is recommended for chrome 139.*, so it is advised to delete the driver in PATH and retry\n"
     ]
    },
    {
     "name": "stdout",
     "output_type": "stream",
     "text": [
      "Data-related classes: ['s-post-summary', 'js-post-summary', 's-post-summary--stats', 'js-post-summary-stats', 's-post-summary--stats-item__emphasized', 's-post-summary--content', 's-post-summary--content-title', 's-post-summary--content-excerpt', 's-post-summary--meta', 's-post-summary--meta-tags', 'd-inline-block', 'tags', 'js-tags', 'ml0', 'list-ls-none', 'js-post-tag-list-wrapper', 's-user-card', 's-user-card__minimal', 's-avatar', 's-avatar__16', 's-user-card--avatar', 'gravatar-wrapper-16', 's-avatar--image', 's-user-card--info', 's-user-card--link', 's-user-card--time', 'relativetime']\n"
     ]
    },
    {
     "name": "stderr",
     "output_type": "stream",
     "text": [
      "The chromedriver version (138.0.7204.183) detected in PATH at C:\\chromedriver-win64\\chromedriver.exe might not be compatible with the detected chrome version (139.0.7258.155); currently, chromedriver 139.0.7258.154 is recommended for chrome 139.*, so it is advised to delete the driver in PATH and retry\n",
      "The chromedriver version (138.0.7204.183) detected in PATH at C:\\chromedriver-win64\\chromedriver.exe might not be compatible with the detected chrome version (139.0.7258.155); currently, chromedriver 139.0.7258.154 is recommended for chrome 139.*, so it is advised to delete the driver in PATH and retry\n"
     ]
    },
    {
     "name": "stdout",
     "output_type": "stream",
     "text": [
      "Data-related classes: ['s-post-summary', 'js-post-summary', 's-post-summary--stats', 'js-post-summary-stats', 's-post-summary--stats-item__emphasized', 's-post-summary--content', 's-post-summary--content-title', 's-post-summary--content-excerpt', 's-post-summary--meta', 's-post-summary--meta-tags', 'd-inline-block', 'tags', 'js-tags', 'ml0', 'list-ls-none', 'js-post-tag-list-wrapper', 's-user-card', 's-user-card__minimal', 's-avatar', 's-avatar__16', 's-user-card--avatar', 'gravatar-wrapper-16', 's-avatar--image', 's-user-card--info', 's-user-card--link', 's-user-card--time', 'relativetime']\n"
     ]
    },
    {
     "name": "stderr",
     "output_type": "stream",
     "text": [
      "The chromedriver version (138.0.7204.183) detected in PATH at C:\\chromedriver-win64\\chromedriver.exe might not be compatible with the detected chrome version (139.0.7258.155); currently, chromedriver 139.0.7258.154 is recommended for chrome 139.*, so it is advised to delete the driver in PATH and retry\n",
      "The chromedriver version (138.0.7204.183) detected in PATH at C:\\chromedriver-win64\\chromedriver.exe might not be compatible with the detected chrome version (139.0.7258.155); currently, chromedriver 139.0.7258.154 is recommended for chrome 139.*, so it is advised to delete the driver in PATH and retry\n",
      "The chromedriver version (138.0.7204.183) detected in PATH at C:\\chromedriver-win64\\chromedriver.exe might not be compatible with the detected chrome version (139.0.7258.155); currently, chromedriver 139.0.7258.154 is recommended for chrome 139.*, so it is advised to delete the driver in PATH and retry\n"
     ]
    },
    {
     "name": "stdout",
     "output_type": "stream",
     "text": [
      "Data-related classes: ['s-post-summary', 'js-post-summary', 's-post-summary--stats', 'js-post-summary-stats', 's-post-summary--stats-item__emphasized', 's-post-summary--content', 's-post-summary--content-title', 's-post-summary--content-excerpt', 's-post-summary--meta', 's-post-summary--meta-tags', 'd-inline-block', 'tags', 'js-tags', 'ml0', 'list-ls-none', 'js-post-tag-list-wrapper', 's-user-card', 's-user-card__minimal', 's-avatar', 's-avatar__16', 's-user-card--avatar', 'gravatar-wrapper-16', 's-avatar--image', 's-user-card--info', 's-user-card--link', 's-user-card--time', 'relativetime']\n"
     ]
    },
    {
     "name": "stderr",
     "output_type": "stream",
     "text": [
      "The chromedriver version (138.0.7204.183) detected in PATH at C:\\chromedriver-win64\\chromedriver.exe might not be compatible with the detected chrome version (139.0.7258.155); currently, chromedriver 139.0.7258.154 is recommended for chrome 139.*, so it is advised to delete the driver in PATH and retry\n"
     ]
    },
    {
     "name": "stdout",
     "output_type": "stream",
     "text": [
      "Data-related classes: ['s-post-summary', 'js-post-summary', 's-post-summary--stats', 'js-post-summary-stats', 's-post-summary--stats-item__emphasized', 's-post-summary--content', 's-post-summary--content-title', 's-post-summary--content-excerpt', 's-post-summary--meta', 's-post-summary--meta-tags', 'd-inline-block', 'tags', 'js-tags', 'ml0', 'list-ls-none', 'js-post-tag-list-wrapper', 's-user-card', 's-user-card__minimal', 's-avatar', 's-avatar__16', 's-user-card--avatar', 'gravatar-wrapper-16', 's-avatar--image', 's-user-card--info', 's-user-card--link', 's-user-card--time', 'relativetime']\n"
     ]
    },
    {
     "name": "stderr",
     "output_type": "stream",
     "text": [
      "The chromedriver version (138.0.7204.183) detected in PATH at C:\\chromedriver-win64\\chromedriver.exe might not be compatible with the detected chrome version (139.0.7258.155); currently, chromedriver 139.0.7258.154 is recommended for chrome 139.*, so it is advised to delete the driver in PATH and retry\n",
      "The chromedriver version (138.0.7204.183) detected in PATH at C:\\chromedriver-win64\\chromedriver.exe might not be compatible with the detected chrome version (139.0.7258.155); currently, chromedriver 139.0.7258.154 is recommended for chrome 139.*, so it is advised to delete the driver in PATH and retry\n"
     ]
    },
    {
     "name": "stdout",
     "output_type": "stream",
     "text": [
      "Data-related classes: ['s-post-summary', 'js-post-summary', 's-post-summary--stats', 'js-post-summary-stats', 's-post-summary--stats-item__emphasized', 's-post-summary--content', 's-post-summary--content-title', 's-post-summary--content-excerpt', 's-post-summary--meta', 's-post-summary--meta-tags', 'd-inline-block', 'tags', 'js-tags', 'ml0', 'list-ls-none', 'js-post-tag-list-wrapper', 's-user-card', 's-user-card__minimal', 's-avatar', 's-avatar__16', 's-user-card--avatar', 'gravatar-wrapper-16', 's-avatar--image', 's-user-card--info', 's-user-card--link', 's-user-card--time', 'relativetime']\n"
     ]
    },
    {
     "name": "stderr",
     "output_type": "stream",
     "text": [
      "The chromedriver version (138.0.7204.183) detected in PATH at C:\\chromedriver-win64\\chromedriver.exe might not be compatible with the detected chrome version (139.0.7258.155); currently, chromedriver 139.0.7258.154 is recommended for chrome 139.*, so it is advised to delete the driver in PATH and retry\n",
      "The chromedriver version (138.0.7204.183) detected in PATH at C:\\chromedriver-win64\\chromedriver.exe might not be compatible with the detected chrome version (139.0.7258.155); currently, chromedriver 139.0.7258.154 is recommended for chrome 139.*, so it is advised to delete the driver in PATH and retry\n"
     ]
    },
    {
     "name": "stdout",
     "output_type": "stream",
     "text": [
      "Data-related classes: ['s-post-summary', 'js-post-summary', 's-post-summary--stats', 'js-post-summary-stats', 's-post-summary--stats-item__emphasized', 's-post-summary--content', 's-post-summary--content-title', 's-post-summary--content-excerpt', 's-post-summary--meta', 's-post-summary--meta-tags', 'd-inline-block', 'tags', 'js-tags', 'ml0', 'list-ls-none', 'js-post-tag-list-wrapper', 's-user-card', 's-user-card__minimal', 's-avatar', 's-avatar__16', 's-user-card--avatar', 'gravatar-wrapper-16', 's-avatar--image', 's-user-card--info', 's-user-card--link', 's-user-card--time', 'relativetime']\n"
     ]
    },
    {
     "name": "stderr",
     "output_type": "stream",
     "text": [
      "The chromedriver version (138.0.7204.183) detected in PATH at C:\\chromedriver-win64\\chromedriver.exe might not be compatible with the detected chrome version (139.0.7258.155); currently, chromedriver 139.0.7258.154 is recommended for chrome 139.*, so it is advised to delete the driver in PATH and retry\n"
     ]
    },
    {
     "name": "stdout",
     "output_type": "stream",
     "text": [
      "Data-related classes: ['s-post-summary', 'js-post-summary', 's-post-summary--stats', 'js-post-summary-stats', 's-post-summary--stats-item__emphasized', 's-post-summary--content', 's-post-summary--content-title', 's-post-summary--content-excerpt', 's-post-summary--meta', 's-post-summary--meta-tags', 'd-inline-block', 'tags', 'js-tags', 'ml0', 'list-ls-none', 'js-post-tag-list-wrapper', 's-user-card', 's-user-card__minimal', 's-avatar', 's-avatar__16', 's-user-card--avatar', 'gravatar-wrapper-16', 's-avatar--image', 's-user-card--info', 's-user-card--link', 's-user-card--time', 'relativetime']\n"
     ]
    },
    {
     "name": "stderr",
     "output_type": "stream",
     "text": [
      "The chromedriver version (138.0.7204.183) detected in PATH at C:\\chromedriver-win64\\chromedriver.exe might not be compatible with the detected chrome version (139.0.7258.155); currently, chromedriver 139.0.7258.154 is recommended for chrome 139.*, so it is advised to delete the driver in PATH and retry\n"
     ]
    },
    {
     "name": "stdout",
     "output_type": "stream",
     "text": [
      "Data-related classes: ['s-post-summary', 'js-post-summary', 's-post-summary--stats', 'js-post-summary-stats', 's-post-summary--stats-item__emphasized', 's-post-summary--content', 's-post-summary--content-title', 's-post-summary--content-excerpt', 's-post-summary--meta', 's-post-summary--meta-tags', 'd-inline-block', 'tags', 'js-tags', 'ml0', 'list-ls-none', 'js-post-tag-list-wrapper', 's-user-card', 's-user-card__minimal', 's-avatar', 's-avatar__16', 's-user-card--avatar', 'gravatar-wrapper-16', 's-avatar--image', 's-user-card--info', 's-user-card--link', 's-user-card--time', 'relativetime']\n"
     ]
    },
    {
     "name": "stderr",
     "output_type": "stream",
     "text": [
      "The chromedriver version (138.0.7204.183) detected in PATH at C:\\chromedriver-win64\\chromedriver.exe might not be compatible with the detected chrome version (139.0.7258.155); currently, chromedriver 139.0.7258.154 is recommended for chrome 139.*, so it is advised to delete the driver in PATH and retry\n",
      "The chromedriver version (138.0.7204.183) detected in PATH at C:\\chromedriver-win64\\chromedriver.exe might not be compatible with the detected chrome version (139.0.7258.155); currently, chromedriver 139.0.7258.154 is recommended for chrome 139.*, so it is advised to delete the driver in PATH and retry\n"
     ]
    },
    {
     "name": "stdout",
     "output_type": "stream",
     "text": [
      "Data-related classes: ['s-post-summary', 'js-post-summary', 's-post-summary--stats', 'js-post-summary-stats', 's-post-summary--stats-item__emphasized', 's-post-summary--content', 's-post-summary--content-title', 's-post-summary--content-excerpt', 's-post-summary--meta', 's-post-summary--meta-tags', 'd-inline-block', 'tags', 'js-tags', 'ml0', 'list-ls-none', 'js-post-tag-list-wrapper', 's-user-card', 's-user-card__minimal', 's-avatar', 's-avatar__16', 's-user-card--avatar', 'gravatar-wrapper-16', 's-avatar--image', 's-user-card--info', 's-user-card--link', 's-user-card--time', 'relativetime']\n"
     ]
    },
    {
     "name": "stderr",
     "output_type": "stream",
     "text": [
      "The chromedriver version (138.0.7204.183) detected in PATH at C:\\chromedriver-win64\\chromedriver.exe might not be compatible with the detected chrome version (139.0.7258.155); currently, chromedriver 139.0.7258.154 is recommended for chrome 139.*, so it is advised to delete the driver in PATH and retry\n",
      "The chromedriver version (138.0.7204.183) detected in PATH at C:\\chromedriver-win64\\chromedriver.exe might not be compatible with the detected chrome version (139.0.7258.155); currently, chromedriver 139.0.7258.154 is recommended for chrome 139.*, so it is advised to delete the driver in PATH and retry\n"
     ]
    },
    {
     "name": "stdout",
     "output_type": "stream",
     "text": [
      "Data-related classes: ['s-post-summary', 'js-post-summary', 's-post-summary--stats', 'js-post-summary-stats', 's-post-summary--stats-item__emphasized', 's-post-summary--content', 's-post-summary--content-title', 's-post-summary--content-excerpt', 's-post-summary--meta', 's-post-summary--meta-tags', 'd-inline-block', 'tags', 'js-tags', 'ml0', 'list-ls-none', 'js-post-tag-list-wrapper', 's-user-card', 's-user-card__minimal', 's-avatar', 's-avatar__16', 's-user-card--avatar', 'gravatar-wrapper-16', 's-avatar--image', 's-user-card--info', 's-user-card--link', 's-user-card--time', 'relativetime']\n"
     ]
    },
    {
     "name": "stderr",
     "output_type": "stream",
     "text": [
      "The chromedriver version (138.0.7204.183) detected in PATH at C:\\chromedriver-win64\\chromedriver.exe might not be compatible with the detected chrome version (139.0.7258.155); currently, chromedriver 139.0.7258.154 is recommended for chrome 139.*, so it is advised to delete the driver in PATH and retry\n"
     ]
    },
    {
     "name": "stdout",
     "output_type": "stream",
     "text": [
      "Data-related classes: ['s-post-summary', 'js-post-summary', 's-post-summary--stats', 'js-post-summary-stats', 's-post-summary--stats-item__emphasized', 's-post-summary--content', 's-post-summary--content-title', 's-post-summary--content-excerpt', 's-post-summary--meta', 's-post-summary--meta-tags', 'd-inline-block', 'tags', 'js-tags', 'ml0', 'list-ls-none', 'js-post-tag-list-wrapper', 's-user-card', 's-user-card__minimal', 's-avatar', 's-avatar__16', 's-user-card--avatar', 'gravatar-wrapper-16', 's-avatar--image', 's-user-card--info', 's-user-card--link', 's-user-card--time', 'relativetime']\n"
     ]
    },
    {
     "name": "stderr",
     "output_type": "stream",
     "text": [
      "The chromedriver version (138.0.7204.183) detected in PATH at C:\\chromedriver-win64\\chromedriver.exe might not be compatible with the detected chrome version (139.0.7258.155); currently, chromedriver 139.0.7258.154 is recommended for chrome 139.*, so it is advised to delete the driver in PATH and retry\n"
     ]
    },
    {
     "name": "stdout",
     "output_type": "stream",
     "text": [
      "Data-related classes: ['s-post-summary', 'js-post-summary', 's-post-summary--stats', 'js-post-summary-stats', 's-post-summary--stats-item__emphasized', 's-post-summary--content', 's-post-summary--content-title', 's-post-summary--content-excerpt', 's-post-summary--meta', 's-post-summary--meta-tags', 'd-inline-block', 'tags', 'js-tags', 'ml0', 'list-ls-none', 'js-post-tag-list-wrapper', 's-user-card', 's-user-card__minimal', 's-avatar', 's-avatar__16', 's-user-card--avatar', 'gravatar-wrapper-16', 's-avatar--image', 's-user-card--info', 's-user-card--link', 's-user-card--time', 'relativetime']\n"
     ]
    },
    {
     "name": "stderr",
     "output_type": "stream",
     "text": [
      "The chromedriver version (138.0.7204.183) detected in PATH at C:\\chromedriver-win64\\chromedriver.exe might not be compatible with the detected chrome version (139.0.7258.155); currently, chromedriver 139.0.7258.154 is recommended for chrome 139.*, so it is advised to delete the driver in PATH and retry\n",
      "The chromedriver version (138.0.7204.183) detected in PATH at C:\\chromedriver-win64\\chromedriver.exe might not be compatible with the detected chrome version (139.0.7258.155); currently, chromedriver 139.0.7258.154 is recommended for chrome 139.*, so it is advised to delete the driver in PATH and retry\n"
     ]
    },
    {
     "name": "stdout",
     "output_type": "stream",
     "text": [
      "Data-related classes: ['s-post-summary', 'js-post-summary', 's-post-summary--stats', 'js-post-summary-stats', 's-post-summary--stats-item__emphasized', 's-post-summary--content', 's-post-summary--content-title', 's-post-summary--content-excerpt', 's-post-summary--meta', 's-post-summary--meta-tags', 'd-inline-block', 'tags', 'js-tags', 'ml0', 'list-ls-none', 'js-post-tag-list-wrapper', 's-user-card', 's-user-card__minimal', 's-avatar', 's-avatar__16', 's-user-card--avatar', 'gravatar-wrapper-16', 's-avatar--image', 's-user-card--info', 's-user-card--link', 's-user-card--time', 'relativetime']\n"
     ]
    },
    {
     "name": "stderr",
     "output_type": "stream",
     "text": [
      "The chromedriver version (138.0.7204.183) detected in PATH at C:\\chromedriver-win64\\chromedriver.exe might not be compatible with the detected chrome version (139.0.7258.155); currently, chromedriver 139.0.7258.154 is recommended for chrome 139.*, so it is advised to delete the driver in PATH and retry\n",
      "The chromedriver version (138.0.7204.183) detected in PATH at C:\\chromedriver-win64\\chromedriver.exe might not be compatible with the detected chrome version (139.0.7258.155); currently, chromedriver 139.0.7258.154 is recommended for chrome 139.*, so it is advised to delete the driver in PATH and retry\n",
      "The chromedriver version (138.0.7204.183) detected in PATH at C:\\chromedriver-win64\\chromedriver.exe might not be compatible with the detected chrome version (139.0.7258.155); currently, chromedriver 139.0.7258.154 is recommended for chrome 139.*, so it is advised to delete the driver in PATH and retry\n"
     ]
    },
    {
     "name": "stdout",
     "output_type": "stream",
     "text": [
      "Data-related classes: ['s-post-summary', 'js-post-summary', 's-post-summary--stats', 'js-post-summary-stats', 's-post-summary--stats-item__emphasized', 's-post-summary--content', 's-post-summary--content-title', 's-post-summary--content-excerpt', 's-post-summary--meta', 's-post-summary--meta-tags', 'd-inline-block', 'tags', 'js-tags', 'ml0', 'list-ls-none', 'js-post-tag-list-wrapper', 's-user-card', 's-user-card__minimal', 's-avatar', 's-avatar__16', 's-user-card--avatar', 'gravatar-wrapper-16', 's-avatar--image', 's-user-card--info', 's-user-card--link', 's-user-card--time', 'relativetime']\n"
     ]
    },
    {
     "name": "stderr",
     "output_type": "stream",
     "text": [
      "The chromedriver version (138.0.7204.183) detected in PATH at C:\\chromedriver-win64\\chromedriver.exe might not be compatible with the detected chrome version (139.0.7258.155); currently, chromedriver 139.0.7258.154 is recommended for chrome 139.*, so it is advised to delete the driver in PATH and retry\n"
     ]
    },
    {
     "name": "stdout",
     "output_type": "stream",
     "text": [
      "Data-related classes: ['s-post-summary', 'js-post-summary', 's-post-summary--stats', 'js-post-summary-stats', 's-post-summary--stats-item__emphasized', 's-post-summary--content', 's-post-summary--content-title', 's-post-summary--content-excerpt', 's-post-summary--meta', 's-post-summary--meta-tags', 'd-inline-block', 'tags', 'js-tags', 'ml0', 'list-ls-none', 'js-post-tag-list-wrapper', 's-user-card', 's-user-card__minimal', 's-avatar', 's-avatar__16', 's-user-card--avatar', 'gravatar-wrapper-16', 's-avatar--image', 's-user-card--info', 's-user-card--link', 's-user-card--time', 'relativetime']\n"
     ]
    },
    {
     "name": "stderr",
     "output_type": "stream",
     "text": [
      "The chromedriver version (138.0.7204.183) detected in PATH at C:\\chromedriver-win64\\chromedriver.exe might not be compatible with the detected chrome version (139.0.7258.155); currently, chromedriver 139.0.7258.154 is recommended for chrome 139.*, so it is advised to delete the driver in PATH and retry\n"
     ]
    },
    {
     "name": "stdout",
     "output_type": "stream",
     "text": [
      "Data-related classes: ['s-post-summary', 'js-post-summary', 's-post-summary--stats', 'js-post-summary-stats', 's-post-summary--stats-item__emphasized', 's-post-summary--content', 's-post-summary--content-title', 's-post-summary--content-excerpt', 's-post-summary--meta', 's-post-summary--meta-tags', 'd-inline-block', 'tags', 'js-tags', 'ml0', 'list-ls-none', 'js-post-tag-list-wrapper', 's-user-card', 's-user-card__minimal', 's-avatar', 's-avatar__16', 's-user-card--avatar', 'gravatar-wrapper-16', 's-avatar--image', 's-user-card--info', 's-user-card--link', 's-user-card--time', 'relativetime']\n"
     ]
    },
    {
     "name": "stderr",
     "output_type": "stream",
     "text": [
      "The chromedriver version (138.0.7204.183) detected in PATH at C:\\chromedriver-win64\\chromedriver.exe might not be compatible with the detected chrome version (139.0.7258.155); currently, chromedriver 139.0.7258.154 is recommended for chrome 139.*, so it is advised to delete the driver in PATH and retry\n",
      "The chromedriver version (138.0.7204.183) detected in PATH at C:\\chromedriver-win64\\chromedriver.exe might not be compatible with the detected chrome version (139.0.7258.155); currently, chromedriver 139.0.7258.154 is recommended for chrome 139.*, so it is advised to delete the driver in PATH and retry\n"
     ]
    },
    {
     "name": "stdout",
     "output_type": "stream",
     "text": [
      "Data-related classes: ['s-post-summary', 'js-post-summary', 's-post-summary--stats', 'js-post-summary-stats', 's-post-summary--stats-item__emphasized', 's-post-summary--content', 's-post-summary--content-title', 's-post-summary--content-excerpt', 's-post-summary--meta', 's-post-summary--meta-tags', 'd-inline-block', 'tags', 'js-tags', 'ml0', 'list-ls-none', 'js-post-tag-list-wrapper', 's-user-card', 's-user-card__minimal', 's-avatar', 's-avatar__16', 's-user-card--avatar', 'gravatar-wrapper-16', 's-avatar--image', 's-user-card--info', 's-user-card--link', 's-user-card--time', 'relativetime']\n"
     ]
    },
    {
     "name": "stderr",
     "output_type": "stream",
     "text": [
      "The chromedriver version (138.0.7204.183) detected in PATH at C:\\chromedriver-win64\\chromedriver.exe might not be compatible with the detected chrome version (139.0.7258.155); currently, chromedriver 139.0.7258.154 is recommended for chrome 139.*, so it is advised to delete the driver in PATH and retry\n"
     ]
    },
    {
     "name": "stdout",
     "output_type": "stream",
     "text": [
      "Data-related classes: ['s-post-summary', 'js-post-summary', 's-post-summary--stats', 'js-post-summary-stats', 's-post-summary--stats-item__emphasized', 's-post-summary--content', 's-post-summary--content-title', 's-post-summary--content-excerpt', 's-post-summary--meta', 's-post-summary--meta-tags', 'd-inline-block', 'tags', 'js-tags', 'ml0', 'list-ls-none', 'js-post-tag-list-wrapper', 's-user-card', 's-user-card__minimal', 's-avatar', 's-avatar__16', 's-user-card--avatar', 'gravatar-wrapper-16', 's-avatar--image', 's-user-card--info', 's-user-card--link', 's-user-card--time', 'relativetime']\n"
     ]
    },
    {
     "name": "stderr",
     "output_type": "stream",
     "text": [
      "The chromedriver version (138.0.7204.183) detected in PATH at C:\\chromedriver-win64\\chromedriver.exe might not be compatible with the detected chrome version (139.0.7258.155); currently, chromedriver 139.0.7258.154 is recommended for chrome 139.*, so it is advised to delete the driver in PATH and retry\n",
      "The chromedriver version (138.0.7204.183) detected in PATH at C:\\chromedriver-win64\\chromedriver.exe might not be compatible with the detected chrome version (139.0.7258.155); currently, chromedriver 139.0.7258.154 is recommended for chrome 139.*, so it is advised to delete the driver in PATH and retry\n"
     ]
    },
    {
     "name": "stdout",
     "output_type": "stream",
     "text": [
      "Data-related classes: ['s-post-summary', 'js-post-summary', 's-post-summary--stats', 'js-post-summary-stats', 's-post-summary--stats-item__emphasized', 's-post-summary--content', 's-post-summary--content-title', 's-post-summary--content-excerpt', 's-post-summary--meta', 's-post-summary--meta-tags', 'd-inline-block', 'tags', 'js-tags', 'ml0', 'list-ls-none', 'js-post-tag-list-wrapper', 's-user-card', 's-user-card__minimal', 's-avatar', 's-avatar__16', 's-user-card--avatar', 'gravatar-wrapper-16', 's-avatar--image', 's-user-card--info', 's-user-card--link', 's-user-card--time', 'relativetime']\n"
     ]
    },
    {
     "name": "stderr",
     "output_type": "stream",
     "text": [
      "The chromedriver version (138.0.7204.183) detected in PATH at C:\\chromedriver-win64\\chromedriver.exe might not be compatible with the detected chrome version (139.0.7258.155); currently, chromedriver 139.0.7258.154 is recommended for chrome 139.*, so it is advised to delete the driver in PATH and retry\n"
     ]
    },
    {
     "name": "stdout",
     "output_type": "stream",
     "text": [
      "Data-related classes: ['s-post-summary', 'js-post-summary', 's-post-summary--stats', 'js-post-summary-stats', 's-post-summary--stats-item__emphasized', 's-post-summary--content', 's-post-summary--content-title', 's-post-summary--content-excerpt', 's-post-summary--meta', 's-post-summary--meta-tags', 'd-inline-block', 'tags', 'js-tags', 'ml0', 'list-ls-none', 'js-post-tag-list-wrapper', 's-user-card', 's-user-card__minimal', 's-avatar', 's-avatar__16', 's-user-card--avatar', 'gravatar-wrapper-16', 's-avatar--image', 's-user-card--info', 's-user-card--link', 's-user-card--time', 'relativetime']\n"
     ]
    },
    {
     "name": "stderr",
     "output_type": "stream",
     "text": [
      "The chromedriver version (138.0.7204.183) detected in PATH at C:\\chromedriver-win64\\chromedriver.exe might not be compatible with the detected chrome version (139.0.7258.155); currently, chromedriver 139.0.7258.154 is recommended for chrome 139.*, so it is advised to delete the driver in PATH and retry\n",
      "The chromedriver version (138.0.7204.183) detected in PATH at C:\\chromedriver-win64\\chromedriver.exe might not be compatible with the detected chrome version (139.0.7258.155); currently, chromedriver 139.0.7258.154 is recommended for chrome 139.*, so it is advised to delete the driver in PATH and retry\n"
     ]
    },
    {
     "name": "stdout",
     "output_type": "stream",
     "text": [
      "Data-related classes: ['s-post-summary', 'js-post-summary', 's-post-summary--stats', 'js-post-summary-stats', 's-post-summary--stats-item__emphasized', 's-post-summary--content', 's-post-summary--content-title', 's-post-summary--content-excerpt', 's-post-summary--meta', 's-post-summary--meta-tags', 'd-inline-block', 'tags', 'js-tags', 'ml0', 'list-ls-none', 'js-post-tag-list-wrapper', 's-user-card', 's-user-card__minimal', 's-avatar', 's-avatar__16', 's-user-card--avatar', 'gravatar-wrapper-16', 's-avatar--image', 's-user-card--info', 's-user-card--link', 's-user-card--time', 'relativetime']\n"
     ]
    },
    {
     "name": "stderr",
     "output_type": "stream",
     "text": [
      "The chromedriver version (138.0.7204.183) detected in PATH at C:\\chromedriver-win64\\chromedriver.exe might not be compatible with the detected chrome version (139.0.7258.155); currently, chromedriver 139.0.7258.154 is recommended for chrome 139.*, so it is advised to delete the driver in PATH and retry\n"
     ]
    },
    {
     "name": "stdout",
     "output_type": "stream",
     "text": [
      "Data-related classes: ['s-post-summary', 'js-post-summary', 's-post-summary--stats', 'js-post-summary-stats', 's-post-summary--stats-item__emphasized', 's-post-summary--content', 's-post-summary--content-title', 's-post-summary--content-excerpt', 's-post-summary--meta', 's-post-summary--meta-tags', 'd-inline-block', 'tags', 'js-tags', 'ml0', 'list-ls-none', 'js-post-tag-list-wrapper', 's-user-card', 's-user-card__minimal', 's-avatar', 's-avatar__16', 's-user-card--avatar', 'gravatar-wrapper-16', 's-avatar--image', 's-user-card--info', 's-user-card--link', 's-user-card--time', 'relativetime']\n"
     ]
    },
    {
     "name": "stderr",
     "output_type": "stream",
     "text": [
      "The chromedriver version (138.0.7204.183) detected in PATH at C:\\chromedriver-win64\\chromedriver.exe might not be compatible with the detected chrome version (139.0.7258.155); currently, chromedriver 139.0.7258.154 is recommended for chrome 139.*, so it is advised to delete the driver in PATH and retry\n",
      "The chromedriver version (138.0.7204.183) detected in PATH at C:\\chromedriver-win64\\chromedriver.exe might not be compatible with the detected chrome version (139.0.7258.155); currently, chromedriver 139.0.7258.154 is recommended for chrome 139.*, so it is advised to delete the driver in PATH and retry\n"
     ]
    },
    {
     "name": "stdout",
     "output_type": "stream",
     "text": [
      "Data-related classes: ['s-post-summary', 'js-post-summary', 's-post-summary--stats', 'js-post-summary-stats', 's-post-summary--stats-item__emphasized', 's-post-summary--content', 's-post-summary--content-title', 's-post-summary--content-excerpt', 's-post-summary--meta', 's-post-summary--meta-tags', 'd-inline-block', 'tags', 'js-tags', 'ml0', 'list-ls-none', 'js-post-tag-list-wrapper', 's-user-card', 's-user-card__minimal', 's-avatar', 's-avatar__16', 's-user-card--avatar', 'gravatar-wrapper-16', 's-avatar--image', 's-user-card--info', 's-user-card--link', 's-user-card--time', 'relativetime']\n"
     ]
    },
    {
     "name": "stderr",
     "output_type": "stream",
     "text": [
      "The chromedriver version (138.0.7204.183) detected in PATH at C:\\chromedriver-win64\\chromedriver.exe might not be compatible with the detected chrome version (139.0.7258.155); currently, chromedriver 139.0.7258.154 is recommended for chrome 139.*, so it is advised to delete the driver in PATH and retry\n"
     ]
    },
    {
     "name": "stdout",
     "output_type": "stream",
     "text": [
      "Data-related classes: ['s-post-summary', 'js-post-summary', 's-post-summary--stats', 'js-post-summary-stats', 's-post-summary--stats-item__emphasized', 's-post-summary--content', 's-post-summary--content-title', 's-post-summary--content-excerpt', 's-post-summary--meta', 's-post-summary--meta-tags', 'd-inline-block', 'tags', 'js-tags', 'ml0', 'list-ls-none', 'js-post-tag-list-wrapper', 's-user-card', 's-user-card__minimal', 's-avatar', 's-avatar__16', 's-user-card--avatar', 'gravatar-wrapper-16', 's-avatar--image', 's-user-card--info', 's-user-card--link', 's-user-card--time', 'relativetime']\n"
     ]
    },
    {
     "name": "stderr",
     "output_type": "stream",
     "text": [
      "The chromedriver version (138.0.7204.183) detected in PATH at C:\\chromedriver-win64\\chromedriver.exe might not be compatible with the detected chrome version (139.0.7258.155); currently, chromedriver 139.0.7258.154 is recommended for chrome 139.*, so it is advised to delete the driver in PATH and retry\n",
      "The chromedriver version (138.0.7204.183) detected in PATH at C:\\chromedriver-win64\\chromedriver.exe might not be compatible with the detected chrome version (139.0.7258.155); currently, chromedriver 139.0.7258.154 is recommended for chrome 139.*, so it is advised to delete the driver in PATH and retry\n"
     ]
    },
    {
     "name": "stdout",
     "output_type": "stream",
     "text": [
      "Data-related classes: ['s-post-summary', 'js-post-summary', 's-post-summary--stats', 'js-post-summary-stats', 's-post-summary--stats-item__emphasized', 's-post-summary--content', 's-post-summary--content-title', 's-post-summary--content-excerpt', 's-post-summary--meta', 's-post-summary--meta-tags', 'd-inline-block', 'tags', 'js-tags', 'ml0', 'list-ls-none', 'js-post-tag-list-wrapper', 's-user-card', 's-user-card__minimal', 's-avatar', 's-avatar__16', 's-user-card--avatar', 'gravatar-wrapper-16', 's-avatar--image', 's-user-card--info', 's-user-card--link', 's-user-card--time', 'relativetime']\n"
     ]
    },
    {
     "name": "stderr",
     "output_type": "stream",
     "text": [
      "The chromedriver version (138.0.7204.183) detected in PATH at C:\\chromedriver-win64\\chromedriver.exe might not be compatible with the detected chrome version (139.0.7258.155); currently, chromedriver 139.0.7258.154 is recommended for chrome 139.*, so it is advised to delete the driver in PATH and retry\n"
     ]
    },
    {
     "name": "stdout",
     "output_type": "stream",
     "text": [
      "Data-related classes: ['s-post-summary', 'js-post-summary', 's-post-summary--stats', 'js-post-summary-stats', 's-post-summary--stats-item__emphasized', 's-post-summary--content', 's-post-summary--content-title', 's-post-summary--content-excerpt', 's-post-summary--meta', 's-post-summary--meta-tags', 'd-inline-block', 'tags', 'js-tags', 'ml0', 'list-ls-none', 'js-post-tag-list-wrapper', 's-user-card', 's-user-card__minimal', 's-avatar', 's-avatar__16', 's-user-card--avatar', 'gravatar-wrapper-16', 's-avatar--image', 's-user-card--info', 's-user-card--link', 's-user-card--time', 'relativetime']\n"
     ]
    },
    {
     "name": "stderr",
     "output_type": "stream",
     "text": [
      "The chromedriver version (138.0.7204.183) detected in PATH at C:\\chromedriver-win64\\chromedriver.exe might not be compatible with the detected chrome version (139.0.7258.155); currently, chromedriver 139.0.7258.154 is recommended for chrome 139.*, so it is advised to delete the driver in PATH and retry\n",
      "The chromedriver version (138.0.7204.183) detected in PATH at C:\\chromedriver-win64\\chromedriver.exe might not be compatible with the detected chrome version (139.0.7258.155); currently, chromedriver 139.0.7258.154 is recommended for chrome 139.*, so it is advised to delete the driver in PATH and retry\n"
     ]
    },
    {
     "name": "stdout",
     "output_type": "stream",
     "text": [
      "Data-related classes: ['s-post-summary', 'js-post-summary', 's-post-summary--stats', 'js-post-summary-stats', 's-post-summary--stats-item__emphasized', 's-post-summary--content', 's-post-summary--content-title', 's-post-summary--content-excerpt', 's-post-summary--meta', 's-post-summary--meta-tags', 'd-inline-block', 'tags', 'js-tags', 'ml0', 'list-ls-none', 'js-post-tag-list-wrapper', 's-user-card', 's-user-card__minimal', 's-avatar', 's-avatar__16', 's-user-card--avatar', 'gravatar-wrapper-16', 's-avatar--image', 's-user-card--info', 's-user-card--link', 's-user-card--time', 'relativetime']\n"
     ]
    },
    {
     "name": "stderr",
     "output_type": "stream",
     "text": [
      "The chromedriver version (138.0.7204.183) detected in PATH at C:\\chromedriver-win64\\chromedriver.exe might not be compatible with the detected chrome version (139.0.7258.155); currently, chromedriver 139.0.7258.154 is recommended for chrome 139.*, so it is advised to delete the driver in PATH and retry\n"
     ]
    },
    {
     "name": "stdout",
     "output_type": "stream",
     "text": [
      "Data-related classes: ['s-post-summary', 'js-post-summary', 's-post-summary--stats', 'js-post-summary-stats', 's-post-summary--stats-item__emphasized', 's-post-summary--content', 's-post-summary--content-title', 's-post-summary--content-excerpt', 's-post-summary--meta', 's-post-summary--meta-tags', 'd-inline-block', 'tags', 'js-tags', 'ml0', 'list-ls-none', 'js-post-tag-list-wrapper', 's-user-card', 's-user-card__minimal', 's-avatar', 's-avatar__16', 's-user-card--avatar', 'gravatar-wrapper-16', 's-avatar--image', 's-user-card--info', 's-user-card--link', 's-user-card--time', 'relativetime']\n"
     ]
    },
    {
     "name": "stderr",
     "output_type": "stream",
     "text": [
      "The chromedriver version (138.0.7204.183) detected in PATH at C:\\chromedriver-win64\\chromedriver.exe might not be compatible with the detected chrome version (139.0.7258.155); currently, chromedriver 139.0.7258.154 is recommended for chrome 139.*, so it is advised to delete the driver in PATH and retry\n",
      "The chromedriver version (138.0.7204.183) detected in PATH at C:\\chromedriver-win64\\chromedriver.exe might not be compatible with the detected chrome version (139.0.7258.155); currently, chromedriver 139.0.7258.154 is recommended for chrome 139.*, so it is advised to delete the driver in PATH and retry\n"
     ]
    },
    {
     "name": "stdout",
     "output_type": "stream",
     "text": [
      "Data-related classes: ['s-post-summary', 'js-post-summary', 's-post-summary--stats', 'js-post-summary-stats', 's-post-summary--stats-item__emphasized', 's-post-summary--content', 's-post-summary--content-title', 's-post-summary--content-excerpt', 's-post-summary--meta', 's-post-summary--meta-tags', 'd-inline-block', 'tags', 'js-tags', 'ml0', 'list-ls-none', 'js-post-tag-list-wrapper', 's-user-card', 's-user-card__minimal', 's-avatar', 's-avatar__16', 's-user-card--avatar', 'gravatar-wrapper-16', 's-avatar--image', 's-user-card--info', 's-user-card--link', 's-user-card--time', 'relativetime']\n"
     ]
    },
    {
     "name": "stderr",
     "output_type": "stream",
     "text": [
      "The chromedriver version (138.0.7204.183) detected in PATH at C:\\chromedriver-win64\\chromedriver.exe might not be compatible with the detected chrome version (139.0.7258.155); currently, chromedriver 139.0.7258.154 is recommended for chrome 139.*, so it is advised to delete the driver in PATH and retry\n",
      "The chromedriver version (138.0.7204.183) detected in PATH at C:\\chromedriver-win64\\chromedriver.exe might not be compatible with the detected chrome version (139.0.7258.155); currently, chromedriver 139.0.7258.154 is recommended for chrome 139.*, so it is advised to delete the driver in PATH and retry\n"
     ]
    },
    {
     "name": "stdout",
     "output_type": "stream",
     "text": [
      "Data-related classes: ['s-post-summary', 'js-post-summary', 's-post-summary--stats', 'js-post-summary-stats', 's-post-summary--stats-item__emphasized', 's-post-summary--content', 's-post-summary--content-title', 's-post-summary--content-excerpt', 's-post-summary--meta', 's-post-summary--meta-tags', 'd-inline-block', 'tags', 'js-tags', 'ml0', 'list-ls-none', 'js-post-tag-list-wrapper', 's-user-card', 's-user-card__minimal', 's-avatar', 's-avatar__16', 's-user-card--avatar', 'gravatar-wrapper-16', 's-avatar--image', 's-user-card--info', 's-user-card--link', 's-user-card--time', 'relativetime']\n"
     ]
    },
    {
     "name": "stderr",
     "output_type": "stream",
     "text": [
      "The chromedriver version (138.0.7204.183) detected in PATH at C:\\chromedriver-win64\\chromedriver.exe might not be compatible with the detected chrome version (139.0.7258.155); currently, chromedriver 139.0.7258.154 is recommended for chrome 139.*, so it is advised to delete the driver in PATH and retry\n"
     ]
    },
    {
     "name": "stdout",
     "output_type": "stream",
     "text": [
      "Data-related classes: ['s-post-summary', 'js-post-summary', 's-post-summary--stats', 'js-post-summary-stats', 's-post-summary--stats-item__emphasized', 's-post-summary--content', 's-post-summary--content-title', 's-post-summary--content-excerpt', 's-post-summary--meta', 's-post-summary--meta-tags', 'd-inline-block', 'tags', 'js-tags', 'ml0', 'list-ls-none', 'js-post-tag-list-wrapper', 's-user-card', 's-user-card__minimal', 's-avatar', 's-avatar__16', 's-user-card--avatar', 'gravatar-wrapper-16', 's-avatar--image', 's-user-card--info', 's-user-card--link', 's-user-card--time', 'relativetime']\n"
     ]
    },
    {
     "name": "stderr",
     "output_type": "stream",
     "text": [
      "The chromedriver version (138.0.7204.183) detected in PATH at C:\\chromedriver-win64\\chromedriver.exe might not be compatible with the detected chrome version (139.0.7258.155); currently, chromedriver 139.0.7258.154 is recommended for chrome 139.*, so it is advised to delete the driver in PATH and retry\n",
      "The chromedriver version (138.0.7204.183) detected in PATH at C:\\chromedriver-win64\\chromedriver.exe might not be compatible with the detected chrome version (139.0.7258.155); currently, chromedriver 139.0.7258.154 is recommended for chrome 139.*, so it is advised to delete the driver in PATH and retry\n"
     ]
    },
    {
     "name": "stdout",
     "output_type": "stream",
     "text": [
      "Data-related classes: ['s-post-summary', 'js-post-summary', 's-post-summary--stats', 'js-post-summary-stats', 's-post-summary--stats-item__emphasized', 's-post-summary--content', 's-post-summary--content-title', 's-post-summary--content-excerpt', 's-post-summary--meta', 's-post-summary--meta-tags', 'd-inline-block', 'tags', 'js-tags', 'ml0', 'list-ls-none', 'js-post-tag-list-wrapper', 's-user-card', 's-user-card__minimal', 's-avatar', 's-avatar__16', 's-user-card--avatar', 'gravatar-wrapper-16', 's-avatar--image', 's-user-card--info', 's-user-card--link', 's-user-card--time', 'relativetime']\n"
     ]
    },
    {
     "name": "stderr",
     "output_type": "stream",
     "text": [
      "The chromedriver version (138.0.7204.183) detected in PATH at C:\\chromedriver-win64\\chromedriver.exe might not be compatible with the detected chrome version (139.0.7258.155); currently, chromedriver 139.0.7258.154 is recommended for chrome 139.*, so it is advised to delete the driver in PATH and retry\n"
     ]
    },
    {
     "name": "stdout",
     "output_type": "stream",
     "text": [
      "Data-related classes: ['s-post-summary', 'js-post-summary', 's-post-summary--stats', 'js-post-summary-stats', 's-post-summary--stats-item__emphasized', 's-post-summary--content', 's-post-summary--content-title', 's-post-summary--content-excerpt', 's-post-summary--meta', 's-post-summary--meta-tags', 'd-inline-block', 'tags', 'js-tags', 'ml0', 'list-ls-none', 'js-post-tag-list-wrapper', 's-user-card', 's-user-card__minimal', 's-avatar', 's-avatar__16', 's-user-card--avatar', 'gravatar-wrapper-16', 's-avatar--image', 's-user-card--info', 's-user-card--link', 's-user-card--time', 'relativetime']\n"
     ]
    },
    {
     "name": "stderr",
     "output_type": "stream",
     "text": [
      "The chromedriver version (138.0.7204.183) detected in PATH at C:\\chromedriver-win64\\chromedriver.exe might not be compatible with the detected chrome version (139.0.7258.155); currently, chromedriver 139.0.7258.154 is recommended for chrome 139.*, so it is advised to delete the driver in PATH and retry\n"
     ]
    },
    {
     "name": "stdout",
     "output_type": "stream",
     "text": [
      "Data-related classes: ['s-post-summary', 'js-post-summary', 's-post-summary--stats', 'js-post-summary-stats', 's-post-summary--stats-item__emphasized', 's-post-summary--content', 's-post-summary--content-title', 's-post-summary--content-excerpt', 's-post-summary--meta', 's-post-summary--meta-tags', 'd-inline-block', 'tags', 'js-tags', 'ml0', 'list-ls-none', 'js-post-tag-list-wrapper', 's-user-card', 's-user-card__minimal', 's-avatar', 's-avatar__16', 's-user-card--avatar', 'gravatar-wrapper-16', 's-avatar--image', 's-user-card--info', 's-user-card--link', 's-user-card--time', 'relativetime']\n"
     ]
    },
    {
     "name": "stderr",
     "output_type": "stream",
     "text": [
      "The chromedriver version (138.0.7204.183) detected in PATH at C:\\chromedriver-win64\\chromedriver.exe might not be compatible with the detected chrome version (139.0.7258.155); currently, chromedriver 139.0.7258.154 is recommended for chrome 139.*, so it is advised to delete the driver in PATH and retry\n",
      "The chromedriver version (138.0.7204.183) detected in PATH at C:\\chromedriver-win64\\chromedriver.exe might not be compatible with the detected chrome version (139.0.7258.155); currently, chromedriver 139.0.7258.154 is recommended for chrome 139.*, so it is advised to delete the driver in PATH and retry\n"
     ]
    },
    {
     "name": "stdout",
     "output_type": "stream",
     "text": [
      "Data-related classes: ['s-post-summary', 'js-post-summary', 's-post-summary--stats', 'js-post-summary-stats', 's-post-summary--stats-item__emphasized', 's-post-summary--content', 's-post-summary--content-title', 's-post-summary--content-excerpt', 's-post-summary--meta', 's-post-summary--meta-tags', 'd-inline-block', 'tags', 'js-tags', 'ml0', 'list-ls-none', 'js-post-tag-list-wrapper', 's-user-card', 's-user-card__minimal', 's-avatar', 's-avatar__16', 's-user-card--avatar', 'gravatar-wrapper-16', 's-avatar--image', 's-user-card--info', 's-user-card--link', 's-user-card--time', 'relativetime']\n"
     ]
    },
    {
     "name": "stderr",
     "output_type": "stream",
     "text": [
      "The chromedriver version (138.0.7204.183) detected in PATH at C:\\chromedriver-win64\\chromedriver.exe might not be compatible with the detected chrome version (139.0.7258.155); currently, chromedriver 139.0.7258.154 is recommended for chrome 139.*, so it is advised to delete the driver in PATH and retry\n",
      "The chromedriver version (138.0.7204.183) detected in PATH at C:\\chromedriver-win64\\chromedriver.exe might not be compatible with the detected chrome version (139.0.7258.155); currently, chromedriver 139.0.7258.154 is recommended for chrome 139.*, so it is advised to delete the driver in PATH and retry\n",
      "The chromedriver version (138.0.7204.183) detected in PATH at C:\\chromedriver-win64\\chromedriver.exe might not be compatible with the detected chrome version (139.0.7258.155); currently, chromedriver 139.0.7258.154 is recommended for chrome 139.*, so it is advised to delete the driver in PATH and retry\n"
     ]
    },
    {
     "name": "stdout",
     "output_type": "stream",
     "text": [
      "Data-related classes: ['s-post-summary', 'js-post-summary', 's-post-summary--stats', 'js-post-summary-stats', 's-post-summary--stats-item__emphasized', 's-post-summary--content', 's-post-summary--content-title', 's-post-summary--content-excerpt', 's-post-summary--meta', 's-post-summary--meta-tags', 'd-inline-block', 'tags', 'js-tags', 'ml0', 'list-ls-none', 'js-post-tag-list-wrapper', 's-user-card', 's-user-card__minimal', 's-avatar', 's-avatar__16', 's-user-card--avatar', 'gravatar-wrapper-16', 's-avatar--image', 's-user-card--info', 's-user-card--link', 's-user-card--time', 'relativetime']\n"
     ]
    },
    {
     "name": "stderr",
     "output_type": "stream",
     "text": [
      "The chromedriver version (138.0.7204.183) detected in PATH at C:\\chromedriver-win64\\chromedriver.exe might not be compatible with the detected chrome version (139.0.7258.155); currently, chromedriver 139.0.7258.154 is recommended for chrome 139.*, so it is advised to delete the driver in PATH and retry\n"
     ]
    },
    {
     "name": "stdout",
     "output_type": "stream",
     "text": [
      "Data-related classes: ['s-post-summary', 'js-post-summary', 's-post-summary--stats', 'js-post-summary-stats', 's-post-summary--stats-item__emphasized', 's-post-summary--content', 's-post-summary--content-title', 's-post-summary--content-excerpt', 's-post-summary--meta', 's-post-summary--meta-tags', 'd-inline-block', 'tags', 'js-tags', 'ml0', 'list-ls-none', 'js-post-tag-list-wrapper', 's-user-card', 's-user-card__minimal', 's-avatar', 's-avatar__16', 's-user-card--avatar', 'gravatar-wrapper-16', 's-avatar--image', 's-user-card--info', 's-user-card--link', 's-user-card--time', 'relativetime']\n"
     ]
    },
    {
     "name": "stderr",
     "output_type": "stream",
     "text": [
      "The chromedriver version (138.0.7204.183) detected in PATH at C:\\chromedriver-win64\\chromedriver.exe might not be compatible with the detected chrome version (139.0.7258.155); currently, chromedriver 139.0.7258.154 is recommended for chrome 139.*, so it is advised to delete the driver in PATH and retry\n"
     ]
    },
    {
     "name": "stdout",
     "output_type": "stream",
     "text": [
      "Data-related classes: ['s-post-summary', 'js-post-summary', 's-post-summary--stats', 'js-post-summary-stats', 's-post-summary--stats-item__emphasized', 's-post-summary--content', 's-post-summary--content-title', 's-post-summary--content-excerpt', 's-post-summary--meta', 's-post-summary--meta-tags', 'd-inline-block', 'tags', 'js-tags', 'ml0', 'list-ls-none', 'js-post-tag-list-wrapper', 's-user-card', 's-user-card__minimal', 's-avatar', 's-avatar__16', 's-user-card--avatar', 'gravatar-wrapper-16', 's-avatar--image', 's-user-card--info', 's-user-card--link', 's-user-card--time', 'relativetime']\n"
     ]
    },
    {
     "name": "stderr",
     "output_type": "stream",
     "text": [
      "The chromedriver version (138.0.7204.183) detected in PATH at C:\\chromedriver-win64\\chromedriver.exe might not be compatible with the detected chrome version (139.0.7258.155); currently, chromedriver 139.0.7258.154 is recommended for chrome 139.*, so it is advised to delete the driver in PATH and retry\n",
      "The chromedriver version (138.0.7204.183) detected in PATH at C:\\chromedriver-win64\\chromedriver.exe might not be compatible with the detected chrome version (139.0.7258.155); currently, chromedriver 139.0.7258.154 is recommended for chrome 139.*, so it is advised to delete the driver in PATH and retry\n"
     ]
    },
    {
     "name": "stdout",
     "output_type": "stream",
     "text": [
      "Data-related classes: ['s-post-summary', 'js-post-summary', 's-post-summary--stats', 'js-post-summary-stats', 's-post-summary--stats-item__emphasized', 's-post-summary--content', 's-post-summary--content-title', 's-post-summary--content-excerpt', 's-post-summary--meta', 's-post-summary--meta-tags', 'd-inline-block', 'tags', 'js-tags', 'ml0', 'list-ls-none', 'js-post-tag-list-wrapper', 's-user-card', 's-user-card__minimal', 's-avatar', 's-avatar__16', 's-user-card--avatar', 'gravatar-wrapper-16', 's-avatar--image', 's-user-card--info', 's-user-card--link', 's-user-card--time', 'relativetime']\n"
     ]
    },
    {
     "name": "stderr",
     "output_type": "stream",
     "text": [
      "The chromedriver version (138.0.7204.183) detected in PATH at C:\\chromedriver-win64\\chromedriver.exe might not be compatible with the detected chrome version (139.0.7258.155); currently, chromedriver 139.0.7258.154 is recommended for chrome 139.*, so it is advised to delete the driver in PATH and retry\n",
      "The chromedriver version (138.0.7204.183) detected in PATH at C:\\chromedriver-win64\\chromedriver.exe might not be compatible with the detected chrome version (139.0.7258.155); currently, chromedriver 139.0.7258.154 is recommended for chrome 139.*, so it is advised to delete the driver in PATH and retry\n"
     ]
    },
    {
     "name": "stdout",
     "output_type": "stream",
     "text": [
      "Data-related classes: ['s-post-summary', 'js-post-summary', 's-post-summary--stats', 'js-post-summary-stats', 's-post-summary--stats-item__emphasized', 's-post-summary--content', 's-post-summary--content-title', 's-post-summary--content-excerpt', 's-post-summary--meta', 's-post-summary--meta-tags', 'd-inline-block', 'tags', 'js-tags', 'ml0', 'list-ls-none', 'js-post-tag-list-wrapper', 's-user-card', 's-user-card__minimal', 's-avatar', 's-avatar__16', 's-user-card--avatar', 'gravatar-wrapper-16', 's-avatar--image', 's-user-card--info', 's-user-card--link', 's-user-card--time', 'relativetime']\n"
     ]
    },
    {
     "name": "stderr",
     "output_type": "stream",
     "text": [
      "The chromedriver version (138.0.7204.183) detected in PATH at C:\\chromedriver-win64\\chromedriver.exe might not be compatible with the detected chrome version (139.0.7258.155); currently, chromedriver 139.0.7258.154 is recommended for chrome 139.*, so it is advised to delete the driver in PATH and retry\n",
      "The chromedriver version (138.0.7204.183) detected in PATH at C:\\chromedriver-win64\\chromedriver.exe might not be compatible with the detected chrome version (139.0.7258.155); currently, chromedriver 139.0.7258.154 is recommended for chrome 139.*, so it is advised to delete the driver in PATH and retry\n"
     ]
    },
    {
     "name": "stdout",
     "output_type": "stream",
     "text": [
      "Data-related classes: ['s-post-summary', 'js-post-summary', 's-post-summary--stats', 'js-post-summary-stats', 's-post-summary--stats-item__emphasized', 's-post-summary--content', 's-post-summary--content-title', 's-post-summary--content-excerpt', 's-post-summary--meta', 's-post-summary--meta-tags', 'd-inline-block', 'tags', 'js-tags', 'ml0', 'list-ls-none', 'js-post-tag-list-wrapper', 's-user-card', 's-user-card__minimal', 's-avatar', 's-avatar__16', 's-user-card--avatar', 'gravatar-wrapper-16', 's-avatar--image', 's-user-card--info', 's-user-card--link', 's-user-card--time', 'relativetime']\n"
     ]
    },
    {
     "name": "stderr",
     "output_type": "stream",
     "text": [
      "The chromedriver version (138.0.7204.183) detected in PATH at C:\\chromedriver-win64\\chromedriver.exe might not be compatible with the detected chrome version (139.0.7258.155); currently, chromedriver 139.0.7258.154 is recommended for chrome 139.*, so it is advised to delete the driver in PATH and retry\n"
     ]
    },
    {
     "name": "stdout",
     "output_type": "stream",
     "text": [
      "Data-related classes: ['s-post-summary', 'js-post-summary', 's-post-summary--stats', 'js-post-summary-stats', 's-post-summary--stats-item__emphasized', 's-post-summary--content', 's-post-summary--content-title', 's-post-summary--content-excerpt', 's-post-summary--meta', 's-post-summary--meta-tags', 'd-inline-block', 'tags', 'js-tags', 'ml0', 'list-ls-none', 'js-post-tag-list-wrapper', 's-user-card', 's-user-card__minimal', 's-avatar', 's-avatar__16', 's-user-card--avatar', 'gravatar-wrapper-16', 's-avatar--image', 's-user-card--info', 's-user-card--link', 's-user-card--time', 'relativetime']\n"
     ]
    },
    {
     "name": "stderr",
     "output_type": "stream",
     "text": [
      "The chromedriver version (138.0.7204.183) detected in PATH at C:\\chromedriver-win64\\chromedriver.exe might not be compatible with the detected chrome version (139.0.7258.155); currently, chromedriver 139.0.7258.154 is recommended for chrome 139.*, so it is advised to delete the driver in PATH and retry\n"
     ]
    },
    {
     "name": "stdout",
     "output_type": "stream",
     "text": [
      "Data-related classes: ['s-post-summary', 'js-post-summary', 's-post-summary--stats', 'js-post-summary-stats', 's-post-summary--stats-item__emphasized', 's-post-summary--content', 's-post-summary--content-title', 's-post-summary--content-excerpt', 's-post-summary--meta', 's-post-summary--meta-tags', 'd-inline-block', 'tags', 'js-tags', 'ml0', 'list-ls-none', 'js-post-tag-list-wrapper', 's-user-card', 's-user-card__minimal', 's-avatar', 's-avatar__16', 's-user-card--avatar', 'gravatar-wrapper-16', 's-avatar--image', 's-user-card--info', 's-user-card--link', 's-user-card--time', 'relativetime']\n"
     ]
    },
    {
     "name": "stderr",
     "output_type": "stream",
     "text": [
      "The chromedriver version (138.0.7204.183) detected in PATH at C:\\chromedriver-win64\\chromedriver.exe might not be compatible with the detected chrome version (139.0.7258.155); currently, chromedriver 139.0.7258.154 is recommended for chrome 139.*, so it is advised to delete the driver in PATH and retry\n",
      "The chromedriver version (138.0.7204.183) detected in PATH at C:\\chromedriver-win64\\chromedriver.exe might not be compatible with the detected chrome version (139.0.7258.155); currently, chromedriver 139.0.7258.154 is recommended for chrome 139.*, so it is advised to delete the driver in PATH and retry\n"
     ]
    },
    {
     "name": "stdout",
     "output_type": "stream",
     "text": [
      "Data-related classes: ['s-post-summary', 'js-post-summary', 's-post-summary--stats', 'js-post-summary-stats', 's-post-summary--stats-item__emphasized', 's-post-summary--content', 's-post-summary--content-title', 's-post-summary--content-excerpt', 's-post-summary--meta', 's-post-summary--meta-tags', 'd-inline-block', 'tags', 'js-tags', 'ml0', 'list-ls-none', 'js-post-tag-list-wrapper', 's-user-card', 's-user-card__minimal', 's-avatar', 's-avatar__16', 's-user-card--avatar', 'gravatar-wrapper-16', 's-avatar--image', 's-user-card--info', 's-user-card--link', 's-user-card--time', 'relativetime']\n"
     ]
    },
    {
     "name": "stderr",
     "output_type": "stream",
     "text": [
      "The chromedriver version (138.0.7204.183) detected in PATH at C:\\chromedriver-win64\\chromedriver.exe might not be compatible with the detected chrome version (139.0.7258.155); currently, chromedriver 139.0.7258.154 is recommended for chrome 139.*, so it is advised to delete the driver in PATH and retry\n",
      "The chromedriver version (138.0.7204.183) detected in PATH at C:\\chromedriver-win64\\chromedriver.exe might not be compatible with the detected chrome version (139.0.7258.155); currently, chromedriver 139.0.7258.154 is recommended for chrome 139.*, so it is advised to delete the driver in PATH and retry\n"
     ]
    },
    {
     "name": "stdout",
     "output_type": "stream",
     "text": [
      "Data-related classes: ['s-post-summary', 'js-post-summary', 's-post-summary--stats', 'js-post-summary-stats', 's-post-summary--stats-item__emphasized', 's-post-summary--content', 's-post-summary--content-title', 's-post-summary--content-excerpt', 's-post-summary--meta', 's-post-summary--meta-tags', 'd-inline-block', 'tags', 'js-tags', 'ml0', 'list-ls-none', 'js-post-tag-list-wrapper', 's-user-card', 's-user-card__minimal', 's-avatar', 's-avatar__16', 's-user-card--avatar', 'gravatar-wrapper-16', 's-avatar--image', 's-user-card--info', 's-user-card--link', 's-user-card--time', 'relativetime']\n"
     ]
    },
    {
     "name": "stderr",
     "output_type": "stream",
     "text": [
      "The chromedriver version (138.0.7204.183) detected in PATH at C:\\chromedriver-win64\\chromedriver.exe might not be compatible with the detected chrome version (139.0.7258.155); currently, chromedriver 139.0.7258.154 is recommended for chrome 139.*, so it is advised to delete the driver in PATH and retry\n"
     ]
    },
    {
     "name": "stdout",
     "output_type": "stream",
     "text": [
      "Data-related classes: ['s-post-summary', 'js-post-summary', 's-post-summary--stats', 'js-post-summary-stats', 's-post-summary--stats-item__emphasized', 's-post-summary--content', 's-post-summary--content-title', 's-post-summary--content-excerpt', 's-post-summary--meta', 's-post-summary--meta-tags', 'd-inline-block', 'tags', 'js-tags', 'ml0', 'list-ls-none', 'js-post-tag-list-wrapper', 's-user-card', 's-user-card__minimal', 's-avatar', 's-avatar__16', 's-user-card--avatar', 'gravatar-wrapper-16', 's-avatar--image', 's-user-card--info', 's-user-card--link', 's-user-card--time', 'relativetime']\n"
     ]
    },
    {
     "name": "stderr",
     "output_type": "stream",
     "text": [
      "The chromedriver version (138.0.7204.183) detected in PATH at C:\\chromedriver-win64\\chromedriver.exe might not be compatible with the detected chrome version (139.0.7258.155); currently, chromedriver 139.0.7258.154 is recommended for chrome 139.*, so it is advised to delete the driver in PATH and retry\n"
     ]
    },
    {
     "name": "stdout",
     "output_type": "stream",
     "text": [
      "Data-related classes: ['s-post-summary', 'js-post-summary', 's-post-summary--stats', 'js-post-summary-stats', 's-post-summary--stats-item__emphasized', 's-post-summary--content', 's-post-summary--content-title', 's-post-summary--content-excerpt', 's-post-summary--meta', 's-post-summary--meta-tags', 'd-inline-block', 'tags', 'js-tags', 'ml0', 'list-ls-none', 'js-post-tag-list-wrapper', 's-user-card', 's-user-card__minimal', 's-avatar', 's-avatar__16', 's-user-card--avatar', 'gravatar-wrapper-16', 's-avatar--image', 's-user-card--info', 's-user-card--link', 's-user-card--time', 'relativetime']\n"
     ]
    },
    {
     "name": "stderr",
     "output_type": "stream",
     "text": [
      "The chromedriver version (138.0.7204.183) detected in PATH at C:\\chromedriver-win64\\chromedriver.exe might not be compatible with the detected chrome version (139.0.7258.155); currently, chromedriver 139.0.7258.154 is recommended for chrome 139.*, so it is advised to delete the driver in PATH and retry\n",
      "The chromedriver version (138.0.7204.183) detected in PATH at C:\\chromedriver-win64\\chromedriver.exe might not be compatible with the detected chrome version (139.0.7258.155); currently, chromedriver 139.0.7258.154 is recommended for chrome 139.*, so it is advised to delete the driver in PATH and retry\n"
     ]
    },
    {
     "name": "stdout",
     "output_type": "stream",
     "text": [
      "Data-related classes: ['s-post-summary', 'js-post-summary', 's-post-summary--stats', 'js-post-summary-stats', 's-post-summary--stats-item__emphasized', 's-post-summary--content', 's-post-summary--content-title', 's-post-summary--content-excerpt', 's-post-summary--meta', 's-post-summary--meta-tags', 'd-inline-block', 'tags', 'js-tags', 'ml0', 'list-ls-none', 'js-post-tag-list-wrapper', 's-user-card', 's-user-card__minimal', 's-avatar', 's-avatar__16', 's-user-card--avatar', 'gravatar-wrapper-16', 's-avatar--image', 's-user-card--info', 's-user-card--link', 's-user-card--time', 'relativetime']\n"
     ]
    },
    {
     "name": "stderr",
     "output_type": "stream",
     "text": [
      "The chromedriver version (138.0.7204.183) detected in PATH at C:\\chromedriver-win64\\chromedriver.exe might not be compatible with the detected chrome version (139.0.7258.155); currently, chromedriver 139.0.7258.154 is recommended for chrome 139.*, so it is advised to delete the driver in PATH and retry\n",
      "The chromedriver version (138.0.7204.183) detected in PATH at C:\\chromedriver-win64\\chromedriver.exe might not be compatible with the detected chrome version (139.0.7258.155); currently, chromedriver 139.0.7258.154 is recommended for chrome 139.*, so it is advised to delete the driver in PATH and retry\n"
     ]
    },
    {
     "name": "stdout",
     "output_type": "stream",
     "text": [
      "Data-related classes: ['s-post-summary', 'js-post-summary', 's-post-summary--stats', 'js-post-summary-stats', 's-post-summary--stats-item__emphasized', 's-post-summary--content', 's-post-summary--content-title', 's-post-summary--content-excerpt', 's-post-summary--meta', 's-post-summary--meta-tags', 'd-inline-block', 'tags', 'js-tags', 'ml0', 'list-ls-none', 'js-post-tag-list-wrapper', 's-user-card', 's-user-card__minimal', 's-avatar', 's-avatar__16', 's-user-card--avatar', 'gravatar-wrapper-16', 's-avatar--image', 's-user-card--info', 's-user-card--link', 's-user-card--time', 'relativetime']\n"
     ]
    },
    {
     "name": "stderr",
     "output_type": "stream",
     "text": [
      "The chromedriver version (138.0.7204.183) detected in PATH at C:\\chromedriver-win64\\chromedriver.exe might not be compatible with the detected chrome version (139.0.7258.155); currently, chromedriver 139.0.7258.154 is recommended for chrome 139.*, so it is advised to delete the driver in PATH and retry\n"
     ]
    },
    {
     "name": "stdout",
     "output_type": "stream",
     "text": [
      "Data-related classes: ['s-post-summary', 'js-post-summary', 's-post-summary--stats', 'js-post-summary-stats', 's-post-summary--stats-item__emphasized', 's-post-summary--content', 's-post-summary--content-title', 's-post-summary--content-excerpt', 's-post-summary--meta', 's-post-summary--meta-tags', 'd-inline-block', 'tags', 'js-tags', 'ml0', 'list-ls-none', 'js-post-tag-list-wrapper', 's-user-card', 's-user-card__minimal', 's-avatar', 's-avatar__16', 's-user-card--avatar', 'gravatar-wrapper-16', 's-avatar--image', 's-user-card--info', 's-user-card--link', 's-user-card--time', 'relativetime']\n"
     ]
    },
    {
     "name": "stderr",
     "output_type": "stream",
     "text": [
      "The chromedriver version (138.0.7204.183) detected in PATH at C:\\chromedriver-win64\\chromedriver.exe might not be compatible with the detected chrome version (139.0.7258.155); currently, chromedriver 139.0.7258.154 is recommended for chrome 139.*, so it is advised to delete the driver in PATH and retry\n"
     ]
    },
    {
     "name": "stdout",
     "output_type": "stream",
     "text": [
      "Data-related classes: ['s-post-summary', 'js-post-summary', 's-post-summary--stats', 'js-post-summary-stats', 's-post-summary--stats-item__emphasized', 's-post-summary--content', 's-post-summary--content-title', 's-post-summary--content-excerpt', 's-post-summary--meta', 's-post-summary--meta-tags', 'd-inline-block', 'tags', 'js-tags', 'ml0', 'list-ls-none', 'js-post-tag-list-wrapper', 's-user-card', 's-user-card__minimal', 's-avatar', 's-avatar__16', 's-user-card--avatar', 'gravatar-wrapper-16', 's-avatar--image', 's-user-card--info', 's-user-card--link', 's-user-card--time', 'relativetime']\n"
     ]
    },
    {
     "name": "stderr",
     "output_type": "stream",
     "text": [
      "The chromedriver version (138.0.7204.183) detected in PATH at C:\\chromedriver-win64\\chromedriver.exe might not be compatible with the detected chrome version (139.0.7258.155); currently, chromedriver 139.0.7258.154 is recommended for chrome 139.*, so it is advised to delete the driver in PATH and retry\n",
      "The chromedriver version (138.0.7204.183) detected in PATH at C:\\chromedriver-win64\\chromedriver.exe might not be compatible with the detected chrome version (139.0.7258.155); currently, chromedriver 139.0.7258.154 is recommended for chrome 139.*, so it is advised to delete the driver in PATH and retry\n"
     ]
    },
    {
     "name": "stdout",
     "output_type": "stream",
     "text": [
      "Data-related classes: ['s-post-summary', 'js-post-summary', 's-post-summary--stats', 'js-post-summary-stats', 's-post-summary--stats-item__emphasized', 's-post-summary--content', 's-post-summary--content-title', 's-post-summary--content-excerpt', 's-post-summary--meta', 's-post-summary--meta-tags', 'd-inline-block', 'tags', 'js-tags', 'ml0', 'list-ls-none', 'js-post-tag-list-wrapper', 's-user-card', 's-user-card__minimal', 's-avatar', 's-avatar__16', 's-user-card--avatar', 'gravatar-wrapper-16', 's-avatar--image', 's-user-card--info', 's-user-card--link', 's-user-card--time', 'relativetime']\n"
     ]
    },
    {
     "name": "stderr",
     "output_type": "stream",
     "text": [
      "The chromedriver version (138.0.7204.183) detected in PATH at C:\\chromedriver-win64\\chromedriver.exe might not be compatible with the detected chrome version (139.0.7258.155); currently, chromedriver 139.0.7258.154 is recommended for chrome 139.*, so it is advised to delete the driver in PATH and retry\n",
      "The chromedriver version (138.0.7204.183) detected in PATH at C:\\chromedriver-win64\\chromedriver.exe might not be compatible with the detected chrome version (139.0.7258.155); currently, chromedriver 139.0.7258.154 is recommended for chrome 139.*, so it is advised to delete the driver in PATH and retry\n"
     ]
    },
    {
     "name": "stdout",
     "output_type": "stream",
     "text": [
      "Data-related classes: ['s-post-summary', 'js-post-summary', 's-post-summary--stats', 'js-post-summary-stats', 's-post-summary--stats-item__emphasized', 's-post-summary--content', 's-post-summary--content-title', 's-post-summary--content-excerpt', 's-post-summary--meta', 's-post-summary--meta-tags', 'd-inline-block', 'tags', 'js-tags', 'ml0', 'list-ls-none', 'js-post-tag-list-wrapper', 's-user-card', 's-user-card__minimal', 's-avatar', 's-avatar__16', 's-user-card--avatar', 'gravatar-wrapper-16', 's-avatar--image', 's-user-card--info', 's-user-card--link', 's-user-card--time', 'relativetime']\n"
     ]
    },
    {
     "name": "stderr",
     "output_type": "stream",
     "text": [
      "The chromedriver version (138.0.7204.183) detected in PATH at C:\\chromedriver-win64\\chromedriver.exe might not be compatible with the detected chrome version (139.0.7258.155); currently, chromedriver 139.0.7258.154 is recommended for chrome 139.*, so it is advised to delete the driver in PATH and retry\n"
     ]
    },
    {
     "name": "stdout",
     "output_type": "stream",
     "text": [
      "Data-related classes: ['s-post-summary', 'js-post-summary', 's-post-summary--stats', 'js-post-summary-stats', 's-post-summary--stats-item__emphasized', 's-post-summary--content', 's-post-summary--content-title', 's-post-summary--content-excerpt', 's-post-summary--meta', 's-post-summary--meta-tags', 'd-inline-block', 'tags', 'js-tags', 'ml0', 'list-ls-none', 'js-post-tag-list-wrapper', 's-user-card', 's-user-card__minimal', 's-avatar', 's-avatar__16', 's-user-card--avatar', 'gravatar-wrapper-16', 's-avatar--image', 's-user-card--info', 's-user-card--link', 's-user-card--time', 'relativetime']\n"
     ]
    },
    {
     "name": "stderr",
     "output_type": "stream",
     "text": [
      "The chromedriver version (138.0.7204.183) detected in PATH at C:\\chromedriver-win64\\chromedriver.exe might not be compatible with the detected chrome version (139.0.7258.155); currently, chromedriver 139.0.7258.154 is recommended for chrome 139.*, so it is advised to delete the driver in PATH and retry\n",
      "The chromedriver version (138.0.7204.183) detected in PATH at C:\\chromedriver-win64\\chromedriver.exe might not be compatible with the detected chrome version (139.0.7258.155); currently, chromedriver 139.0.7258.154 is recommended for chrome 139.*, so it is advised to delete the driver in PATH and retry\n"
     ]
    },
    {
     "name": "stdout",
     "output_type": "stream",
     "text": [
      "Data-related classes: ['s-post-summary', 'js-post-summary', 's-post-summary--stats', 'js-post-summary-stats', 's-post-summary--stats-item__emphasized', 's-post-summary--content', 's-post-summary--content-title', 's-post-summary--content-excerpt', 's-post-summary--meta', 's-post-summary--meta-tags', 'd-inline-block', 'tags', 'js-tags', 'ml0', 'list-ls-none', 'js-post-tag-list-wrapper', 's-user-card', 's-user-card__minimal', 's-avatar', 's-avatar__16', 's-user-card--avatar', 'gravatar-wrapper-16', 's-avatar--image', 's-user-card--info', 's-user-card--link', 's-user-card--time', 'relativetime']\n"
     ]
    },
    {
     "name": "stderr",
     "output_type": "stream",
     "text": [
      "The chromedriver version (138.0.7204.183) detected in PATH at C:\\chromedriver-win64\\chromedriver.exe might not be compatible with the detected chrome version (139.0.7258.155); currently, chromedriver 139.0.7258.154 is recommended for chrome 139.*, so it is advised to delete the driver in PATH and retry\n"
     ]
    },
    {
     "name": "stdout",
     "output_type": "stream",
     "text": [
      "Data-related classes: ['s-post-summary', 'js-post-summary', 's-post-summary--stats', 'js-post-summary-stats', 's-post-summary--stats-item__emphasized', 's-post-summary--content', 's-post-summary--content-title', 's-post-summary--content-excerpt', 's-post-summary--meta', 's-post-summary--meta-tags', 'd-inline-block', 'tags', 'js-tags', 'ml0', 'list-ls-none', 'js-post-tag-list-wrapper', 's-user-card', 's-user-card__minimal', 's-avatar', 's-avatar__16', 's-user-card--avatar', 'gravatar-wrapper-16', 's-avatar--image', 's-user-card--info', 's-user-card--link', 's-user-card--time', 'relativetime']\n"
     ]
    },
    {
     "name": "stderr",
     "output_type": "stream",
     "text": [
      "The chromedriver version (138.0.7204.183) detected in PATH at C:\\chromedriver-win64\\chromedriver.exe might not be compatible with the detected chrome version (139.0.7258.155); currently, chromedriver 139.0.7258.154 is recommended for chrome 139.*, so it is advised to delete the driver in PATH and retry\n",
      "The chromedriver version (138.0.7204.183) detected in PATH at C:\\chromedriver-win64\\chromedriver.exe might not be compatible with the detected chrome version (139.0.7258.155); currently, chromedriver 139.0.7258.154 is recommended for chrome 139.*, so it is advised to delete the driver in PATH and retry\n"
     ]
    },
    {
     "name": "stdout",
     "output_type": "stream",
     "text": [
      "Data-related classes: ['s-post-summary', 'js-post-summary', 's-post-summary--stats', 'js-post-summary-stats', 's-post-summary--stats-item__emphasized', 's-post-summary--content', 's-post-summary--content-title', 's-post-summary--content-excerpt', 's-post-summary--meta', 's-post-summary--meta-tags', 'd-inline-block', 'tags', 'js-tags', 'ml0', 'list-ls-none', 'js-post-tag-list-wrapper', 's-user-card', 's-user-card__minimal', 's-avatar', 's-avatar__16', 's-user-card--avatar', 'gravatar-wrapper-16', 's-avatar--image', 's-user-card--info', 's-user-card--link', 's-user-card--time', 'relativetime']\n"
     ]
    },
    {
     "name": "stderr",
     "output_type": "stream",
     "text": [
      "The chromedriver version (138.0.7204.183) detected in PATH at C:\\chromedriver-win64\\chromedriver.exe might not be compatible with the detected chrome version (139.0.7258.155); currently, chromedriver 139.0.7258.154 is recommended for chrome 139.*, so it is advised to delete the driver in PATH and retry\n",
      "The chromedriver version (138.0.7204.183) detected in PATH at C:\\chromedriver-win64\\chromedriver.exe might not be compatible with the detected chrome version (139.0.7258.155); currently, chromedriver 139.0.7258.154 is recommended for chrome 139.*, so it is advised to delete the driver in PATH and retry\n"
     ]
    },
    {
     "name": "stdout",
     "output_type": "stream",
     "text": [
      "Data-related classes: ['s-post-summary', 'js-post-summary', 's-post-summary--stats', 'js-post-summary-stats', 's-post-summary--stats-item__emphasized', 's-post-summary--content', 's-post-summary--content-title', 's-post-summary--content-excerpt', 's-post-summary--meta', 's-post-summary--meta-tags', 'd-inline-block', 'tags', 'js-tags', 'ml0', 'list-ls-none', 'js-post-tag-list-wrapper', 's-user-card', 's-user-card__minimal', 's-avatar', 's-avatar__16', 's-user-card--avatar', 'gravatar-wrapper-16', 's-avatar--image', 's-user-card--info', 's-user-card--link', 's-user-card--time', 'relativetime']\n"
     ]
    },
    {
     "name": "stderr",
     "output_type": "stream",
     "text": [
      "The chromedriver version (138.0.7204.183) detected in PATH at C:\\chromedriver-win64\\chromedriver.exe might not be compatible with the detected chrome version (139.0.7258.155); currently, chromedriver 139.0.7258.154 is recommended for chrome 139.*, so it is advised to delete the driver in PATH and retry\n",
      "The chromedriver version (138.0.7204.183) detected in PATH at C:\\chromedriver-win64\\chromedriver.exe might not be compatible with the detected chrome version (139.0.7258.155); currently, chromedriver 139.0.7258.154 is recommended for chrome 139.*, so it is advised to delete the driver in PATH and retry\n"
     ]
    },
    {
     "name": "stdout",
     "output_type": "stream",
     "text": [
      "Data-related classes: ['s-post-summary', 'js-post-summary', 's-post-summary--stats', 'js-post-summary-stats', 's-post-summary--stats-item__emphasized', 's-post-summary--content', 's-post-summary--content-title', 's-post-summary--content-excerpt', 's-post-summary--meta', 's-post-summary--meta-tags', 'd-inline-block', 'tags', 'js-tags', 'ml0', 'list-ls-none', 'js-post-tag-list-wrapper', 's-user-card', 's-user-card__minimal', 's-avatar', 's-avatar__16', 's-user-card--avatar', 'gravatar-wrapper-16', 's-avatar--image', 's-user-card--info', 's-user-card--link', 's-user-card--time', 'relativetime']\n"
     ]
    },
    {
     "name": "stderr",
     "output_type": "stream",
     "text": [
      "The chromedriver version (138.0.7204.183) detected in PATH at C:\\chromedriver-win64\\chromedriver.exe might not be compatible with the detected chrome version (139.0.7258.155); currently, chromedriver 139.0.7258.154 is recommended for chrome 139.*, so it is advised to delete the driver in PATH and retry\n"
     ]
    },
    {
     "name": "stdout",
     "output_type": "stream",
     "text": [
      "Data-related classes: ['s-post-summary', 'js-post-summary', 's-post-summary--stats', 'js-post-summary-stats', 's-post-summary--stats-item__emphasized', 's-post-summary--content', 's-post-summary--content-title', 's-post-summary--content-excerpt', 's-post-summary--meta', 's-post-summary--meta-tags', 'd-inline-block', 'tags', 'js-tags', 'ml0', 'list-ls-none', 'js-post-tag-list-wrapper', 's-user-card', 's-user-card__minimal', 's-avatar', 's-avatar__16', 's-user-card--avatar', 'gravatar-wrapper-16', 's-avatar--image', 's-user-card--info', 's-user-card--link', 's-user-card--time', 'relativetime']\n"
     ]
    },
    {
     "name": "stderr",
     "output_type": "stream",
     "text": [
      "The chromedriver version (138.0.7204.183) detected in PATH at C:\\chromedriver-win64\\chromedriver.exe might not be compatible with the detected chrome version (139.0.7258.155); currently, chromedriver 139.0.7258.154 is recommended for chrome 139.*, so it is advised to delete the driver in PATH and retry\n"
     ]
    },
    {
     "name": "stdout",
     "output_type": "stream",
     "text": [
      "Data-related classes: ['s-post-summary', 'js-post-summary', 's-post-summary--stats', 'js-post-summary-stats', 's-post-summary--stats-item__emphasized', 's-post-summary--content', 's-post-summary--content-title', 's-post-summary--content-excerpt', 's-post-summary--meta', 's-post-summary--meta-tags', 'd-inline-block', 'tags', 'js-tags', 'ml0', 'list-ls-none', 'js-post-tag-list-wrapper', 's-user-card', 's-user-card__minimal', 's-avatar', 's-avatar__16', 's-user-card--avatar', 'gravatar-wrapper-16', 's-avatar--image', 's-user-card--info', 's-user-card--link', 's-user-card--time', 'relativetime']\n"
     ]
    },
    {
     "name": "stderr",
     "output_type": "stream",
     "text": [
      "The chromedriver version (138.0.7204.183) detected in PATH at C:\\chromedriver-win64\\chromedriver.exe might not be compatible with the detected chrome version (139.0.7258.155); currently, chromedriver 139.0.7258.154 is recommended for chrome 139.*, so it is advised to delete the driver in PATH and retry\n",
      "The chromedriver version (138.0.7204.183) detected in PATH at C:\\chromedriver-win64\\chromedriver.exe might not be compatible with the detected chrome version (139.0.7258.155); currently, chromedriver 139.0.7258.154 is recommended for chrome 139.*, so it is advised to delete the driver in PATH and retry\n"
     ]
    },
    {
     "name": "stdout",
     "output_type": "stream",
     "text": [
      "Data-related classes: ['s-post-summary', 'js-post-summary', 's-post-summary--stats', 'js-post-summary-stats', 's-post-summary--stats-item__emphasized', 's-post-summary--content', 's-post-summary--content-title', 's-post-summary--content-excerpt', 's-post-summary--meta', 's-post-summary--meta-tags', 'd-inline-block', 'tags', 'js-tags', 'ml0', 'list-ls-none', 'js-post-tag-list-wrapper', 's-user-card', 's-user-card__minimal', 's-avatar', 's-avatar__16', 's-user-card--avatar', 'gravatar-wrapper-16', 's-avatar--image', 's-user-card--info', 's-user-card--link', 's-user-card--time', 'relativetime']\n"
     ]
    },
    {
     "name": "stderr",
     "output_type": "stream",
     "text": [
      "The chromedriver version (138.0.7204.183) detected in PATH at C:\\chromedriver-win64\\chromedriver.exe might not be compatible with the detected chrome version (139.0.7258.155); currently, chromedriver 139.0.7258.154 is recommended for chrome 139.*, so it is advised to delete the driver in PATH and retry\n"
     ]
    },
    {
     "name": "stdout",
     "output_type": "stream",
     "text": [
      "Data-related classes: ['s-post-summary', 'js-post-summary', 's-post-summary--stats', 'js-post-summary-stats', 's-post-summary--stats-item__emphasized', 's-post-summary--content', 's-post-summary--content-title', 's-post-summary--content-excerpt', 's-post-summary--meta', 's-post-summary--meta-tags', 'd-inline-block', 'tags', 'js-tags', 'ml0', 'list-ls-none', 'js-post-tag-list-wrapper', 's-user-card', 's-user-card__minimal', 's-avatar', 's-avatar__16', 's-user-card--avatar', 'gravatar-wrapper-16', 's-avatar--image', 's-user-card--info', 's-user-card--link', 's-user-card--time', 'relativetime']\n"
     ]
    },
    {
     "name": "stderr",
     "output_type": "stream",
     "text": [
      "The chromedriver version (138.0.7204.183) detected in PATH at C:\\chromedriver-win64\\chromedriver.exe might not be compatible with the detected chrome version (139.0.7258.155); currently, chromedriver 139.0.7258.154 is recommended for chrome 139.*, so it is advised to delete the driver in PATH and retry\n",
      "The chromedriver version (138.0.7204.183) detected in PATH at C:\\chromedriver-win64\\chromedriver.exe might not be compatible with the detected chrome version (139.0.7258.155); currently, chromedriver 139.0.7258.154 is recommended for chrome 139.*, so it is advised to delete the driver in PATH and retry\n"
     ]
    },
    {
     "name": "stdout",
     "output_type": "stream",
     "text": [
      "Data-related classes: ['s-post-summary', 'js-post-summary', 's-post-summary--stats', 'js-post-summary-stats', 's-post-summary--stats-item__emphasized', 's-post-summary--content', 's-post-summary--content-title', 's-post-summary--content-excerpt', 's-post-summary--meta', 's-post-summary--meta-tags', 'd-inline-block', 'tags', 'js-tags', 'ml0', 'list-ls-none', 'js-post-tag-list-wrapper', 's-user-card', 's-user-card__minimal', 's-avatar', 's-avatar__16', 's-user-card--avatar', 'gravatar-wrapper-16', 's-avatar--image', 's-user-card--info', 's-user-card--link', 's-user-card--time', 'relativetime']\n"
     ]
    },
    {
     "name": "stderr",
     "output_type": "stream",
     "text": [
      "The chromedriver version (138.0.7204.183) detected in PATH at C:\\chromedriver-win64\\chromedriver.exe might not be compatible with the detected chrome version (139.0.7258.155); currently, chromedriver 139.0.7258.154 is recommended for chrome 139.*, so it is advised to delete the driver in PATH and retry\n"
     ]
    },
    {
     "name": "stdout",
     "output_type": "stream",
     "text": [
      "Data-related classes: ['s-post-summary', 'js-post-summary', 's-post-summary--stats', 'js-post-summary-stats', 's-post-summary--stats-item__emphasized', 's-post-summary--content', 's-post-summary--content-title', 's-post-summary--content-excerpt', 's-post-summary--meta', 's-post-summary--meta-tags', 'd-inline-block', 'tags', 'js-tags', 'ml0', 'list-ls-none', 'js-post-tag-list-wrapper', 's-user-card', 's-user-card__minimal', 's-avatar', 's-avatar__16', 's-user-card--avatar', 'gravatar-wrapper-16', 's-avatar--image', 's-user-card--info', 's-user-card--link', 's-user-card--time', 'relativetime']\n"
     ]
    },
    {
     "name": "stderr",
     "output_type": "stream",
     "text": [
      "The chromedriver version (138.0.7204.183) detected in PATH at C:\\chromedriver-win64\\chromedriver.exe might not be compatible with the detected chrome version (139.0.7258.155); currently, chromedriver 139.0.7258.154 is recommended for chrome 139.*, so it is advised to delete the driver in PATH and retry\n",
      "The chromedriver version (138.0.7204.183) detected in PATH at C:\\chromedriver-win64\\chromedriver.exe might not be compatible with the detected chrome version (139.0.7258.155); currently, chromedriver 139.0.7258.154 is recommended for chrome 139.*, so it is advised to delete the driver in PATH and retry\n"
     ]
    },
    {
     "name": "stdout",
     "output_type": "stream",
     "text": [
      "Data-related classes: ['s-post-summary', 'js-post-summary', 's-post-summary--stats', 'js-post-summary-stats', 's-post-summary--stats-item__emphasized', 's-post-summary--content', 's-post-summary--content-title', 's-post-summary--content-excerpt', 's-post-summary--meta', 's-post-summary--meta-tags', 'd-inline-block', 'tags', 'js-tags', 'ml0', 'list-ls-none', 'js-post-tag-list-wrapper', 's-user-card', 's-user-card__minimal', 's-avatar', 's-avatar__16', 's-user-card--avatar', 'gravatar-wrapper-16', 's-avatar--image', 's-user-card--info', 's-user-card--link', 's-user-card--time', 'relativetime']\n"
     ]
    },
    {
     "name": "stderr",
     "output_type": "stream",
     "text": [
      "The chromedriver version (138.0.7204.183) detected in PATH at C:\\chromedriver-win64\\chromedriver.exe might not be compatible with the detected chrome version (139.0.7258.155); currently, chromedriver 139.0.7258.154 is recommended for chrome 139.*, so it is advised to delete the driver in PATH and retry\n"
     ]
    },
    {
     "name": "stdout",
     "output_type": "stream",
     "text": [
      "Data-related classes: ['s-post-summary', 'js-post-summary', 's-post-summary--stats', 'js-post-summary-stats', 's-post-summary--stats-item__emphasized', 's-post-summary--content', 's-post-summary--content-title', 's-post-summary--content-excerpt', 's-post-summary--meta', 's-post-summary--meta-tags', 'd-inline-block', 'tags', 'js-tags', 'ml0', 'list-ls-none', 'js-post-tag-list-wrapper', 's-user-card', 's-user-card__minimal', 's-avatar', 's-avatar__16', 's-user-card--avatar', 'gravatar-wrapper-16', 's-avatar--image', 's-user-card--info', 's-user-card--link', 's-user-card--time', 'relativetime']\n"
     ]
    },
    {
     "name": "stderr",
     "output_type": "stream",
     "text": [
      "The chromedriver version (138.0.7204.183) detected in PATH at C:\\chromedriver-win64\\chromedriver.exe might not be compatible with the detected chrome version (139.0.7258.155); currently, chromedriver 139.0.7258.154 is recommended for chrome 139.*, so it is advised to delete the driver in PATH and retry\n",
      "The chromedriver version (138.0.7204.183) detected in PATH at C:\\chromedriver-win64\\chromedriver.exe might not be compatible with the detected chrome version (139.0.7258.155); currently, chromedriver 139.0.7258.154 is recommended for chrome 139.*, so it is advised to delete the driver in PATH and retry\n"
     ]
    },
    {
     "name": "stdout",
     "output_type": "stream",
     "text": [
      "Data-related classes: ['s-post-summary', 'js-post-summary', 's-post-summary--stats', 'js-post-summary-stats', 's-post-summary--stats-item__emphasized', 's-post-summary--content', 's-post-summary--content-title', 's-post-summary--content-excerpt', 's-post-summary--meta', 's-post-summary--meta-tags', 'd-inline-block', 'tags', 'js-tags', 'ml0', 'list-ls-none', 'js-post-tag-list-wrapper', 's-user-card', 's-user-card__minimal', 's-avatar', 's-avatar__16', 's-user-card--avatar', 'gravatar-wrapper-16', 's-avatar--image', 's-user-card--info', 's-user-card--link', 's-user-card--time', 'relativetime']\n"
     ]
    },
    {
     "name": "stderr",
     "output_type": "stream",
     "text": [
      "The chromedriver version (138.0.7204.183) detected in PATH at C:\\chromedriver-win64\\chromedriver.exe might not be compatible with the detected chrome version (139.0.7258.155); currently, chromedriver 139.0.7258.154 is recommended for chrome 139.*, so it is advised to delete the driver in PATH and retry\n"
     ]
    },
    {
     "name": "stdout",
     "output_type": "stream",
     "text": [
      "Data-related classes: ['s-post-summary', 'js-post-summary', 's-post-summary--stats', 'js-post-summary-stats', 's-post-summary--stats-item__emphasized', 's-post-summary--content', 's-post-summary--content-title', 's-post-summary--content-excerpt', 's-post-summary--meta', 's-post-summary--meta-tags', 'd-inline-block', 'tags', 'js-tags', 'ml0', 'list-ls-none', 'js-post-tag-list-wrapper', 's-user-card', 's-user-card__minimal', 's-avatar', 's-avatar__16', 's-user-card--avatar', 'gravatar-wrapper-16', 's-avatar--image', 's-user-card--info', 's-user-card--link', 's-user-card--time', 'relativetime']\n"
     ]
    },
    {
     "name": "stderr",
     "output_type": "stream",
     "text": [
      "The chromedriver version (138.0.7204.183) detected in PATH at C:\\chromedriver-win64\\chromedriver.exe might not be compatible with the detected chrome version (139.0.7258.155); currently, chromedriver 139.0.7258.154 is recommended for chrome 139.*, so it is advised to delete the driver in PATH and retry\n",
      "The chromedriver version (138.0.7204.183) detected in PATH at C:\\chromedriver-win64\\chromedriver.exe might not be compatible with the detected chrome version (139.0.7258.155); currently, chromedriver 139.0.7258.154 is recommended for chrome 139.*, so it is advised to delete the driver in PATH and retry\n"
     ]
    },
    {
     "name": "stdout",
     "output_type": "stream",
     "text": [
      "Data-related classes: ['s-post-summary', 'js-post-summary', 's-post-summary--stats', 'js-post-summary-stats', 's-post-summary--stats-item__emphasized', 's-post-summary--content', 's-post-summary--content-title', 's-post-summary--content-excerpt', 's-post-summary--meta', 's-post-summary--meta-tags', 'd-inline-block', 'tags', 'js-tags', 'ml0', 'list-ls-none', 'js-post-tag-list-wrapper', 's-user-card', 's-user-card__minimal', 's-avatar', 's-avatar__16', 's-user-card--avatar', 'gravatar-wrapper-16', 's-avatar--image', 's-user-card--info', 's-user-card--link', 's-user-card--time', 'relativetime']\n"
     ]
    },
    {
     "name": "stderr",
     "output_type": "stream",
     "text": [
      "The chromedriver version (138.0.7204.183) detected in PATH at C:\\chromedriver-win64\\chromedriver.exe might not be compatible with the detected chrome version (139.0.7258.155); currently, chromedriver 139.0.7258.154 is recommended for chrome 139.*, so it is advised to delete the driver in PATH and retry\n",
      "The chromedriver version (138.0.7204.183) detected in PATH at C:\\chromedriver-win64\\chromedriver.exe might not be compatible with the detected chrome version (139.0.7258.155); currently, chromedriver 139.0.7258.154 is recommended for chrome 139.*, so it is advised to delete the driver in PATH and retry\n",
      "The chromedriver version (138.0.7204.183) detected in PATH at C:\\chromedriver-win64\\chromedriver.exe might not be compatible with the detected chrome version (139.0.7258.155); currently, chromedriver 139.0.7258.154 is recommended for chrome 139.*, so it is advised to delete the driver in PATH and retry\n"
     ]
    },
    {
     "name": "stdout",
     "output_type": "stream",
     "text": [
      "Data-related classes: ['s-post-summary', 'js-post-summary', 's-post-summary--stats', 'js-post-summary-stats', 's-post-summary--stats-item__emphasized', 's-post-summary--content', 's-post-summary--content-title', 's-post-summary--content-excerpt', 's-post-summary--meta', 's-post-summary--meta-tags', 'd-inline-block', 'tags', 'js-tags', 'ml0', 'list-ls-none', 'js-post-tag-list-wrapper', 's-user-card', 's-user-card__minimal', 's-avatar', 's-avatar__16', 's-user-card--avatar', 'gravatar-wrapper-16', 's-avatar--image', 's-user-card--info', 's-user-card--link', 's-user-card--time', 'relativetime']\n"
     ]
    },
    {
     "name": "stderr",
     "output_type": "stream",
     "text": [
      "The chromedriver version (138.0.7204.183) detected in PATH at C:\\chromedriver-win64\\chromedriver.exe might not be compatible with the detected chrome version (139.0.7258.155); currently, chromedriver 139.0.7258.154 is recommended for chrome 139.*, so it is advised to delete the driver in PATH and retry\n"
     ]
    },
    {
     "name": "stdout",
     "output_type": "stream",
     "text": [
      "Data-related classes: ['s-post-summary', 'js-post-summary', 's-post-summary--stats', 'js-post-summary-stats', 's-post-summary--stats-item__emphasized', 's-post-summary--content', 's-post-summary--content-title', 's-post-summary--content-excerpt', 's-post-summary--meta', 's-post-summary--meta-tags', 'd-inline-block', 'tags', 'js-tags', 'ml0', 'list-ls-none', 'js-post-tag-list-wrapper', 's-user-card', 's-user-card__minimal', 's-avatar', 's-avatar__16', 's-user-card--avatar', 'gravatar-wrapper-16', 's-avatar--image', 's-user-card--info', 's-user-card--link', 's-user-card--time', 'relativetime']\n"
     ]
    },
    {
     "name": "stderr",
     "output_type": "stream",
     "text": [
      "The chromedriver version (138.0.7204.183) detected in PATH at C:\\chromedriver-win64\\chromedriver.exe might not be compatible with the detected chrome version (139.0.7258.155); currently, chromedriver 139.0.7258.154 is recommended for chrome 139.*, so it is advised to delete the driver in PATH and retry\n"
     ]
    },
    {
     "name": "stdout",
     "output_type": "stream",
     "text": [
      "Data-related classes: ['s-post-summary', 'js-post-summary', 's-post-summary--stats', 'js-post-summary-stats', 's-post-summary--stats-item__emphasized', 's-post-summary--content', 's-post-summary--content-title', 's-post-summary--content-excerpt', 's-post-summary--meta', 's-post-summary--meta-tags', 'd-inline-block', 'tags', 'js-tags', 'ml0', 'list-ls-none', 'js-post-tag-list-wrapper', 's-user-card', 's-user-card__minimal', 's-avatar', 's-avatar__16', 's-user-card--avatar', 'gravatar-wrapper-16', 's-avatar--image', 's-user-card--info', 's-user-card--link', 's-user-card--time', 'relativetime']\n"
     ]
    },
    {
     "name": "stderr",
     "output_type": "stream",
     "text": [
      "The chromedriver version (138.0.7204.183) detected in PATH at C:\\chromedriver-win64\\chromedriver.exe might not be compatible with the detected chrome version (139.0.7258.155); currently, chromedriver 139.0.7258.154 is recommended for chrome 139.*, so it is advised to delete the driver in PATH and retry\n",
      "The chromedriver version (138.0.7204.183) detected in PATH at C:\\chromedriver-win64\\chromedriver.exe might not be compatible with the detected chrome version (139.0.7258.155); currently, chromedriver 139.0.7258.154 is recommended for chrome 139.*, so it is advised to delete the driver in PATH and retry\n"
     ]
    },
    {
     "name": "stdout",
     "output_type": "stream",
     "text": [
      "Data-related classes: ['s-post-summary', 'js-post-summary', 's-post-summary--stats', 'js-post-summary-stats', 's-post-summary--stats-item__emphasized', 's-post-summary--content', 's-post-summary--content-title', 's-post-summary--content-excerpt', 's-post-summary--meta', 's-post-summary--meta-tags', 'd-inline-block', 'tags', 'js-tags', 'ml0', 'list-ls-none', 'js-post-tag-list-wrapper', 's-user-card', 's-user-card__minimal', 's-avatar', 's-avatar__16', 's-user-card--avatar', 'gravatar-wrapper-16', 's-avatar--image', 's-user-card--info', 's-user-card--link', 's-user-card--awards', 's-user-card--rep', 'todo-no-class-here', 's-user-card--time', 'relativetime']\n"
     ]
    },
    {
     "name": "stderr",
     "output_type": "stream",
     "text": [
      "The chromedriver version (138.0.7204.183) detected in PATH at C:\\chromedriver-win64\\chromedriver.exe might not be compatible with the detected chrome version (139.0.7258.155); currently, chromedriver 139.0.7258.154 is recommended for chrome 139.*, so it is advised to delete the driver in PATH and retry\n"
     ]
    },
    {
     "name": "stdout",
     "output_type": "stream",
     "text": [
      "Data-related classes: ['s-post-summary', 'js-post-summary', 's-post-summary--stats', 'js-post-summary-stats', 's-post-summary--stats-item__emphasized', 's-post-summary--content', 's-post-summary--content-title', 's-post-summary--content-excerpt', 's-post-summary--meta', 's-post-summary--meta-tags', 'd-inline-block', 'tags', 'js-tags', 'ml0', 'list-ls-none', 'js-post-tag-list-wrapper', 's-user-card', 's-user-card__minimal', 's-avatar', 's-avatar__16', 's-user-card--avatar', 'gravatar-wrapper-16', 's-avatar--image', 's-user-card--info', 's-user-card--link', 's-user-card--time', 'relativetime']\n"
     ]
    },
    {
     "name": "stderr",
     "output_type": "stream",
     "text": [
      "The chromedriver version (138.0.7204.183) detected in PATH at C:\\chromedriver-win64\\chromedriver.exe might not be compatible with the detected chrome version (139.0.7258.155); currently, chromedriver 139.0.7258.154 is recommended for chrome 139.*, so it is advised to delete the driver in PATH and retry\n"
     ]
    },
    {
     "name": "stdout",
     "output_type": "stream",
     "text": [
      "Data-related classes: ['s-post-summary', 'js-post-summary', 's-post-summary--stats', 'js-post-summary-stats', 's-post-summary--stats-item__emphasized', 's-post-summary--content', 's-post-summary--content-title', 's-post-summary--content-excerpt', 's-post-summary--meta', 's-post-summary--meta-tags', 'd-inline-block', 'tags', 'js-tags', 'ml0', 'list-ls-none', 'js-post-tag-list-wrapper', 's-user-card', 's-user-card__minimal', 's-avatar', 's-avatar__16', 's-user-card--avatar', 'gravatar-wrapper-16', 's-avatar--image', 's-user-card--info', 's-user-card--link', 's-user-card--time', 'relativetime']\n"
     ]
    },
    {
     "name": "stderr",
     "output_type": "stream",
     "text": [
      "The chromedriver version (138.0.7204.183) detected in PATH at C:\\chromedriver-win64\\chromedriver.exe might not be compatible with the detected chrome version (139.0.7258.155); currently, chromedriver 139.0.7258.154 is recommended for chrome 139.*, so it is advised to delete the driver in PATH and retry\n",
      "The chromedriver version (138.0.7204.183) detected in PATH at C:\\chromedriver-win64\\chromedriver.exe might not be compatible with the detected chrome version (139.0.7258.155); currently, chromedriver 139.0.7258.154 is recommended for chrome 139.*, so it is advised to delete the driver in PATH and retry\n"
     ]
    },
    {
     "name": "stdout",
     "output_type": "stream",
     "text": [
      "Data-related classes: ['s-post-summary', 'js-post-summary', 's-post-summary--stats', 'js-post-summary-stats', 's-post-summary--stats-item__emphasized', 's-post-summary--content', 's-post-summary--content-title', 's-post-summary--content-excerpt', 's-post-summary--meta', 's-post-summary--meta-tags', 'd-inline-block', 'tags', 'js-tags', 'ml0', 'list-ls-none', 'js-post-tag-list-wrapper', 's-user-card', 's-user-card__minimal', 's-avatar', 's-avatar__16', 's-user-card--avatar', 'gravatar-wrapper-16', 's-avatar--image', 's-user-card--info', 's-user-card--link', 's-user-card--time', 'relativetime']\n"
     ]
    },
    {
     "name": "stderr",
     "output_type": "stream",
     "text": [
      "The chromedriver version (138.0.7204.183) detected in PATH at C:\\chromedriver-win64\\chromedriver.exe might not be compatible with the detected chrome version (139.0.7258.155); currently, chromedriver 139.0.7258.154 is recommended for chrome 139.*, so it is advised to delete the driver in PATH and retry\n",
      "The chromedriver version (138.0.7204.183) detected in PATH at C:\\chromedriver-win64\\chromedriver.exe might not be compatible with the detected chrome version (139.0.7258.155); currently, chromedriver 139.0.7258.154 is recommended for chrome 139.*, so it is advised to delete the driver in PATH and retry\n"
     ]
    },
    {
     "name": "stdout",
     "output_type": "stream",
     "text": [
      "Data-related classes: ['s-post-summary', 'js-post-summary', 's-post-summary--stats', 'js-post-summary-stats', 's-post-summary--stats-item__emphasized', 's-post-summary--content', 's-post-summary--content-title', 's-post-summary--content-excerpt', 's-post-summary--meta', 's-post-summary--meta-tags', 'd-inline-block', 'tags', 'js-tags', 'ml0', 'list-ls-none', 'js-post-tag-list-wrapper', 's-user-card', 's-user-card__minimal', 's-avatar', 's-avatar__16', 's-user-card--avatar', 'gravatar-wrapper-16', 's-avatar--image', 's-user-card--info', 's-user-card--link', 's-user-card--time', 'relativetime']\n"
     ]
    },
    {
     "name": "stderr",
     "output_type": "stream",
     "text": [
      "The chromedriver version (138.0.7204.183) detected in PATH at C:\\chromedriver-win64\\chromedriver.exe might not be compatible with the detected chrome version (139.0.7258.155); currently, chromedriver 139.0.7258.154 is recommended for chrome 139.*, so it is advised to delete the driver in PATH and retry\n"
     ]
    },
    {
     "name": "stdout",
     "output_type": "stream",
     "text": [
      "Data-related classes: ['s-post-summary', 'js-post-summary', 's-post-summary--stats', 'js-post-summary-stats', 's-post-summary--stats-item__emphasized', 'has-answers', 's-post-summary--content', 's-post-summary--content-title', 's-post-summary--content-excerpt', 's-post-summary--meta', 's-post-summary--meta-tags', 'd-inline-block', 'tags', 'js-tags', 'ml0', 'list-ls-none', 'js-post-tag-list-wrapper', 's-user-card', 's-user-card__minimal', 's-avatar', 's-avatar__16', 's-user-card--avatar', 'gravatar-wrapper-16', 's-avatar--image', 's-user-card--info', 's-user-card--link', 's-user-card--time', 'relativetime']\n"
     ]
    },
    {
     "name": "stderr",
     "output_type": "stream",
     "text": [
      "The chromedriver version (138.0.7204.183) detected in PATH at C:\\chromedriver-win64\\chromedriver.exe might not be compatible with the detected chrome version (139.0.7258.155); currently, chromedriver 139.0.7258.154 is recommended for chrome 139.*, so it is advised to delete the driver in PATH and retry\n",
      "The chromedriver version (138.0.7204.183) detected in PATH at C:\\chromedriver-win64\\chromedriver.exe might not be compatible with the detected chrome version (139.0.7258.155); currently, chromedriver 139.0.7258.154 is recommended for chrome 139.*, so it is advised to delete the driver in PATH and retry\n"
     ]
    },
    {
     "name": "stdout",
     "output_type": "stream",
     "text": [
      "Data-related classes: ['s-post-summary', 'js-post-summary', 's-post-summary--stats', 'js-post-summary-stats', 's-post-summary--stats-item__emphasized', 's-post-summary--content', 's-post-summary--content-title', 's-post-summary--content-excerpt', 's-post-summary--meta', 's-post-summary--meta-tags', 'd-inline-block', 'tags', 'js-tags', 'ml0', 'list-ls-none', 'js-post-tag-list-wrapper', 's-user-card', 's-user-card__minimal', 's-avatar', 's-avatar__16', 's-user-card--avatar', 'gravatar-wrapper-16', 's-avatar--image', 's-user-card--info', 's-user-card--link', 's-user-card--time', 'relativetime']\n"
     ]
    },
    {
     "name": "stderr",
     "output_type": "stream",
     "text": [
      "The chromedriver version (138.0.7204.183) detected in PATH at C:\\chromedriver-win64\\chromedriver.exe might not be compatible with the detected chrome version (139.0.7258.155); currently, chromedriver 139.0.7258.154 is recommended for chrome 139.*, so it is advised to delete the driver in PATH and retry\n"
     ]
    },
    {
     "name": "stdout",
     "output_type": "stream",
     "text": [
      "Data-related classes: ['s-post-summary', 'js-post-summary', 's-post-summary--stats', 'js-post-summary-stats', 's-post-summary--stats-item__emphasized', 's-post-summary--content', 's-post-summary--content-title', 's-post-summary--content-excerpt', 's-post-summary--meta', 's-post-summary--meta-tags', 'd-inline-block', 'tags', 'js-tags', 'ml0', 'list-ls-none', 'js-post-tag-list-wrapper', 's-user-card', 's-user-card__minimal', 's-avatar', 's-avatar__16', 's-user-card--avatar', 'gravatar-wrapper-16', 's-avatar--image', 's-user-card--info', 's-user-card--link', 's-user-card--time', 'relativetime']\n"
     ]
    },
    {
     "name": "stderr",
     "output_type": "stream",
     "text": [
      "The chromedriver version (138.0.7204.183) detected in PATH at C:\\chromedriver-win64\\chromedriver.exe might not be compatible with the detected chrome version (139.0.7258.155); currently, chromedriver 139.0.7258.154 is recommended for chrome 139.*, so it is advised to delete the driver in PATH and retry\n"
     ]
    },
    {
     "name": "stdout",
     "output_type": "stream",
     "text": [
      "Data-related classes: ['s-post-summary', 'js-post-summary', 's-post-summary--stats', 'js-post-summary-stats', 's-post-summary--stats-item__emphasized', 's-post-summary--content', 's-post-summary--content-title', 's-post-summary--content-excerpt', 's-post-summary--meta', 's-post-summary--meta-tags', 'd-inline-block', 'tags', 'js-tags', 'ml0', 'list-ls-none', 'js-post-tag-list-wrapper', 's-user-card', 's-user-card__minimal', 's-avatar', 's-avatar__16', 's-user-card--avatar', 'gravatar-wrapper-16', 's-avatar--image', 's-user-card--info', 's-user-card--link', 's-user-card--time', 'relativetime']\n"
     ]
    },
    {
     "name": "stderr",
     "output_type": "stream",
     "text": [
      "The chromedriver version (138.0.7204.183) detected in PATH at C:\\chromedriver-win64\\chromedriver.exe might not be compatible with the detected chrome version (139.0.7258.155); currently, chromedriver 139.0.7258.154 is recommended for chrome 139.*, so it is advised to delete the driver in PATH and retry\n",
      "The chromedriver version (138.0.7204.183) detected in PATH at C:\\chromedriver-win64\\chromedriver.exe might not be compatible with the detected chrome version (139.0.7258.155); currently, chromedriver 139.0.7258.154 is recommended for chrome 139.*, so it is advised to delete the driver in PATH and retry\n"
     ]
    },
    {
     "name": "stdout",
     "output_type": "stream",
     "text": [
      "Data-related classes: ['s-post-summary', 'js-post-summary', 's-post-summary--stats', 'js-post-summary-stats', 's-post-summary--stats-item__emphasized', 's-post-summary--content', 's-post-summary--content-title', 's-post-summary--content-excerpt', 's-post-summary--meta', 's-post-summary--meta-tags', 'd-inline-block', 'tags', 'js-tags', 'ml0', 'list-ls-none', 'js-post-tag-list-wrapper', 's-user-card', 's-user-card__minimal', 's-avatar', 's-avatar__16', 's-user-card--avatar', 'gravatar-wrapper-16', 's-avatar--image', 's-user-card--info', 's-user-card--link', 's-user-card--time', 'relativetime']\n"
     ]
    },
    {
     "name": "stderr",
     "output_type": "stream",
     "text": [
      "The chromedriver version (138.0.7204.183) detected in PATH at C:\\chromedriver-win64\\chromedriver.exe might not be compatible with the detected chrome version (139.0.7258.155); currently, chromedriver 139.0.7258.154 is recommended for chrome 139.*, so it is advised to delete the driver in PATH and retry\n"
     ]
    },
    {
     "name": "stdout",
     "output_type": "stream",
     "text": [
      "Data-related classes: ['s-post-summary', 'js-post-summary', 's-post-summary--stats', 'js-post-summary-stats', 's-post-summary--stats-item__emphasized', 's-post-summary--content', 's-post-summary--content-title', 's-post-summary--content-excerpt', 's-post-summary--meta', 's-post-summary--meta-tags', 'd-inline-block', 'tags', 'js-tags', 'ml0', 'list-ls-none', 'js-post-tag-list-wrapper', 's-user-card', 's-user-card__minimal', 's-avatar', 's-avatar__16', 's-user-card--avatar', 'gravatar-wrapper-16', 's-avatar--image', 's-user-card--info', 's-user-card--link', 's-user-card--time', 'relativetime']\n"
     ]
    },
    {
     "name": "stderr",
     "output_type": "stream",
     "text": [
      "The chromedriver version (138.0.7204.183) detected in PATH at C:\\chromedriver-win64\\chromedriver.exe might not be compatible with the detected chrome version (139.0.7258.155); currently, chromedriver 139.0.7258.154 is recommended for chrome 139.*, so it is advised to delete the driver in PATH and retry\n",
      "The chromedriver version (138.0.7204.183) detected in PATH at C:\\chromedriver-win64\\chromedriver.exe might not be compatible with the detected chrome version (139.0.7258.155); currently, chromedriver 139.0.7258.154 is recommended for chrome 139.*, so it is advised to delete the driver in PATH and retry\n"
     ]
    },
    {
     "name": "stdout",
     "output_type": "stream",
     "text": [
      "Data-related classes: ['s-post-summary', 'js-post-summary', 's-post-summary--stats', 'js-post-summary-stats', 's-post-summary--stats-item__emphasized', 's-post-summary--content', 's-post-summary--content-title', 's-post-summary--content-excerpt', 's-post-summary--meta', 's-post-summary--meta-tags', 'd-inline-block', 'tags', 'js-tags', 'ml0', 'list-ls-none', 'js-post-tag-list-wrapper', 's-user-card', 's-user-card__minimal', 's-avatar', 's-avatar__16', 's-user-card--avatar', 'gravatar-wrapper-16', 's-avatar--image', 's-user-card--info', 's-user-card--link', 's-user-card--time', 'relativetime']\n"
     ]
    },
    {
     "name": "stderr",
     "output_type": "stream",
     "text": [
      "The chromedriver version (138.0.7204.183) detected in PATH at C:\\chromedriver-win64\\chromedriver.exe might not be compatible with the detected chrome version (139.0.7258.155); currently, chromedriver 139.0.7258.154 is recommended for chrome 139.*, so it is advised to delete the driver in PATH and retry\n"
     ]
    },
    {
     "name": "stdout",
     "output_type": "stream",
     "text": [
      "Data-related classes: ['s-post-summary', 'js-post-summary', 's-post-summary--stats', 'js-post-summary-stats', 's-post-summary--stats-item__emphasized', 's-post-summary--content', 's-post-summary--content-title', 's-post-summary--content-excerpt', 's-post-summary--meta', 's-post-summary--meta-tags', 'd-inline-block', 'tags', 'js-tags', 'ml0', 'list-ls-none', 'js-post-tag-list-wrapper', 's-user-card', 's-user-card__minimal', 's-avatar', 's-avatar__16', 's-user-card--avatar', 'gravatar-wrapper-16', 's-avatar--image', 's-user-card--info', 's-user-card--link', 's-user-card--time', 'relativetime']\n"
     ]
    },
    {
     "name": "stderr",
     "output_type": "stream",
     "text": [
      "The chromedriver version (138.0.7204.183) detected in PATH at C:\\chromedriver-win64\\chromedriver.exe might not be compatible with the detected chrome version (139.0.7258.155); currently, chromedriver 139.0.7258.154 is recommended for chrome 139.*, so it is advised to delete the driver in PATH and retry\n",
      "The chromedriver version (138.0.7204.183) detected in PATH at C:\\chromedriver-win64\\chromedriver.exe might not be compatible with the detected chrome version (139.0.7258.155); currently, chromedriver 139.0.7258.154 is recommended for chrome 139.*, so it is advised to delete the driver in PATH and retry\n"
     ]
    },
    {
     "name": "stdout",
     "output_type": "stream",
     "text": [
      "Data-related classes: ['s-post-summary', 'js-post-summary', 's-post-summary--stats', 'js-post-summary-stats', 's-post-summary--stats-item__emphasized', 's-post-summary--content', 's-post-summary--content-title', 's-post-summary--content-excerpt', 's-post-summary--meta', 's-post-summary--meta-tags', 'd-inline-block', 'tags', 'js-tags', 'ml0', 'list-ls-none', 'js-post-tag-list-wrapper', 's-user-card', 's-user-card__minimal', 's-avatar', 's-avatar__16', 's-user-card--avatar', 'gravatar-wrapper-16', 's-avatar--image', 's-user-card--info', 's-user-card--link', 's-user-card--time', 'relativetime']\n"
     ]
    },
    {
     "name": "stderr",
     "output_type": "stream",
     "text": [
      "The chromedriver version (138.0.7204.183) detected in PATH at C:\\chromedriver-win64\\chromedriver.exe might not be compatible with the detected chrome version (139.0.7258.155); currently, chromedriver 139.0.7258.154 is recommended for chrome 139.*, so it is advised to delete the driver in PATH and retry\n"
     ]
    },
    {
     "name": "stdout",
     "output_type": "stream",
     "text": [
      "Data-related classes: ['s-post-summary', 'js-post-summary', 's-post-summary--stats', 'js-post-summary-stats', 's-post-summary--stats-item__emphasized', 's-post-summary--content', 's-post-summary--content-title', 's-post-summary--content-excerpt', 's-post-summary--meta', 's-post-summary--meta-tags', 'd-inline-block', 'tags', 'js-tags', 'ml0', 'list-ls-none', 'js-post-tag-list-wrapper', 's-user-card', 's-user-card__minimal', 's-avatar', 's-avatar__16', 's-user-card--avatar', 'gravatar-wrapper-16', 's-avatar--image', 's-user-card--info', 's-user-card--link', 's-user-card--time', 'relativetime']\n"
     ]
    },
    {
     "name": "stderr",
     "output_type": "stream",
     "text": [
      "The chromedriver version (138.0.7204.183) detected in PATH at C:\\chromedriver-win64\\chromedriver.exe might not be compatible with the detected chrome version (139.0.7258.155); currently, chromedriver 139.0.7258.154 is recommended for chrome 139.*, so it is advised to delete the driver in PATH and retry\n",
      "The chromedriver version (138.0.7204.183) detected in PATH at C:\\chromedriver-win64\\chromedriver.exe might not be compatible with the detected chrome version (139.0.7258.155); currently, chromedriver 139.0.7258.154 is recommended for chrome 139.*, so it is advised to delete the driver in PATH and retry\n"
     ]
    },
    {
     "name": "stdout",
     "output_type": "stream",
     "text": [
      "Data-related classes: ['s-post-summary', 'js-post-summary', 's-post-summary--stats', 'js-post-summary-stats', 's-post-summary--stats-item__emphasized', 's-post-summary--content', 's-post-summary--content-title', 's-post-summary--content-excerpt', 's-post-summary--meta', 's-post-summary--meta-tags', 'd-inline-block', 'tags', 'js-tags', 'ml0', 'list-ls-none', 'js-post-tag-list-wrapper', 's-user-card', 's-user-card__minimal', 's-avatar', 's-avatar__16', 's-user-card--avatar', 'gravatar-wrapper-16', 's-avatar--image', 's-user-card--info', 's-user-card--link', 's-user-card--time', 'relativetime']\n"
     ]
    },
    {
     "name": "stderr",
     "output_type": "stream",
     "text": [
      "The chromedriver version (138.0.7204.183) detected in PATH at C:\\chromedriver-win64\\chromedriver.exe might not be compatible with the detected chrome version (139.0.7258.155); currently, chromedriver 139.0.7258.154 is recommended for chrome 139.*, so it is advised to delete the driver in PATH and retry\n"
     ]
    },
    {
     "name": "stdout",
     "output_type": "stream",
     "text": [
      "Data-related classes: ['s-post-summary', 'js-post-summary', 's-post-summary--stats', 'js-post-summary-stats', 's-post-summary--stats-item__emphasized', 's-post-summary--content', 's-post-summary--content-title', 's-post-summary--content-excerpt', 's-post-summary--meta', 's-post-summary--meta-tags', 'd-inline-block', 'tags', 'js-tags', 'ml0', 'list-ls-none', 'js-post-tag-list-wrapper', 's-user-card', 's-user-card__minimal', 's-avatar', 's-avatar__16', 's-user-card--avatar', 'gravatar-wrapper-16', 's-avatar--image', 's-user-card--info', 's-user-card--link', 's-user-card--time', 'relativetime']\n"
     ]
    },
    {
     "name": "stderr",
     "output_type": "stream",
     "text": [
      "The chromedriver version (138.0.7204.183) detected in PATH at C:\\chromedriver-win64\\chromedriver.exe might not be compatible with the detected chrome version (139.0.7258.155); currently, chromedriver 139.0.7258.154 is recommended for chrome 139.*, so it is advised to delete the driver in PATH and retry\n",
      "The chromedriver version (138.0.7204.183) detected in PATH at C:\\chromedriver-win64\\chromedriver.exe might not be compatible with the detected chrome version (139.0.7258.155); currently, chromedriver 139.0.7258.154 is recommended for chrome 139.*, so it is advised to delete the driver in PATH and retry\n"
     ]
    },
    {
     "name": "stdout",
     "output_type": "stream",
     "text": [
      "Data-related classes: ['s-post-summary', 'js-post-summary', 's-post-summary--stats', 'js-post-summary-stats', 's-post-summary--stats-item__emphasized', 's-post-summary--content', 's-post-summary--content-title', 's-post-summary--content-excerpt', 's-post-summary--meta', 's-post-summary--meta-tags', 'd-inline-block', 'tags', 'js-tags', 'ml0', 'list-ls-none', 'js-post-tag-list-wrapper', 's-user-card', 's-user-card__minimal', 's-avatar', 's-avatar__16', 's-user-card--avatar', 'gravatar-wrapper-16', 's-avatar--image', 's-user-card--info', 's-user-card--link', 's-user-card--time', 'relativetime']\n"
     ]
    },
    {
     "name": "stderr",
     "output_type": "stream",
     "text": [
      "The chromedriver version (138.0.7204.183) detected in PATH at C:\\chromedriver-win64\\chromedriver.exe might not be compatible with the detected chrome version (139.0.7258.155); currently, chromedriver 139.0.7258.154 is recommended for chrome 139.*, so it is advised to delete the driver in PATH and retry\n",
      "The chromedriver version (138.0.7204.183) detected in PATH at C:\\chromedriver-win64\\chromedriver.exe might not be compatible with the detected chrome version (139.0.7258.155); currently, chromedriver 139.0.7258.154 is recommended for chrome 139.*, so it is advised to delete the driver in PATH and retry\n"
     ]
    },
    {
     "name": "stdout",
     "output_type": "stream",
     "text": [
      "Data-related classes: ['s-post-summary', 'js-post-summary', 's-post-summary--stats', 'js-post-summary-stats', 's-post-summary--stats-item__emphasized', 's-post-summary--content', 's-post-summary--content-title', 's-post-summary--content-excerpt', 's-post-summary--meta', 's-post-summary--meta-tags', 'd-inline-block', 'tags', 'js-tags', 'ml0', 'list-ls-none', 'js-post-tag-list-wrapper', 's-user-card', 's-user-card__minimal', 's-avatar', 's-avatar__16', 's-user-card--avatar', 'gravatar-wrapper-16', 's-avatar--image', 's-user-card--info', 's-user-card--link', 's-user-card--time', 'relativetime']\n"
     ]
    },
    {
     "name": "stderr",
     "output_type": "stream",
     "text": [
      "The chromedriver version (138.0.7204.183) detected in PATH at C:\\chromedriver-win64\\chromedriver.exe might not be compatible with the detected chrome version (139.0.7258.155); currently, chromedriver 139.0.7258.154 is recommended for chrome 139.*, so it is advised to delete the driver in PATH and retry\n"
     ]
    },
    {
     "name": "stdout",
     "output_type": "stream",
     "text": [
      "Data-related classes: ['s-post-summary', 'js-post-summary', 's-post-summary--stats', 'js-post-summary-stats', 's-post-summary--stats-item__emphasized', 's-post-summary--content', 's-post-summary--content-title', 's-post-summary--content-excerpt', 's-post-summary--meta', 's-post-summary--meta-tags', 'd-inline-block', 'tags', 'js-tags', 'ml0', 'list-ls-none', 'js-post-tag-list-wrapper', 's-user-card', 's-user-card__minimal', 's-avatar', 's-avatar__16', 's-user-card--avatar', 'gravatar-wrapper-16', 's-avatar--image', 's-user-card--info', 's-user-card--link', 's-user-card--time', 'relativetime']\n"
     ]
    },
    {
     "name": "stderr",
     "output_type": "stream",
     "text": [
      "The chromedriver version (138.0.7204.183) detected in PATH at C:\\chromedriver-win64\\chromedriver.exe might not be compatible with the detected chrome version (139.0.7258.155); currently, chromedriver 139.0.7258.154 is recommended for chrome 139.*, so it is advised to delete the driver in PATH and retry\n",
      "The chromedriver version (138.0.7204.183) detected in PATH at C:\\chromedriver-win64\\chromedriver.exe might not be compatible with the detected chrome version (139.0.7258.155); currently, chromedriver 139.0.7258.154 is recommended for chrome 139.*, so it is advised to delete the driver in PATH and retry\n"
     ]
    },
    {
     "name": "stdout",
     "output_type": "stream",
     "text": [
      "Data-related classes: ['s-post-summary', 'js-post-summary', 's-post-summary--stats', 'js-post-summary-stats', 's-post-summary--stats-item__emphasized', 's-post-summary--content', 's-post-summary--content-title', 's-post-summary--content-excerpt', 's-post-summary--meta', 's-post-summary--meta-tags', 'd-inline-block', 'tags', 'js-tags', 'ml0', 'list-ls-none', 'js-post-tag-list-wrapper', 's-user-card', 's-user-card__minimal', 's-avatar', 's-avatar__16', 's-user-card--avatar', 'gravatar-wrapper-16', 's-avatar--image', 's-user-card--info', 's-user-card--link', 's-user-card--time', 'relativetime']\n"
     ]
    },
    {
     "name": "stderr",
     "output_type": "stream",
     "text": [
      "The chromedriver version (138.0.7204.183) detected in PATH at C:\\chromedriver-win64\\chromedriver.exe might not be compatible with the detected chrome version (139.0.7258.155); currently, chromedriver 139.0.7258.154 is recommended for chrome 139.*, so it is advised to delete the driver in PATH and retry\n"
     ]
    },
    {
     "name": "stdout",
     "output_type": "stream",
     "text": [
      "Data-related classes: ['s-post-summary', 'js-post-summary', 's-post-summary--stats', 'js-post-summary-stats', 's-post-summary--stats-item__emphasized', 's-post-summary--content', 's-post-summary--content-title', 's-post-summary--content-excerpt', 's-post-summary--meta', 's-post-summary--meta-tags', 'd-inline-block', 'tags', 'js-tags', 'ml0', 'list-ls-none', 'js-post-tag-list-wrapper', 's-user-card', 's-user-card__minimal', 's-avatar', 's-avatar__16', 's-user-card--avatar', 'gravatar-wrapper-16', 's-avatar--image', 's-user-card--info', 's-user-card--link', 's-user-card--time', 'relativetime']\n"
     ]
    },
    {
     "name": "stderr",
     "output_type": "stream",
     "text": [
      "The chromedriver version (138.0.7204.183) detected in PATH at C:\\chromedriver-win64\\chromedriver.exe might not be compatible with the detected chrome version (139.0.7258.155); currently, chromedriver 139.0.7258.154 is recommended for chrome 139.*, so it is advised to delete the driver in PATH and retry\n",
      "The chromedriver version (138.0.7204.183) detected in PATH at C:\\chromedriver-win64\\chromedriver.exe might not be compatible with the detected chrome version (139.0.7258.155); currently, chromedriver 139.0.7258.154 is recommended for chrome 139.*, so it is advised to delete the driver in PATH and retry\n"
     ]
    },
    {
     "name": "stdout",
     "output_type": "stream",
     "text": [
      "Data-related classes: ['s-post-summary', 'js-post-summary', 's-post-summary--stats', 'js-post-summary-stats', 's-post-summary--stats-item__emphasized', 's-post-summary--content', 's-post-summary--content-title', 's-post-summary--content-excerpt', 's-post-summary--meta', 's-post-summary--meta-tags', 'd-inline-block', 'tags', 'js-tags', 'ml0', 'list-ls-none', 'js-post-tag-list-wrapper', 's-user-card', 's-user-card__minimal', 's-avatar', 's-avatar__16', 's-user-card--avatar', 'gravatar-wrapper-16', 's-avatar--image', 's-user-card--info', 's-user-card--link', 's-user-card--time', 'relativetime']\n"
     ]
    },
    {
     "name": "stderr",
     "output_type": "stream",
     "text": [
      "The chromedriver version (138.0.7204.183) detected in PATH at C:\\chromedriver-win64\\chromedriver.exe might not be compatible with the detected chrome version (139.0.7258.155); currently, chromedriver 139.0.7258.154 is recommended for chrome 139.*, so it is advised to delete the driver in PATH and retry\n"
     ]
    },
    {
     "name": "stdout",
     "output_type": "stream",
     "text": [
      "Data-related classes: ['s-post-summary', 'js-post-summary', 's-post-summary--stats', 'js-post-summary-stats', 's-post-summary--stats-item__emphasized', 's-post-summary--content', 's-post-summary--content-title', 's-post-summary--content-excerpt', 's-post-summary--meta', 's-post-summary--meta-tags', 'd-inline-block', 'tags', 'js-tags', 'ml0', 'list-ls-none', 'js-post-tag-list-wrapper', 's-user-card', 's-user-card__minimal', 's-avatar', 's-avatar__16', 's-user-card--avatar', 'gravatar-wrapper-16', 's-avatar--image', 's-user-card--info', 's-user-card--link', 's-user-card--time', 'relativetime']\n"
     ]
    },
    {
     "name": "stderr",
     "output_type": "stream",
     "text": [
      "The chromedriver version (138.0.7204.183) detected in PATH at C:\\chromedriver-win64\\chromedriver.exe might not be compatible with the detected chrome version (139.0.7258.155); currently, chromedriver 139.0.7258.154 is recommended for chrome 139.*, so it is advised to delete the driver in PATH and retry\n"
     ]
    },
    {
     "name": "stdout",
     "output_type": "stream",
     "text": [
      "Data-related classes: ['s-post-summary', 'js-post-summary', 's-post-summary--stats', 'js-post-summary-stats', 's-post-summary--stats-item__emphasized', 's-post-summary--content', 's-post-summary--content-title', 's-post-summary--content-excerpt', 's-post-summary--meta', 's-post-summary--meta-tags', 'd-inline-block', 'tags', 'js-tags', 'ml0', 'list-ls-none', 'js-post-tag-list-wrapper', 's-user-card', 's-user-card__minimal', 's-avatar', 's-avatar__16', 's-user-card--avatar', 'gravatar-wrapper-16', 's-avatar--image', 's-user-card--info', 's-user-card--link', 's-user-card--time', 'relativetime']\n"
     ]
    },
    {
     "name": "stderr",
     "output_type": "stream",
     "text": [
      "The chromedriver version (138.0.7204.183) detected in PATH at C:\\chromedriver-win64\\chromedriver.exe might not be compatible with the detected chrome version (139.0.7258.155); currently, chromedriver 139.0.7258.154 is recommended for chrome 139.*, so it is advised to delete the driver in PATH and retry\n",
      "The chromedriver version (138.0.7204.183) detected in PATH at C:\\chromedriver-win64\\chromedriver.exe might not be compatible with the detected chrome version (139.0.7258.155); currently, chromedriver 139.0.7258.154 is recommended for chrome 139.*, so it is advised to delete the driver in PATH and retry\n"
     ]
    },
    {
     "name": "stdout",
     "output_type": "stream",
     "text": [
      "Data-related classes: ['s-post-summary', 'js-post-summary', 's-post-summary--stats', 'js-post-summary-stats', 's-post-summary--stats-item__emphasized', 's-post-summary--content', 's-post-summary--content-title', 's-post-summary--content-excerpt', 's-post-summary--meta', 's-post-summary--meta-tags', 'd-inline-block', 'tags', 'js-tags', 'ml0', 'list-ls-none', 'js-post-tag-list-wrapper', 's-user-card', 's-user-card__minimal', 's-avatar', 's-avatar__16', 's-user-card--avatar', 'gravatar-wrapper-16', 's-avatar--image', 's-user-card--info', 's-user-card--link', 's-user-card--time', 'relativetime']\n"
     ]
    },
    {
     "name": "stderr",
     "output_type": "stream",
     "text": [
      "The chromedriver version (138.0.7204.183) detected in PATH at C:\\chromedriver-win64\\chromedriver.exe might not be compatible with the detected chrome version (139.0.7258.155); currently, chromedriver 139.0.7258.154 is recommended for chrome 139.*, so it is advised to delete the driver in PATH and retry\n"
     ]
    },
    {
     "name": "stdout",
     "output_type": "stream",
     "text": [
      "Data-related classes: ['s-post-summary', 'js-post-summary', 's-post-summary--stats', 'js-post-summary-stats', 's-post-summary--stats-item__emphasized', 's-post-summary--content', 's-post-summary--content-title', 's-post-summary--content-excerpt', 's-post-summary--meta', 's-post-summary--meta-tags', 'd-inline-block', 'tags', 'js-tags', 'ml0', 'list-ls-none', 'js-post-tag-list-wrapper', 's-user-card', 's-user-card__minimal', 's-avatar', 's-avatar__16', 's-user-card--avatar', 'gravatar-wrapper-16', 's-avatar--image', 's-user-card--info', 's-user-card--link', 's-user-card--time', 'relativetime']\n"
     ]
    },
    {
     "name": "stderr",
     "output_type": "stream",
     "text": [
      "The chromedriver version (138.0.7204.183) detected in PATH at C:\\chromedriver-win64\\chromedriver.exe might not be compatible with the detected chrome version (139.0.7258.155); currently, chromedriver 139.0.7258.154 is recommended for chrome 139.*, so it is advised to delete the driver in PATH and retry\n",
      "The chromedriver version (138.0.7204.183) detected in PATH at C:\\chromedriver-win64\\chromedriver.exe might not be compatible with the detected chrome version (139.0.7258.155); currently, chromedriver 139.0.7258.154 is recommended for chrome 139.*, so it is advised to delete the driver in PATH and retry\n"
     ]
    },
    {
     "name": "stdout",
     "output_type": "stream",
     "text": [
      "Data-related classes: ['s-post-summary', 'js-post-summary', 's-post-summary--stats', 'js-post-summary-stats', 's-post-summary--stats-item__emphasized', 's-post-summary--content', 's-post-summary--content-title', 's-post-summary--content-excerpt', 's-post-summary--meta', 's-post-summary--meta-tags', 'd-inline-block', 'tags', 'js-tags', 'ml0', 'list-ls-none', 'js-post-tag-list-wrapper', 's-user-card', 's-user-card__minimal', 's-avatar', 's-avatar__16', 's-user-card--avatar', 'gravatar-wrapper-16', 's-avatar--image', 's-user-card--info', 's-user-card--link', 's-user-card--time', 'relativetime']\n"
     ]
    },
    {
     "name": "stderr",
     "output_type": "stream",
     "text": [
      "The chromedriver version (138.0.7204.183) detected in PATH at C:\\chromedriver-win64\\chromedriver.exe might not be compatible with the detected chrome version (139.0.7258.155); currently, chromedriver 139.0.7258.154 is recommended for chrome 139.*, so it is advised to delete the driver in PATH and retry\n"
     ]
    },
    {
     "name": "stdout",
     "output_type": "stream",
     "text": [
      "Data-related classes: ['s-post-summary', 'js-post-summary', 's-post-summary--stats', 'js-post-summary-stats', 's-post-summary--stats-item__emphasized', 's-post-summary--content', 's-post-summary--content-title', 's-post-summary--content-excerpt', 's-post-summary--meta', 's-post-summary--meta-tags', 'd-inline-block', 'tags', 'js-tags', 'ml0', 'list-ls-none', 'js-post-tag-list-wrapper', 's-user-card', 's-user-card__minimal', 's-avatar', 's-avatar__16', 's-user-card--avatar', 'gravatar-wrapper-16', 's-avatar--image', 's-user-card--info', 's-user-card--link', 's-user-card--time', 'relativetime']\n"
     ]
    },
    {
     "name": "stderr",
     "output_type": "stream",
     "text": [
      "The chromedriver version (138.0.7204.183) detected in PATH at C:\\chromedriver-win64\\chromedriver.exe might not be compatible with the detected chrome version (139.0.7258.155); currently, chromedriver 139.0.7258.154 is recommended for chrome 139.*, so it is advised to delete the driver in PATH and retry\n"
     ]
    },
    {
     "name": "stdout",
     "output_type": "stream",
     "text": [
      "Data-related classes: ['s-post-summary', 'js-post-summary', 's-post-summary--stats', 'js-post-summary-stats', 's-post-summary--stats-item__emphasized', 's-post-summary--content', 's-post-summary--content-title', 's-post-summary--content-excerpt', 's-post-summary--meta', 's-post-summary--meta-tags', 'd-inline-block', 'tags', 'js-tags', 'ml0', 'list-ls-none', 'js-post-tag-list-wrapper', 's-user-card', 's-user-card__minimal', 's-avatar', 's-avatar__16', 's-user-card--avatar', 'gravatar-wrapper-16', 's-avatar--image', 's-user-card--info', 's-user-card--link', 's-user-card--time', 'relativetime']\n"
     ]
    },
    {
     "name": "stderr",
     "output_type": "stream",
     "text": [
      "The chromedriver version (138.0.7204.183) detected in PATH at C:\\chromedriver-win64\\chromedriver.exe might not be compatible with the detected chrome version (139.0.7258.155); currently, chromedriver 139.0.7258.154 is recommended for chrome 139.*, so it is advised to delete the driver in PATH and retry\n",
      "The chromedriver version (138.0.7204.183) detected in PATH at C:\\chromedriver-win64\\chromedriver.exe might not be compatible with the detected chrome version (139.0.7258.155); currently, chromedriver 139.0.7258.154 is recommended for chrome 139.*, so it is advised to delete the driver in PATH and retry\n"
     ]
    },
    {
     "name": "stdout",
     "output_type": "stream",
     "text": [
      "Data-related classes: ['s-post-summary', 'js-post-summary', 's-post-summary--stats', 'js-post-summary-stats', 's-post-summary--stats-item__emphasized', 'has-answers', 's-post-summary--content', 's-post-summary--content-title', 's-post-summary--content-excerpt', 's-post-summary--meta', 's-post-summary--meta-tags', 'd-inline-block', 'tags', 'js-tags', 'ml0', 'list-ls-none', 'js-post-tag-list-wrapper', 's-user-card', 's-user-card__minimal', 's-avatar', 's-avatar__16', 's-user-card--avatar', 'gravatar-wrapper-16', 's-avatar--image', 's-user-card--info', 's-user-card--link', 's-user-card--time', 'relativetime']\n"
     ]
    },
    {
     "name": "stderr",
     "output_type": "stream",
     "text": [
      "The chromedriver version (138.0.7204.183) detected in PATH at C:\\chromedriver-win64\\chromedriver.exe might not be compatible with the detected chrome version (139.0.7258.155); currently, chromedriver 139.0.7258.154 is recommended for chrome 139.*, so it is advised to delete the driver in PATH and retry\n",
      "The chromedriver version (138.0.7204.183) detected in PATH at C:\\chromedriver-win64\\chromedriver.exe might not be compatible with the detected chrome version (139.0.7258.155); currently, chromedriver 139.0.7258.154 is recommended for chrome 139.*, so it is advised to delete the driver in PATH and retry\n"
     ]
    },
    {
     "name": "stdout",
     "output_type": "stream",
     "text": [
      "Data-related classes: ['s-post-summary', 'js-post-summary', 's-post-summary--stats', 'js-post-summary-stats', 's-post-summary--stats-item__emphasized', 's-post-summary--content', 's-post-summary--content-title', 's-post-summary--content-excerpt', 's-post-summary--meta', 's-post-summary--meta-tags', 'd-inline-block', 'tags', 'js-tags', 'ml0', 'list-ls-none', 'js-post-tag-list-wrapper', 's-user-card', 's-user-card__minimal', 's-avatar', 's-avatar__16', 's-user-card--avatar', 'gravatar-wrapper-16', 's-avatar--image', 's-user-card--info', 's-user-card--link', 's-user-card--time', 'relativetime']\n"
     ]
    },
    {
     "name": "stderr",
     "output_type": "stream",
     "text": [
      "The chromedriver version (138.0.7204.183) detected in PATH at C:\\chromedriver-win64\\chromedriver.exe might not be compatible with the detected chrome version (139.0.7258.155); currently, chromedriver 139.0.7258.154 is recommended for chrome 139.*, so it is advised to delete the driver in PATH and retry\n"
     ]
    },
    {
     "name": "stdout",
     "output_type": "stream",
     "text": [
      "Data-related classes: ['s-post-summary', 'js-post-summary', 's-post-summary--stats', 'js-post-summary-stats', 's-post-summary--stats-item__emphasized', 's-post-summary--content', 's-post-summary--content-title', 's-post-summary--content-excerpt', 's-post-summary--meta', 's-post-summary--meta-tags', 'd-inline-block', 'tags', 'js-tags', 'ml0', 'list-ls-none', 'js-post-tag-list-wrapper', 's-user-card', 's-user-card__minimal', 's-avatar', 's-avatar__16', 's-user-card--avatar', 'gravatar-wrapper-16', 's-avatar--image', 's-user-card--info', 's-user-card--link', 's-user-card--time', 'relativetime']\n"
     ]
    },
    {
     "name": "stderr",
     "output_type": "stream",
     "text": [
      "The chromedriver version (138.0.7204.183) detected in PATH at C:\\chromedriver-win64\\chromedriver.exe might not be compatible with the detected chrome version (139.0.7258.155); currently, chromedriver 139.0.7258.154 is recommended for chrome 139.*, so it is advised to delete the driver in PATH and retry\n",
      "The chromedriver version (138.0.7204.183) detected in PATH at C:\\chromedriver-win64\\chromedriver.exe might not be compatible with the detected chrome version (139.0.7258.155); currently, chromedriver 139.0.7258.154 is recommended for chrome 139.*, so it is advised to delete the driver in PATH and retry\n"
     ]
    },
    {
     "name": "stdout",
     "output_type": "stream",
     "text": [
      "Data-related classes: ['s-post-summary', 'js-post-summary', 's-post-summary--stats', 'js-post-summary-stats', 's-post-summary--stats-item__emphasized', 's-post-summary--content', 's-post-summary--content-title', 's-post-summary--content-excerpt', 's-post-summary--meta', 's-post-summary--meta-tags', 'd-inline-block', 'tags', 'js-tags', 'ml0', 'list-ls-none', 'js-post-tag-list-wrapper', 's-user-card', 's-user-card__minimal', 's-avatar', 's-avatar__16', 's-user-card--avatar', 'gravatar-wrapper-16', 's-avatar--image', 's-user-card--info', 's-user-card--link', 's-user-card--time', 'relativetime']\n"
     ]
    },
    {
     "name": "stderr",
     "output_type": "stream",
     "text": [
      "The chromedriver version (138.0.7204.183) detected in PATH at C:\\chromedriver-win64\\chromedriver.exe might not be compatible with the detected chrome version (139.0.7258.155); currently, chromedriver 139.0.7258.154 is recommended for chrome 139.*, so it is advised to delete the driver in PATH and retry\n"
     ]
    },
    {
     "name": "stdout",
     "output_type": "stream",
     "text": [
      "Data-related classes: ['s-post-summary', 'js-post-summary', 's-post-summary--stats', 'js-post-summary-stats', 's-post-summary--stats-item__emphasized', 's-post-summary--content', 's-post-summary--content-title', 's-post-summary--content-excerpt', 's-post-summary--meta', 's-post-summary--meta-tags', 'd-inline-block', 'tags', 'js-tags', 'ml0', 'list-ls-none', 'js-post-tag-list-wrapper', 's-user-card', 's-user-card__minimal', 's-avatar', 's-avatar__16', 's-user-card--avatar', 'gravatar-wrapper-16', 's-avatar--image', 's-user-card--info', 's-user-card--link', 's-user-card--time', 'relativetime']\n"
     ]
    },
    {
     "name": "stderr",
     "output_type": "stream",
     "text": [
      "The chromedriver version (138.0.7204.183) detected in PATH at C:\\chromedriver-win64\\chromedriver.exe might not be compatible with the detected chrome version (139.0.7258.155); currently, chromedriver 139.0.7258.154 is recommended for chrome 139.*, so it is advised to delete the driver in PATH and retry\n"
     ]
    },
    {
     "name": "stdout",
     "output_type": "stream",
     "text": [
      "Data-related classes: ['s-post-summary', 'js-post-summary', 's-post-summary--stats', 'js-post-summary-stats', 's-post-summary--stats-item__emphasized', 'has-answers', 's-post-summary--content', 's-post-summary--content-title', 's-post-summary--content-excerpt', 's-post-summary--meta', 's-post-summary--meta-tags', 'd-inline-block', 'tags', 'js-tags', 'ml0', 'list-ls-none', 'js-post-tag-list-wrapper', 's-user-card', 's-user-card__minimal', 's-avatar', 's-avatar__16', 's-user-card--avatar', 'gravatar-wrapper-16', 's-avatar--image', 's-user-card--info', 's-user-card--link', 's-user-card--time', 'relativetime']\n"
     ]
    },
    {
     "name": "stderr",
     "output_type": "stream",
     "text": [
      "The chromedriver version (138.0.7204.183) detected in PATH at C:\\chromedriver-win64\\chromedriver.exe might not be compatible with the detected chrome version (139.0.7258.155); currently, chromedriver 139.0.7258.154 is recommended for chrome 139.*, so it is advised to delete the driver in PATH and retry\n",
      "The chromedriver version (138.0.7204.183) detected in PATH at C:\\chromedriver-win64\\chromedriver.exe might not be compatible with the detected chrome version (139.0.7258.155); currently, chromedriver 139.0.7258.154 is recommended for chrome 139.*, so it is advised to delete the driver in PATH and retry\n"
     ]
    },
    {
     "name": "stdout",
     "output_type": "stream",
     "text": [
      "Data-related classes: ['s-post-summary', 'js-post-summary', 's-post-summary--stats', 'js-post-summary-stats', 's-post-summary--stats-item__emphasized', 's-post-summary--content', 's-post-summary--content-title', 's-post-summary--content-excerpt', 's-post-summary--meta', 's-post-summary--meta-tags', 'd-inline-block', 'tags', 'js-tags', 'ml0', 'list-ls-none', 'js-post-tag-list-wrapper', 's-user-card', 's-user-card__minimal', 's-avatar', 's-avatar__16', 's-user-card--avatar', 'gravatar-wrapper-16', 's-avatar--image', 's-user-card--info', 's-user-card--link', 's-user-card--time', 'relativetime']\n"
     ]
    },
    {
     "name": "stderr",
     "output_type": "stream",
     "text": [
      "The chromedriver version (138.0.7204.183) detected in PATH at C:\\chromedriver-win64\\chromedriver.exe might not be compatible with the detected chrome version (139.0.7258.155); currently, chromedriver 139.0.7258.154 is recommended for chrome 139.*, so it is advised to delete the driver in PATH and retry\n"
     ]
    },
    {
     "name": "stdout",
     "output_type": "stream",
     "text": [
      "Data-related classes: ['s-post-summary', 'js-post-summary', 's-post-summary--stats', 'js-post-summary-stats', 's-post-summary--stats-item__emphasized', 's-post-summary--content', 's-post-summary--content-title', 's-post-summary--content-excerpt', 's-post-summary--meta', 's-post-summary--meta-tags', 'd-inline-block', 'tags', 'js-tags', 'ml0', 'list-ls-none', 'js-post-tag-list-wrapper', 's-user-card', 's-user-card__minimal', 's-avatar', 's-avatar__16', 's-user-card--avatar', 'gravatar-wrapper-16', 's-avatar--image', 's-user-card--info', 's-user-card--link', 's-user-card--time', 'relativetime']\n"
     ]
    },
    {
     "name": "stderr",
     "output_type": "stream",
     "text": [
      "The chromedriver version (138.0.7204.183) detected in PATH at C:\\chromedriver-win64\\chromedriver.exe might not be compatible with the detected chrome version (139.0.7258.155); currently, chromedriver 139.0.7258.154 is recommended for chrome 139.*, so it is advised to delete the driver in PATH and retry\n",
      "The chromedriver version (138.0.7204.183) detected in PATH at C:\\chromedriver-win64\\chromedriver.exe might not be compatible with the detected chrome version (139.0.7258.155); currently, chromedriver 139.0.7258.154 is recommended for chrome 139.*, so it is advised to delete the driver in PATH and retry\n"
     ]
    },
    {
     "name": "stdout",
     "output_type": "stream",
     "text": [
      "Data-related classes: ['s-post-summary', 'js-post-summary', 's-post-summary--stats', 'js-post-summary-stats', 's-post-summary--stats-item__emphasized', 's-post-summary--content', 's-post-summary--content-title', 's-post-summary--content-excerpt', 's-post-summary--meta', 's-post-summary--meta-tags', 'd-inline-block', 'tags', 'js-tags', 'ml0', 'list-ls-none', 'js-post-tag-list-wrapper', 's-user-card', 's-user-card__minimal', 's-avatar', 's-avatar__16', 's-user-card--avatar', 'gravatar-wrapper-16', 's-avatar--image', 's-user-card--info', 's-user-card--link', 's-user-card--time', 'relativetime']\n"
     ]
    },
    {
     "name": "stderr",
     "output_type": "stream",
     "text": [
      "The chromedriver version (138.0.7204.183) detected in PATH at C:\\chromedriver-win64\\chromedriver.exe might not be compatible with the detected chrome version (139.0.7258.155); currently, chromedriver 139.0.7258.154 is recommended for chrome 139.*, so it is advised to delete the driver in PATH and retry\n"
     ]
    },
    {
     "name": "stdout",
     "output_type": "stream",
     "text": [
      "Data-related classes: ['s-post-summary', 'js-post-summary', 's-post-summary--stats', 'js-post-summary-stats', 's-post-summary--stats-item__emphasized', 's-post-summary--content', 's-post-summary--content-title', 's-post-summary--content-excerpt', 's-post-summary--meta', 's-post-summary--meta-tags', 'd-inline-block', 'tags', 'js-tags', 'ml0', 'list-ls-none', 'js-post-tag-list-wrapper', 's-user-card', 's-user-card__minimal', 's-avatar', 's-avatar__16', 's-user-card--avatar', 'gravatar-wrapper-16', 's-avatar--image', 's-user-card--info', 's-user-card--link', 's-user-card--time', 'relativetime']\n"
     ]
    },
    {
     "name": "stderr",
     "output_type": "stream",
     "text": [
      "The chromedriver version (138.0.7204.183) detected in PATH at C:\\chromedriver-win64\\chromedriver.exe might not be compatible with the detected chrome version (139.0.7258.155); currently, chromedriver 139.0.7258.154 is recommended for chrome 139.*, so it is advised to delete the driver in PATH and retry\n",
      "The chromedriver version (138.0.7204.183) detected in PATH at C:\\chromedriver-win64\\chromedriver.exe might not be compatible with the detected chrome version (139.0.7258.155); currently, chromedriver 139.0.7258.154 is recommended for chrome 139.*, so it is advised to delete the driver in PATH and retry\n",
      "The chromedriver version (138.0.7204.183) detected in PATH at C:\\chromedriver-win64\\chromedriver.exe might not be compatible with the detected chrome version (139.0.7258.155); currently, chromedriver 139.0.7258.154 is recommended for chrome 139.*, so it is advised to delete the driver in PATH and retry\n"
     ]
    },
    {
     "name": "stdout",
     "output_type": "stream",
     "text": [
      "Data-related classes: ['s-post-summary', 'js-post-summary', 's-post-summary--stats', 'js-post-summary-stats', 's-post-summary--stats-item__emphasized', 's-post-summary--content', 's-post-summary--content-title', 's-post-summary--content-excerpt', 's-post-summary--meta', 's-post-summary--meta-tags', 'd-inline-block', 'tags', 'js-tags', 'ml0', 'list-ls-none', 'js-post-tag-list-wrapper', 's-user-card', 's-user-card__minimal', 's-avatar', 's-avatar__16', 's-user-card--avatar', 'gravatar-wrapper-16', 's-avatar--image', 's-user-card--info', 's-user-card--link', 's-user-card--time', 'relativetime']\n",
      "Data-related classes: ['s-post-summary', 'js-post-summary', 's-post-summary--stats', 'js-post-summary-stats', 's-post-summary--stats-item__emphasized', 's-post-summary--content', 's-post-summary--content-title', 's-post-summary--content-excerpt', 's-post-summary--meta', 's-post-summary--meta-tags', 'd-inline-block', 'tags', 'js-tags', 'ml0', 'list-ls-none', 'js-post-tag-list-wrapper', 's-user-card', 's-user-card__minimal', 's-avatar', 's-avatar__16', 's-user-card--avatar', 'gravatar-wrapper-16', 's-avatar--image', 's-user-card--info', 's-user-card--link', 's-user-card--time', 'relativetime']\n"
     ]
    },
    {
     "name": "stderr",
     "output_type": "stream",
     "text": [
      "The chromedriver version (138.0.7204.183) detected in PATH at C:\\chromedriver-win64\\chromedriver.exe might not be compatible with the detected chrome version (139.0.7258.155); currently, chromedriver 139.0.7258.154 is recommended for chrome 139.*, so it is advised to delete the driver in PATH and retry\n",
      "The chromedriver version (138.0.7204.183) detected in PATH at C:\\chromedriver-win64\\chromedriver.exe might not be compatible with the detected chrome version (139.0.7258.155); currently, chromedriver 139.0.7258.154 is recommended for chrome 139.*, so it is advised to delete the driver in PATH and retry\n",
      "The chromedriver version (138.0.7204.183) detected in PATH at C:\\chromedriver-win64\\chromedriver.exe might not be compatible with the detected chrome version (139.0.7258.155); currently, chromedriver 139.0.7258.154 is recommended for chrome 139.*, so it is advised to delete the driver in PATH and retry\n"
     ]
    },
    {
     "name": "stdout",
     "output_type": "stream",
     "text": [
      "Data-related classes: ['s-post-summary', 'js-post-summary', 's-post-summary--stats', 'js-post-summary-stats', 's-post-summary--stats-item__emphasized', 'has-answers', 's-post-summary--content', 's-post-summary--content-title', 's-post-summary--content-excerpt', 's-post-summary--meta', 's-post-summary--meta-tags', 'd-inline-block', 'tags', 'js-tags', 'ml0', 'list-ls-none', 'js-post-tag-list-wrapper', 's-user-card', 's-user-card__minimal', 's-avatar', 's-avatar__16', 's-user-card--avatar', 'gravatar-wrapper-16', 's-avatar--image', 's-user-card--info', 's-user-card--link', 's-user-card--time', 'relativetime']\n"
     ]
    },
    {
     "name": "stderr",
     "output_type": "stream",
     "text": [
      "The chromedriver version (138.0.7204.183) detected in PATH at C:\\chromedriver-win64\\chromedriver.exe might not be compatible with the detected chrome version (139.0.7258.155); currently, chromedriver 139.0.7258.154 is recommended for chrome 139.*, so it is advised to delete the driver in PATH and retry\n"
     ]
    },
    {
     "name": "stdout",
     "output_type": "stream",
     "text": [
      "Data-related classes: ['s-post-summary', 'js-post-summary', 's-post-summary--stats', 'js-post-summary-stats', 's-post-summary--stats-item__emphasized', 's-post-summary--content', 's-post-summary--content-title', 's-post-summary--content-excerpt', 's-post-summary--meta', 's-post-summary--meta-tags', 'd-inline-block', 'tags', 'js-tags', 'ml0', 'list-ls-none', 'js-post-tag-list-wrapper', 's-user-card', 's-user-card__minimal', 's-avatar', 's-avatar__16', 's-user-card--avatar', 'gravatar-wrapper-16', 's-avatar--image', 's-user-card--info', 's-user-card--link', 's-user-card--time', 'relativetime']\n"
     ]
    },
    {
     "name": "stderr",
     "output_type": "stream",
     "text": [
      "The chromedriver version (138.0.7204.183) detected in PATH at C:\\chromedriver-win64\\chromedriver.exe might not be compatible with the detected chrome version (139.0.7258.155); currently, chromedriver 139.0.7258.154 is recommended for chrome 139.*, so it is advised to delete the driver in PATH and retry\n",
      "The chromedriver version (138.0.7204.183) detected in PATH at C:\\chromedriver-win64\\chromedriver.exe might not be compatible with the detected chrome version (139.0.7258.155); currently, chromedriver 139.0.7258.154 is recommended for chrome 139.*, so it is advised to delete the driver in PATH and retry\n"
     ]
    },
    {
     "name": "stdout",
     "output_type": "stream",
     "text": [
      "Data-related classes: ['s-post-summary', 'js-post-summary', 's-post-summary--stats', 'js-post-summary-stats', 's-post-summary--stats-item__emphasized', 's-post-summary--content', 's-post-summary--content-title', 's-post-summary--content-excerpt', 's-post-summary--meta', 's-post-summary--meta-tags', 'd-inline-block', 'tags', 'js-tags', 'ml0', 'list-ls-none', 'js-post-tag-list-wrapper', 's-user-card', 's-user-card__minimal', 's-avatar', 's-avatar__16', 's-user-card--avatar', 'gravatar-wrapper-16', 's-avatar--image', 's-user-card--info', 's-user-card--link', 's-user-card--time', 'relativetime']\n"
     ]
    },
    {
     "name": "stderr",
     "output_type": "stream",
     "text": [
      "The chromedriver version (138.0.7204.183) detected in PATH at C:\\chromedriver-win64\\chromedriver.exe might not be compatible with the detected chrome version (139.0.7258.155); currently, chromedriver 139.0.7258.154 is recommended for chrome 139.*, so it is advised to delete the driver in PATH and retry\n"
     ]
    },
    {
     "name": "stdout",
     "output_type": "stream",
     "text": [
      "Data-related classes: ['s-post-summary', 'js-post-summary', 's-post-summary--stats', 'js-post-summary-stats', 's-post-summary--stats-item__emphasized', 's-post-summary--content', 's-post-summary--content-title', 's-post-summary--content-excerpt', 's-post-summary--meta', 's-post-summary--meta-tags', 'd-inline-block', 'tags', 'js-tags', 'ml0', 'list-ls-none', 'js-post-tag-list-wrapper', 's-user-card', 's-user-card__minimal', 's-avatar', 's-avatar__16', 's-user-card--avatar', 'gravatar-wrapper-16', 's-avatar--image', 's-user-card--info', 's-user-card--link', 's-user-card--time', 'relativetime']\n"
     ]
    },
    {
     "name": "stderr",
     "output_type": "stream",
     "text": [
      "The chromedriver version (138.0.7204.183) detected in PATH at C:\\chromedriver-win64\\chromedriver.exe might not be compatible with the detected chrome version (139.0.7258.155); currently, chromedriver 139.0.7258.154 is recommended for chrome 139.*, so it is advised to delete the driver in PATH and retry\n",
      "The chromedriver version (138.0.7204.183) detected in PATH at C:\\chromedriver-win64\\chromedriver.exe might not be compatible with the detected chrome version (139.0.7258.155); currently, chromedriver 139.0.7258.154 is recommended for chrome 139.*, so it is advised to delete the driver in PATH and retry\n",
      "The chromedriver version (138.0.7204.183) detected in PATH at C:\\chromedriver-win64\\chromedriver.exe might not be compatible with the detected chrome version (139.0.7258.155); currently, chromedriver 139.0.7258.154 is recommended for chrome 139.*, so it is advised to delete the driver in PATH and retry\n"
     ]
    },
    {
     "name": "stdout",
     "output_type": "stream",
     "text": [
      "Data-related classes: ['s-post-summary', 'js-post-summary', 's-post-summary--stats', 'js-post-summary-stats', 's-post-summary--stats-item__emphasized', 's-post-summary--content', 's-post-summary--content-title', 's-post-summary--content-excerpt', 's-post-summary--meta', 's-post-summary--meta-tags', 'd-inline-block', 'tags', 'js-tags', 'ml0', 'list-ls-none', 'js-post-tag-list-wrapper', 's-user-card', 's-user-card__minimal', 's-avatar', 's-avatar__16', 's-user-card--avatar', 'gravatar-wrapper-16', 's-avatar--image', 's-user-card--info', 's-user-card--link', 's-user-card--time', 'relativetime']\n"
     ]
    },
    {
     "name": "stderr",
     "output_type": "stream",
     "text": [
      "The chromedriver version (138.0.7204.183) detected in PATH at C:\\chromedriver-win64\\chromedriver.exe might not be compatible with the detected chrome version (139.0.7258.155); currently, chromedriver 139.0.7258.154 is recommended for chrome 139.*, so it is advised to delete the driver in PATH and retry\n"
     ]
    },
    {
     "name": "stdout",
     "output_type": "stream",
     "text": [
      "Data-related classes: ['s-post-summary', 'js-post-summary', 's-post-summary--stats', 'js-post-summary-stats', 's-post-summary--stats-item__emphasized', 's-post-summary--content', 's-post-summary--content-title', 's-post-summary--content-excerpt', 's-post-summary--meta', 's-post-summary--meta-tags', 'd-inline-block', 'tags', 'js-tags', 'ml0', 'list-ls-none', 'js-post-tag-list-wrapper', 's-user-card', 's-user-card__minimal', 's-avatar', 's-avatar__16', 's-user-card--avatar', 'gravatar-wrapper-16', 's-avatar--image', 's-user-card--info', 's-user-card--link', 's-user-card--time', 'relativetime']\n"
     ]
    },
    {
     "name": "stderr",
     "output_type": "stream",
     "text": [
      "The chromedriver version (138.0.7204.183) detected in PATH at C:\\chromedriver-win64\\chromedriver.exe might not be compatible with the detected chrome version (139.0.7258.155); currently, chromedriver 139.0.7258.154 is recommended for chrome 139.*, so it is advised to delete the driver in PATH and retry\n"
     ]
    },
    {
     "name": "stdout",
     "output_type": "stream",
     "text": [
      "Data-related classes: ['s-post-summary', 'js-post-summary', 's-post-summary--stats', 'js-post-summary-stats', 's-post-summary--stats-item__emphasized', 'has-answers', 's-post-summary--content', 's-post-summary--content-title', 's-post-summary--content-excerpt', 's-post-summary--meta', 's-post-summary--meta-tags', 'd-inline-block', 'tags', 'js-tags', 'ml0', 'list-ls-none', 'js-post-tag-list-wrapper', 's-user-card', 's-user-card__minimal', 's-avatar', 's-avatar__16', 's-user-card--avatar', 'gravatar-wrapper-16', 's-avatar--image', 's-user-card--info', 's-user-card--link', 's-user-card--time', 'relativetime']\n"
     ]
    },
    {
     "name": "stderr",
     "output_type": "stream",
     "text": [
      "The chromedriver version (138.0.7204.183) detected in PATH at C:\\chromedriver-win64\\chromedriver.exe might not be compatible with the detected chrome version (139.0.7258.155); currently, chromedriver 139.0.7258.154 is recommended for chrome 139.*, so it is advised to delete the driver in PATH and retry\n",
      "The chromedriver version (138.0.7204.183) detected in PATH at C:\\chromedriver-win64\\chromedriver.exe might not be compatible with the detected chrome version (139.0.7258.155); currently, chromedriver 139.0.7258.154 is recommended for chrome 139.*, so it is advised to delete the driver in PATH and retry\n"
     ]
    },
    {
     "name": "stdout",
     "output_type": "stream",
     "text": [
      "Data-related classes: ['s-post-summary', 'js-post-summary', 's-post-summary--stats', 'js-post-summary-stats', 's-post-summary--stats-item__emphasized', 's-post-summary--content', 's-post-summary--content-title', 's-post-summary--content-excerpt', 's-post-summary--meta', 's-post-summary--meta-tags', 'd-inline-block', 'tags', 'js-tags', 'ml0', 'list-ls-none', 'js-post-tag-list-wrapper', 's-user-card', 's-user-card__minimal', 's-avatar', 's-avatar__16', 's-user-card--avatar', 'gravatar-wrapper-16', 's-avatar--image', 's-user-card--info', 's-user-card--link', 's-user-card--time', 'relativetime']\n"
     ]
    },
    {
     "name": "stderr",
     "output_type": "stream",
     "text": [
      "The chromedriver version (138.0.7204.183) detected in PATH at C:\\chromedriver-win64\\chromedriver.exe might not be compatible with the detected chrome version (139.0.7258.155); currently, chromedriver 139.0.7258.154 is recommended for chrome 139.*, so it is advised to delete the driver in PATH and retry\n"
     ]
    },
    {
     "name": "stdout",
     "output_type": "stream",
     "text": [
      "Data-related classes: ['s-post-summary', 'js-post-summary', 's-post-summary--stats', 'js-post-summary-stats', 's-post-summary--stats-item__emphasized', 's-post-summary--content', 's-post-summary--content-title', 's-post-summary--content-excerpt', 's-post-summary--meta', 's-post-summary--meta-tags', 'd-inline-block', 'tags', 'js-tags', 'ml0', 'list-ls-none', 'js-post-tag-list-wrapper', 's-user-card', 's-user-card__minimal', 's-avatar', 's-avatar__16', 's-user-card--avatar', 'gravatar-wrapper-16', 's-avatar--image', 's-user-card--info', 's-user-card--link', 's-user-card--time', 'relativetime']\n"
     ]
    },
    {
     "name": "stderr",
     "output_type": "stream",
     "text": [
      "The chromedriver version (138.0.7204.183) detected in PATH at C:\\chromedriver-win64\\chromedriver.exe might not be compatible with the detected chrome version (139.0.7258.155); currently, chromedriver 139.0.7258.154 is recommended for chrome 139.*, so it is advised to delete the driver in PATH and retry\n",
      "The chromedriver version (138.0.7204.183) detected in PATH at C:\\chromedriver-win64\\chromedriver.exe might not be compatible with the detected chrome version (139.0.7258.155); currently, chromedriver 139.0.7258.154 is recommended for chrome 139.*, so it is advised to delete the driver in PATH and retry\n"
     ]
    },
    {
     "name": "stdout",
     "output_type": "stream",
     "text": [
      "Data-related classes: ['s-post-summary', 'js-post-summary', 's-post-summary--stats', 'js-post-summary-stats', 's-post-summary--stats-item__emphasized', 's-post-summary--content', 's-post-summary--content-title', 's-post-summary--content-excerpt', 's-post-summary--meta', 's-post-summary--meta-tags', 'd-inline-block', 'tags', 'js-tags', 'ml0', 'list-ls-none', 'js-post-tag-list-wrapper', 's-user-card', 's-user-card__minimal', 's-avatar', 's-avatar__16', 's-user-card--avatar', 'gravatar-wrapper-16', 's-avatar--image', 's-user-card--info', 's-user-card--link', 's-user-card--time', 'relativetime']\n"
     ]
    },
    {
     "name": "stderr",
     "output_type": "stream",
     "text": [
      "The chromedriver version (138.0.7204.183) detected in PATH at C:\\chromedriver-win64\\chromedriver.exe might not be compatible with the detected chrome version (139.0.7258.155); currently, chromedriver 139.0.7258.154 is recommended for chrome 139.*, so it is advised to delete the driver in PATH and retry\n",
      "The chromedriver version (138.0.7204.183) detected in PATH at C:\\chromedriver-win64\\chromedriver.exe might not be compatible with the detected chrome version (139.0.7258.155); currently, chromedriver 139.0.7258.154 is recommended for chrome 139.*, so it is advised to delete the driver in PATH and retry\n"
     ]
    },
    {
     "name": "stdout",
     "output_type": "stream",
     "text": [
      "Data-related classes: ['s-post-summary', 'js-post-summary', 's-post-summary--stats', 'js-post-summary-stats', 's-post-summary--stats-item__emphasized', 's-post-summary--content', 's-post-summary--content-title', 's-post-summary--content-excerpt', 's-post-summary--meta', 's-post-summary--meta-tags', 'd-inline-block', 'tags', 'js-tags', 'ml0', 'list-ls-none', 'js-post-tag-list-wrapper', 's-user-card', 's-user-card__minimal', 's-avatar', 's-avatar__16', 's-user-card--avatar', 'gravatar-wrapper-16', 's-avatar--image', 's-user-card--info', 's-user-card--link', 's-user-card--time', 'relativetime']\n"
     ]
    },
    {
     "name": "stderr",
     "output_type": "stream",
     "text": [
      "The chromedriver version (138.0.7204.183) detected in PATH at C:\\chromedriver-win64\\chromedriver.exe might not be compatible with the detected chrome version (139.0.7258.155); currently, chromedriver 139.0.7258.154 is recommended for chrome 139.*, so it is advised to delete the driver in PATH and retry\n"
     ]
    },
    {
     "name": "stdout",
     "output_type": "stream",
     "text": [
      "Data-related classes: ['s-post-summary', 'js-post-summary', 's-post-summary--stats', 'js-post-summary-stats', 's-post-summary--stats-item__emphasized', 's-post-summary--content', 's-post-summary--content-title', 's-post-summary--content-excerpt', 's-post-summary--meta', 's-post-summary--meta-tags', 'd-inline-block', 'tags', 'js-tags', 'ml0', 'list-ls-none', 'js-post-tag-list-wrapper', 's-user-card', 's-user-card__minimal', 's-avatar', 's-avatar__16', 's-user-card--avatar', 'gravatar-wrapper-16', 's-avatar--image', 's-user-card--info', 's-user-card--link', 's-user-card--time', 'relativetime']\n"
     ]
    },
    {
     "name": "stderr",
     "output_type": "stream",
     "text": [
      "The chromedriver version (138.0.7204.183) detected in PATH at C:\\chromedriver-win64\\chromedriver.exe might not be compatible with the detected chrome version (139.0.7258.155); currently, chromedriver 139.0.7258.154 is recommended for chrome 139.*, so it is advised to delete the driver in PATH and retry\n",
      "The chromedriver version (138.0.7204.183) detected in PATH at C:\\chromedriver-win64\\chromedriver.exe might not be compatible with the detected chrome version (139.0.7258.155); currently, chromedriver 139.0.7258.154 is recommended for chrome 139.*, so it is advised to delete the driver in PATH and retry\n"
     ]
    },
    {
     "name": "stdout",
     "output_type": "stream",
     "text": [
      "Data-related classes: ['s-post-summary', 'js-post-summary', 's-post-summary--stats', 'js-post-summary-stats', 's-post-summary--stats-item__emphasized', 'has-answers', 's-post-summary--content', 's-post-summary--content-title', 's-post-summary--content-excerpt', 's-post-summary--meta', 's-post-summary--meta-tags', 'd-inline-block', 'tags', 'js-tags', 'ml0', 'list-ls-none', 'js-post-tag-list-wrapper', 's-user-card', 's-user-card__minimal', 's-avatar', 's-avatar__16', 's-user-card--avatar', 'gravatar-wrapper-16', 's-avatar--image', 's-user-card--info', 's-user-card--link', 's-user-card--time', 'relativetime']\n"
     ]
    },
    {
     "name": "stderr",
     "output_type": "stream",
     "text": [
      "The chromedriver version (138.0.7204.183) detected in PATH at C:\\chromedriver-win64\\chromedriver.exe might not be compatible with the detected chrome version (139.0.7258.155); currently, chromedriver 139.0.7258.154 is recommended for chrome 139.*, so it is advised to delete the driver in PATH and retry\n"
     ]
    },
    {
     "name": "stdout",
     "output_type": "stream",
     "text": [
      "Data-related classes: ['s-post-summary', 'js-post-summary', 's-post-summary--stats', 'js-post-summary-stats', 's-post-summary--stats-item__emphasized', 's-post-summary--content', 's-post-summary--content-title', 's-post-summary--content-excerpt', 's-post-summary--meta', 's-post-summary--meta-tags', 'd-inline-block', 'tags', 'js-tags', 'ml0', 'list-ls-none', 'js-post-tag-list-wrapper', 's-user-card', 's-user-card__minimal', 's-avatar', 's-avatar__16', 's-user-card--avatar', 'gravatar-wrapper-16', 's-avatar--image', 's-user-card--info', 's-user-card--link', 's-user-card--time', 'relativetime']\n"
     ]
    },
    {
     "name": "stderr",
     "output_type": "stream",
     "text": [
      "The chromedriver version (138.0.7204.183) detected in PATH at C:\\chromedriver-win64\\chromedriver.exe might not be compatible with the detected chrome version (139.0.7258.155); currently, chromedriver 139.0.7258.154 is recommended for chrome 139.*, so it is advised to delete the driver in PATH and retry\n"
     ]
    },
    {
     "name": "stdout",
     "output_type": "stream",
     "text": [
      "Data-related classes: ['s-post-summary', 'js-post-summary', 's-post-summary--stats', 'js-post-summary-stats', 's-post-summary--stats-item__emphasized', 'has-answers', 's-post-summary--content', 's-post-summary--content-title', 's-post-summary--content-excerpt', 's-post-summary--meta', 's-post-summary--meta-tags', 'd-inline-block', 'tags', 'js-tags', 'ml0', 'list-ls-none', 'js-post-tag-list-wrapper', 's-user-card', 's-user-card__minimal', 's-avatar', 's-avatar__16', 's-user-card--avatar', 'gravatar-wrapper-16', 's-avatar--image', 's-user-card--info', 's-user-card--link', 's-user-card--time', 'relativetime']\n"
     ]
    },
    {
     "name": "stderr",
     "output_type": "stream",
     "text": [
      "The chromedriver version (138.0.7204.183) detected in PATH at C:\\chromedriver-win64\\chromedriver.exe might not be compatible with the detected chrome version (139.0.7258.155); currently, chromedriver 139.0.7258.154 is recommended for chrome 139.*, so it is advised to delete the driver in PATH and retry\n",
      "The chromedriver version (138.0.7204.183) detected in PATH at C:\\chromedriver-win64\\chromedriver.exe might not be compatible with the detected chrome version (139.0.7258.155); currently, chromedriver 139.0.7258.154 is recommended for chrome 139.*, so it is advised to delete the driver in PATH and retry\n"
     ]
    },
    {
     "name": "stdout",
     "output_type": "stream",
     "text": [
      "Data-related classes: ['s-post-summary', 'js-post-summary', 's-post-summary--stats', 'js-post-summary-stats', 's-post-summary--stats-item__emphasized', 's-post-summary--content', 's-post-summary--content-title', 's-post-summary--content-excerpt', 's-post-summary--meta', 's-post-summary--meta-tags', 'd-inline-block', 'tags', 'js-tags', 'ml0', 'list-ls-none', 'js-post-tag-list-wrapper', 's-user-card', 's-user-card__minimal', 's-avatar', 's-avatar__16', 's-user-card--avatar', 'gravatar-wrapper-16', 's-avatar--image', 's-user-card--info', 's-user-card--link', 's-user-card--time', 'relativetime']\n"
     ]
    },
    {
     "name": "stderr",
     "output_type": "stream",
     "text": [
      "The chromedriver version (138.0.7204.183) detected in PATH at C:\\chromedriver-win64\\chromedriver.exe might not be compatible with the detected chrome version (139.0.7258.155); currently, chromedriver 139.0.7258.154 is recommended for chrome 139.*, so it is advised to delete the driver in PATH and retry\n",
      "The chromedriver version (138.0.7204.183) detected in PATH at C:\\chromedriver-win64\\chromedriver.exe might not be compatible with the detected chrome version (139.0.7258.155); currently, chromedriver 139.0.7258.154 is recommended for chrome 139.*, so it is advised to delete the driver in PATH and retry\n"
     ]
    },
    {
     "name": "stdout",
     "output_type": "stream",
     "text": [
      "Data-related classes: ['s-post-summary', 'js-post-summary', 's-post-summary--stats', 'js-post-summary-stats', 's-post-summary--stats-item__emphasized', 's-post-summary--content', 's-post-summary--content-title', 's-post-summary--content-excerpt', 's-post-summary--meta', 's-post-summary--meta-tags', 'd-inline-block', 'tags', 'js-tags', 'ml0', 'list-ls-none', 'js-post-tag-list-wrapper', 's-user-card', 's-user-card__minimal', 's-avatar', 's-avatar__16', 's-user-card--avatar', 'gravatar-wrapper-16', 's-avatar--image', 's-user-card--info', 's-user-card--link', 's-user-card--time', 'relativetime']\n"
     ]
    },
    {
     "name": "stderr",
     "output_type": "stream",
     "text": [
      "The chromedriver version (138.0.7204.183) detected in PATH at C:\\chromedriver-win64\\chromedriver.exe might not be compatible with the detected chrome version (139.0.7258.155); currently, chromedriver 139.0.7258.154 is recommended for chrome 139.*, so it is advised to delete the driver in PATH and retry\n"
     ]
    },
    {
     "name": "stdout",
     "output_type": "stream",
     "text": [
      "Data-related classes: ['s-post-summary', 'js-post-summary', 's-post-summary--stats', 'js-post-summary-stats', 's-post-summary--stats-item__emphasized', 's-post-summary--content', 's-post-summary--content-title', 's-post-summary--content-excerpt', 's-post-summary--meta', 's-post-summary--meta-tags', 'd-inline-block', 'tags', 'js-tags', 'ml0', 'list-ls-none', 'js-post-tag-list-wrapper', 's-user-card', 's-user-card__minimal', 's-avatar', 's-avatar__16', 's-user-card--avatar', 'gravatar-wrapper-16', 's-avatar--image', 's-user-card--info', 's-user-card--link', 's-user-card--time', 'relativetime']\n"
     ]
    },
    {
     "name": "stderr",
     "output_type": "stream",
     "text": [
      "The chromedriver version (138.0.7204.183) detected in PATH at C:\\chromedriver-win64\\chromedriver.exe might not be compatible with the detected chrome version (139.0.7258.155); currently, chromedriver 139.0.7258.154 is recommended for chrome 139.*, so it is advised to delete the driver in PATH and retry\n",
      "The chromedriver version (138.0.7204.183) detected in PATH at C:\\chromedriver-win64\\chromedriver.exe might not be compatible with the detected chrome version (139.0.7258.155); currently, chromedriver 139.0.7258.154 is recommended for chrome 139.*, so it is advised to delete the driver in PATH and retry\n"
     ]
    },
    {
     "name": "stdout",
     "output_type": "stream",
     "text": [
      "Data-related classes: ['s-post-summary', 'js-post-summary', 's-post-summary--stats', 'js-post-summary-stats', 's-post-summary--stats-item__emphasized', 's-post-summary--content', 's-post-summary--content-title', 's-post-summary--content-excerpt', 's-post-summary--meta', 's-post-summary--meta-tags', 'd-inline-block', 'tags', 'js-tags', 'ml0', 'list-ls-none', 'js-post-tag-list-wrapper', 's-user-card', 's-user-card__minimal', 's-avatar', 's-avatar__16', 's-user-card--avatar', 'gravatar-wrapper-16', 's-avatar--image', 's-user-card--info', 's-user-card--link', 's-user-card--time', 'relativetime']\n"
     ]
    },
    {
     "name": "stderr",
     "output_type": "stream",
     "text": [
      "The chromedriver version (138.0.7204.183) detected in PATH at C:\\chromedriver-win64\\chromedriver.exe might not be compatible with the detected chrome version (139.0.7258.155); currently, chromedriver 139.0.7258.154 is recommended for chrome 139.*, so it is advised to delete the driver in PATH and retry\n"
     ]
    },
    {
     "name": "stdout",
     "output_type": "stream",
     "text": [
      "Data-related classes: ['s-post-summary', 'js-post-summary', 's-post-summary--stats', 'js-post-summary-stats', 's-post-summary--stats-item__emphasized', 's-post-summary--content', 's-post-summary--content-title', 's-post-summary--content-excerpt', 's-post-summary--meta', 's-post-summary--meta-tags', 'd-inline-block', 'tags', 'js-tags', 'ml0', 'list-ls-none', 'js-post-tag-list-wrapper', 's-user-card', 's-user-card__minimal', 's-avatar', 's-avatar__16', 's-user-card--avatar', 'gravatar-wrapper-16', 's-avatar--image', 's-user-card--info', 's-user-card--link', 's-user-card--time', 'relativetime']\n"
     ]
    },
    {
     "name": "stderr",
     "output_type": "stream",
     "text": [
      "The chromedriver version (138.0.7204.183) detected in PATH at C:\\chromedriver-win64\\chromedriver.exe might not be compatible with the detected chrome version (139.0.7258.155); currently, chromedriver 139.0.7258.154 is recommended for chrome 139.*, so it is advised to delete the driver in PATH and retry\n",
      "The chromedriver version (138.0.7204.183) detected in PATH at C:\\chromedriver-win64\\chromedriver.exe might not be compatible with the detected chrome version (139.0.7258.155); currently, chromedriver 139.0.7258.154 is recommended for chrome 139.*, so it is advised to delete the driver in PATH and retry\n"
     ]
    },
    {
     "name": "stdout",
     "output_type": "stream",
     "text": [
      "Data-related classes: ['s-post-summary', 'js-post-summary', 's-post-summary--stats', 'js-post-summary-stats', 's-post-summary--stats-item__emphasized', 'has-answers', 's-post-summary--content', 's-post-summary--content-title', 's-post-summary--content-excerpt', 's-post-summary--meta', 's-post-summary--meta-tags', 'd-inline-block', 'tags', 'js-tags', 'ml0', 'list-ls-none', 'js-post-tag-list-wrapper', 's-user-card', 's-user-card__minimal', 's-avatar', 's-avatar__16', 's-user-card--avatar', 'gravatar-wrapper-16', 's-avatar--image', 's-user-card--info', 's-user-card--link', 's-user-card--time', 'relativetime']\n"
     ]
    },
    {
     "name": "stderr",
     "output_type": "stream",
     "text": [
      "The chromedriver version (138.0.7204.183) detected in PATH at C:\\chromedriver-win64\\chromedriver.exe might not be compatible with the detected chrome version (139.0.7258.155); currently, chromedriver 139.0.7258.154 is recommended for chrome 139.*, so it is advised to delete the driver in PATH and retry\n"
     ]
    },
    {
     "name": "stdout",
     "output_type": "stream",
     "text": [
      "Data-related classes: ['s-post-summary', 'js-post-summary', 's-post-summary--stats', 'js-post-summary-stats', 's-post-summary--stats-item__emphasized', 's-post-summary--content', 's-post-summary--content-title', 's-post-summary--content-excerpt', 's-post-summary--meta', 's-post-summary--meta-tags', 'd-inline-block', 'tags', 'js-tags', 'ml0', 'list-ls-none', 'js-post-tag-list-wrapper', 's-user-card', 's-user-card__minimal', 's-avatar', 's-avatar__16', 's-user-card--avatar', 'gravatar-wrapper-16', 's-avatar--image', 's-user-card--info', 's-user-card--link', 's-user-card--time', 'relativetime']\n"
     ]
    },
    {
     "name": "stderr",
     "output_type": "stream",
     "text": [
      "The chromedriver version (138.0.7204.183) detected in PATH at C:\\chromedriver-win64\\chromedriver.exe might not be compatible with the detected chrome version (139.0.7258.155); currently, chromedriver 139.0.7258.154 is recommended for chrome 139.*, so it is advised to delete the driver in PATH and retry\n",
      "The chromedriver version (138.0.7204.183) detected in PATH at C:\\chromedriver-win64\\chromedriver.exe might not be compatible with the detected chrome version (139.0.7258.155); currently, chromedriver 139.0.7258.154 is recommended for chrome 139.*, so it is advised to delete the driver in PATH and retry\n"
     ]
    },
    {
     "name": "stdout",
     "output_type": "stream",
     "text": [
      "Data-related classes: ['s-post-summary', 'js-post-summary', 's-post-summary--stats', 'js-post-summary-stats', 's-post-summary--stats-item__emphasized', 's-post-summary--content', 's-post-summary--content-title', 's-post-summary--content-excerpt', 's-post-summary--meta', 's-post-summary--meta-tags', 'd-inline-block', 'tags', 'js-tags', 'ml0', 'list-ls-none', 'js-post-tag-list-wrapper', 's-user-card', 's-user-card__minimal', 's-avatar', 's-avatar__16', 's-user-card--avatar', 'gravatar-wrapper-16', 's-avatar--image', 's-user-card--info', 's-user-card--link', 's-user-card--time', 'relativetime']\n"
     ]
    },
    {
     "name": "stderr",
     "output_type": "stream",
     "text": [
      "The chromedriver version (138.0.7204.183) detected in PATH at C:\\chromedriver-win64\\chromedriver.exe might not be compatible with the detected chrome version (139.0.7258.155); currently, chromedriver 139.0.7258.154 is recommended for chrome 139.*, so it is advised to delete the driver in PATH and retry\n",
      "The chromedriver version (138.0.7204.183) detected in PATH at C:\\chromedriver-win64\\chromedriver.exe might not be compatible with the detected chrome version (139.0.7258.155); currently, chromedriver 139.0.7258.154 is recommended for chrome 139.*, so it is advised to delete the driver in PATH and retry\n"
     ]
    },
    {
     "name": "stdout",
     "output_type": "stream",
     "text": [
      "Data-related classes: ['s-post-summary', 'js-post-summary', 's-post-summary--stats', 'js-post-summary-stats', 's-post-summary--stats-item__emphasized', 'has-answers', 's-post-summary--content', 's-post-summary--content-title', 's-post-summary--content-excerpt', 's-post-summary--meta', 's-post-summary--meta-tags', 'd-inline-block', 'tags', 'js-tags', 'ml0', 'list-ls-none', 'js-post-tag-list-wrapper', 's-user-card', 's-user-card__minimal', 's-avatar', 's-avatar__16', 's-user-card--avatar', 'gravatar-wrapper-16', 's-avatar--image', 's-user-card--info', 's-user-card--link', 's-user-card--time', 'relativetime']\n"
     ]
    },
    {
     "name": "stderr",
     "output_type": "stream",
     "text": [
      "The chromedriver version (138.0.7204.183) detected in PATH at C:\\chromedriver-win64\\chromedriver.exe might not be compatible with the detected chrome version (139.0.7258.155); currently, chromedriver 139.0.7258.154 is recommended for chrome 139.*, so it is advised to delete the driver in PATH and retry\n"
     ]
    },
    {
     "name": "stdout",
     "output_type": "stream",
     "text": [
      "Data-related classes: ['s-post-summary', 'js-post-summary', 's-post-summary--stats', 'js-post-summary-stats', 's-post-summary--stats-item__emphasized', 's-post-summary--content', 's-post-summary--content-title', 's-post-summary--content-excerpt', 's-post-summary--meta', 's-post-summary--meta-tags', 'd-inline-block', 'tags', 'js-tags', 'ml0', 'list-ls-none', 'js-post-tag-list-wrapper', 's-user-card', 's-user-card__minimal', 's-avatar', 's-avatar__16', 's-user-card--avatar', 'gravatar-wrapper-16', 's-avatar--image', 's-user-card--info', 's-user-card--link', 's-user-card--time', 'relativetime']\n"
     ]
    },
    {
     "name": "stderr",
     "output_type": "stream",
     "text": [
      "The chromedriver version (138.0.7204.183) detected in PATH at C:\\chromedriver-win64\\chromedriver.exe might not be compatible with the detected chrome version (139.0.7258.155); currently, chromedriver 139.0.7258.154 is recommended for chrome 139.*, so it is advised to delete the driver in PATH and retry\n",
      "The chromedriver version (138.0.7204.183) detected in PATH at C:\\chromedriver-win64\\chromedriver.exe might not be compatible with the detected chrome version (139.0.7258.155); currently, chromedriver 139.0.7258.154 is recommended for chrome 139.*, so it is advised to delete the driver in PATH and retry\n"
     ]
    },
    {
     "name": "stdout",
     "output_type": "stream",
     "text": [
      "Data-related classes: ['s-post-summary', 'js-post-summary', 's-post-summary--stats', 'js-post-summary-stats', 's-post-summary--stats-item__emphasized', 's-post-summary--content', 's-post-summary--content-title', 's-post-summary--content-excerpt', 's-post-summary--meta', 's-post-summary--meta-tags', 'd-inline-block', 'tags', 'js-tags', 'ml0', 'list-ls-none', 'js-post-tag-list-wrapper', 's-user-card', 's-user-card__minimal', 's-avatar', 's-avatar__16', 's-user-card--avatar', 'gravatar-wrapper-16', 's-avatar--image', 's-user-card--info', 's-user-card--link', 's-user-card--time', 'relativetime']\n"
     ]
    },
    {
     "name": "stderr",
     "output_type": "stream",
     "text": [
      "The chromedriver version (138.0.7204.183) detected in PATH at C:\\chromedriver-win64\\chromedriver.exe might not be compatible with the detected chrome version (139.0.7258.155); currently, chromedriver 139.0.7258.154 is recommended for chrome 139.*, so it is advised to delete the driver in PATH and retry\n",
      "The chromedriver version (138.0.7204.183) detected in PATH at C:\\chromedriver-win64\\chromedriver.exe might not be compatible with the detected chrome version (139.0.7258.155); currently, chromedriver 139.0.7258.154 is recommended for chrome 139.*, so it is advised to delete the driver in PATH and retry\n"
     ]
    },
    {
     "name": "stdout",
     "output_type": "stream",
     "text": [
      "Data-related classes: ['s-post-summary', 'js-post-summary', 's-post-summary--stats', 'js-post-summary-stats', 's-post-summary--stats-item__emphasized', 's-post-summary--content', 's-post-summary--content-title', 's-post-summary--content-excerpt', 's-post-summary--meta', 's-post-summary--meta-tags', 'd-inline-block', 'tags', 'js-tags', 'ml0', 'list-ls-none', 'js-post-tag-list-wrapper', 's-user-card', 's-user-card__minimal', 's-avatar', 's-avatar__16', 's-user-card--avatar', 'gravatar-wrapper-16', 's-avatar--image', 's-user-card--info', 's-user-card--link', 's-user-card--time', 'relativetime']\n"
     ]
    },
    {
     "name": "stderr",
     "output_type": "stream",
     "text": [
      "The chromedriver version (138.0.7204.183) detected in PATH at C:\\chromedriver-win64\\chromedriver.exe might not be compatible with the detected chrome version (139.0.7258.155); currently, chromedriver 139.0.7258.154 is recommended for chrome 139.*, so it is advised to delete the driver in PATH and retry\n"
     ]
    },
    {
     "name": "stdout",
     "output_type": "stream",
     "text": [
      "Data-related classes: ['s-post-summary', 'js-post-summary', 's-post-summary--stats', 'js-post-summary-stats', 's-post-summary--stats-item__emphasized', 's-post-summary--content', 's-post-summary--content-title', 's-post-summary--content-excerpt', 's-post-summary--meta', 's-post-summary--meta-tags', 'd-inline-block', 'tags', 'js-tags', 'ml0', 'list-ls-none', 'js-post-tag-list-wrapper', 's-user-card', 's-user-card__minimal', 's-avatar', 's-avatar__16', 's-user-card--avatar', 'gravatar-wrapper-16', 's-avatar--image', 's-user-card--info', 's-user-card--link', 's-user-card--time', 'relativetime']\n"
     ]
    },
    {
     "name": "stderr",
     "output_type": "stream",
     "text": [
      "The chromedriver version (138.0.7204.183) detected in PATH at C:\\chromedriver-win64\\chromedriver.exe might not be compatible with the detected chrome version (139.0.7258.155); currently, chromedriver 139.0.7258.154 is recommended for chrome 139.*, so it is advised to delete the driver in PATH and retry\n",
      "The chromedriver version (138.0.7204.183) detected in PATH at C:\\chromedriver-win64\\chromedriver.exe might not be compatible with the detected chrome version (139.0.7258.155); currently, chromedriver 139.0.7258.154 is recommended for chrome 139.*, so it is advised to delete the driver in PATH and retry\n"
     ]
    },
    {
     "name": "stdout",
     "output_type": "stream",
     "text": [
      "Data-related classes: ['s-post-summary', 'js-post-summary', 's-post-summary--stats', 'js-post-summary-stats', 's-post-summary--stats-item__emphasized', 's-post-summary--content', 's-post-summary--content-title', 's-post-summary--content-excerpt', 's-post-summary--meta', 's-post-summary--meta-tags', 'd-inline-block', 'tags', 'js-tags', 'ml0', 'list-ls-none', 'js-post-tag-list-wrapper', 's-user-card', 's-user-card__minimal', 's-avatar', 's-avatar__16', 's-user-card--avatar', 'gravatar-wrapper-16', 's-avatar--image', 's-user-card--info', 's-user-card--link', 's-user-card--time', 'relativetime']\n"
     ]
    },
    {
     "name": "stderr",
     "output_type": "stream",
     "text": [
      "The chromedriver version (138.0.7204.183) detected in PATH at C:\\chromedriver-win64\\chromedriver.exe might not be compatible with the detected chrome version (139.0.7258.155); currently, chromedriver 139.0.7258.154 is recommended for chrome 139.*, so it is advised to delete the driver in PATH and retry\n"
     ]
    },
    {
     "name": "stdout",
     "output_type": "stream",
     "text": [
      "Data-related classes: ['s-post-summary', 'js-post-summary', 's-post-summary--stats', 'js-post-summary-stats', 's-post-summary--stats-item__emphasized', 's-post-summary--content', 's-post-summary--content-title', 's-post-summary--content-excerpt', 's-post-summary--meta', 's-post-summary--meta-tags', 'd-inline-block', 'tags', 'js-tags', 'ml0', 'list-ls-none', 'js-post-tag-list-wrapper', 's-user-card', 's-user-card__minimal', 's-avatar', 's-avatar__16', 's-user-card--avatar', 'gravatar-wrapper-16', 's-avatar--image', 's-user-card--info', 's-user-card--link', 's-user-card--time', 'relativetime']\n"
     ]
    },
    {
     "name": "stderr",
     "output_type": "stream",
     "text": [
      "The chromedriver version (138.0.7204.183) detected in PATH at C:\\chromedriver-win64\\chromedriver.exe might not be compatible with the detected chrome version (139.0.7258.155); currently, chromedriver 139.0.7258.154 is recommended for chrome 139.*, so it is advised to delete the driver in PATH and retry\n"
     ]
    },
    {
     "name": "stdout",
     "output_type": "stream",
     "text": [
      "Data-related classes: ['s-post-summary', 'js-post-summary', 's-post-summary--stats', 'js-post-summary-stats', 's-post-summary--stats-item__emphasized', 'has-answers', 's-post-summary--content', 's-post-summary--content-title', 's-post-summary--content-excerpt', 's-post-summary--meta', 's-post-summary--meta-tags', 'd-inline-block', 'tags', 'js-tags', 'ml0', 'list-ls-none', 'js-post-tag-list-wrapper', 's-user-card', 's-user-card__minimal', 's-avatar', 's-avatar__16', 's-user-card--avatar', 'gravatar-wrapper-16', 's-avatar--image', 's-user-card--info', 's-user-card--link', 's-user-card--time', 'relativetime']\n"
     ]
    },
    {
     "name": "stderr",
     "output_type": "stream",
     "text": [
      "The chromedriver version (138.0.7204.183) detected in PATH at C:\\chromedriver-win64\\chromedriver.exe might not be compatible with the detected chrome version (139.0.7258.155); currently, chromedriver 139.0.7258.154 is recommended for chrome 139.*, so it is advised to delete the driver in PATH and retry\n",
      "The chromedriver version (138.0.7204.183) detected in PATH at C:\\chromedriver-win64\\chromedriver.exe might not be compatible with the detected chrome version (139.0.7258.155); currently, chromedriver 139.0.7258.154 is recommended for chrome 139.*, so it is advised to delete the driver in PATH and retry\n"
     ]
    },
    {
     "name": "stdout",
     "output_type": "stream",
     "text": [
      "Data-related classes: ['s-post-summary', 'js-post-summary', 's-post-summary--stats', 'js-post-summary-stats', 's-post-summary--stats-item__emphasized', 's-post-summary--content', 's-post-summary--content-title', 's-post-summary--content-excerpt', 's-post-summary--meta', 's-post-summary--meta-tags', 'd-inline-block', 'tags', 'js-tags', 'ml0', 'list-ls-none', 'js-post-tag-list-wrapper', 's-user-card', 's-user-card__minimal', 's-avatar', 's-avatar__16', 's-user-card--avatar', 'gravatar-wrapper-16', 's-avatar--image', 's-user-card--info', 's-user-card--link', 's-user-card--time', 'relativetime']\n"
     ]
    },
    {
     "name": "stderr",
     "output_type": "stream",
     "text": [
      "The chromedriver version (138.0.7204.183) detected in PATH at C:\\chromedriver-win64\\chromedriver.exe might not be compatible with the detected chrome version (139.0.7258.155); currently, chromedriver 139.0.7258.154 is recommended for chrome 139.*, so it is advised to delete the driver in PATH and retry\n",
      "The chromedriver version (138.0.7204.183) detected in PATH at C:\\chromedriver-win64\\chromedriver.exe might not be compatible with the detected chrome version (139.0.7258.155); currently, chromedriver 139.0.7258.154 is recommended for chrome 139.*, so it is advised to delete the driver in PATH and retry\n"
     ]
    },
    {
     "name": "stdout",
     "output_type": "stream",
     "text": [
      "Data-related classes: ['s-post-summary', 'js-post-summary', 's-post-summary--stats', 'js-post-summary-stats', 's-post-summary--stats-item__emphasized', 's-post-summary--content', 's-post-summary--content-title', 's-post-summary--content-excerpt', 's-post-summary--meta', 's-post-summary--meta-tags', 'd-inline-block', 'tags', 'js-tags', 'ml0', 'list-ls-none', 'js-post-tag-list-wrapper', 's-user-card', 's-user-card__minimal', 's-avatar', 's-avatar__16', 's-user-card--avatar', 'gravatar-wrapper-16', 's-avatar--image', 's-user-card--info', 's-user-card--link', 's-user-card--time', 'relativetime']\n"
     ]
    },
    {
     "name": "stderr",
     "output_type": "stream",
     "text": [
      "The chromedriver version (138.0.7204.183) detected in PATH at C:\\chromedriver-win64\\chromedriver.exe might not be compatible with the detected chrome version (139.0.7258.155); currently, chromedriver 139.0.7258.154 is recommended for chrome 139.*, so it is advised to delete the driver in PATH and retry\n",
      "The chromedriver version (138.0.7204.183) detected in PATH at C:\\chromedriver-win64\\chromedriver.exe might not be compatible with the detected chrome version (139.0.7258.155); currently, chromedriver 139.0.7258.154 is recommended for chrome 139.*, so it is advised to delete the driver in PATH and retry\n"
     ]
    },
    {
     "name": "stdout",
     "output_type": "stream",
     "text": [
      "Data-related classes: ['s-post-summary', 'js-post-summary', 's-post-summary--stats', 'js-post-summary-stats', 's-post-summary--stats-item__emphasized', 's-post-summary--content', 's-post-summary--content-title', 's-post-summary--content-excerpt', 's-post-summary--meta', 's-post-summary--meta-tags', 'd-inline-block', 'tags', 'js-tags', 'ml0', 'list-ls-none', 'js-post-tag-list-wrapper', 's-user-card', 's-user-card__minimal', 's-avatar', 's-avatar__16', 's-user-card--avatar', 'gravatar-wrapper-16', 's-avatar--image', 's-user-card--info', 's-user-card--link', 's-user-card--time', 'relativetime']\n"
     ]
    },
    {
     "name": "stderr",
     "output_type": "stream",
     "text": [
      "The chromedriver version (138.0.7204.183) detected in PATH at C:\\chromedriver-win64\\chromedriver.exe might not be compatible with the detected chrome version (139.0.7258.155); currently, chromedriver 139.0.7258.154 is recommended for chrome 139.*, so it is advised to delete the driver in PATH and retry\n"
     ]
    },
    {
     "name": "stdout",
     "output_type": "stream",
     "text": [
      "Data-related classes: ['s-post-summary', 'js-post-summary', 's-post-summary--stats', 'js-post-summary-stats', 's-post-summary--stats-item__emphasized', 'has-answers', 's-post-summary--content', 's-post-summary--content-title', 's-post-summary--content-excerpt', 's-post-summary--meta', 's-post-summary--meta-tags', 'd-inline-block', 'tags', 'js-tags', 'ml0', 'list-ls-none', 'js-post-tag-list-wrapper', 's-user-card', 's-user-card__minimal', 's-avatar', 's-avatar__16', 's-user-card--avatar', 'gravatar-wrapper-16', 's-avatar--image', 's-user-card--info', 's-user-card--link', 's-user-card--time', 'relativetime']\n"
     ]
    },
    {
     "name": "stderr",
     "output_type": "stream",
     "text": [
      "The chromedriver version (138.0.7204.183) detected in PATH at C:\\chromedriver-win64\\chromedriver.exe might not be compatible with the detected chrome version (139.0.7258.155); currently, chromedriver 139.0.7258.154 is recommended for chrome 139.*, so it is advised to delete the driver in PATH and retry\n"
     ]
    },
    {
     "name": "stdout",
     "output_type": "stream",
     "text": [
      "Data-related classes: ['s-post-summary', 'js-post-summary', 's-post-summary--stats', 'js-post-summary-stats', 's-post-summary--stats-item__emphasized', 's-post-summary--content', 's-post-summary--content-title', 's-post-summary--content-excerpt', 's-post-summary--meta', 's-post-summary--meta-tags', 'd-inline-block', 'tags', 'js-tags', 'ml0', 'list-ls-none', 'js-post-tag-list-wrapper', 's-user-card', 's-user-card__minimal', 's-avatar', 's-avatar__16', 's-user-card--avatar', 'gravatar-wrapper-16', 's-avatar--image', 's-user-card--info', 's-user-card--link', 's-user-card--time', 'relativetime']\n"
     ]
    },
    {
     "name": "stderr",
     "output_type": "stream",
     "text": [
      "The chromedriver version (138.0.7204.183) detected in PATH at C:\\chromedriver-win64\\chromedriver.exe might not be compatible with the detected chrome version (139.0.7258.155); currently, chromedriver 139.0.7258.154 is recommended for chrome 139.*, so it is advised to delete the driver in PATH and retry\n",
      "The chromedriver version (138.0.7204.183) detected in PATH at C:\\chromedriver-win64\\chromedriver.exe might not be compatible with the detected chrome version (139.0.7258.155); currently, chromedriver 139.0.7258.154 is recommended for chrome 139.*, so it is advised to delete the driver in PATH and retry\n"
     ]
    },
    {
     "name": "stdout",
     "output_type": "stream",
     "text": [
      "Data-related classes: ['s-post-summary', 'js-post-summary', 's-post-summary--stats', 'js-post-summary-stats', 's-post-summary--stats-item__emphasized', 's-post-summary--content', 's-post-summary--content-title', 's-post-summary--content-excerpt', 's-post-summary--meta', 's-post-summary--meta-tags', 'd-inline-block', 'tags', 'js-tags', 'ml0', 'list-ls-none', 'js-post-tag-list-wrapper', 's-user-card', 's-user-card__minimal', 's-avatar', 's-avatar__16', 's-user-card--avatar', 'gravatar-wrapper-16', 's-avatar--image', 's-user-card--info', 's-user-card--link', 's-user-card--time', 'relativetime']\n"
     ]
    },
    {
     "name": "stderr",
     "output_type": "stream",
     "text": [
      "The chromedriver version (138.0.7204.183) detected in PATH at C:\\chromedriver-win64\\chromedriver.exe might not be compatible with the detected chrome version (139.0.7258.155); currently, chromedriver 139.0.7258.154 is recommended for chrome 139.*, so it is advised to delete the driver in PATH and retry\n",
      "The chromedriver version (138.0.7204.183) detected in PATH at C:\\chromedriver-win64\\chromedriver.exe might not be compatible with the detected chrome version (139.0.7258.155); currently, chromedriver 139.0.7258.154 is recommended for chrome 139.*, so it is advised to delete the driver in PATH and retry\n"
     ]
    },
    {
     "name": "stdout",
     "output_type": "stream",
     "text": [
      "Data-related classes: ['s-post-summary', 'js-post-summary', 's-post-summary--stats', 'js-post-summary-stats', 's-post-summary--stats-item__emphasized', 's-post-summary--content', 's-post-summary--content-title', 's-post-summary--content-excerpt', 's-post-summary--meta', 's-post-summary--meta-tags', 'd-inline-block', 'tags', 'js-tags', 'ml0', 'list-ls-none', 'js-post-tag-list-wrapper', 's-user-card', 's-user-card__minimal', 's-avatar', 's-avatar__16', 's-user-card--avatar', 'gravatar-wrapper-16', 's-avatar--image', 's-user-card--info', 's-user-card--link', 's-user-card--time', 'relativetime']\n"
     ]
    },
    {
     "name": "stderr",
     "output_type": "stream",
     "text": [
      "The chromedriver version (138.0.7204.183) detected in PATH at C:\\chromedriver-win64\\chromedriver.exe might not be compatible with the detected chrome version (139.0.7258.155); currently, chromedriver 139.0.7258.154 is recommended for chrome 139.*, so it is advised to delete the driver in PATH and retry\n",
      "The chromedriver version (138.0.7204.183) detected in PATH at C:\\chromedriver-win64\\chromedriver.exe might not be compatible with the detected chrome version (139.0.7258.155); currently, chromedriver 139.0.7258.154 is recommended for chrome 139.*, so it is advised to delete the driver in PATH and retry\n"
     ]
    },
    {
     "name": "stdout",
     "output_type": "stream",
     "text": [
      "Data-related classes: ['s-post-summary', 'js-post-summary', 's-post-summary--stats', 'js-post-summary-stats', 's-post-summary--stats-item__emphasized', 'has-answers', 's-post-summary--content', 's-post-summary--content-title', 's-post-summary--content-excerpt', 's-post-summary--meta', 's-post-summary--meta-tags', 'd-inline-block', 'tags', 'js-tags', 'ml0', 'list-ls-none', 'js-post-tag-list-wrapper', 's-user-card', 's-user-card__minimal', 's-avatar', 's-avatar__16', 's-user-card--avatar', 'gravatar-wrapper-16', 's-avatar--image', 's-user-card--info', 's-user-card--link', 's-user-card--time', 'relativetime']\n"
     ]
    },
    {
     "name": "stderr",
     "output_type": "stream",
     "text": [
      "The chromedriver version (138.0.7204.183) detected in PATH at C:\\chromedriver-win64\\chromedriver.exe might not be compatible with the detected chrome version (139.0.7258.155); currently, chromedriver 139.0.7258.154 is recommended for chrome 139.*, so it is advised to delete the driver in PATH and retry\n"
     ]
    },
    {
     "name": "stdout",
     "output_type": "stream",
     "text": [
      "Data-related classes: ['s-post-summary', 'js-post-summary', 's-post-summary--stats', 'js-post-summary-stats', 's-post-summary--stats-item__emphasized', 's-post-summary--content', 's-post-summary--content-title', 's-post-summary--content-excerpt', 's-post-summary--meta', 's-post-summary--meta-tags', 'd-inline-block', 'tags', 'js-tags', 'ml0', 'list-ls-none', 'js-post-tag-list-wrapper', 's-user-card', 's-user-card__minimal', 's-avatar', 's-avatar__16', 's-user-card--avatar', 'gravatar-wrapper-16', 's-avatar--image', 's-user-card--info', 's-user-card--link', 's-user-card--time', 'relativetime']\n"
     ]
    },
    {
     "name": "stderr",
     "output_type": "stream",
     "text": [
      "The chromedriver version (138.0.7204.183) detected in PATH at C:\\chromedriver-win64\\chromedriver.exe might not be compatible with the detected chrome version (139.0.7258.155); currently, chromedriver 139.0.7258.154 is recommended for chrome 139.*, so it is advised to delete the driver in PATH and retry\n",
      "The chromedriver version (138.0.7204.183) detected in PATH at C:\\chromedriver-win64\\chromedriver.exe might not be compatible with the detected chrome version (139.0.7258.155); currently, chromedriver 139.0.7258.154 is recommended for chrome 139.*, so it is advised to delete the driver in PATH and retry\n"
     ]
    },
    {
     "name": "stdout",
     "output_type": "stream",
     "text": [
      "Data-related classes: ['mr4', 'js-post-tag-list-item', 's-tag', 'post-tag', 'mt0']\n",
      "Data-related classes: ['s-post-summary', 'js-post-summary', 's-post-summary--stats', 'js-post-summary-stats', 's-post-summary--stats-item__emphasized', 's-post-summary--content', 's-post-summary--content-title', 's-post-summary--content-excerpt', 's-post-summary--meta', 's-post-summary--meta-tags', 'd-inline-block', 'tags', 'js-tags', 'ml0', 'list-ls-none', 'js-post-tag-list-wrapper', 's-user-card', 's-user-card__minimal', 's-avatar', 's-avatar__16', 's-user-card--avatar', 'gravatar-wrapper-16', 's-avatar--image', 's-user-card--info', 's-user-card--link', 's-user-card--awards', 's-user-card--rep', 'todo-no-class-here', 's-user-card--time', 'relativetime']\n"
     ]
    },
    {
     "name": "stderr",
     "output_type": "stream",
     "text": [
      "The chromedriver version (138.0.7204.183) detected in PATH at C:\\chromedriver-win64\\chromedriver.exe might not be compatible with the detected chrome version (139.0.7258.155); currently, chromedriver 139.0.7258.154 is recommended for chrome 139.*, so it is advised to delete the driver in PATH and retry\n"
     ]
    },
    {
     "name": "stdout",
     "output_type": "stream",
     "text": [
      "Data-related classes: ['s-post-summary', 'js-post-summary', 's-post-summary--stats', 'js-post-summary-stats', 's-post-summary--stats-item__emphasized', 's-post-summary--content', 's-post-summary--content-title', 's-post-summary--content-excerpt', 's-post-summary--meta', 's-post-summary--meta-tags', 'd-inline-block', 'tags', 'js-tags', 'ml0', 'list-ls-none', 'js-post-tag-list-wrapper', 's-user-card', 's-user-card__minimal', 's-avatar', 's-avatar__16', 's-user-card--avatar', 'gravatar-wrapper-16', 's-avatar--image', 's-user-card--info', 's-user-card--link', 's-user-card--awards', 's-user-card--rep', 'todo-no-class-here', 's-user-card--time', 'relativetime']\n"
     ]
    },
    {
     "name": "stderr",
     "output_type": "stream",
     "text": [
      "The chromedriver version (138.0.7204.183) detected in PATH at C:\\chromedriver-win64\\chromedriver.exe might not be compatible with the detected chrome version (139.0.7258.155); currently, chromedriver 139.0.7258.154 is recommended for chrome 139.*, so it is advised to delete the driver in PATH and retry\n"
     ]
    },
    {
     "name": "stdout",
     "output_type": "stream",
     "text": [
      "Data-related classes: ['s-post-summary', 'js-post-summary', 's-post-summary--stats', 'js-post-summary-stats', 's-post-summary--stats-item__emphasized', 's-post-summary--content', 's-post-summary--content-title', 's-post-summary--content-excerpt', 's-post-summary--meta', 's-post-summary--meta-tags', 'd-inline-block', 'tags', 'js-tags', 'ml0', 'list-ls-none', 'js-post-tag-list-wrapper', 's-user-card', 's-user-card__minimal', 's-avatar', 's-avatar__16', 's-user-card--avatar', 'gravatar-wrapper-16', 's-avatar--image', 's-user-card--info', 's-user-card--link', 's-user-card--time', 'relativetime']\n"
     ]
    },
    {
     "name": "stderr",
     "output_type": "stream",
     "text": [
      "The chromedriver version (138.0.7204.183) detected in PATH at C:\\chromedriver-win64\\chromedriver.exe might not be compatible with the detected chrome version (139.0.7258.155); currently, chromedriver 139.0.7258.154 is recommended for chrome 139.*, so it is advised to delete the driver in PATH and retry\n",
      "The chromedriver version (138.0.7204.183) detected in PATH at C:\\chromedriver-win64\\chromedriver.exe might not be compatible with the detected chrome version (139.0.7258.155); currently, chromedriver 139.0.7258.154 is recommended for chrome 139.*, so it is advised to delete the driver in PATH and retry\n"
     ]
    },
    {
     "name": "stdout",
     "output_type": "stream",
     "text": [
      "Data-related classes: ['s-post-summary', 'js-post-summary', 's-post-summary--stats', 'js-post-summary-stats', 's-post-summary--stats-item__emphasized', 'has-answers', 's-post-summary--content', 's-post-summary--content-title', 's-post-summary--content-excerpt', 's-post-summary--meta', 's-post-summary--meta-tags', 'd-inline-block', 'tags', 'js-tags', 'ml0', 'list-ls-none', 'js-post-tag-list-wrapper', 's-user-card', 's-user-card__minimal', 's-avatar', 's-avatar__16', 's-user-card--avatar', 'gravatar-wrapper-16', 's-avatar--image', 's-user-card--info', 's-user-card--link', 's-user-card--time', 'relativetime']\n"
     ]
    },
    {
     "name": "stderr",
     "output_type": "stream",
     "text": [
      "The chromedriver version (138.0.7204.183) detected in PATH at C:\\chromedriver-win64\\chromedriver.exe might not be compatible with the detected chrome version (139.0.7258.155); currently, chromedriver 139.0.7258.154 is recommended for chrome 139.*, so it is advised to delete the driver in PATH and retry\n"
     ]
    },
    {
     "name": "stdout",
     "output_type": "stream",
     "text": [
      "Data-related classes: ['s-post-summary', 'js-post-summary', 's-post-summary--stats', 'js-post-summary-stats', 's-post-summary--stats-item__emphasized', 's-post-summary--content', 's-post-summary--content-title', 's-post-summary--content-excerpt', 's-post-summary--meta', 's-post-summary--meta-tags', 'd-inline-block', 'tags', 'js-tags', 'ml0', 'list-ls-none', 'js-post-tag-list-wrapper', 's-user-card', 's-user-card__minimal', 's-avatar', 's-avatar__16', 's-user-card--avatar', 'gravatar-wrapper-16', 's-avatar--image', 's-user-card--info', 's-user-card--link', 's-user-card--time', 'relativetime']\n"
     ]
    },
    {
     "name": "stderr",
     "output_type": "stream",
     "text": [
      "The chromedriver version (138.0.7204.183) detected in PATH at C:\\chromedriver-win64\\chromedriver.exe might not be compatible with the detected chrome version (139.0.7258.155); currently, chromedriver 139.0.7258.154 is recommended for chrome 139.*, so it is advised to delete the driver in PATH and retry\n"
     ]
    },
    {
     "name": "stdout",
     "output_type": "stream",
     "text": [
      "Data-related classes: ['s-post-summary', 'js-post-summary', 's-post-summary--stats', 'js-post-summary-stats', 's-post-summary--stats-item__emphasized', 'has-answers', 's-post-summary--content', 's-post-summary--content-title', 's-post-summary--content-excerpt', 's-post-summary--meta', 's-post-summary--meta-tags', 'd-inline-block', 'tags', 'js-tags', 'ml0', 'list-ls-none', 'js-post-tag-list-wrapper', 's-user-card', 's-user-card__minimal', 's-avatar', 's-avatar__16', 's-user-card--avatar', 'gravatar-wrapper-16', 's-avatar--image', 's-user-card--info', 's-user-card--link', 's-user-card--awards', 's-user-card--rep', 'todo-no-class-here', 's-user-card--time', 'relativetime']\n"
     ]
    },
    {
     "name": "stderr",
     "output_type": "stream",
     "text": [
      "The chromedriver version (138.0.7204.183) detected in PATH at C:\\chromedriver-win64\\chromedriver.exe might not be compatible with the detected chrome version (139.0.7258.155); currently, chromedriver 139.0.7258.154 is recommended for chrome 139.*, so it is advised to delete the driver in PATH and retry\n",
      "The chromedriver version (138.0.7204.183) detected in PATH at C:\\chromedriver-win64\\chromedriver.exe might not be compatible with the detected chrome version (139.0.7258.155); currently, chromedriver 139.0.7258.154 is recommended for chrome 139.*, so it is advised to delete the driver in PATH and retry\n"
     ]
    },
    {
     "name": "stdout",
     "output_type": "stream",
     "text": [
      "Data-related classes: ['s-post-summary', 'js-post-summary', 's-post-summary--stats', 'js-post-summary-stats', 's-post-summary--stats-item__emphasized', 's-post-summary--content', 's-post-summary--content-title', 's-post-summary--content-excerpt', 's-post-summary--meta', 's-post-summary--meta-tags', 'd-inline-block', 'tags', 'js-tags', 'ml0', 'list-ls-none', 'js-post-tag-list-wrapper', 's-user-card', 's-user-card__minimal', 's-avatar', 's-avatar__16', 's-user-card--avatar', 'gravatar-wrapper-16', 's-avatar--image', 's-user-card--info', 's-user-card--link', 's-user-card--time', 'relativetime']\n"
     ]
    },
    {
     "name": "stderr",
     "output_type": "stream",
     "text": [
      "The chromedriver version (138.0.7204.183) detected in PATH at C:\\chromedriver-win64\\chromedriver.exe might not be compatible with the detected chrome version (139.0.7258.155); currently, chromedriver 139.0.7258.154 is recommended for chrome 139.*, so it is advised to delete the driver in PATH and retry\n",
      "The chromedriver version (138.0.7204.183) detected in PATH at C:\\chromedriver-win64\\chromedriver.exe might not be compatible with the detected chrome version (139.0.7258.155); currently, chromedriver 139.0.7258.154 is recommended for chrome 139.*, so it is advised to delete the driver in PATH and retry\n"
     ]
    },
    {
     "name": "stdout",
     "output_type": "stream",
     "text": [
      "Data-related classes: ['s-post-summary', 'js-post-summary', 's-post-summary--stats', 'js-post-summary-stats', 's-post-summary--stats-item__emphasized', 's-post-summary--content', 's-post-summary--content-title', 's-post-summary--content-excerpt', 's-post-summary--meta', 's-post-summary--meta-tags', 'd-inline-block', 'tags', 'js-tags', 'ml0', 'list-ls-none', 'js-post-tag-list-wrapper', 's-user-card', 's-user-card__minimal', 's-avatar', 's-avatar__16', 's-user-card--avatar', 'gravatar-wrapper-16', 's-avatar--image', 's-user-card--info', 's-user-card--link', 's-user-card--awards', 's-user-card--rep', 'todo-no-class-here', 's-user-card--time', 'relativetime']\n"
     ]
    },
    {
     "name": "stderr",
     "output_type": "stream",
     "text": [
      "The chromedriver version (138.0.7204.183) detected in PATH at C:\\chromedriver-win64\\chromedriver.exe might not be compatible with the detected chrome version (139.0.7258.155); currently, chromedriver 139.0.7258.154 is recommended for chrome 139.*, so it is advised to delete the driver in PATH and retry\n"
     ]
    },
    {
     "name": "stdout",
     "output_type": "stream",
     "text": [
      "Data-related classes: ['s-post-summary', 'js-post-summary', 's-post-summary--stats', 'js-post-summary-stats', 's-post-summary--stats-item__emphasized', 's-post-summary--content', 's-post-summary--content-title', 's-post-summary--content-excerpt', 's-post-summary--meta', 's-post-summary--meta-tags', 'd-inline-block', 'tags', 'js-tags', 'ml0', 'list-ls-none', 'js-post-tag-list-wrapper', 's-user-card', 's-user-card__minimal', 's-avatar', 's-avatar__16', 's-user-card--avatar', 'gravatar-wrapper-16', 's-avatar--image', 's-user-card--info', 's-user-card--link', 's-user-card--time', 'relativetime']\n"
     ]
    },
    {
     "name": "stderr",
     "output_type": "stream",
     "text": [
      "The chromedriver version (138.0.7204.183) detected in PATH at C:\\chromedriver-win64\\chromedriver.exe might not be compatible with the detected chrome version (139.0.7258.155); currently, chromedriver 139.0.7258.154 is recommended for chrome 139.*, so it is advised to delete the driver in PATH and retry\n"
     ]
    },
    {
     "name": "stdout",
     "output_type": "stream",
     "text": [
      "Data-related classes: ['s-post-summary', 'js-post-summary', 's-post-summary--stats', 'js-post-summary-stats', 's-post-summary--stats-item__emphasized', 's-post-summary--content', 's-post-summary--content-title', 's-post-summary--content-excerpt', 's-post-summary--meta', 's-post-summary--meta-tags', 'd-inline-block', 'tags', 'js-tags', 'ml0', 'list-ls-none', 'js-post-tag-list-wrapper', 's-user-card', 's-user-card__minimal', 's-avatar', 's-avatar__16', 's-user-card--avatar', 'gravatar-wrapper-16', 's-avatar--image', 's-user-card--info', 's-user-card--link', 's-user-card--time', 'relativetime']\n"
     ]
    },
    {
     "name": "stderr",
     "output_type": "stream",
     "text": [
      "The chromedriver version (138.0.7204.183) detected in PATH at C:\\chromedriver-win64\\chromedriver.exe might not be compatible with the detected chrome version (139.0.7258.155); currently, chromedriver 139.0.7258.154 is recommended for chrome 139.*, so it is advised to delete the driver in PATH and retry\n",
      "The chromedriver version (138.0.7204.183) detected in PATH at C:\\chromedriver-win64\\chromedriver.exe might not be compatible with the detected chrome version (139.0.7258.155); currently, chromedriver 139.0.7258.154 is recommended for chrome 139.*, so it is advised to delete the driver in PATH and retry\n"
     ]
    },
    {
     "name": "stdout",
     "output_type": "stream",
     "text": [
      "Data-related classes: ['s-post-summary', 'js-post-summary', 's-post-summary--stats', 'js-post-summary-stats', 's-post-summary--stats-item__emphasized', 'has-answers', 's-post-summary--content', 's-post-summary--content-title', 's-post-summary--content-excerpt', 's-post-summary--meta', 's-post-summary--meta-tags', 'd-inline-block', 'tags', 'js-tags', 'ml0', 'list-ls-none', 'js-post-tag-list-wrapper', 's-user-card', 's-user-card__minimal', 's-avatar', 's-avatar__16', 's-user-card--avatar', 'gravatar-wrapper-16', 's-avatar--image', 's-user-card--info', 's-user-card--link', 's-user-card--time', 'relativetime']\n"
     ]
    },
    {
     "name": "stderr",
     "output_type": "stream",
     "text": [
      "The chromedriver version (138.0.7204.183) detected in PATH at C:\\chromedriver-win64\\chromedriver.exe might not be compatible with the detected chrome version (139.0.7258.155); currently, chromedriver 139.0.7258.154 is recommended for chrome 139.*, so it is advised to delete the driver in PATH and retry\n",
      "The chromedriver version (138.0.7204.183) detected in PATH at C:\\chromedriver-win64\\chromedriver.exe might not be compatible with the detected chrome version (139.0.7258.155); currently, chromedriver 139.0.7258.154 is recommended for chrome 139.*, so it is advised to delete the driver in PATH and retry\n"
     ]
    }
   ],
   "source": [
    "\n",
    "for i in range(len(os.listdir(\"loop_html\"))):\n",
    "    with open(f\"loop_html/philosophy_questions_page_{i+1}.html\", \"r\", encoding=\"utf-8\") as f:\n",
    "        html = f.read()\n",
    "    elements = parse_html(html)\n",
    "    json_data = convert_to_json_manual(elements)\n",
    "    with open(f\"loop_json/philosophy_questions_page_{i+1}.json\", \"w\", encoding=\"utf-8\") as f:\n",
    "        json.dump(json_data, f, indent=2)"
   ]
  },
  {
   "cell_type": "code",
   "execution_count": 13,
   "id": "7ba2cd59",
   "metadata": {},
   "outputs": [],
   "source": [
    "json_data = {\"questions\": []}\n",
    "\n",
    "for i in range(len(os.listdir(\"loop_json\"))):\n",
    "    with open(f\"loop_json/philosophy_questions_page_{i+1}.json\", \"r\", encoding=\"utf-8\") as f:\n",
    "        page_data = json.load(f)\n",
    "    json_data[\"questions\"].extend(page_data)\n",
    "\n",
    "with open(\"philosophy_questions_all.json\", \"w\", encoding=\"utf-8\") as f:\n",
    "    json.dump(json_data, f, indent=2)"
   ]
  },
  {
   "cell_type": "markdown",
   "id": "442d7e2c",
   "metadata": {},
   "source": [
    "## testing/example"
   ]
  },
  {
   "cell_type": "code",
   "execution_count": 11,
   "id": "adc4f3d8",
   "metadata": {},
   "outputs": [
    {
     "name": "stdout",
     "output_type": "stream",
     "text": [
      "Paginating\n",
      "Scraping https://books.toscrape.com/\n",
      "Data-related classes: ['col-xs-6', 'col-lg-3', 'product_pod', 'image_container', 'thumbnail', 'star-rating', 'product_price', 'price_color', 'instock', 'availability', 'icon-ok', 'btn', 'btn-primary', 'btn-block']\n",
      "Scraping https://books.toscrape.com/catalogue/page-2.html\n",
      "Data-related classes: ['col-xs-6', 'col-lg-3', 'product_pod', 'image_container', 'thumbnail', 'star-rating', 'product_price', 'price_color', 'instock', 'availability', 'icon-ok', 'btn', 'btn-primary', 'btn-block']\n",
      "Scraping https://books.toscrape.com/catalogue/page-3.html\n",
      "Data-related classes: ['col-xs-6', 'col-lg-3', 'product_pod', 'image_container', 'thumbnail', 'star-rating', 'product_price', 'price_color', 'instock', 'availability', 'icon-ok', 'btn', 'btn-primary', 'btn-block']\n",
      "Scraping https://books.toscrape.com/catalogue/page-4.html\n",
      "Data-related classes: ['col-xs-6', 'col-lg-3', 'product_pod', 'image_container', 'thumbnail', 'star-rating', 'product_price', 'price_color', 'instock', 'availability', 'icon-ok', 'btn', 'btn-primary', 'btn-block']\n",
      "Scraping https://books.toscrape.com/catalogue/page-5.html\n",
      "Data-related classes: ['col-xs-6', 'col-lg-3', 'product_pod', 'image_container', 'thumbnail', 'star-rating', 'product_price', 'price_color', 'instock', 'availability', 'icon-ok', 'btn', 'btn-primary', 'btn-block']\n",
      "Scraping https://books.toscrape.com/catalogue/page-6.html\n",
      "Data-related classes: ['col-xs-6', 'col-lg-3', 'product_pod', 'image_container', 'thumbnail', 'star-rating', 'product_price', 'price_color', 'instock', 'availability', 'icon-ok', 'btn', 'btn-primary', 'btn-block']\n",
      "Scraping https://books.toscrape.com/catalogue/page-7.html\n",
      "Data-related classes: ['col-xs-6', 'col-lg-3', 'product_pod', 'image_container', 'thumbnail', 'star-rating', 'product_price', 'price_color', 'instock', 'availability', 'icon-ok', 'btn', 'btn-primary', 'btn-block']\n",
      "Scraping https://books.toscrape.com/catalogue/page-8.html\n",
      "Data-related classes: ['col-xs-6', 'col-lg-3', 'product_pod', 'image_container', 'thumbnail', 'star-rating', 'product_price', 'price_color', 'instock', 'availability', 'icon-ok', 'btn', 'btn-primary', 'btn-block']\n",
      "Scraping https://books.toscrape.com/catalogue/page-9.html\n",
      "Data-related classes: ['col-xs-6', 'col-lg-3', 'product_pod', 'image_container', 'thumbnail', 'star-rating', 'product_price', 'price_color', 'instock', 'availability', 'icon-ok', 'btn', 'btn-primary', 'btn-block']\n",
      "Scraping https://books.toscrape.com/catalogue/page-10.html\n",
      "Data-related classes: ['col-xs-6', 'col-lg-3', 'product_pod', 'image_container', 'thumbnail', 'star-rating', 'product_price', 'price_color', 'instock', 'availability', 'icon-ok', 'btn', 'btn-primary', 'btn-block']\n",
      "Scraping https://books.toscrape.com/catalogue/page-11.html\n",
      "Data-related classes: ['col-xs-6', 'col-lg-3', 'product_pod', 'image_container', 'thumbnail', 'star-rating', 'product_price', 'price_color', 'instock', 'availability', 'icon-ok', 'btn', 'btn-primary', 'btn-block']\n",
      "Scraping https://books.toscrape.com/catalogue/page-12.html\n",
      "Data-related classes: ['col-xs-6', 'col-lg-3', 'product_pod', 'image_container', 'thumbnail', 'star-rating', 'product_price', 'price_color', 'instock', 'availability', 'icon-ok', 'btn', 'btn-primary', 'btn-block']\n",
      "Scraping https://books.toscrape.com/catalogue/page-13.html\n",
      "Data-related classes: ['col-xs-6', 'col-lg-3', 'product_pod', 'image_container', 'thumbnail', 'star-rating', 'product_price', 'price_color', 'instock', 'availability', 'icon-ok', 'btn', 'btn-primary', 'btn-block']\n",
      "Scraping https://books.toscrape.com/catalogue/page-14.html\n",
      "Data-related classes: ['col-xs-6', 'col-lg-3', 'product_pod', 'image_container', 'thumbnail', 'star-rating', 'product_price', 'price_color', 'instock', 'availability', 'icon-ok', 'btn', 'btn-primary', 'btn-block']\n",
      "Scraping https://books.toscrape.com/catalogue/page-15.html\n",
      "Data-related classes: ['col-xs-6', 'col-lg-3', 'product_pod', 'image_container', 'thumbnail', 'star-rating', 'product_price', 'price_color', 'instock', 'availability', 'icon-ok', 'btn', 'btn-primary', 'btn-block']\n",
      "Scraping https://books.toscrape.com/catalogue/page-16.html\n",
      "Data-related classes: ['col-xs-6', 'col-lg-3', 'product_pod', 'image_container', 'thumbnail', 'star-rating', 'product_price', 'price_color', 'instock', 'availability', 'icon-ok', 'btn', 'btn-primary', 'btn-block']\n",
      "Scraping https://books.toscrape.com/catalogue/page-17.html\n",
      "Data-related classes: ['col-xs-6', 'col-lg-3', 'product_pod', 'image_container', 'thumbnail', 'star-rating', 'product_price', 'price_color', 'instock', 'availability', 'icon-ok', 'btn', 'btn-primary', 'btn-block']\n",
      "Scraping https://books.toscrape.com/catalogue/page-18.html\n",
      "Data-related classes: ['col-xs-6', 'col-lg-3', 'product_pod', 'image_container', 'thumbnail', 'star-rating', 'product_price', 'price_color', 'instock', 'availability', 'icon-ok', 'btn', 'btn-primary', 'btn-block']\n",
      "Scraping https://books.toscrape.com/catalogue/page-19.html\n",
      "Data-related classes: ['col-xs-6', 'col-lg-3', 'product_pod', 'image_container', 'thumbnail', 'star-rating', 'product_price', 'price_color', 'instock', 'availability', 'icon-ok', 'btn', 'btn-primary', 'btn-block']\n",
      "Scraping https://books.toscrape.com/catalogue/page-20.html\n",
      "Data-related classes: ['col-xs-6', 'col-lg-3', 'product_pod', 'image_container', 'thumbnail', 'star-rating', 'product_price', 'price_color', 'instock', 'availability', 'icon-ok', 'btn', 'btn-primary', 'btn-block']\n",
      "Scraping https://books.toscrape.com/catalogue/page-21.html\n",
      "Data-related classes: ['col-xs-6', 'col-lg-3', 'product_pod', 'image_container', 'thumbnail', 'star-rating', 'product_price', 'price_color', 'instock', 'availability', 'icon-ok', 'btn', 'btn-primary', 'btn-block']\n",
      "Scraping https://books.toscrape.com/catalogue/page-22.html\n",
      "Data-related classes: ['col-xs-6', 'col-lg-3', 'product_pod', 'image_container', 'thumbnail', 'star-rating', 'product_price', 'price_color', 'instock', 'availability', 'icon-ok', 'btn', 'btn-primary', 'btn-block']\n",
      "Scraping https://books.toscrape.com/catalogue/page-23.html\n",
      "Data-related classes: ['col-xs-6', 'col-lg-3', 'product_pod', 'image_container', 'thumbnail', 'star-rating', 'product_price', 'price_color', 'instock', 'availability', 'icon-ok', 'btn', 'btn-primary', 'btn-block']\n",
      "Scraping https://books.toscrape.com/catalogue/page-24.html\n",
      "Data-related classes: ['col-xs-6', 'col-lg-3', 'product_pod', 'image_container', 'thumbnail', 'star-rating', 'product_price', 'price_color', 'instock', 'availability', 'icon-ok', 'btn', 'btn-primary', 'btn-block']\n",
      "Scraping https://books.toscrape.com/catalogue/my-life-next-door-my-life-next-door_535/index.html\n",
      "Data-related classes: ['col-xs-6', 'col-sm-4', 'col-md-3', 'col-lg-3', 'product_pod', 'image_container', 'product_price', 'btn', 'btn-primary', 'btn-block']\n"
     ]
    }
   ],
   "source": [
    "site = \"https://books.toscrape.com/\"\n",
    "json_data = Scraper(site, try_paginate=True).run()\n",
    "with open(\"books.json\", \"w\", encoding=\"utf-8\") as f:\n",
    "    json.dump(json_data, f, indent=2)"
   ]
  }
 ],
 "metadata": {
  "kernelspec": {
   "display_name": "Python 3",
   "language": "python",
   "name": "python3"
  },
  "language_info": {
   "codemirror_mode": {
    "name": "ipython",
    "version": 3
   },
   "file_extension": ".py",
   "mimetype": "text/x-python",
   "name": "python",
   "nbconvert_exporter": "python",
   "pygments_lexer": "ipython3",
   "version": "3.11.3"
  }
 },
 "nbformat": 4,
 "nbformat_minor": 5
}
