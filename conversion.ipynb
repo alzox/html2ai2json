{
 "cells": [
  {
   "cell_type": "code",
   "execution_count": 23,
   "id": "b9ae5492",
   "metadata": {},
   "outputs": [],
   "source": [
    "import time\n",
    "import os\n",
    "\n",
    "import requests # used for non-javascript sites\n",
    "from selenium import webdriver # used for javascript sites\n",
    "from selenium.webdriver.common.by import By\n",
    "from selenium.webdriver.support.ui import WebDriverWait\n",
    "from selenium.webdriver.support import expected_conditions as EC\n",
    "\n",
    "import bs4\n",
    "from collections import Counter \n",
    "\n",
    "import json"
   ]
  },
  {
   "cell_type": "markdown",
   "id": "f848e76a",
   "metadata": {},
   "source": [
    "### extracting html"
   ]
  },
  {
   "cell_type": "code",
   "execution_count": 24,
   "id": "0e33cf83",
   "metadata": {},
   "outputs": [
    {
     "name": "stdout",
     "output_type": "stream",
     "text": [
      "<!doctype html>\n",
      "<html>\n",
      "<head>\n",
      "    <title>Example Domain</title>\n",
      "\n",
      "    <meta charset=\"utf-8\" />\n",
      "    <meta http-equiv=\"Content-type\" content=\"text/html; charset=utf-8\" />\n",
      "    <meta name=\"viewport\" content=\"width=device-width, initial-scale=1\" />\n",
      "    <style type=\"text/css\">\n",
      "    body {\n",
      "        background-color: #f0f0f2;\n",
      "        margin: 0;\n",
      "        padding: 0;\n",
      "        font-family: -apple-system, system-ui, BlinkMacSystemFont, \"Segoe UI\", \"Open Sans\", \"Helvetica Neue\", Helvetica, Arial, sans-serif;\n",
      "        \n",
      "    }\n",
      "    div {\n",
      "        width: 600px;\n",
      "        margin: 5em auto;\n",
      "        padding: 2em;\n",
      "        background-color: #fdfdff;\n",
      "        border-radius: 0.5em;\n",
      "        box-shadow: 2px 3px 7px 2px rgba(0,0,0,0.02);\n",
      "    }\n",
      "    a:link, a:visited {\n",
      "        color: #38488f;\n",
      "        text-decoration: none;\n",
      "    }\n",
      "    @media (max-width: 700px) {\n",
      "        div {\n",
      "            margin: 0 auto;\n",
      "            width: auto;\n",
      "        }\n",
      "    }\n",
      "    </style>    \n",
      "</head>\n",
      "\n",
      "<body>\n",
      "<div>\n",
      "    <h1>Example Domain</h1>\n",
      "    <p>This domain is for use in illustrative examples in documents. You may use this\n",
      "    domain in literature without prior coordination or asking for permission.</p>\n",
      "    <p><a href=\"https://www.iana.org/domains/example\">More information...</a></p>\n",
      "</div>\n",
      "</body>\n",
      "</html>\n",
      "\n"
     ]
    }
   ],
   "source": [
    "website = \"https://example.com\"\n",
    "\n",
    "def get_html(website):\n",
    "    html = requests.get(website).text\n",
    "\n",
    "    if html and \"JavaScript\" in html: # most frameworks will say \"JS is required\"\n",
    "        options = webdriver.ChromeOptions()\n",
    "        options.add_argument('--headless=new')\n",
    "        driver = webdriver.Chrome(options=options)\n",
    "        driver.get(website)\n",
    "        \n",
    "        time.sleep(30) # wait for any js elements to load\n",
    "\n",
    "        html = driver.page_source\n",
    "        driver.quit()\n",
    "\n",
    "    return html\n",
    "\n",
    "html = get_html(website)\n",
    "print(html)"
   ]
  },
  {
   "cell_type": "markdown",
   "id": "edaca5fd",
   "metadata": {},
   "source": [
    "### parsing html\n"
   ]
  },
  {
   "cell_type": "code",
   "execution_count": 25,
   "id": "52b2f6f8",
   "metadata": {},
   "outputs": [
    {
     "name": "stdout",
     "output_type": "stream",
     "text": [
      "Data-related classes: []\n"
     ]
    }
   ],
   "source": [
    "soup = bs4.BeautifulSoup(html, 'html.parser')\n",
    "\n",
    "class_counter = Counter()\n",
    "\n",
    "for element in soup.find_all(class_=True):\n",
    "    for class_name in element['class']: \n",
    "        class_counter[class_name] += 1 \n",
    "\n",
    "quantity_counter = Counter()\n",
    "for class_name, count in class_counter.most_common(20): \n",
    "    quantity_counter[count] += 1\n",
    "    \n",
    "data_classes = []\n",
    "for count in quantity_counter.most_common(1):\n",
    "    data_classes.extend([class_name for class_name, c in class_counter.items() if c == count[0]])\n",
    "\n",
    "print(\"Data-related classes:\", data_classes)\n",
    "\n",
    "def is_top_level_class(element, class_names):\n",
    "    for parent in element.parents:\n",
    "        if hasattr(parent, 'get') and parent.get('class'): # a bs4 element will have a get method\n",
    "            if any(cls in parent.get('class', []) for cls in class_names):\n",
    "                return False\n",
    "    return True\n",
    "\n",
    "filtered_elements = [\n",
    "    el for el in soup.find_all(class_=data_classes)\n",
    "    if is_top_level_class(el, data_classes)\n",
    "]\n",
    "\n",
    "elements = filtered_elements if len(filtered_elements) > 0 else [soup.body]\n"
   ]
  },
  {
   "cell_type": "markdown",
   "id": "9637559f",
   "metadata": {},
   "source": [
    "### converting html to json"
   ]
  },
  {
   "cell_type": "code",
   "execution_count": null,
   "id": "9ff8a14e",
   "metadata": {},
   "outputs": [],
   "source": [
    "import mistral\n",
    "\n",
    "html_elements = \"\\n\".join(str(el) for el in elements)\n",
    "chat_response = mistral.chat(html_elements).choices[0].message.content\n",
    "\n",
    "def remove_unwanted_text(response):\n",
    "    # most LLM's will return json as a code block string\n",
    "    if \"```json\" in response:\n",
    "        response = response.split(\"```json\")[1]\n",
    "        response = response.split(\"```\")[0]\n",
    "    return response"
   ]
  },
  {
   "cell_type": "code",
   "execution_count": 27,
   "id": "5545890f",
   "metadata": {},
   "outputs": [],
   "source": [
    "json_data = json.loads(remove_unwanted_text(chat_response))"
   ]
  },
  {
   "cell_type": "code",
   "execution_count": 28,
   "id": "0bbfa533",
   "metadata": {},
   "outputs": [],
   "source": [
    "with open(\"data.json\", \"w\") as f:\n",
    "    json.dump(json_data, f, indent=2)"
   ]
  }
 ],
 "metadata": {
  "kernelspec": {
   "display_name": "Python 3",
   "language": "python",
   "name": "python3"
  },
  "language_info": {
   "codemirror_mode": {
    "name": "ipython",
    "version": 3
   },
   "file_extension": ".py",
   "mimetype": "text/x-python",
   "name": "python",
   "nbconvert_exporter": "python",
   "pygments_lexer": "ipython3",
   "version": "3.11.3"
  }
 },
 "nbformat": 4,
 "nbformat_minor": 5
}
